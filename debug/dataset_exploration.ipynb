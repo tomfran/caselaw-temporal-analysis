{
 "cells": [
  {
   "cell_type": "code",
   "execution_count": 23,
   "id": "77f60665-1586-4e40-9bc2-977271e5487f",
   "metadata": {},
   "outputs": [],
   "source": [
    "import json\n",
    "import pprint\n",
    "\n",
    "def analyzeFile(fileName):\n",
    "    with open(fileName) as file:\n",
    "        i = 0\n",
    "        numOpinions = 0\n",
    "        juris = set()\n",
    "        for line in file:\n",
    "            casebody = json.loads(line)\n",
    "            jurisdiction = casebody.get(\"jurisdiction\").get(\"name_long\")\n",
    "            juris.add(jurisdiction)\n",
    "            opinions = casebody.get(\"casebody\").get(\"data\").get(\"opinions\")\n",
    "            numOpinions += len(opinions)\n",
    "            for opinion in opinions:\n",
    "                opinion.pop(\"text\")\n",
    "            # pprint.pprint(casebody)\n",
    "            #if i > 1:\n",
    "            #    break\n",
    "            # i += 1\n",
    "        #pprint.pprint(numOpinions/(i - 1))\n",
    "        #print(i)\n",
    "        print(juris)"
   ]
  },
  {
   "cell_type": "code",
   "execution_count": 24,
   "id": "f642f3fe-9ae2-4da1-b724-e9f8ac876def",
   "metadata": {},
   "outputs": [
    {
     "name": "stdout",
     "output_type": "stream",
     "text": [
      "{'Illinois'}\n"
     ]
    }
   ],
   "source": [
    "analyzeFile(\"../data/raw/illinois.jsonl\")"
   ]
  },
  {
   "cell_type": "code",
   "execution_count": null,
   "id": "37e615b8-a4d8-4eca-801d-b0b5ba2279be",
   "metadata": {},
   "outputs": [],
   "source": []
  }
 ],
 "metadata": {
  "kernelspec": {
   "display_name": "Python 3",
   "language": "python",
   "name": "python3"
  },
  "language_info": {
   "codemirror_mode": {
    "name": "ipython",
    "version": 3
   },
   "file_extension": ".py",
   "mimetype": "text/x-python",
   "name": "python",
   "nbconvert_exporter": "python",
   "pygments_lexer": "ipython3",
   "version": "3.9.1"
  }
 },
 "nbformat": 4,
 "nbformat_minor": 5
}
