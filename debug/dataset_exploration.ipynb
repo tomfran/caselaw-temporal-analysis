{
 "cells": [
  {
   "cell_type": "code",
   "execution_count": 45,
   "id": "77f60665-1586-4e40-9bc2-977271e5487f",
   "metadata": {},
   "outputs": [],
   "source": [
    "import json\n",
    "from pprint import pprint\n",
    "\n",
    "from collections import defaultdict\n",
    "\n",
    "def analyzeFile(fileName):\n",
    "    with open(fileName) as file:\n",
    "        i = 0\n",
    "        numOpinions = 0\n",
    "        juris = set()\n",
    "        years = defaultdict(lambda: 0)\n",
    "        for line in file:\n",
    "            casebody = json.loads(line)\n",
    "            jurisdiction = casebody.get(\"jurisdiction\").get(\"name_long\")\n",
    "            jurisdiction = casebody.get(\"court\").get(\"name\")\n",
    "            juris.add(jurisdiction)\n",
    "            year = int(casebody.get(\"decision_date\").split(\"-\")[0]) // 10\n",
    "            opinions = casebody.get(\"casebody\").get(\"data\").get(\"opinions\")\n",
    "            numOpinions += len(opinions)\n",
    "            years[year] += len(opinions)\n",
    "            for opinion in opinions:\n",
    "                opinion.pop(\"text\")\n",
    "            #pprint.pprint(casebody)\n",
    "            if i > 1200:\n",
    "                pass\n",
    "            i += 1\n",
    "        #pprint.pprint(numOpinions/(i - 1))\n",
    "        #print(i)\n",
    "        #print(juris)\n",
    "        pprint(years)"
   ]
  },
  {
   "cell_type": "code",
   "execution_count": 46,
   "id": "f642f3fe-9ae2-4da1-b724-e9f8ac876def",
   "metadata": {},
   "outputs": [
    {
     "name": "stdout",
     "output_type": "stream",
     "text": [
      "defaultdict(<function analyzeFile.<locals>.<lambda> at 0x0000018F46B645E0>,\n",
      "            {177: 1,\n",
      "             181: 5,\n",
      "             182: 137,\n",
      "             183: 312,\n",
      "             184: 995,\n",
      "             185: 1751,\n",
      "             186: 3303,\n",
      "             187: 6219,\n",
      "             188: 7528,\n",
      "             189: 12614,\n",
      "             190: 13861,\n",
      "             191: 15658,\n",
      "             192: 14797,\n",
      "             193: 12780,\n",
      "             194: 8397,\n",
      "             195: 6744,\n",
      "             196: 10225,\n",
      "             197: 25532,\n",
      "             198: 22050,\n",
      "             199: 17967,\n",
      "             200: 12114,\n",
      "             201: 1376})\n"
     ]
    }
   ],
   "source": [
    "analyzeFile(\"../data/raw/illinois.jsonl\")\n",
    "#analyzeFile(\"../data/raw/new_mexico.jsonl\")\n",
    "#analyzeFile(\"../data/raw/north_carolina.jsonl\")\n",
    "#analyzeFile(\"../data/raw/arkansas.jsonl\")"
   ]
  },
  {
   "cell_type": "code",
   "execution_count": null,
   "id": "37e615b8-a4d8-4eca-801d-b0b5ba2279be",
   "metadata": {},
   "outputs": [],
   "source": []
  }
 ],
 "metadata": {
  "kernelspec": {
   "display_name": "Python 3",
   "language": "python",
   "name": "python3"
  },
  "language_info": {
   "codemirror_mode": {
    "name": "ipython",
    "version": 3
   },
   "file_extension": ".py",
   "mimetype": "text/x-python",
   "name": "python",
   "nbconvert_exporter": "python",
   "pygments_lexer": "ipython3",
   "version": "3.9.1"
  }
 },
 "nbformat": 4,
 "nbformat_minor": 5
}
