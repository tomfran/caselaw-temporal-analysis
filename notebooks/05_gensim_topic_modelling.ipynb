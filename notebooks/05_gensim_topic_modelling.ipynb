{
 "cells": [
  {
   "cell_type": "markdown",
   "metadata": {},
   "source": [
    "# Topic modelling with Gensim\n",
    "\n",
    "In this notebook Gensim is used to find topics from the documents, we first study coherence measures to find the number of topics in the collection, then we visualize results.\n",
    "\n",
    "The basic idea is to study the differences between topics in different times. So we first present the methodology followed given an era, and then perform the study on all eras."
   ]
  },
  {
   "cell_type": "code",
   "execution_count": 1,
   "metadata": {},
   "outputs": [],
   "source": [
    "# import sys\n",
    "# sys.path.append(\"..\")\n",
    "\n",
    "# utils\n",
    "import json\n",
    "import numpy as np\n",
    "\n",
    "# topic modelling\n",
    "import gensim\n",
    "import gensim.corpora as corpora\n",
    "from gensim.utils import simple_preprocess\n",
    "from gensim.models import CoherenceModel, LdaMulticore, LdaModel\n",
    "\n",
    "# visualization\n",
    "from pprint import pprint\n",
    "import matplotlib.pyplot as plt\n",
    "import pyLDAvis\n",
    "from pyLDAvis import gensim_models"
   ]
  },
  {
   "cell_type": "code",
   "execution_count": 2,
   "metadata": {},
   "outputs": [
    {
     "name": "stderr",
     "output_type": "stream",
     "text": [
      "/home/fran/.local/lib/python3.8/site-packages/ipykernel/ipkernel.py:283: DeprecationWarning: `should_run_async` will not call `transform_cell` automatically in the future. Please pass the result to `transformed_cell` argument and any exception that happen during thetransform in `preprocessing_exc_tuple` in IPython 7.17 and above.\n",
      "  and should_run_async(code)\n"
     ]
    }
   ],
   "source": [
    "import warnings\n",
    "warnings.filterwarnings('ignore')"
   ]
  },
  {
   "cell_type": "markdown",
   "metadata": {},
   "source": [
    "### Loading the tokenized documents"
   ]
  },
  {
   "cell_type": "code",
   "execution_count": 3,
   "metadata": {},
   "outputs": [],
   "source": [
    "tokens = json.load(open(\"../data/processed/filtered_tokens.json\", \"r\"))"
   ]
  },
  {
   "cell_type": "markdown",
   "metadata": {},
   "source": [
    "### Creating required structures\n",
    "The topic modelling requires this three structures to work, the first one gives a mapping from an id to a word, \n",
    "second one is the tokenized collection, and the third one is a list for each document of word id, frequency."
   ]
  },
  {
   "cell_type": "code",
   "execution_count": 4,
   "metadata": {},
   "outputs": [
    {
     "name": "stdout",
     "output_type": "stream",
     "text": [
      "Corpus[0]: [(0, 2), (1, 1), (2, 1), (3, 1), (4, 1)]...\n",
      "id2word[0]: absence\n",
      "Corpus[0] readable: [('absence', 2), ('accomplice', 1), ('additionally', 1), ('admission', 1), ('advise', 1)]...\n"
     ]
    }
   ],
   "source": [
    "id2word = corpora.Dictionary(tokens)\n",
    "texts = tokens\n",
    "corpus = [id2word.doc2bow(text) for text in texts]\n",
    "\n",
    "print(f\"Corpus[0]: {corpus[0][:5]}...\")\n",
    "print(f\"id2word[0]: {id2word[0]}\")\n",
    "print(f\"Corpus[0] readable: {[(id2word[cp[0]], cp[1]) for cp in corpus[0][:5]]}...\")"
   ]
  },
  {
   "cell_type": "markdown",
   "metadata": {},
   "source": [
    "### Fitting LDA models and computing coherence measures\n",
    "\n",
    "Lda is unsupervised, a crucial parameter is the number of topics to find in the collection. To avoid choosing at random one could compute the coherence measure given a certain number of topics and pick the highest coherence.\n",
    "\n",
    "To do so, different models are fitted, and the best one, according to coherence is considered."
   ]
  },
  {
   "cell_type": "code",
   "execution_count": 6,
   "metadata": {},
   "outputs": [],
   "source": [
    "def compute_coherence_perplexity_values(corpus, id2word, tokens, k=[2,3,4], verbose=True):\n",
    "    lda_models = []\n",
    "    statistics = []\n",
    "    \n",
    "    for topics in k:\n",
    "        if verbose: print(f\"Fitting model with {topics} topics.\")\n",
    "        lda_model = LdaModel(corpus=corpus, id2word=id2word, num_topics=topics, \n",
    "                             random_state=100, update_every=1, chunksize=100,\n",
    "                             passes=10, alpha='auto', per_word_topics=True)\n",
    "        \n",
    "        lda_models.append(lda_model)\n",
    "        coherence_model = CoherenceModel(model=lda_model, texts=tokens, \n",
    "                                             dictionary=id2word, coherence='c_v')\n",
    "        \n",
    "        statistics.append({\"topics\" : topics, \n",
    "                          \"coherence\" : coherence_model.get_coherence(),\n",
    "                          \"log_perplexity\" : lda_model.log_perplexity(corpus)})\n",
    "        \n",
    "    return lda_models, statistics"
   ]
  },
  {
   "cell_type": "code",
   "execution_count": 8,
   "metadata": {},
   "outputs": [
    {
     "name": "stdout",
     "output_type": "stream",
     "text": [
      "Fitting model with 5 topics.\n",
      "Fitting model with 8 topics.\n",
      "Fitting model with 12 topics.\n"
     ]
    }
   ],
   "source": [
    "k = [5, 8, 12]\n",
    "lda_models, statistics = compute_coherence_perplexity_values(corpus, id2word, tokens, k)"
   ]
  },
  {
   "cell_type": "code",
   "execution_count": 27,
   "metadata": {},
   "outputs": [
    {
     "name": "stdout",
     "output_type": "stream",
     "text": [
      "{'topics': 5, 'coherence': 0.5501154613005946, 'log_perplexity': -8.165225386457935}\n"
     ]
    },
    {
     "data": {
      "text/plain": [
       "[(0,\n",
       "  '0.011*\"injury\" + 0.010*\"vehicle\" + 0.009*\"count\" + 0.008*\"car\" + 0.008*\"work\" + 0.007*\"duty\" + 0.007*\"medical\" + 0.006*\"west\" + 0.005*\"drive\" + 0.005*\"care\"'),\n",
       " (1,\n",
       "  '0.016*\"west\" + 0.014*\"ilcs\" + 0.014*\"respondent\" + 0.011*\"board\" + 0.011*\"code\" + 0.010*\"public\" + 0.009*\"petition\" + 0.008*\"district\" + 0.007*\"department\" + 0.007*\"city\"'),\n",
       " (2,\n",
       "  '0.040*\"child\" + 0.022*\"petition\" + 0.018*\"petitioner\" + 0.014*\"parent\" + 0.013*\"minor\" + 0.011*\"estate\" + 0.011*\"home\" + 0.011*\"marriage\" + 0.008*\"custody\" + 0.008*\"west\"'),\n",
       " (3,\n",
       "  '0.012*\"officer\" + 0.010*\"police\" + 0.010*\"sentence\" + 0.007*\"conviction\" + 0.007*\"criminal\" + 0.006*\"offense\" + 0.006*\"defense\" + 0.006*\"tell\" + 0.005*\"guilty\" + 0.005*\"victim\"'),\n",
       " (4,\n",
       "  '0.013*\"complaint\" + 0.012*\"agreement\" + 0.012*\"policy\" + 0.011*\"contract\" + 0.010*\"insurance\" + 0.009*\"attorney\" + 0.008*\"fee\" + 0.008*\"summary\" + 0.008*\"dismiss\" + 0.007*\"inc\"')]"
      ]
     },
     "execution_count": 27,
     "metadata": {},
     "output_type": "execute_result"
    }
   ],
   "source": [
    "print(statistics[0])\n",
    "lda_models[0].print_topics()"
   ]
  },
  {
   "cell_type": "code",
   "execution_count": 28,
   "metadata": {},
   "outputs": [
    {
     "name": "stdout",
     "output_type": "stream",
     "text": [
      "{'topics': 8, 'coherence': 0.5122629912335742, 'log_perplexity': -8.23165313216407}\n"
     ]
    },
    {
     "data": {
      "text/plain": [
       "[(0,\n",
       "  '0.015*\"officer\" + 0.013*\"police\" + 0.010*\"sentence\" + 0.009*\"conviction\" + 0.008*\"tell\" + 0.008*\"offense\" + 0.008*\"vehicle\" + 0.007*\"criminal\" + 0.007*\"victim\" + 0.006*\"car\"'),\n",
       " (1,\n",
       "  '0.045*\"child\" + 0.029*\"petition\" + 0.024*\"petitioner\" + 0.016*\"home\" + 0.016*\"parent\" + 0.016*\"minor\" + 0.015*\"custody\" + 0.015*\"care\" + 0.014*\"abuse\" + 0.012*\"marriage\"'),\n",
       " (2,\n",
       "  '0.029*\"west\" + 0.017*\"board\" + 0.014*\"duty\" + 0.012*\"injury\" + 0.012*\"work\" + 0.011*\"employee\" + 0.011*\"damage\" + 0.008*\"factor\" + 0.007*\"hospital\" + 0.006*\"commission\"'),\n",
       " (3,\n",
       "  '0.013*\"policy\" + 0.013*\"defense\" + 0.012*\"count\" + 0.010*\"judge\" + 0.007*\"information\" + 0.006*\"address\" + 0.006*\"attorney\" + 0.006*\"request\" + 0.005*\"relevant\" + 0.005*\"plea\"'),\n",
       " (4,\n",
       "  '0.031*\"agreement\" + 0.028*\"contract\" + 0.025*\"insurance\" + 0.020*\"inc\" + 0.016*\"summary\" + 0.012*\"payment\" + 0.012*\"bank\" + 0.010*\"fund\" + 0.008*\"trust\" + 0.008*\"settlement\"'),\n",
       " (5,\n",
       "  '0.030*\"ilcs\" + 0.021*\"code\" + 0.016*\"petition\" + 0.015*\"public\" + 0.013*\"department\" + 0.013*\"district\" + 0.009*\"statutory\" + 0.009*\"legislature\" + 0.008*\"class\" + 0.007*\"violate\"'),\n",
       " (6,\n",
       "  '0.028*\"respondent\" + 0.021*\"complaint\" + 0.019*\"dismiss\" + 0.016*\"attorney\" + 0.015*\"fee\" + 0.011*\"amend\" + 0.011*\"claimant\" + 0.011*\"jurisdiction\" + 0.011*\"award\" + 0.009*\"period\"'),\n",
       " (7,\n",
       "  '0.023*\"area\" + 0.023*\"west\" + 0.022*\"tax\" + 0.017*\"value\" + 0.016*\"sale\" + 0.015*\"ordinance\" + 0.015*\"owner\" + 0.013*\"ineffective\" + 0.013*\"land\" + 0.013*\"building\"')]"
      ]
     },
     "execution_count": 28,
     "metadata": {},
     "output_type": "execute_result"
    }
   ],
   "source": [
    "print(statistics[1])\n",
    "lda_models[1].print_topics()"
   ]
  },
  {
   "cell_type": "code",
   "execution_count": 29,
   "metadata": {},
   "outputs": [
    {
     "name": "stdout",
     "output_type": "stream",
     "text": [
      "{'topics': 12, 'coherence': 0.46083786860759185, 'log_perplexity': -9.44054594171713}\n"
     ]
    },
    {
     "data": {
      "text/plain": [
       "[(0,\n",
       "  '0.026*\"police\" + 0.025*\"sentence\" + 0.023*\"code\" + 0.018*\"conviction\" + 0.017*\"criminal\" + 0.017*\"offense\" + 0.014*\"guilty\" + 0.013*\"victim\" + 0.012*\"murder\" + 0.011*\"arrest\"'),\n",
       " (1,\n",
       "  '0.023*\"public\" + 0.018*\"district\" + 0.017*\"city\" + 0.017*\"ilcs\" + 0.011*\"legislature\" + 0.010*\"school\" + 0.010*\"majority\" + 0.010*\"area\" + 0.009*\"burden\" + 0.009*\"amendment\"'),\n",
       " (2,\n",
       "  '0.042*\"policy\" + 0.030*\"inc\" + 0.022*\"liability\" + 0.018*\"business\" + 0.016*\"company\" + 0.014*\"service\" + 0.012*\"village\" + 0.012*\"federal\" + 0.012*\"employment\" + 0.011*\"corp\"'),\n",
       " (3,\n",
       "  '0.040*\"agreement\" + 0.038*\"contract\" + 0.020*\"damage\" + 0.014*\"arbitration\" + 0.014*\"breach\" + 0.012*\"credit\" + 0.011*\"letter\" + 0.011*\"document\" + 0.010*\"work\" + 0.009*\"write\"'),\n",
       " (4,\n",
       "  '0.012*\"tell\" + 0.010*\"insurance\" + 0.010*\"standard\" + 0.009*\"defense\" + 0.009*\"medical\" + 0.009*\"analysis\" + 0.008*\"factor\" + 0.008*\"abuse\" + 0.006*\"search\" + 0.006*\"relevant\"'),\n",
       " (5,\n",
       "  '0.024*\"injury\" + 0.020*\"vehicle\" + 0.019*\"employee\" + 0.018*\"home\" + 0.017*\"car\" + 0.015*\"work\" + 0.014*\"duty\" + 0.010*\"accident\" + 0.009*\"employer\" + 0.009*\"negligence\"'),\n",
       " (6,\n",
       "  '0.094*\"respondent\" + 0.052*\"fee\" + 0.043*\"attorney\" + 0.034*\"award\" + 0.017*\"trust\" + 0.016*\"cost\" + 0.016*\"payment\" + 0.014*\"expense\" + 0.014*\"litigation\" + 0.014*\"petition\"'),\n",
       " (7,\n",
       "  '0.026*\"sale\" + 0.025*\"value\" + 0.021*\"owner\" + 0.021*\"apartment\" + 0.019*\"building\" + 0.018*\"land\" + 0.017*\"lease\" + 0.016*\"park\" + 0.015*\"real\" + 0.015*\"purchase\"'),\n",
       " (8,\n",
       "  '0.047*\"bank\" + 0.032*\"release\" + 0.022*\"security\" + 0.021*\"money\" + 0.020*\"transfer\" + 0.020*\"financial\" + 0.018*\"bond\" + 0.015*\"reliance\" + 0.014*\"underlying\" + 0.013*\"summary\"'),\n",
       " (9,\n",
       "  '0.028*\"ilcs\" + 0.028*\"petition\" + 0.023*\"complaint\" + 0.021*\"dismiss\" + 0.017*\"count\" + 0.017*\"appellate\" + 0.014*\"amend\" + 0.013*\"summary\" + 0.012*\"jurisdiction\" + 0.009*\"allegation\"'),\n",
       " (10,\n",
       "  '0.100*\"west\" + 0.044*\"child\" + 0.025*\"petitioner\" + 0.024*\"claimant\" + 0.016*\"parent\" + 0.014*\"custody\" + 0.012*\"care\" + 0.012*\"mother\" + 0.012*\"death\" + 0.011*\"estate\"'),\n",
       " (11,\n",
       "  '0.068*\"officer\" + 0.046*\"board\" + 0.028*\"department\" + 0.024*\"test\" + 0.021*\"commission\" + 0.019*\"procedure\" + 0.018*\"requirement\" + 0.015*\"citation\" + 0.015*\"administrative\" + 0.013*\"report\"')]"
      ]
     },
     "execution_count": 29,
     "metadata": {},
     "output_type": "execute_result"
    }
   ],
   "source": [
    "print(statistics[2])\n",
    "lda_models[2].print_topics()"
   ]
  },
  {
   "cell_type": "markdown",
   "metadata": {},
   "source": [
    "### Plotting coherence measures\n",
    "The best model is the one with four topics."
   ]
  },
  {
   "cell_type": "code",
   "execution_count": 30,
   "metadata": {},
   "outputs": [
    {
     "data": {
      "image/png": "[encoded data removed]",
      "text/plain": [
       "<Figure size 432x288 with 1 Axes>"
      ]
     },
     "metadata": {
      "needs_background": "light"
     },
     "output_type": "display_data"
    }
   ],
   "source": [
    "plt.plot(k, [x[\"coherence\"] for x in statistics])\n",
    "plt.title(\"Lda models coherence score\")\n",
    "plt.xlabel(\"Num Topics\")\n",
    "plt.ylabel(\"Coherence score\")\n",
    "plt.legend((\"coherence_values\"), loc='best')\n",
    "plt.show()"
   ]
  },
  {
   "cell_type": "code",
   "execution_count": 31,
   "metadata": {},
   "outputs": [
    {
     "name": "stdout",
     "output_type": "stream",
     "text": [
      "Best model found:\n",
      "{'topics': 5, 'coherence': 0.5501154613005946, 'log_perplexity': -8.165225386457935}\n",
      "\n",
      "Best model topics:\n"
     ]
    },
    {
     "data": {
      "text/plain": [
       "[(0,\n",
       "  '0.011*\"injury\" + 0.010*\"vehicle\" + 0.009*\"count\" + 0.008*\"car\" + 0.008*\"work\" + 0.007*\"duty\" + 0.007*\"medical\" + 0.006*\"west\" + 0.005*\"drive\" + 0.005*\"care\"'),\n",
       " (1,\n",
       "  '0.016*\"west\" + 0.014*\"ilcs\" + 0.014*\"respondent\" + 0.011*\"board\" + 0.011*\"code\" + 0.010*\"public\" + 0.009*\"petition\" + 0.008*\"district\" + 0.007*\"department\" + 0.007*\"city\"'),\n",
       " (2,\n",
       "  '0.040*\"child\" + 0.022*\"petition\" + 0.018*\"petitioner\" + 0.014*\"parent\" + 0.013*\"minor\" + 0.011*\"estate\" + 0.011*\"home\" + 0.011*\"marriage\" + 0.008*\"custody\" + 0.008*\"west\"'),\n",
       " (3,\n",
       "  '0.012*\"officer\" + 0.010*\"police\" + 0.010*\"sentence\" + 0.007*\"conviction\" + 0.007*\"criminal\" + 0.006*\"offense\" + 0.006*\"defense\" + 0.006*\"tell\" + 0.005*\"guilty\" + 0.005*\"victim\"'),\n",
       " (4,\n",
       "  '0.013*\"complaint\" + 0.012*\"agreement\" + 0.012*\"policy\" + 0.011*\"contract\" + 0.010*\"insurance\" + 0.009*\"attorney\" + 0.008*\"fee\" + 0.008*\"summary\" + 0.008*\"dismiss\" + 0.007*\"inc\"')]"
      ]
     },
     "execution_count": 31,
     "metadata": {},
     "output_type": "execute_result"
    }
   ],
   "source": [
    "best, ind = max(zip(statistics, range(len(statistics))), key=lambda x:(x[0][\"coherence\"], x[1]))\n",
    "print(f\"Best model found:\\n{best}\")\n",
    "best_model = lda_models[ind]\n",
    "print(\"\\nBest model topics:\")\n",
    "best_model.print_topics()"
   ]
  },
  {
   "cell_type": "markdown",
   "metadata": {},
   "source": [
    "### pyLDAvis visualization\n",
    "\n",
    "This tool offers a graphical visualization of the topics, a good visualization has big topics that are far from each others."
   ]
  },
  {
   "cell_type": "code",
   "execution_count": 32,
   "metadata": {},
   "outputs": [
    {
     "data": {
      "text/html": [
       "\n",
       "<link rel=\"stylesheet\" type=\"text/css\" href=\"https://cdn.jsdelivr.net/gh/bmabey/pyLDAvis@3.3.1/pyLDAvis/js/ldavis.v1.0.0.css\">\n",
       "\n",
       "\n",
       "<div id=\"ldavis_el42987140632147069184599082796\"></div>\n",
       "<script type=\"text/javascript\">\n",
       "\n",
       "var ldavis_el42987140632147069184599082796_data = {\"mdsDat\": {\"x\": [0.04771403970247452, -0.06547672622410558, -0.19194644921018078, -0.050727330867304014, 0.2604364665991159], \"y\": [0.20610073046692637, 0.07153594527329284, -0.18446834580796354, 0.052363328857822466, -0.14553165879007818], \"topics\": [1, 2, 3, 4, 5], \"cluster\": [1, 1, 1, 1, 1], \"Freq\": [25.523869890337657, 23.467379665731464, 21.543839563972277, 20.37191835488471, 9.092992525073889]}, \"tinfo\": {\"Term\": [\"child\", \"petition\", \"respondent\", \"policy\", \"west\", \"petitioner\", \"contract\", \"agreement\", \"board\", \"injury\", \"insurance\", \"officer\", \"sentence\", \"vehicle\", \"parent\", \"police\", \"code\", \"complaint\", \"ilcs\", \"public\", \"estate\", \"minor\", \"car\", \"home\", \"summary\", \"attorney\", \"care\", \"district\", \"count\", \"marriage\", \"policy\", \"contract\", \"insurance\", \"claimant\", \"coverage\", \"arbitration\", \"lien\", \"asset\", \"loan\", \"warranty\", \"counterclaim\", \"partnership\", \"default\", \"subcontractor\", \"insured\", \"fraudulent\", \"refund\", \"premium\", \"creditor\", \"reimbursement\", \"interlocutory\", \"negotiation\", \"indemnify\", \"seller\", \"foreclosure\", \"uninsured\", \"buyer\", \"reimburse\", \"bankruptcy\", \"appealable\", \"insure\", \"insurer\", \"fraud\", \"bank\", \"estoppel\", \"stock\", \"casualty\", \"purchaser\", \"agreement\", \"summary\", \"genuine\", \"firm\", \"sale\", \"dismissal\", \"pleading\", \"lawsuit\", \"settlement\", \"fee\", \"inc\", \"breach\", \"company\", \"defend\", \"complaint\", \"payment\", \"account\", \"purchase\", \"document\", \"attorney\", \"letter\", \"dismiss\", \"award\", \"affidavit\", \"damage\", \"cost\", \"business\", \"liability\", \"amend\", \"request\", \"pursuant\", \"sentence\", \"conviction\", \"criminal\", \"offense\", \"victim\", \"murder\", \"arrest\", \"crime\", \"search\", \"sexual\", \"juror\", \"plea\", \"felony\", \"convict\", \"drug\", \"sentencing\", \"detective\", \"gun\", \"prosecutor\", \"assault\", \"interview\", \"suppress\", \"weapon\", \"probation\", \"firearm\", \"robbery\", \"imprisonment\", \"offender\", \"battery\", \"armed\", \"guilty\", \"police\", \"officer\", \"aggravate\", \"postconviction\", \"ineffective\", \"commit\", \"tell\", \"defense\", \"judge\", \"doubt\", \"abuse\", \"warrant\", \"conduct\", \"ilcs\", \"attorney\", \"examination\", \"report\", \"finding\", \"request\", \"vehicle\", \"car\", \"drive\", \"accident\", \"employer\", \"negligence\", \"driver\", \"approach\", \"truck\", \"walk\", \"station\", \"foot\", \"front\", \"negligent\", \"warning\", \"malpractice\", \"pain\", \"motor\", \"passenger\", \"job\", \"dangerous\", \"testing\", \"floor\", \"parking\", \"proximate\", \"automobile\", \"pull\", \"impact\", \"danger\", \"motorist\", \"physician\", \"patient\", \"surgery\", \"injury\", \"risk\", \"street\", \"traffic\", \"expert\", \"repair\", \"doctor\", \"medical\", \"hospital\", \"count\", \"incident\", \"work\", \"area\", \"duty\", \"fire\", \"care\", \"fall\", \"verdict\", \"building\", \"standard\", \"perform\", \"west\", \"test\", \"damage\", \"employee\", \"board\", \"district\", \"legislature\", \"administrative\", \"village\", \"ordinance\", \"constitution\", \"pension\", \"assessment\", \"director\", \"legislative\", \"mandatory\", \"municipal\", \"entity\", \"election\", \"enact\", \"resolution\", \"committee\", \"suspension\", \"municipality\", \"revenue\", \"corporate\", \"bargaining\", \"retirement\", \"university\", \"candidate\", \"assembly\", \"taxpayer\", \"personnel\", \"governmental\", \"respondent\", \"regulation\", \"immunity\", \"government\", \"association\", \"unconstitutional\", \"civil\", \"corporation\", \"local\", \"public\", \"tax\", \"code\", \"federal\", \"department\", \"agency\", \"program\", \"city\", \"school\", \"unit\", \"commission\", \"ilcs\", \"west\", \"statutory\", \"health\", \"power\", \"employee\", \"service\", \"class\", \"petition\", \"requirement\", \"violate\", \"language\", \"process\", \"appellate\", \"jurisdiction\", \"violation\", \"pursuant\", \"marriage\", \"guardian\", \"marital\", \"dcfs\", \"parental\", \"visitation\", \"beneficiary\", \"spouse\", \"probate\", \"guardianship\", \"landlord\", \"divorce\", \"acre\", \"parentage\", \"diocese\", \"gift\", \"executor\", \"litem\", \"paternity\", \"parenting\", \"amy\", \"jennifer\", \"nonmarital\", \"grandparent\", \"testator\", \"heir\", \"tenancy\", \"lessor\", \"funeral\", \"grantor\", \"child\", \"parent\", \"dissolution\", \"unfitness\", \"wardship\", \"caseworker\", \"dispositional\", \"minor\", \"neglect\", \"easement\", \"father\", \"tenant\", \"petitioner\", \"unfit\", \"adoption\", \"deed\", \"income\", \"mother\", \"estate\", \"family\", \"custody\", \"husband\", \"petition\", \"maintenance\", \"home\", \"live\", \"trust\", \"care\", \"month\", \"death\", \"terminate\", \"west\", \"relationship\"], \"Freq\": [369750.0, 417378.0, 292471.0, 310606.0, 533294.0, 190845.0, 284812.0, 327305.0, 233722.0, 249751.0, 260272.0, 309700.0, 231643.0, 212718.0, 131980.0, 238844.0, 241755.0, 390244.0, 457815.0, 215179.0, 147751.0, 122765.0, 177092.0, 196198.0, 214762.0, 319198.0, 182101.0, 156268.0, 235113.0, 101404.0, 310606.3395536917, 284811.7496372282, 260271.76589985238, 160693.76072706204, 119211.31196111071, 107279.42779197752, 57302.19076888119, 51908.38492507853, 45837.378667778095, 28505.346491648626, 28539.595381500752, 25937.099743536754, 32941.83316761643, 23116.366009742207, 22276.417651462336, 21254.88370360258, 20692.16855137494, 19085.98777356441, 17404.915687075034, 17682.648954112752, 18687.626502153835, 16732.77027072967, 15673.20449432393, 15276.017082084729, 14727.371621572696, 14664.564868250138, 14731.87065968384, 13378.56966470471, 12990.768593561725, 13825.956552550722, 93732.94187846848, 68195.72473991448, 68607.50305547049, 116000.31008792754, 30141.262013617492, 21368.51085417858, 18779.10895809144, 16713.811765270722, 314267.1606355264, 206908.32738917627, 27293.440384143694, 33863.703903537295, 98178.76504050978, 107349.79286889647, 64628.081184789924, 52095.27176540792, 82135.91425710519, 209375.43189300847, 193454.54160276588, 100974.59241355876, 109623.81038048252, 51919.431589507236, 324834.66088705347, 122391.48227963565, 72045.36643265693, 74687.39257136511, 92970.02104105322, 240997.4636193988, 85180.06194454385, 196815.9424826786, 135388.17304559352, 86312.49612431251, 148560.70398745206, 95664.28315750851, 98261.03489255157, 110535.46234750353, 111249.35001469204, 93436.5008918437, 89678.3265474562, 231642.6954225819, 164944.31099501546, 159909.5495998951, 154753.66438981274, 120318.19713293725, 112540.19246218236, 100275.86169572326, 97265.59041334213, 82471.08871895394, 78306.31301514413, 74821.5419657184, 74315.1221841345, 61682.67503068024, 59584.37162061209, 60392.02299632359, 57402.92060086932, 57292.44790303033, 52169.19944932809, 44464.396900689, 42827.56689141873, 42564.98935145127, 40802.7684130038, 37890.2157129917, 36388.93047564374, 35307.56983687871, 34309.21234819247, 33638.00306073889, 33207.574582697904, 32990.78240039992, 32478.5370078074, 128181.71077214471, 231674.43208455725, 282160.0160620514, 51762.673478258046, 50817.3521077241, 43202.200628640974, 85228.6446068519, 138593.89172368532, 154301.5169671531, 112506.68894822725, 59465.85363451324, 83856.16176759797, 51453.51327477491, 81943.20557511323, 84766.92395789962, 76721.86349970664, 55927.42140137635, 59350.71378050139, 59548.44563035775, 58743.93902892463, 212718.56378750544, 177092.00790960973, 115152.68996164852, 100612.0243021152, 94348.11469818666, 92318.67050094824, 76110.72712486263, 59147.46900911809, 49994.072468328115, 49907.43162440694, 49320.49167915738, 48473.858734581394, 43551.54582257503, 42629.06515934205, 39607.76029421882, 39735.597109877264, 38036.86579836208, 37412.718645059824, 35873.60163993833, 36753.43007563871, 35039.41190381317, 36491.16376265645, 31737.085375236806, 31355.997770653004, 30929.929459480314, 30851.737959604558, 30179.33543694423, 31656.47358332993, 28107.80009146387, 28076.856568583393, 62086.85629780343, 61636.7635915484, 32436.70534421548, 243593.81862047032, 78552.6972194853, 69701.88563943308, 44992.47395182919, 103242.79247732766, 42656.02246889835, 45013.06046107598, 148854.89689416921, 101919.51247388545, 187541.3649931071, 65364.553995879774, 165652.97836746118, 84838.28488691703, 159676.25974882275, 63338.44567006042, 111789.47867895318, 65026.7740614545, 73983.69593681414, 60659.582798195865, 87848.53138929322, 71437.25287826864, 126718.76825808817, 67408.56585179233, 77437.49602134865, 60867.875833776045, 233721.9768369417, 156268.0277064422, 99306.9193530636, 76976.72646763774, 63751.45792757351, 56899.11503521482, 45408.14007788129, 42461.65115547272, 42275.93648009897, 39218.25943297471, 38760.41179221393, 35185.384998242545, 33448.002119605524, 32916.906091208046, 31178.761138014896, 24162.51674863738, 24220.513998638202, 23680.425008152775, 22455.77119645927, 21984.341264875395, 22034.63577395133, 22177.828618395954, 20127.546608875877, 20400.38376973882, 19734.094268107692, 18833.411373016137, 18700.69705371824, 18173.88287144228, 17461.639791751128, 16384.361793861735, 286950.3379027711, 39390.54133848257, 42650.963980332985, 30392.560651954445, 26555.245159488768, 22073.851262423337, 73815.71355767988, 52173.40389406094, 36818.62894180803, 198784.79421604687, 100926.67505931132, 217909.31565787454, 79499.54534615076, 144967.37845787266, 64906.06840569706, 34254.981195462104, 135422.365702862, 82352.5740237869, 43462.86277800759, 89476.55308609414, 297039.95421652374, 332345.5371829683, 97865.04535333424, 61396.79224684657, 62692.38169459664, 104672.72488879596, 115042.83287176957, 65796.55252452959, 186965.9439158254, 81698.74299417142, 67186.98166846378, 80136.69755415179, 66315.08155763602, 79499.1016065358, 72344.63473872686, 65202.279068452306, 64155.1934515927, 101404.50481583268, 50185.14034499062, 47957.82843352613, 45211.406607386954, 38760.39928431159, 36148.3372940045, 33889.97687184669, 26734.214427183142, 24539.148015175353, 19804.40944589771, 19446.520569934088, 18062.437726549615, 15350.536970232066, 12475.066407683944, 12929.904914909, 12006.174046776598, 11100.174112916156, 10127.26982689815, 9788.633955450572, 9604.941390278766, 9446.77095062834, 8613.397125914451, 7114.737054156012, 7013.684614736638, 6677.820009090614, 6809.264337669441, 6280.075282449869, 6816.657788497936, 5780.436349111904, 3757.354455934096, 369187.9159812842, 131541.32342009677, 48926.45499171528, 13092.697539586368, 9399.724555940975, 8550.861459814605, 16860.215366614582, 115659.78845614076, 44644.895076539375, 21003.561831054718, 71214.32548586866, 29884.424050932146, 163893.9748996988, 21141.499716032016, 30164.66366301511, 31077.199672209415, 56786.50754074959, 73034.5966320588, 106146.37149625341, 70413.65625747081, 77082.58873263618, 32607.659601924523, 198965.4528781576, 44653.528035066636, 101903.24439295499, 45564.88858407244, 70065.65545595001, 70311.70123254955, 55336.24801103853, 53607.5034480973, 39357.188602871756, 74230.48313240637, 37837.46927916476], \"Total\": [369750.0, 417378.0, 292471.0, 310606.0, 533294.0, 190845.0, 284812.0, 327305.0, 233722.0, 249751.0, 260272.0, 309700.0, 231643.0, 212718.0, 131980.0, 238844.0, 241755.0, 390244.0, 457815.0, 215179.0, 147751.0, 122765.0, 177092.0, 196198.0, 214762.0, 319198.0, 182101.0, 156268.0, 235113.0, 101404.0, 310606.6902255581, 284812.0952335451, 260272.1149411949, 160694.10948047668, 119211.65639916701, 107279.77072564873, 57302.533978688785, 51908.750796021995, 45837.72601809577, 28505.689965471873, 28539.94004539991, 25937.44457301471, 32942.292637924154, 23116.71197035206, 22276.760215307993, 21255.2355750885, 20692.51892448775, 19086.332153752504, 17405.260213431782, 17683.00020714805, 18687.99797989695, 16733.12810787161, 15673.547142227178, 15276.370597787249, 14727.716063837248, 14664.910265017117, 14732.219965446044, 13378.922523868128, 12991.113466019127, 13826.327544851698, 93901.10669826658, 68208.50979309683, 68753.07915117886, 117597.44539110959, 30242.236322715762, 21411.787249898847, 18792.742038035598, 16723.85904948359, 327305.3764649908, 214762.7165272022, 27454.674569222298, 34287.063552767766, 101803.9337945733, 114274.62771757398, 67439.37279080163, 54019.33537201387, 86906.5279479093, 230421.22281093238, 214916.46384053305, 108815.48469892063, 119951.41235680852, 54206.27022718177, 390244.00883954036, 138632.59274087075, 79254.12699163468, 82505.88500010507, 106121.042111219, 319198.22427524737, 97275.51599356283, 268508.52658805193, 178549.90153614903, 100911.78567315204, 225998.45451240017, 120049.86274231868, 133933.66515707315, 168377.6253122982, 182603.8604192926, 209691.09169481337, 183673.68925480737, 231643.0811253003, 164944.69456473814, 159909.9360676288, 154754.04703562518, 120318.58106050309, 112540.57318654608, 100276.24458200777, 97265.97253027602, 82471.47917325441, 78306.69913216511, 74821.92556739449, 74315.50417516365, 61683.05766890659, 59584.754716070194, 60392.41446698171, 57403.30155309259, 57292.82971196049, 52169.58155228225, 44464.77776658188, 42827.950998441615, 42565.38032045709, 40803.15021664785, 37890.5978517767, 36389.31739156732, 35307.95218440667, 34309.59283394737, 33638.38524676386, 33207.959859445575, 32991.16765466186, 32478.918005129344, 128455.30815712622, 238844.20505241188, 309700.5307081794, 52949.4627603683, 51994.172634668044, 43856.80072706906, 92198.00394683702, 167651.90741762842, 223033.81343125398, 151114.92298463156, 66108.64347144515, 137833.92198213103, 62136.49196021806, 215282.34871611118, 457815.9738620855, 319198.22427524737, 91298.86707813371, 165854.21961590473, 185166.12876433274, 209691.09169481337, 212718.92156749702, 177092.36497353815, 115153.04958960295, 100612.37978319854, 94348.48050868284, 92319.02989943027, 76111.08376247967, 59147.84429275724, 49994.42810045439, 49907.79043302578, 49320.853897893634, 48474.21593567872, 43551.906948202595, 42629.423706918686, 39608.125715870134, 39735.965171082054, 38037.219296092684, 37413.08384601947, 35873.956700927716, 36753.80712984923, 35039.77205918873, 36491.54350383175, 31737.44559936295, 31356.354717821352, 30930.283526601987, 30852.103416428225, 30179.693934309897, 31656.865671001156, 28108.159522510723, 28077.217076555837, 62101.51706168564, 61692.052241969184, 32437.509738473425, 249751.11721737, 79769.62462132289, 70724.78001417234, 45393.69911576277, 109181.18997427994, 43212.72288456587, 45810.73189324894, 169074.31121816486, 112814.51926238005, 235113.0440535538, 71035.43196012429, 222069.02511714114, 103813.66005589448, 262393.39932605106, 75960.82779519471, 182101.41374721605, 81491.03945430541, 100708.90935933216, 78967.06021279468, 160761.4214386837, 108585.43097239993, 533294.9564816083, 135378.53674375027, 225998.45451240017, 165540.8870750722, 233722.3525416684, 156268.4106831506, 99307.30028396651, 76977.10173266001, 63751.83516571228, 56899.48960091066, 45408.53278947495, 42462.0333642296, 42276.33700000288, 39218.63843824418, 38760.789773699624, 35185.77872589254, 33448.37900059054, 32917.288261390015, 31179.136133952183, 24162.896282039594, 24220.90828884465, 23680.81292678374, 22456.149199894888, 21984.71622562752, 22035.011703605745, 22178.212970392473, 20127.92095242026, 20400.77516758658, 19734.482655109652, 18833.78744978104, 18701.07648067368, 18174.259254167777, 17462.039459350683, 16384.740827004898, 292471.3871340487, 39444.92403851794, 42744.88266457382, 30393.62014197179, 26584.810146239164, 22075.907651884132, 75151.37163530105, 52945.23252992861, 37410.44426564302, 215179.40054651944, 107223.53404726884, 241755.1398664452, 84460.11682899903, 161134.27411438146, 69043.86490644171, 35113.57736197766, 155210.59854341467, 96913.45492733191, 46179.395738331106, 109174.77016125992, 457815.9738620855, 533294.9564816083, 126522.61303456247, 71702.91777184547, 75027.68030315383, 165540.8870750722, 197180.21725866385, 85067.54456131095, 417378.2733032007, 119060.41630233734, 104782.41133337504, 161609.99552819537, 108111.19959380032, 190312.71194691036, 158269.5676167855, 115129.75909392121, 183673.68925480737, 101404.83384304725, 50185.462799311994, 47958.14791290437, 45211.72618949445, 38760.71797732201, 36148.65574312872, 33890.31719078358, 26734.540231156618, 24539.46960389497, 19804.73085348926, 19446.85535534214, 18062.768768327645, 15350.892493203499, 12475.386848804232, 12930.240846316265, 12006.506415759633, 11100.500519541529, 10127.588859289543, 9788.953541048111, 9605.259912485126, 9447.102919536455, 8613.742694358129, 7115.055522231571, 7014.008560109282, 6678.138317418343, 6809.589602652728, 6280.395120608616, 6817.038794865059, 5780.7884207959205, 3757.687388456167, 369750.26779031556, 131980.12602118528, 49322.967303829275, 13138.957414319637, 9421.45413082289, 8562.953022261187, 17013.50792130755, 122765.73178723085, 46510.52875236777, 21550.136577626043, 75960.07435814376, 31638.502296788647, 190845.20205607804, 22082.7207956597, 33383.00319042054, 34628.17502994966, 68673.6684343476, 93597.46304362977, 147751.4124364489, 94100.9283542893, 107359.9225693775, 38841.561376571204, 417378.2733032007, 59804.0361750364, 196198.99294446036, 65103.970454081325, 123444.29243661572, 182101.41374721605, 117371.16580590424, 128146.23134763725, 66757.3079802877, 533294.9564816083, 101521.42366700387], \"Category\": [\"Default\", \"Default\", \"Default\", \"Default\", \"Default\", \"Default\", \"Default\", \"Default\", \"Default\", \"Default\", \"Default\", \"Default\", \"Default\", \"Default\", \"Default\", \"Default\", \"Default\", \"Default\", \"Default\", \"Default\", \"Default\", \"Default\", \"Default\", \"Default\", \"Default\", \"Default\", \"Default\", \"Default\", \"Default\", \"Default\", \"Topic1\", \"Topic1\", \"Topic1\", \"Topic1\", \"Topic1\", \"Topic1\", \"Topic1\", \"Topic1\", \"Topic1\", \"Topic1\", \"Topic1\", \"Topic1\", \"Topic1\", \"Topic1\", \"Topic1\", \"Topic1\", \"Topic1\", \"Topic1\", \"Topic1\", \"Topic1\", \"Topic1\", \"Topic1\", \"Topic1\", \"Topic1\", \"Topic1\", \"Topic1\", \"Topic1\", \"Topic1\", \"Topic1\", \"Topic1\", \"Topic1\", \"Topic1\", \"Topic1\", \"Topic1\", \"Topic1\", \"Topic1\", \"Topic1\", \"Topic1\", \"Topic1\", \"Topic1\", \"Topic1\", \"Topic1\", \"Topic1\", \"Topic1\", \"Topic1\", \"Topic1\", \"Topic1\", \"Topic1\", \"Topic1\", \"Topic1\", \"Topic1\", \"Topic1\", \"Topic1\", \"Topic1\", \"Topic1\", \"Topic1\", \"Topic1\", \"Topic1\", \"Topic1\", \"Topic1\", \"Topic1\", \"Topic1\", \"Topic1\", \"Topic1\", \"Topic1\", \"Topic1\", \"Topic1\", \"Topic1\", \"Topic1\", \"Topic2\", \"Topic2\", \"Topic2\", \"Topic2\", \"Topic2\", \"Topic2\", \"Topic2\", \"Topic2\", \"Topic2\", \"Topic2\", \"Topic2\", \"Topic2\", \"Topic2\", \"Topic2\", \"Topic2\", \"Topic2\", \"Topic2\", \"Topic2\", \"Topic2\", \"Topic2\", \"Topic2\", \"Topic2\", \"Topic2\", \"Topic2\", \"Topic2\", \"Topic2\", \"Topic2\", \"Topic2\", \"Topic2\", \"Topic2\", \"Topic2\", \"Topic2\", \"Topic2\", \"Topic2\", \"Topic2\", \"Topic2\", \"Topic2\", \"Topic2\", \"Topic2\", \"Topic2\", \"Topic2\", \"Topic2\", \"Topic2\", \"Topic2\", \"Topic2\", \"Topic2\", \"Topic2\", \"Topic2\", \"Topic2\", \"Topic2\", \"Topic3\", \"Topic3\", \"Topic3\", \"Topic3\", \"Topic3\", \"Topic3\", \"Topic3\", \"Topic3\", \"Topic3\", \"Topic3\", \"Topic3\", \"Topic3\", \"Topic3\", \"Topic3\", \"Topic3\", \"Topic3\", \"Topic3\", \"Topic3\", \"Topic3\", \"Topic3\", \"Topic3\", \"Topic3\", \"Topic3\", \"Topic3\", \"Topic3\", \"Topic3\", \"Topic3\", \"Topic3\", \"Topic3\", \"Topic3\", \"Topic3\", \"Topic3\", \"Topic3\", \"Topic3\", \"Topic3\", \"Topic3\", \"Topic3\", \"Topic3\", \"Topic3\", \"Topic3\", \"Topic3\", \"Topic3\", \"Topic3\", \"Topic3\", \"Topic3\", \"Topic3\", \"Topic3\", \"Topic3\", \"Topic3\", \"Topic3\", \"Topic3\", \"Topic3\", \"Topic3\", \"Topic3\", \"Topic3\", \"Topic3\", \"Topic3\", \"Topic3\", \"Topic4\", \"Topic4\", \"Topic4\", \"Topic4\", \"Topic4\", \"Topic4\", \"Topic4\", \"Topic4\", \"Topic4\", \"Topic4\", \"Topic4\", \"Topic4\", \"Topic4\", \"Topic4\", \"Topic4\", \"Topic4\", \"Topic4\", \"Topic4\", \"Topic4\", \"Topic4\", \"Topic4\", \"Topic4\", \"Topic4\", \"Topic4\", \"Topic4\", \"Topic4\", \"Topic4\", \"Topic4\", \"Topic4\", \"Topic4\", \"Topic4\", \"Topic4\", \"Topic4\", \"Topic4\", \"Topic4\", \"Topic4\", \"Topic4\", \"Topic4\", \"Topic4\", \"Topic4\", \"Topic4\", \"Topic4\", \"Topic4\", \"Topic4\", \"Topic4\", \"Topic4\", \"Topic4\", \"Topic4\", \"Topic4\", \"Topic4\", \"Topic4\", \"Topic4\", \"Topic4\", \"Topic4\", \"Topic4\", \"Topic4\", \"Topic4\", \"Topic4\", \"Topic4\", \"Topic4\", \"Topic4\", \"Topic4\", \"Topic4\", \"Topic4\", \"Topic4\", \"Topic4\", \"Topic4\", \"Topic5\", \"Topic5\", \"Topic5\", \"Topic5\", \"Topic5\", \"Topic5\", \"Topic5\", \"Topic5\", \"Topic5\", \"Topic5\", \"Topic5\", \"Topic5\", \"Topic5\", \"Topic5\", \"Topic5\", \"Topic5\", \"Topic5\", \"Topic5\", \"Topic5\", \"Topic5\", \"Topic5\", \"Topic5\", \"Topic5\", \"Topic5\", \"Topic5\", \"Topic5\", \"Topic5\", \"Topic5\", \"Topic5\", \"Topic5\", \"Topic5\", \"Topic5\", \"Topic5\", \"Topic5\", \"Topic5\", \"Topic5\", \"Topic5\", \"Topic5\", \"Topic5\", \"Topic5\", \"Topic5\", \"Topic5\", \"Topic5\", \"Topic5\", \"Topic5\", \"Topic5\", \"Topic5\", \"Topic5\", \"Topic5\", \"Topic5\", \"Topic5\", \"Topic5\", \"Topic5\", \"Topic5\", \"Topic5\", \"Topic5\", \"Topic5\", \"Topic5\", \"Topic5\", \"Topic5\", \"Topic5\", \"Topic5\", \"Topic5\"], \"logprob\": [30.0, 29.0, 28.0, 27.0, 26.0, 25.0, 24.0, 23.0, 22.0, 21.0, 20.0, 19.0, 18.0, 17.0, 16.0, 15.0, 14.0, 13.0, 12.0, 11.0, 10.0, 9.0, 8.0, 7.0, 6.0, 5.0, 4.0, 3.0, 2.0, 1.0, -4.4256, -4.5123, -4.6024, -5.0846, -5.3832, -5.4887, -6.1158, -6.2146, -6.339, -6.814, -6.8128, -6.9084, -6.6694, -7.0236, -7.0606, -7.1075, -7.1343, -7.2152, -7.3074, -7.2915, -7.2362, -7.3467, -7.4122, -7.4378, -7.4744, -7.4787, -7.4741, -7.5705, -7.5999, -7.5376, -5.6237, -5.9417, -5.9357, -5.4105, -6.7582, -7.1022, -7.2314, -7.3479, -4.4139, -4.8318, -6.8575, -6.6418, -5.5773, -5.488, -5.9955, -6.211, -5.7557, -4.82, -4.8991, -5.5492, -5.4671, -6.2144, -4.3808, -5.3569, -5.8868, -5.8508, -5.6318, -4.6793, -5.7193, -4.8818, -5.256, -5.7061, -5.1631, -5.6033, -5.5765, -5.4588, -5.4523, -5.6268, -5.6679, -4.6349, -4.9745, -5.0055, -5.0383, -5.29, -5.3568, -5.4722, -5.5027, -5.6677, -5.7195, -5.765, -5.7718, -5.9581, -5.9927, -5.9792, -6.03, -6.0319, -6.1256, -6.2854, -6.3229, -6.3291, -6.3714, -6.4454, -6.4858, -6.516, -6.5447, -6.5644, -6.5773, -6.5839, -6.5995, -5.2267, -4.6348, -4.4376, -6.1334, -6.1519, -6.3142, -5.6348, -5.1486, -5.0412, -5.3571, -5.9947, -5.651, -6.1394, -5.6741, -5.6402, -5.7399, -6.056, -5.9966, -5.9933, -6.0069, -4.6346, -4.8179, -5.2483, -5.3833, -5.4476, -5.4693, -5.6624, -5.9145, -6.0827, -6.0844, -6.0962, -6.1136, -6.2206, -6.242, -6.3156, -6.3123, -6.356, -6.3726, -6.4146, -6.3903, -6.4381, -6.3975, -6.5371, -6.5492, -6.5629, -6.5654, -6.5874, -6.5396, -6.6585, -6.6596, -5.866, -5.8733, -6.5153, -4.4991, -5.6308, -5.7504, -6.1881, -5.3575, -6.2414, -6.1876, -4.9916, -5.3704, -4.7606, -5.8146, -4.8847, -5.5538, -4.9214, -5.8461, -5.278, -5.8198, -5.6907, -5.8893, -5.519, -5.7258, -5.1526, -5.7838, -5.6451, -5.8859, -4.4845, -4.8871, -5.3404, -5.5951, -5.7837, -5.8974, -6.123, -6.19, -6.1944, -6.2695, -6.2812, -6.378, -6.4287, -6.4447, -6.4989, -6.7538, -6.7514, -6.774, -6.8271, -6.8483, -6.846, -6.8396, -6.9366, -6.9231, -6.9563, -7.003, -7.0101, -7.0387, -7.0786, -7.1423, -4.2793, -6.2651, -6.1856, -6.5245, -6.6594, -6.8443, -5.6371, -5.9841, -6.3326, -4.6464, -5.3243, -4.5546, -5.5629, -4.9621, -5.7657, -6.4048, -5.0303, -5.5276, -6.1667, -5.4447, -4.2448, -4.1325, -5.3551, -5.8213, -5.8004, -5.2878, -5.1933, -5.7521, -4.7077, -5.5356, -5.7312, -5.5549, -5.7442, -5.5629, -5.6572, -5.7612, -5.7773, -4.5129, -5.2163, -5.2617, -5.3206, -5.4746, -5.5444, -5.6089, -5.8461, -5.9317, -6.1461, -6.1643, -6.2382, -6.4008, -6.6083, -6.5725, -6.6466, -6.725, -6.8168, -6.8508, -6.8697, -6.8863, -6.9787, -7.1698, -7.1841, -7.2332, -7.2137, -7.2946, -7.2126, -7.3775, -7.8083, -3.2207, -4.2527, -5.2417, -6.5599, -6.8913, -6.986, -6.307, -4.3813, -5.3333, -6.0873, -4.8663, -5.7347, -4.0328, -6.0808, -5.7253, -5.6955, -5.0927, -4.8411, -4.4672, -4.8776, -4.7871, -5.6474, -3.8389, -5.3331, -4.508, -5.3129, -4.8826, -4.8791, -5.1186, -5.1503, -5.4593, -4.8248, -5.4987], \"loglift\": [30.0, 29.0, 28.0, 27.0, 26.0, 25.0, 24.0, 23.0, 22.0, 21.0, 20.0, 19.0, 18.0, 17.0, 16.0, 15.0, 14.0, 13.0, 12.0, 11.0, 10.0, 9.0, 8.0, 7.0, 6.0, 5.0, 4.0, 3.0, 2.0, 1.0, 1.3656, 1.3656, 1.3656, 1.3656, 1.3656, 1.3656, 1.3656, 1.3655, 1.3655, 1.3655, 1.3655, 1.3655, 1.3655, 1.3655, 1.3655, 1.3655, 1.3655, 1.3655, 1.3655, 1.3655, 1.3655, 1.3655, 1.3655, 1.3655, 1.3655, 1.3655, 1.3655, 1.3655, 1.3655, 1.3655, 1.3638, 1.3654, 1.3634, 1.3519, 1.3622, 1.3635, 1.3648, 1.365, 1.3249, 1.3283, 1.3597, 1.3531, 1.3293, 1.303, 1.323, 1.3293, 1.3091, 1.2698, 1.2603, 1.2908, 1.2755, 1.3225, 1.1821, 1.241, 1.2702, 1.266, 1.2333, 1.0845, 1.2328, 1.0549, 1.0888, 1.2093, 0.946, 1.1385, 1.0558, 0.9447, 0.87, 0.5572, 0.6486, 1.4496, 1.4496, 1.4496, 1.4496, 1.4496, 1.4496, 1.4496, 1.4496, 1.4496, 1.4496, 1.4496, 1.4496, 1.4496, 1.4496, 1.4496, 1.4496, 1.4496, 1.4496, 1.4496, 1.4495, 1.4495, 1.4495, 1.4495, 1.4495, 1.4495, 1.4495, 1.4495, 1.4495, 1.4495, 1.4495, 1.4474, 1.4191, 1.3564, 1.4269, 1.4267, 1.4345, 1.371, 1.2592, 1.0811, 1.1545, 1.3437, 0.9526, 1.2609, 0.4836, -0.237, 0.0239, 0.9595, 0.4219, 0.3151, 0.1771, 1.5351, 1.5351, 1.5351, 1.5351, 1.5351, 1.5351, 1.5351, 1.5351, 1.5351, 1.5351, 1.5351, 1.5351, 1.5351, 1.5351, 1.5351, 1.5351, 1.5351, 1.5351, 1.5351, 1.5351, 1.5351, 1.5351, 1.5351, 1.5351, 1.5351, 1.5351, 1.5351, 1.5351, 1.5351, 1.5351, 1.5348, 1.5342, 1.5351, 1.5101, 1.5197, 1.5205, 1.5262, 1.4792, 1.5221, 1.5175, 1.4077, 1.4335, 1.309, 1.4519, 1.242, 1.3332, 1.0384, 1.3534, 1.0471, 1.3094, 1.2267, 1.2713, 0.9308, 1.1164, 0.098, 0.8378, 0.464, 0.5346, 1.591, 1.591, 1.591, 1.591, 1.591, 1.591, 1.591, 1.591, 1.591, 1.591, 1.591, 1.591, 1.591, 1.591, 1.591, 1.591, 1.591, 1.591, 1.591, 1.591, 1.591, 1.591, 1.591, 1.591, 1.591, 1.591, 1.591, 1.591, 1.591, 1.591, 1.572, 1.5896, 1.5888, 1.591, 1.5899, 1.5909, 1.5731, 1.5763, 1.5751, 1.5118, 1.5305, 1.4872, 1.5305, 1.4853, 1.5292, 1.5663, 1.4546, 1.4282, 1.5304, 1.392, 1.1584, 1.1181, 1.3342, 1.4358, 1.4114, 1.1326, 1.0522, 1.3341, 0.7879, 1.2144, 1.1466, 0.8896, 1.1023, 0.7181, 0.8082, 1.0224, 0.5392, 2.3977, 2.3977, 2.3977, 2.3977, 2.3977, 2.3977, 2.3977, 2.3977, 2.3977, 2.3976, 2.3976, 2.3976, 2.3976, 2.3976, 2.3976, 2.3976, 2.3976, 2.3976, 2.3976, 2.3976, 2.3976, 2.3976, 2.3976, 2.3976, 2.3976, 2.3976, 2.3976, 2.3976, 2.3976, 2.3976, 2.3961, 2.3943, 2.3896, 2.3941, 2.3954, 2.3963, 2.3886, 2.338, 2.3567, 2.372, 2.3332, 2.3406, 2.2454, 2.3541, 2.2963, 2.2895, 2.2076, 2.1496, 2.067, 2.1077, 2.0664, 2.2227, 1.6568, 2.1055, 1.7426, 2.0408, 1.8313, 1.446, 1.6458, 1.5262, 1.8693, 0.4258, 1.4107]}, \"token.table\": {\"Topic\": [1, 2, 4, 3, 1, 2, 3, 5, 4, 4, 5, 1, 2, 1, 3, 4, 2, 3, 1, 5, 1, 2, 3, 4, 5, 5, 1, 1, 2, 3, 4, 3, 1, 3, 4, 2, 2, 2, 4, 4, 1, 2, 4, 1, 2, 4, 3, 1, 3, 4, 5, 1, 2, 1, 4, 2, 5, 4, 1, 3, 1, 3, 4, 5, 1, 2, 3, 4, 1, 4, 3, 3, 5, 2, 5, 1, 3, 3, 5, 3, 4, 2, 4, 1, 1, 2, 3, 4, 5, 2, 4, 1, 2, 4, 2, 3, 4, 4, 1, 3, 4, 1, 2, 3, 4, 1, 2, 3, 4, 4, 1, 2, 2, 4, 3, 4, 1, 3, 4, 2, 3, 1, 1, 1, 2, 2, 2, 5, 1, 3, 3, 3, 5, 2, 3, 5, 1, 5, 1, 1, 2, 1, 2, 3, 3, 4, 2, 5, 4, 1, 2, 4, 5, 1, 2, 2, 4, 5, 1, 5, 4, 5, 2, 3, 1, 2, 4, 5, 2, 3, 4, 5, 3, 3, 2, 1, 2, 3, 4, 5, 3, 5, 4, 3, 4, 3, 4, 4, 1, 5, 1, 5, 2, 3, 4, 5, 2, 3, 1, 2, 3, 4, 5, 2, 3, 5, 2, 5, 3, 4, 1, 4, 5, 2, 1, 2, 3, 2, 3, 2, 1, 2, 3, 3, 3, 1, 1, 5, 1, 3, 5, 1, 2, 5, 4, 5, 4, 5, 5, 5, 5, 2, 3, 2, 2, 3, 4, 5, 2, 3, 5, 2, 3, 4, 3, 5, 1, 2, 3, 4, 5, 2, 4, 3, 2, 1, 3, 1, 3, 4, 5, 1, 4, 5, 1, 1, 2, 4, 5, 1, 3, 1, 1, 2, 1, 1, 3, 1, 2, 5, 3, 2, 4, 1, 2, 4, 5, 2, 5, 1, 2, 3, 4, 5, 1, 3, 4, 4, 5, 1, 2, 5, 1, 3, 1, 5, 2, 3, 5, 1, 3, 4, 3, 4, 5, 3, 4, 5, 5, 2, 3, 4, 2, 4, 5, 1, 2, 3, 4, 5, 2, 5, 3, 3, 4, 4, 2, 1, 2, 3, 4, 5, 3, 3, 1, 5, 2, 2, 2, 4, 4, 3, 3, 5, 5, 5, 5, 3, 1, 3, 5, 2, 3, 1, 5, 4, 1, 2, 3, 4, 4, 1, 4, 5, 4, 5, 2, 3, 2, 1, 3, 4, 2, 4, 1, 1, 2, 4, 5, 1, 3, 4, 5, 1, 5, 2, 1, 2, 4, 2, 4, 2, 3, 3, 4, 5, 3, 1, 2, 5, 1, 5, 1, 2, 4, 5, 1, 3, 4, 1, 1, 1, 2, 3, 5, 3, 4, 5, 1, 2, 3, 4, 5, 1, 2, 3, 4, 5, 1, 2, 3, 4, 5, 4, 1, 4, 4, 4, 2, 3, 2, 1, 4, 5, 4, 5, 2, 1, 2, 2, 1, 3, 4, 1, 5, 2, 5, 2, 3, 4, 3, 1, 2, 3, 4, 5, 1, 3, 3, 4, 1, 1, 2, 4, 2, 3, 4, 4, 5, 4, 2, 3, 5, 5, 3, 5, 1, 2, 3, 4, 5, 2, 3, 4, 5, 5, 3, 3, 4, 3, 1, 5, 2, 4, 3, 4, 5, 2, 5, 1, 1, 2, 4, 4, 3, 2, 3, 2, 4, 2, 3, 4, 5, 1, 2, 3, 4, 5, 3, 2, 5, 3, 1, 2, 3, 4, 1, 2, 3, 4, 5, 1, 3, 4], \"Freq\": [0.268214090322357, 0.6083843425051143, 0.12339487809252747, 0.9999962252836145, 0.909037834807068, 0.09046847491937925, 0.00047947029943325127, 1.0000070032929063, 0.9999986784036068, 0.09639636019695871, 0.9036035442328338, 0.8553213029007337, 0.14467091135702811, 0.05287942679552063, 0.007053486948621897, 0.9400690428896362, 0.9775925439368888, 0.022398716401853643, 0.9601644904040084, 0.03983435940104262, 0.6092368460587388, 0.06350358625153606, 0.01637424309176378, 0.3015763186690099, 0.009309770319731916, 0.999989105703904, 0.9999763100613207, 0.2428581860201396, 0.28245091696762337, 0.056964140172750026, 0.4177282704172543, 0.9999857257222586, 0.9999928157410897, 0.817214227437143, 0.18277941447959392, 1.0000025245567183, 0.9999975609177548, 1.000001144149025, 0.9999959103598256, 0.9999920286376068, 0.9999855362340553, 0.0010908484898133645, 0.998878677482548, 0.7550073329737143, 0.24035847998277698, 0.004633484422910341, 0.9999966479942444, 0.7582642098102165, 0.05753013533821715, 0.0018650248313499135, 0.18233558080909243, 0.9864159856041366, 0.013580226974222467, 0.9999912658742128, 1.0000039272600447, 0.9999949181955723, 0.9999906406664242, 0.9999984916219413, 0.9279469762909727, 0.07205775925820765, 0.07490464991428944, 0.768168396246965, 0.15044247522937593, 0.006496379612177597, 0.7336542301352137, 0.0015231420700744303, 0.07857621149736914, 0.18624144998008133, 0.9999850690902959, 0.9999581895153515, 0.9999979390780727, 0.6138832077118294, 0.38611452021785814, 0.0014013857099067916, 0.9986041004510813, 0.9992687582255009, 0.0006917564224363125, 0.0015199448085828264, 0.998479330944976, 0.12749129367260964, 0.8725048499965709, 0.017764146827267048, 0.9822309080161381, 0.9999993187026144, 0.003209214529558215, 0.22274064800757895, 4.702145830854527e-05, 0.7734677230818383, 0.0005407467705482706, 0.09863699283983555, 0.9013624286142634, 0.12509300436197404, 0.055333297162677396, 0.8195758037121147, 0.9244126374920711, 0.01702856822047134, 0.058558751479187744, 0.999965671500119, 0.9139033700904787, 0.08596814157824031, 0.00012505063262932553, 0.8323894605479131, 0.0009737497345058474, 0.0627530453902992, 0.10388628417526727, 0.17345592995755635, 0.38063036978501524, 0.24328980203141157, 0.20261763335516597, 0.9999882667542371, 0.9999996656267528, 0.9999873337387426, 0.9999957891053122, 0.9999903973150246, 0.01458110509881334, 0.9854145030056845, 0.7968688827686394, 0.008221583744069316, 0.19490234695413766, 0.20233245752696022, 0.7976631018280811, 1.00000210072621, 0.999994493834019, 0.9999850497247044, 1.0000002824186431, 1.0000003998023685, 0.28201398879022643, 0.7179867324344229, 0.6573540527988376, 0.34264393607059446, 0.999994324690288, 0.9999779662040204, 0.9999839380276832, 0.3922550001773954, 0.18940861346249435, 0.41833458101917426, 0.10254655340423702, 0.8974483920426567, 0.9999911166497314, 0.9578043237877153, 0.042190691047641615, 0.2954305402678759, 0.6918323173789105, 0.012742462482604655, 0.10033247171563156, 0.8996658271293351, 0.9999855180488613, 0.9999813734083435, 0.9999837210502556, 0.7329972068334232, 0.03590202561719677, 0.2295457830825646, 0.0015530233072999016, 0.9394036291705279, 0.06059962861672944, 0.008522639814826396, 0.0004702146104731804, 0.9909772915722278, 0.008028714038241893, 0.9919516743308658, 0.9999973719374965, 0.9999574390649902, 0.017397670088686198, 0.9825863534529885, 0.8760750756910567, 0.08108665189116428, 0.016396371213320843, 0.026441504381941542, 0.8995192894206888, 0.06309311129340621, 0.029012847629046535, 0.008380144727055151, 0.9999995693591865, 0.9999988994706746, 0.9999931371019793, 0.2687529495068312, 0.00027439714636469387, 0.6085366492073453, 0.11956474545693807, 0.002873547893874711, 0.02533626634027334, 0.9746573959910279, 0.9999956338125727, 0.36769163845543834, 0.6323090437018811, 0.9999949070861528, 1.000004292447362, 0.9999912428573179, 0.28158783265706655, 0.7184093759215716, 0.9966524855623947, 0.003339700110872296, 0.6125705804447451, 0.346083155368831, 0.041336767046300855, 0.9999549101825951, 0.05438665764129176, 0.9456116023677813, 0.044262535171398304, 0.09356856963734739, 0.7979650331551199, 0.04937966219287684, 0.014835986975941377, 0.1345789060902793, 0.11714018334121516, 0.7482816719394288, 0.06246702679130913, 0.9375188294870999, 0.05872594292099066, 0.9412726738344269, 0.9086619602387865, 0.01801049377906132, 0.07332657900988436, 0.9999990650770443, 0.3866203850441447, 0.3215922933496589, 0.29178122565149744, 0.1661645925454023, 0.8338245097956498, 1.0000013542443096, 0.9876611319567605, 0.00527895892051068, 0.007087221092177322, 0.9999859598227099, 0.9999955453497379, 0.9999513798450388, 0.9978898523095985, 0.0021089964520885577, 0.9999889168441504, 1.0000021365722864, 0.9998636136217883, 0.9941112188813361, 0.005864210832077643, 0.999957821555905, 0.9999795963110385, 3.290164170404496e-05, 0.9999547855524406, 0.9999987795695986, 0.9998170714098574, 0.9999907782197038, 0.9999630970249145, 0.9978723482816926, 0.0021252527740314715, 0.9999888526558015, 0.009581200059194162, 0.13415074726257445, 0.8562691994677496, 0.999913415831624, 0.2533040524528503, 0.22730493837256563, 0.5193859482696046, 0.007481306533222504, 0.9034298126374855, 0.0890931421391225, 0.16049818233517973, 0.8395131102960444, 0.15890445976862141, 0.1851551820809459, 0.0029356773829059806, 0.6488196501624944, 0.004185087697654657, 0.0021990936491189735, 0.9978036513678015, 0.9999726545574614, 0.9999885474061543, 0.9001404384893595, 0.09986205624490778, 2.815496358384502e-05, 0.9201745973290149, 0.014204179128049813, 0.06560106515035889, 0.05389256296302529, 0.1192014375615577, 0.8269108276091103, 0.9999650913592045, 0.012723226289864647, 0.9850695737898432, 0.0018697214261091416, 0.0003420222120931357, 0.024652542373379164, 0.9753469882899015, 0.9999995583806782, 0.9982097474228205, 0.0017891162938029706, 0.9999658740633447, 0.9998165948334778, 0.00019059205426762878, 1.0000001080962793, 0.9999910650285696, 0.9999137779726558, 0.9999780395580143, 0.7445128368390328, 0.2554876728086375, 0.3963870056933576, 0.0008466567642646953, 0.45709987769201027, 0.1456691917919593, 1.0000009947967117, 1.0000074379458899, 0.38639317943119117, 0.05398799728620615, 0.012579667447891931, 0.49586660613463635, 0.05117876510649984, 0.9643769150664001, 0.03561687656373459, 0.9999796244167305, 0.9999969762145818, 0.9999943091324216, 0.8756571386949697, 0.069431654317279, 0.05490590253310441, 0.6564708333128308, 0.34352545293780945, 0.9999906814122917, 0.9999418559246703, 0.2622574303980817, 0.03786251411100336, 0.6998805093175935, 0.9999841611231874, 0.01582445789192834, 0.984190397167077, 0.1909737323844271, 0.062353650999170715, 0.74667201172351, 1.000000876508669, 0.9999778681637657, 0.9999969157919809, 1.0000016385506139, 0.0005204811976814698, 0.8804116895553997, 0.11907190308776533, 0.03943282811517867, 0.018449773947713216, 0.9421195826898502, 0.31609126266456256, 0.12375271132622025, 0.03266560380204671, 0.056027389306796856, 0.47146162023736476, 0.21969612563552826, 0.7803096112333223, 0.9999977589118337, 0.9999922685871878, 0.9999886690894487, 0.999967421656929, 0.9999949068453283, 0.006579155477444924, 0.017415411557942444, 0.0019135452205640464, 0.014190335343508657, 0.9598901839559758, 0.9999996761292844, 0.9999900606932527, 0.9999923440572029, 0.9999921965146445, 1.0000012087630374, 0.9999996960620671, 0.911073672863254, 0.08892461351947129, 0.9999913953373907, 0.9999942346970483, 0.0033262583787011407, 0.9966727867715872, 0.9999689910373987, 0.9999814766764012, 0.9999729406088441, 0.9999886875300225, 0.9999828597989499, 1.000001206977882, 1.0000047460590853, 0.0008915248885590392, 0.9991076282929727, 0.8828443411483387, 0.11715138322744457, 0.9999992142573739, 0.20781793467058937, 0.03518888276062758, 0.6578875210078389, 0.09910169259018932, 0.9999977402782319, 0.07534412309276005, 0.4479533601984601, 0.47670186189941816, 0.14121916458806602, 0.8587797766686391, 0.0002254373268545719, 0.9997662366014147, 0.999993215747249, 0.9583125898942956, 0.026023373696609654, 0.015658508617447178, 0.9699795728732943, 0.030015381777535013, 0.9999977778149027, 0.01621335540663868, 0.9773595275197601, 0.005423684726775928, 0.0010001120772778307, 0.007290642570712753, 0.03947876287833853, 0.8355849434060766, 0.11763658378265221, 0.9999825972979078, 0.9999808633233501, 0.9999912778916982, 0.0638416743679884, 0.3227602702689926, 0.6133962091731601, 0.02443499251457858, 0.9755485647865842, 0.999982508254377, 0.9999908333655674, 0.07511406741978416, 0.9238105482918885, 0.0010781701194945198, 0.99997700658226, 0.9052323964515365, 0.06126835679653109, 0.0334885202430891, 0.9994104799942154, 0.0005979481153489382, 0.488246304431721, 0.1069777608307376, 0.3492879152168543, 0.05548426691567239, 0.9999749221209054, 0.0013689974392464045, 0.9986329283213912, 1.000005790909674, 0.9999999882854693, 0.3866671544004216, 0.03502708956942808, 0.2056019236734174, 0.3726996591784168, 0.9871166904697711, 0.001041359974473455, 0.011825221043465233, 0.1076728710391369, 0.35785040704691534, 0.2794080253569629, 0.22245439450044552, 0.032619007297666626, 0.44559355976833387, 0.2801454249925726, 0.007434745975136536, 0.22750131927125622, 0.03932928162729379, 0.17732173845578547, 0.11638628883013544, 0.009818544536510668, 0.6861978358326648, 0.010280494878262667, 1.000003786445754, 0.018877060262546486, 0.9811216160727612, 0.9999620030327175, 0.9999994688631936, 0.01525643383402219, 0.9847482719506533, 0.9999827210439297, 0.9643929889596611, 0.03073555100841096, 0.004872110354800842, 0.8497581688915157, 0.15024745543245976, 0.9999941898307243, 0.9999757404558317, 0.9999996497831928, 0.9999947467639589, 0.38099663873201817, 0.0355613767825479, 0.5834408826575382, 0.9451073692557515, 0.05488655585066152, 0.9999910718728683, 0.9999797927642687, 0.10231310380813882, 0.5464557305715703, 0.3512347645018579, 0.9999826868793593, 0.045699340705368754, 0.11482532372320949, 0.0007350464693184529, 0.7734980937618321, 0.06524525380885836, 0.9980016964768297, 0.0020082396438066206, 0.9855385903785435, 0.014464520070546757, 0.9999692010545024, 0.9634260701567942, 0.006355851807392773, 0.030214741668990262, 0.9999963185036681, 0.9999842855238416, 0.9999933559447989, 0.9412765667237469, 0.058727778896226324, 0.9999857350902641, 0.8266771439394133, 0.13973595863506816, 0.033587449655272494, 0.9999370866639713, 0.05543878100001066, 0.9445453428758942, 0.2746965172025046, 0.008763085536234333, 0.00031457230130071967, 0.1266827596238184, 0.5895534315377344, 0.34981172894222634, 0.49792974293697945, 0.15111701228329638, 0.0011449377702566692, 0.999979288027326, 0.9999851060333556, 0.991150773706757, 0.008833825130165575, 0.9999914370366728, 0.43240557296245763, 0.5675920580611405, 9.059650146839168e-05, 0.999913586706639, 0.016845750278793346, 0.025766752442562938, 0.9573548565698121, 0.0035010388229028276, 0.9965022023536244, 1.0000061190270695, 0.01942424723534109, 0.03941151612967757, 0.9411773217275693, 0.9999755425506669, 1.0000003687142751, 0.265368775910823, 0.7346321241154847, 0.9999951706503022, 0.9999868997384922, 0.3406964923380155, 0.01765563491485276, 0.6412049421752499, 0.00043900497626120377, 0.020298835143861535, 0.322774930586666, 0.09059343198565503, 0.5663348947582626, 0.9999818598198124, 0.9999841621314243, 0.002228955287411224, 0.9977228429364526, 0.9999968260081016, 0.1236632413191199, 0.8280802210871936, 0.0036210605539825583, 0.04464365322998941, 0.9999757955175718, 0.9999842216325264, 0.23761522298283752, 0.6231935928902068, 0.13919126572981186, 0.18512712422776656, 0.7459527501082974, 0.06892001255882774], \"Term\": [\"abuse\", \"abuse\", \"abuse\", \"accident\", \"account\", \"account\", \"account\", \"acre\", \"administrative\", \"adoption\", \"adoption\", \"affidavit\", \"affidavit\", \"agency\", \"agency\", \"agency\", \"aggravate\", \"aggravate\", \"agreement\", \"agreement\", \"amend\", \"amend\", \"amend\", \"amend\", \"amend\", \"amy\", \"appealable\", \"appellate\", \"appellate\", \"appellate\", \"appellate\", \"approach\", \"arbitration\", \"area\", \"area\", \"armed\", \"arrest\", \"assault\", \"assembly\", \"assessment\", \"asset\", \"association\", \"association\", \"attorney\", \"attorney\", \"attorney\", \"automobile\", \"award\", \"award\", \"award\", \"award\", \"bank\", \"bank\", \"bankruptcy\", \"bargaining\", \"battery\", \"beneficiary\", \"board\", \"breach\", \"breach\", \"building\", \"building\", \"building\", \"building\", \"business\", \"business\", \"business\", \"business\", \"buyer\", \"candidate\", \"car\", \"care\", \"care\", \"caseworker\", \"caseworker\", \"casualty\", \"casualty\", \"child\", \"child\", \"city\", \"city\", \"civil\", \"civil\", \"claimant\", \"class\", \"class\", \"class\", \"class\", \"class\", \"code\", \"code\", \"commission\", \"commission\", \"commission\", \"commit\", \"commit\", \"commit\", \"committee\", \"company\", \"company\", \"company\", \"complaint\", \"complaint\", \"complaint\", \"complaint\", \"conduct\", \"conduct\", \"conduct\", \"conduct\", \"constitution\", \"contract\", \"convict\", \"conviction\", \"corporate\", \"corporation\", \"corporation\", \"cost\", \"cost\", \"cost\", \"count\", \"count\", \"counterclaim\", \"coverage\", \"creditor\", \"crime\", \"criminal\", \"custody\", \"custody\", \"damage\", \"damage\", \"danger\", \"dangerous\", \"dcfs\", \"death\", \"death\", \"death\", \"deed\", \"deed\", \"default\", \"defend\", \"defend\", \"defense\", \"defense\", \"defense\", \"department\", \"department\", \"detective\", \"diocese\", \"director\", \"dismiss\", \"dismiss\", \"dismiss\", \"dismiss\", \"dismissal\", \"dismissal\", \"dispositional\", \"dispositional\", \"dispositional\", \"dissolution\", \"dissolution\", \"district\", \"divorce\", \"doctor\", \"doctor\", \"document\", \"document\", \"document\", \"document\", \"doubt\", \"doubt\", \"doubt\", \"doubt\", \"drive\", \"driver\", \"drug\", \"duty\", \"duty\", \"duty\", \"duty\", \"duty\", \"easement\", \"easement\", \"election\", \"employee\", \"employee\", \"employer\", \"enact\", \"entity\", \"estate\", \"estate\", \"estoppel\", \"estoppel\", \"examination\", \"examination\", \"examination\", \"executor\", \"expert\", \"expert\", \"fall\", \"fall\", \"fall\", \"fall\", \"fall\", \"family\", \"family\", \"family\", \"father\", \"father\", \"federal\", \"federal\", \"fee\", \"fee\", \"fee\", \"felony\", \"finding\", \"finding\", \"finding\", \"fire\", \"fire\", \"firearm\", \"firm\", \"firm\", \"firm\", \"floor\", \"foot\", \"foreclosure\", \"fraud\", \"fraud\", \"fraudulent\", \"front\", \"funeral\", \"genuine\", \"genuine\", \"gift\", \"government\", \"government\", \"governmental\", \"grandparent\", \"grantor\", \"guardian\", \"guardianship\", \"guilty\", \"guilty\", \"gun\", \"health\", \"health\", \"health\", \"heir\", \"home\", \"home\", \"home\", \"hospital\", \"hospital\", \"hospital\", \"husband\", \"husband\", \"ilcs\", \"ilcs\", \"ilcs\", \"ilcs\", \"ilcs\", \"immunity\", \"immunity\", \"impact\", \"imprisonment\", \"inc\", \"inc\", \"incident\", \"incident\", \"incident\", \"incident\", \"income\", \"income\", \"income\", \"indemnify\", \"ineffective\", \"ineffective\", \"ineffective\", \"ineffective\", \"injury\", \"injury\", \"insurance\", \"insure\", \"insure\", \"insured\", \"insurer\", \"insurer\", \"interlocutory\", \"interview\", \"jennifer\", \"job\", \"judge\", \"judge\", \"jurisdiction\", \"jurisdiction\", \"jurisdiction\", \"jurisdiction\", \"juror\", \"landlord\", \"language\", \"language\", \"language\", \"language\", \"language\", \"lawsuit\", \"lawsuit\", \"legislative\", \"legislature\", \"lessor\", \"letter\", \"letter\", \"letter\", \"liability\", \"liability\", \"lien\", \"litem\", \"live\", \"live\", \"live\", \"loan\", \"local\", \"local\", \"maintenance\", \"maintenance\", \"maintenance\", \"malpractice\", \"mandatory\", \"marital\", \"marriage\", \"medical\", \"medical\", \"medical\", \"minor\", \"minor\", \"minor\", \"month\", \"month\", \"month\", \"month\", \"month\", \"mother\", \"mother\", \"motor\", \"motorist\", \"municipal\", \"municipality\", \"murder\", \"neglect\", \"neglect\", \"neglect\", \"neglect\", \"neglect\", \"negligence\", \"negligent\", \"negotiation\", \"nonmarital\", \"offender\", \"offense\", \"officer\", \"officer\", \"ordinance\", \"pain\", \"parent\", \"parent\", \"parentage\", \"parental\", \"parenting\", \"parking\", \"partnership\", \"passenger\", \"paternity\", \"patient\", \"patient\", \"payment\", \"payment\", \"pension\", \"perform\", \"perform\", \"perform\", \"perform\", \"personnel\", \"petition\", \"petition\", \"petition\", \"petitioner\", \"petitioner\", \"physician\", \"physician\", \"plea\", \"pleading\", \"pleading\", \"pleading\", \"police\", \"police\", \"policy\", \"postconviction\", \"postconviction\", \"postconviction\", \"postconviction\", \"power\", \"power\", \"power\", \"power\", \"premium\", \"probate\", \"probation\", \"process\", \"process\", \"process\", \"program\", \"program\", \"prosecutor\", \"proximate\", \"public\", \"public\", \"public\", \"pull\", \"purchase\", \"purchase\", \"purchase\", \"purchaser\", \"purchaser\", \"pursuant\", \"pursuant\", \"pursuant\", \"pursuant\", \"refund\", \"regulation\", \"regulation\", \"reimburse\", \"reimbursement\", \"relationship\", \"relationship\", \"relationship\", \"relationship\", \"repair\", \"repair\", \"repair\", \"report\", \"report\", \"report\", \"report\", \"report\", \"request\", \"request\", \"request\", \"request\", \"request\", \"requirement\", \"requirement\", \"requirement\", \"requirement\", \"requirement\", \"resolution\", \"respondent\", \"respondent\", \"retirement\", \"revenue\", \"risk\", \"risk\", \"robbery\", \"sale\", \"sale\", \"sale\", \"school\", \"school\", \"search\", \"seller\", \"sentence\", \"sentencing\", \"service\", \"service\", \"service\", \"settlement\", \"settlement\", \"sexual\", \"spouse\", \"standard\", \"standard\", \"standard\", \"station\", \"statutory\", \"statutory\", \"statutory\", \"statutory\", \"statutory\", \"stock\", \"stock\", \"street\", \"street\", \"subcontractor\", \"summary\", \"summary\", \"summary\", \"suppress\", \"surgery\", \"suspension\", \"tax\", \"tax\", \"taxpayer\", \"tell\", \"tell\", \"tell\", \"tenancy\", \"tenant\", \"tenant\", \"terminate\", \"terminate\", \"terminate\", \"terminate\", \"terminate\", \"test\", \"test\", \"test\", \"test\", \"testator\", \"testing\", \"traffic\", \"traffic\", \"truck\", \"trust\", \"trust\", \"unconstitutional\", \"unconstitutional\", \"unfit\", \"unfit\", \"unfit\", \"unfitness\", \"unfitness\", \"uninsured\", \"unit\", \"unit\", \"unit\", \"university\", \"vehicle\", \"verdict\", \"verdict\", \"victim\", \"village\", \"violate\", \"violate\", \"violate\", \"violate\", \"violation\", \"violation\", \"violation\", \"violation\", \"visitation\", \"walk\", \"wardship\", \"wardship\", \"warning\", \"warrant\", \"warrant\", \"warrant\", \"warrant\", \"warranty\", \"weapon\", \"west\", \"west\", \"west\", \"work\", \"work\", \"work\"]}, \"R\": 30, \"lambda.step\": 0.01, \"plot.opts\": {\"xlab\": \"PC1\", \"ylab\": \"PC2\"}, \"topic.order\": [5, 4, 1, 2, 3]};\n",
       "\n",
       "function LDAvis_load_lib(url, callback){\n",
       "  var s = document.createElement('script');\n",
       "  s.src = url;\n",
       "  s.async = true;\n",
       "  s.onreadystatechange = s.onload = callback;\n",
       "  s.onerror = function(){console.warn(\"failed to load library \" + url);};\n",
       "  document.getElementsByTagName(\"head\")[0].appendChild(s);\n",
       "}\n",
       "\n",
       "if(typeof(LDAvis) !== \"undefined\"){\n",
       "   // already loaded: just create the visualization\n",
       "   !function(LDAvis){\n",
       "       new LDAvis(\"#\" + \"ldavis_el42987140632147069184599082796\", ldavis_el42987140632147069184599082796_data);\n",
       "   }(LDAvis);\n",
       "}else if(typeof define === \"function\" && define.amd){\n",
       "   // require.js is available: use it to load d3/LDAvis\n",
       "   require.config({paths: {d3: \"https://d3js.org/d3.v5\"}});\n",
       "   require([\"d3\"], function(d3){\n",
       "      window.d3 = d3;\n",
       "      LDAvis_load_lib(\"https://cdn.jsdelivr.net/gh/bmabey/pyLDAvis@3.3.1/pyLDAvis/js/ldavis.v3.0.0.js\", function(){\n",
       "        new LDAvis(\"#\" + \"ldavis_el42987140632147069184599082796\", ldavis_el42987140632147069184599082796_data);\n",
       "      });\n",
       "    });\n",
       "}else{\n",
       "    // require.js not available: dynamically load d3 & LDAvis\n",
       "    LDAvis_load_lib(\"https://d3js.org/d3.v5.js\", function(){\n",
       "         LDAvis_load_lib(\"https://cdn.jsdelivr.net/gh/bmabey/pyLDAvis@3.3.1/pyLDAvis/js/ldavis.v3.0.0.js\", function(){\n",
       "                 new LDAvis(\"#\" + \"ldavis_el42987140632147069184599082796\", ldavis_el42987140632147069184599082796_data);\n",
       "            })\n",
       "         });\n",
       "}\n",
       "</script>"
      ],
      "text/plain": [
       "PreparedData(topic_coordinates=              x         y  topics  cluster       Freq\n",
       "topic                                                \n",
       "4      0.047714  0.206101       1        1  25.523870\n",
       "3     -0.065477  0.071536       2        1  23.467380\n",
       "0     -0.191946 -0.184468       3        1  21.543840\n",
       "1     -0.050727  0.052363       4        1  20.371918\n",
       "2      0.260436 -0.145532       5        1   9.092993, topic_info=              Term           Freq          Total Category  logprob  loglift\n",
       "2044         child  369750.000000  369750.000000  Default  30.0000  30.0000\n",
       "475       petition  417378.000000  417378.000000  Default  29.0000  29.0000\n",
       "4712    respondent  292471.000000  292471.000000  Default  28.0000  28.0000\n",
       "1039        policy  310606.000000  310606.000000  Default  27.0000  27.0000\n",
       "633           west  533294.000000  533294.000000  Default  26.0000  26.0000\n",
       "...            ...            ...            ...      ...      ...      ...\n",
       "1876         month   55336.248011  117371.165806   Topic5  -5.1186   1.6458\n",
       "979          death   53607.503448  128146.231348   Topic5  -5.1503   1.5262\n",
       "3113     terminate   39357.188603   66757.307980   Topic5  -5.4593   1.8693\n",
       "633           west   74230.483132  533294.956482   Topic5  -4.8248   0.4258\n",
       "2851  relationship   37837.469279  101521.423667   Topic5  -5.4987   1.4107\n",
       "\n",
       "[337 rows x 6 columns], token_table=      Topic      Freq      Term\n",
       "term                           \n",
       "559       1  0.268214     abuse\n",
       "559       2  0.608384     abuse\n",
       "559       4  0.123395     abuse\n",
       "2327      3  0.999996  accident\n",
       "950       1  0.909038   account\n",
       "...     ...       ...       ...\n",
       "633       4  0.623194      west\n",
       "633       5  0.139191      west\n",
       "876       1  0.185127      work\n",
       "876       3  0.745953      work\n",
       "876       4  0.068920      work\n",
       "\n",
       "[564 rows x 3 columns], R=30, lambda_step=0.01, plot_opts={'xlab': 'PC1', 'ylab': 'PC2'}, topic_order=[5, 4, 1, 2, 3])"
      ]
     },
     "execution_count": 32,
     "metadata": {},
     "output_type": "execute_result"
    }
   ],
   "source": [
    "pyLDAvis.enable_notebook()\n",
    "vis = pyLDAvis.gensim_models.prepare(best_model, corpus, id2word)\n",
    "vis"
   ]
  },
  {
   "cell_type": "markdown",
   "metadata": {},
   "source": [
    "## NOT FOR NOW Putting all together\n",
    "\n",
    "After presenting the methodology, we run different searches on each era to find the best number of topics, the result is a model for each era that achieved the bet coherence."
   ]
  },
  {
   "cell_type": "code",
   "execution_count": 10,
   "metadata": {},
   "outputs": [
    {
     "name": "stdout",
     "output_type": "stream",
     "text": [
      "Computing best model for 1760:\n",
      "\tBest one: {'topics': 3, 'coherence': 0.25392873406498645, 'log_perplexity': -6.232186053236062}\n",
      "\n",
      "Computing best model for 1800:\n",
      "\tBest one: {'topics': 8, 'coherence': 0.4543540793750551, 'log_perplexity': -5.912878694419498}\n",
      "\n",
      "Computing best model for 1820:\n",
      "\tBest one: {'topics': 4, 'coherence': 0.4705303380326476, 'log_perplexity': -7.041319240401877}\n",
      "\n",
      "Computing best model for 1840:\n",
      "\tBest one: {'topics': 9, 'coherence': 0.45529005521185073, 'log_perplexity': -7.43494822339074}\n",
      "\n",
      "Computing best model for 1860:\n",
      "\tBest one: {'topics': 10, 'coherence': 0.4872247842545204, 'log_perplexity': -7.608953204629182}\n",
      "\n",
      "Computing best model for 1880:\n",
      "\tBest one: {'topics': 11, 'coherence': 0.48345845693737205, 'log_perplexity': -7.809322282079611}\n",
      "\n",
      "Computing best model for 1900:\n"
     ]
    },
    {
     "ename": "KeyboardInterrupt",
     "evalue": "",
     "output_type": "error",
     "traceback": [
      "\u001b[0;31m---------------------------------------------------------------------------\u001b[0m",
      "\u001b[0;31mKeyboardInterrupt\u001b[0m                         Traceback (most recent call last)",
      "\u001b[0;32m<ipython-input-10-0e9cd71d8a4e>\u001b[0m in \u001b[0;36m<module>\u001b[0;34m\u001b[0m\n\u001b[1;32m     20\u001b[0m \u001b[0;34m\u001b[0m\u001b[0m\n\u001b[1;32m     21\u001b[0m     \u001b[0;31m# fitting models and picking the best one\u001b[0m\u001b[0;34m\u001b[0m\u001b[0;34m\u001b[0m\u001b[0;34m\u001b[0m\u001b[0m\n\u001b[0;32m---> 22\u001b[0;31m     \u001b[0mlda_models\u001b[0m\u001b[0;34m,\u001b[0m \u001b[0mstatistics\u001b[0m \u001b[0;34m=\u001b[0m \u001b[0mcompute_coherence_perplexity_values\u001b[0m\u001b[0;34m(\u001b[0m\u001b[0mcorpus\u001b[0m\u001b[0;34m,\u001b[0m \u001b[0mid2word\u001b[0m\u001b[0;34m,\u001b[0m \u001b[0mtexts\u001b[0m\u001b[0;34m,\u001b[0m \u001b[0mk\u001b[0m\u001b[0;34m,\u001b[0m \u001b[0mverbose\u001b[0m\u001b[0;34m=\u001b[0m\u001b[0;32mFalse\u001b[0m\u001b[0;34m)\u001b[0m\u001b[0;34m\u001b[0m\u001b[0;34m\u001b[0m\u001b[0m\n\u001b[0m\u001b[1;32m     23\u001b[0m     \u001b[0mbest\u001b[0m\u001b[0;34m,\u001b[0m \u001b[0mind\u001b[0m \u001b[0;34m=\u001b[0m \u001b[0mmax\u001b[0m\u001b[0;34m(\u001b[0m\u001b[0mzip\u001b[0m\u001b[0;34m(\u001b[0m\u001b[0mstatistics\u001b[0m\u001b[0;34m,\u001b[0m \u001b[0mrange\u001b[0m\u001b[0;34m(\u001b[0m\u001b[0mlen\u001b[0m\u001b[0;34m(\u001b[0m\u001b[0mstatistics\u001b[0m\u001b[0;34m)\u001b[0m\u001b[0;34m)\u001b[0m\u001b[0;34m)\u001b[0m\u001b[0;34m,\u001b[0m \u001b[0mkey\u001b[0m\u001b[0;34m=\u001b[0m\u001b[0;32mlambda\u001b[0m \u001b[0mx\u001b[0m\u001b[0;34m:\u001b[0m\u001b[0mx\u001b[0m\u001b[0;34m[\u001b[0m\u001b[0;36m0\u001b[0m\u001b[0;34m]\u001b[0m\u001b[0;34m[\u001b[0m\u001b[0;34m\"coherence\"\u001b[0m\u001b[0;34m]\u001b[0m\u001b[0;34m)\u001b[0m\u001b[0;34m\u001b[0m\u001b[0;34m\u001b[0m\u001b[0m\n\u001b[1;32m     24\u001b[0m     \u001b[0mprint\u001b[0m\u001b[0;34m(\u001b[0m\u001b[0;34mf\"\\tBest one: {best}\\n\"\u001b[0m\u001b[0;34m)\u001b[0m\u001b[0;34m\u001b[0m\u001b[0;34m\u001b[0m\u001b[0m\n",
      "\u001b[0;32m<ipython-input-5-fb77c2313ccd>\u001b[0m in \u001b[0;36mcompute_coherence_perplexity_values\u001b[0;34m(corpus, id2word, tokens, k, verbose)\u001b[0m\n\u001b[1;32m     21\u001b[0m         statistics.append({\"topics\" : topics, \n\u001b[1;32m     22\u001b[0m                           \u001b[0;34m\"coherence\"\u001b[0m \u001b[0;34m:\u001b[0m \u001b[0mcoherence_model\u001b[0m\u001b[0;34m.\u001b[0m\u001b[0mget_coherence\u001b[0m\u001b[0;34m(\u001b[0m\u001b[0;34m)\u001b[0m\u001b[0;34m,\u001b[0m\u001b[0;34m\u001b[0m\u001b[0;34m\u001b[0m\u001b[0m\n\u001b[0;32m---> 23\u001b[0;31m                           \"log_perplexity\" : lda_model.log_perplexity(corpus)})\n\u001b[0m\u001b[1;32m     24\u001b[0m \u001b[0;34m\u001b[0m\u001b[0m\n\u001b[1;32m     25\u001b[0m     \u001b[0;32mreturn\u001b[0m \u001b[0mlda_models\u001b[0m\u001b[0;34m,\u001b[0m \u001b[0mstatistics\u001b[0m\u001b[0;34m\u001b[0m\u001b[0;34m\u001b[0m\u001b[0m\n",
      "\u001b[0;32m~/.local/lib/python3.8/site-packages/gensim/models/ldamodel.py\u001b[0m in \u001b[0;36mlog_perplexity\u001b[0;34m(self, chunk, total_docs)\u001b[0m\n\u001b[1;32m    844\u001b[0m         \u001b[0mcorpus_words\u001b[0m \u001b[0;34m=\u001b[0m \u001b[0msum\u001b[0m\u001b[0;34m(\u001b[0m\u001b[0mcnt\u001b[0m \u001b[0;32mfor\u001b[0m \u001b[0mdocument\u001b[0m \u001b[0;32min\u001b[0m \u001b[0mchunk\u001b[0m \u001b[0;32mfor\u001b[0m \u001b[0m_\u001b[0m\u001b[0;34m,\u001b[0m \u001b[0mcnt\u001b[0m \u001b[0;32min\u001b[0m \u001b[0mdocument\u001b[0m\u001b[0;34m)\u001b[0m\u001b[0;34m\u001b[0m\u001b[0;34m\u001b[0m\u001b[0m\n\u001b[1;32m    845\u001b[0m         \u001b[0msubsample_ratio\u001b[0m \u001b[0;34m=\u001b[0m \u001b[0;36m1.0\u001b[0m \u001b[0;34m*\u001b[0m \u001b[0mtotal_docs\u001b[0m \u001b[0;34m/\u001b[0m \u001b[0mlen\u001b[0m\u001b[0;34m(\u001b[0m\u001b[0mchunk\u001b[0m\u001b[0;34m)\u001b[0m\u001b[0;34m\u001b[0m\u001b[0;34m\u001b[0m\u001b[0m\n\u001b[0;32m--> 846\u001b[0;31m         \u001b[0mperwordbound\u001b[0m \u001b[0;34m=\u001b[0m \u001b[0mself\u001b[0m\u001b[0;34m.\u001b[0m\u001b[0mbound\u001b[0m\u001b[0;34m(\u001b[0m\u001b[0mchunk\u001b[0m\u001b[0;34m,\u001b[0m \u001b[0msubsample_ratio\u001b[0m\u001b[0;34m=\u001b[0m\u001b[0msubsample_ratio\u001b[0m\u001b[0;34m)\u001b[0m \u001b[0;34m/\u001b[0m \u001b[0;34m(\u001b[0m\u001b[0msubsample_ratio\u001b[0m \u001b[0;34m*\u001b[0m \u001b[0mcorpus_words\u001b[0m\u001b[0;34m)\u001b[0m\u001b[0;34m\u001b[0m\u001b[0;34m\u001b[0m\u001b[0m\n\u001b[0m\u001b[1;32m    847\u001b[0m         logger.info(\n\u001b[1;32m    848\u001b[0m             \u001b[0;34m\"%.3f per-word bound, %.1f perplexity estimate based on a held-out corpus of %i documents with %i words\"\u001b[0m\u001b[0;34m,\u001b[0m\u001b[0;34m\u001b[0m\u001b[0;34m\u001b[0m\u001b[0m\n",
      "\u001b[0;32m~/.local/lib/python3.8/site-packages/gensim/models/ldamodel.py\u001b[0m in \u001b[0;36mbound\u001b[0;34m(self, corpus, gamma, subsample_ratio)\u001b[0m\n\u001b[1;32m   1123\u001b[0m             \u001b[0;31m# E[log p(theta | alpha) - log q(theta | gamma)]; assumes alpha is a vector\u001b[0m\u001b[0;34m\u001b[0m\u001b[0;34m\u001b[0m\u001b[0;34m\u001b[0m\u001b[0m\n\u001b[1;32m   1124\u001b[0m             \u001b[0mscore\u001b[0m \u001b[0;34m+=\u001b[0m \u001b[0mnp\u001b[0m\u001b[0;34m.\u001b[0m\u001b[0msum\u001b[0m\u001b[0;34m(\u001b[0m\u001b[0;34m(\u001b[0m\u001b[0mself\u001b[0m\u001b[0;34m.\u001b[0m\u001b[0malpha\u001b[0m \u001b[0;34m-\u001b[0m \u001b[0mgammad\u001b[0m\u001b[0;34m)\u001b[0m \u001b[0;34m*\u001b[0m \u001b[0mElogthetad\u001b[0m\u001b[0;34m)\u001b[0m\u001b[0;34m\u001b[0m\u001b[0;34m\u001b[0m\u001b[0m\n\u001b[0;32m-> 1125\u001b[0;31m             \u001b[0mscore\u001b[0m \u001b[0;34m+=\u001b[0m \u001b[0mnp\u001b[0m\u001b[0;34m.\u001b[0m\u001b[0msum\u001b[0m\u001b[0;34m(\u001b[0m\u001b[0mgammaln\u001b[0m\u001b[0;34m(\u001b[0m\u001b[0mgammad\u001b[0m\u001b[0;34m)\u001b[0m \u001b[0;34m-\u001b[0m \u001b[0mgammaln\u001b[0m\u001b[0;34m(\u001b[0m\u001b[0mself\u001b[0m\u001b[0;34m.\u001b[0m\u001b[0malpha\u001b[0m\u001b[0;34m)\u001b[0m\u001b[0;34m)\u001b[0m\u001b[0;34m\u001b[0m\u001b[0;34m\u001b[0m\u001b[0m\n\u001b[0m\u001b[1;32m   1126\u001b[0m             \u001b[0mscore\u001b[0m \u001b[0;34m+=\u001b[0m \u001b[0mgammaln\u001b[0m\u001b[0;34m(\u001b[0m\u001b[0mnp\u001b[0m\u001b[0;34m.\u001b[0m\u001b[0msum\u001b[0m\u001b[0;34m(\u001b[0m\u001b[0mself\u001b[0m\u001b[0;34m.\u001b[0m\u001b[0malpha\u001b[0m\u001b[0;34m)\u001b[0m\u001b[0;34m)\u001b[0m \u001b[0;34m-\u001b[0m \u001b[0mgammaln\u001b[0m\u001b[0;34m(\u001b[0m\u001b[0mnp\u001b[0m\u001b[0;34m.\u001b[0m\u001b[0msum\u001b[0m\u001b[0;34m(\u001b[0m\u001b[0mgammad\u001b[0m\u001b[0;34m)\u001b[0m\u001b[0;34m)\u001b[0m\u001b[0;34m\u001b[0m\u001b[0;34m\u001b[0m\u001b[0m\n\u001b[1;32m   1127\u001b[0m \u001b[0;34m\u001b[0m\u001b[0m\n",
      "\u001b[0;31mKeyboardInterrupt\u001b[0m: "
     ]
    }
   ],
   "source": [
    "tokens_dir = \"../data/processed/tokens\"\n",
    "models_dir = \"../data/models/lda\"\n",
    "epochs_files = [f\"{tokens_dir}/{f}\" for f in sorted(os.listdir(tokens_dir))]\n",
    "\n",
    "min_topics = 8\n",
    "max_topics = 13\n",
    "\n",
    "k = range(min_topics, max_topics+1)\n",
    "\n",
    "best_models = {}\n",
    "for epoch in epochs_files:\n",
    "    # extracting year name\n",
    "    name = int(epoch.split(\"/\")[-1].split(\".\")[0])\n",
    "    print(f\"Computing best model for {name}:\")\n",
    "    \n",
    "    # creating required structures\n",
    "    texts = json.load(open(epoch, \"r\"))\n",
    "    id2word = corpora.Dictionary(texts)\n",
    "    corpus = [id2word.doc2bow(text) for text in texts]\n",
    "    \n",
    "    # fitting models and picking the best one\n",
    "    lda_models, statistics = compute_coherence_perplexity_values(corpus, id2word, texts, k, verbose=False)\n",
    "    best, ind = max(zip(statistics, range(len(statistics))), key=lambda x:x[0][\"coherence\"])\n",
    "    print(f\"\\tBest one: {best}\\n\")\n",
    "    best_models[name] = lda_models[ind]\n",
    "    \n",
    "    # saving model to disk\n",
    "    os.makedirs(f\"{models_dir}/{name}\")\n",
    "    lda_models[ind].save(f\"{models_dir}/{name}/{name}_lda.model\")"
   ]
  }
 ],
 "metadata": {
  "interpreter": {
   "hash": "916dbcbb3f70747c44a77c7bcd40155683ae19c65e1c03b4aa3499c5328201f1"
  },
  "kernelspec": {
   "display_name": "Python 3.8.10 64-bit",
   "language": "python",
   "name": "python3"
  },
  "language_info": {
   "codemirror_mode": {
    "name": "ipython",
    "version": 3
   },
   "file_extension": ".py",
   "mimetype": "text/x-python",
   "name": "python",
   "nbconvert_exporter": "python",
   "pygments_lexer": "ipython3",
   "version": "3.8.10"
  },
  "orig_nbformat": 4
 },
 "nbformat": 4,
 "nbformat_minor": 2
}
