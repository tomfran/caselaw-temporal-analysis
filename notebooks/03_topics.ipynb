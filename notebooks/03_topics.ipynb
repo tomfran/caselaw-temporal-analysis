{
 "cells": [
  {
   "cell_type": "code",
   "execution_count": 1,
   "metadata": {},
   "outputs": [],
   "source": [
    "\n",
    "import sys\n",
    "sys.path.append(\"..\")\n",
    "\n",
    "from pprint import pprint\n",
    "\n",
    "from src.dataset import Dataset\n",
    "from src.tokenizers import BatchTokenizer\n",
    "from src.vectorizers import TokenTfidfVectorizer"
   ]
  },
  {
   "cell_type": "markdown",
   "metadata": {},
   "source": [
    "## Tokenized dataset structure"
   ]
  },
  {
   "cell_type": "code",
   "execution_count": 2,
   "metadata": {},
   "outputs": [],
   "source": [
    "dataset = Dataset(dataset_path=\"\", save_path=f\"../data/processed/tokenized_processed.json\")"
   ]
  },
  {
   "cell_type": "code",
   "execution_count": 3,
   "metadata": {},
   "outputs": [],
   "source": [
    "tokens = dataset.load_text_list(field_name=\"tokens\")"
   ]
  },
  {
   "cell_type": "code",
   "execution_count": 4,
   "metadata": {},
   "outputs": [
    {
     "data": {
      "text/plain": [
       "194366"
      ]
     },
     "execution_count": 4,
     "metadata": {},
     "output_type": "execute_result"
    }
   ],
   "source": [
    "len(tokens)"
   ]
  },
  {
   "cell_type": "code",
   "execution_count": 5,
   "metadata": {},
   "outputs": [
    {
     "name": "stdout",
     "output_type": "stream",
     "text": [
      "Vocabulary length: 455470\n"
     ]
    }
   ],
   "source": [
    "dv = TokenTfidfVectorizer(tokens)\n",
    "\n",
    "vectors = dv.vectors()\n",
    "dv.save_vectors_vectorizer(vectors)\n",
    "\n",
    "print(f\"Vocabulary length: {len(dv.vectorizer.vocabulary_)}\")"
   ]
  },
  {
   "cell_type": "markdown",
   "metadata": {},
   "source": [
    "## Vectors loading\n",
    "Loading of previusly computed vectors, to avoid recomputing"
   ]
  },
  {
   "cell_type": "code",
   "execution_count": 2,
   "metadata": {},
   "outputs": [],
   "source": [
    "vectors, vectorizer = TokenTfidfVectorizer.load_vectors_vectorizer()"
   ]
  },
  {
   "cell_type": "code",
   "execution_count": 17,
   "metadata": {},
   "outputs": [
    {
     "name": "stdout",
     "output_type": "stream",
     "text": [
      "  (0, 171854)\t0.003745546599245399\n",
      "  (0, 405193)\t0.006094904289785001\n",
      "  (0, 341052)\t0.002887695480398951\n",
      "  (0, 140588)\t0.004668087643522782\n",
      "  (0, 228020)\t0.005534351103523419\n",
      "  (0, 427753)\t0.016708471441402382\n",
      "  (0, 422845)\t0.007495801224529584\n",
      "  (0, 40398)\t0.002953579577237555\n",
      "  (0, 115811)\t0.004330224928786479\n",
      "  (0, 453402)\t0.005947678839562591\n",
      "  (0, 153632)\t0.0016219655767141946\n",
      "  (0, 309678)\t0.0027503315107465726\n",
      "  (0, 210824)\t0.003692154586898399\n",
      "  (0, 327569)\t0.0023134911667529426\n",
      "  (0, 343231)\t0.004746310832471113\n",
      "  (0, 347164)\t0.003888666982498602\n",
      "  (0, 166972)\t0.0032519170472958313\n",
      "  (0, 75146)\t0.005436647212049492\n",
      "  (0, 314311)\t0.004876964431544744\n",
      "  (0, 345976)\t0.003551657149572761\n",
      "  (0, 113884)\t0.00792762976712464\n",
      "  (0, 52525)\t0.0036229523025347234\n",
      "  (0, 297034)\t0.0039843249508319965\n",
      "  (0, 208991)\t0.0054002960365401925\n",
      "  (0, 157969)\t0.0025185277026218886\n",
      "  :\t:\n",
      "  (194365, 166036)\t0.025745899758368784\n",
      "  (194365, 403233)\t0.02644179540896834\n",
      "  (194365, 264002)\t0.02148327982279966\n",
      "  (194365, 181923)\t0.032803286180982015\n",
      "  (194365, 184189)\t0.032403326705998416\n",
      "  (194365, 61255)\t0.03180261212757641\n",
      "  (194365, 191128)\t0.028686402350585092\n",
      "  (194365, 382239)\t0.1293493825568048\n",
      "  (194365, 367072)\t0.04028206521698215\n",
      "  (194365, 226741)\t0.04147398494584882\n",
      "  (194365, 339791)\t0.02533715431982426\n",
      "  (194365, 334583)\t0.041287426409860696\n",
      "  (194365, 353954)\t0.02742235384589761\n",
      "  (194365, 444555)\t0.021363720829831286\n",
      "  (194365, 88101)\t0.01975283174906802\n",
      "  (194365, 162935)\t0.04668236770077976\n",
      "  (194365, 171322)\t0.0509071317410457\n",
      "  (194365, 294738)\t0.037740418277324994\n",
      "  (194365, 100245)\t0.08691620688077183\n",
      "  (194365, 331933)\t0.04001596118407725\n",
      "  (194365, 33865)\t0.027686066571758115\n",
      "  (194365, 277856)\t0.08859134305490038\n",
      "  (194365, 162539)\t0.07849494370795672\n",
      "  (194365, 207919)\t0.08142932330859441\n",
      "  (194365, 111542)\t0.06815852639941024\n"
     ]
    }
   ],
   "source": [
    "print(vectors)"
   ]
  }
 ],
 "metadata": {
  "interpreter": {
   "hash": "916dbcbb3f70747c44a77c7bcd40155683ae19c65e1c03b4aa3499c5328201f1"
  },
  "kernelspec": {
   "display_name": "Python 3",
   "language": "python",
   "name": "python3"
  },
  "language_info": {
   "codemirror_mode": {
    "name": "ipython",
    "version": 3
   },
   "file_extension": ".py",
   "mimetype": "text/x-python",
   "name": "python",
   "nbconvert_exporter": "python",
   "pygments_lexer": "ipython3",
   "version": "3.8.10"
  }
 },
 "nbformat": 4,
 "nbformat_minor": 2
}
