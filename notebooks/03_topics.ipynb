{
 "cells": [
  {
   "cell_type": "markdown",
   "metadata": {},
   "source": [
    "# Tokens cleaning and topic modelling"
   ]
  },
  {
   "cell_type": "code",
   "execution_count": 1,
   "metadata": {},
   "outputs": [],
   "source": [
    "\n",
    "import sys\n",
    "sys.path.append(\"..\")\n",
    "\n",
    "from pprint import pprint\n",
    "import numpy as np\n",
    "import matplotlib.pyplot as plt\n",
    "\n",
    "from src.dataset import Dataset\n",
    "from src.tokenizers import BatchTokenizer\n",
    "from src.vectorizers import TokenTfidfVectorizer"
   ]
  },
  {
   "cell_type": "markdown",
   "metadata": {},
   "source": [
    "## Tokens analysis and cleaning\n",
    "\n",
    "We start by loading the tokens and by plotting the distribution"
   ]
  },
  {
   "cell_type": "code",
   "execution_count": 3,
   "metadata": {},
   "outputs": [],
   "source": [
    "dataset = Dataset(dataset_path=\"\", save_path=f\"../data/processed/tokenized_processed.json\")\n",
    "tokens = dataset.load_text_list(field_name=\"tokens\")"
   ]
  },
  {
   "cell_type": "code",
   "execution_count": 21,
   "metadata": {},
   "outputs": [
    {
     "name": "stdout",
     "output_type": "stream",
     "text": [
      "Length stats:\n",
      "[('max', 27266),\n",
      " ('min', 0),\n",
      " ('mean', 897.4436938559213),\n",
      " ('std', 952.6769893631284)]\n"
     ]
    }
   ],
   "source": [
    "x = [len(x) for x in tokens]\n",
    "\n",
    "fun = [max, min, np.mean, np.std]\n",
    "\n",
    "print(\"Length stats:\")\n",
    "pprint([(f.__name__, f(x)) for f in fun])"
   ]
  },
  {
   "cell_type": "code",
   "execution_count": 22,
   "metadata": {},
   "outputs": [
    {
     "data": {
      "image/png": "[encoded data removed]",
      "text/plain": [
       "<Figure size 1080x360 with 2 Axes>"
      ]
     },
     "metadata": {
      "needs_background": "light"
     },
     "output_type": "display_data"
    }
   ],
   "source": [
    "fig, axs = plt.subplots(1,2, figsize=(15,5))\n",
    "axs[0].hist(x, bins=100)\n",
    "axs[1].hist(list(filter(lambda x:x<3000, x)), bins=100)\n",
    "axs[0].set(title= \"All documents\", xlabel=\"Lenght\", ylabel=\"N. of Documents\")\n",
    "axs[1].set(title= \"Len < 3000\", xlabel=\"Lenght\", ylabel=\"N. of Documents\")\n",
    "\n",
    "plt.xlabel(\"Length\")\n",
    "plt.ylabel(\"N. of documents\")\n",
    "plt.show()"
   ]
  },
  {
   "cell_type": "markdown",
   "metadata": {},
   "source": [
    "### Cleaning the tokens"
   ]
  },
  {
   "cell_type": "code",
   "execution_count": null,
   "metadata": {},
   "outputs": [],
   "source": [
    "# ..."
   ]
  },
  {
   "cell_type": "markdown",
   "metadata": {},
   "source": [
    "## Topic modelling\n",
    "\n",
    "### Vectorization"
   ]
  },
  {
   "cell_type": "code",
   "execution_count": 5,
   "metadata": {},
   "outputs": [
    {
     "name": "stdout",
     "output_type": "stream",
     "text": [
      "Vocabulary length: 455470\n"
     ]
    }
   ],
   "source": [
    "dv = TokenTfidfVectorizer(tokens)\n",
    "\n",
    "vectors = dv.vectors()\n",
    "dv.save_vectors_vectorizer(vectors)\n",
    "\n",
    "print(f\"Vocabulary length: {len(dv.vectorizer.vocabulary_)}\")"
   ]
  },
  {
   "cell_type": "markdown",
   "metadata": {},
   "source": [
    "### Vectors loading\n",
    "Loading of previusly computed vectors, to avoid recomputing"
   ]
  },
  {
   "cell_type": "code",
   "execution_count": 2,
   "metadata": {},
   "outputs": [],
   "source": [
    "vectors, vectorizer = TokenTfidfVectorizer.load_vectors_vectorizer()"
   ]
  },
  {
   "cell_type": "markdown",
   "metadata": {},
   "source": [
    "## Guided LDA model definition\n",
    "\n",
    "We start by setting the priors, then fit the model."
   ]
  },
  {
   "cell_type": "code",
   "execution_count": 79,
   "metadata": {},
   "outputs": [],
   "source": [
    "# ..."
   ]
  }
 ],
 "metadata": {
  "interpreter": {
   "hash": "916dbcbb3f70747c44a77c7bcd40155683ae19c65e1c03b4aa3499c5328201f1"
  },
  "kernelspec": {
   "display_name": "Python 3",
   "language": "python",
   "name": "python3"
  },
  "language_info": {
   "codemirror_mode": {
    "name": "ipython",
    "version": 3
   },
   "file_extension": ".py",
   "mimetype": "text/x-python",
   "name": "python",
   "nbconvert_exporter": "python",
   "pygments_lexer": "ipython3",
   "version": "3.8.10"
  }
 },
 "nbformat": 4,
 "nbformat_minor": 2
}
