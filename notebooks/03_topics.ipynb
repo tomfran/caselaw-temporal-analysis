{
 "cells": [
  {
   "cell_type": "markdown",
   "metadata": {},
   "source": [
    "# Tokens cleaning and topic modelling"
   ]
  },
  {
   "cell_type": "code",
   "execution_count": 1,
   "metadata": {},
   "outputs": [],
   "source": [
    "\n",
    "import sys\n",
    "sys.path.append(\"..\")\n",
    "\n",
    "from pprint import pprint\n",
    "import numpy as np\n",
    "import matplotlib.pyplot as plt\n",
    "from collections import defaultdict\n",
    "\n",
    "from src.dataset import Dataset\n",
    "from src.tokenizers import BatchTokenizer\n",
    "from src.vectorizers import TokenTfidfVectorizer"
   ]
  },
  {
   "cell_type": "markdown",
   "metadata": {},
   "source": [
    "## Tokens analysis and cleaning\n",
    "\n",
    "We start by loading the tokens and by plotting the document length."
   ]
  },
  {
   "cell_type": "code",
   "execution_count": 2,
   "metadata": {},
   "outputs": [],
   "source": [
    "dataset = Dataset(dataset_path=\"\", save_path=f\"../data/processed/tokenized_processed.json\")\n",
    "tokens = dataset.load_text_list(field_name=\"tokens\", size=-1)"
   ]
  },
  {
   "cell_type": "code",
   "execution_count": 69,
   "metadata": {},
   "outputs": [
    {
     "name": "stdout",
     "output_type": "stream",
     "text": [
      "Length stats:\n",
      "[('max', 27266),\n",
      " ('min', 0),\n",
      " ('mean', 897.4436938559213),\n",
      " ('std', 952.6769893631284)]\n"
     ]
    }
   ],
   "source": [
    "x = [len(x) for x in tokens]\n",
    "\n",
    "fun = [max, min, np.mean, np.std]\n",
    "\n",
    "print(\"Length stats:\")\n",
    "pprint([(f.__name__, f(x)) for f in fun])"
   ]
  },
  {
   "cell_type": "code",
   "execution_count": 4,
   "metadata": {},
   "outputs": [
    {
     "data": {
      "image/png": "[encoded data removed]",
      "text/plain": [
       "<Figure size 1080x360 with 2 Axes>"
      ]
     },
     "metadata": {
      "needs_background": "light"
     },
     "output_type": "display_data"
    }
   ],
   "source": [
    "fig, axs = plt.subplots(1,2, figsize=(15,5))\n",
    "axs[0].hist(x, bins=100)\n",
    "axs[1].hist(list(filter(lambda x:x<3000, x)), bins=100)\n",
    "axs[0].set(title= \"All documents\", \n",
    "           xlabel=\"Lenght\", ylabel=\"N. of Documents\")\n",
    "axs[1].set(title= \"Len < 3000\", \n",
    "           xlabel=\"Lenght\", ylabel=\"N. of Documents\")\n",
    "\n",
    "plt.xlabel(\"Length\")\n",
    "plt.ylabel(\"N. of documents\")\n",
    "plt.show()"
   ]
  },
  {
   "cell_type": "markdown",
   "metadata": {},
   "source": [
    "Apart from some excessively long documents, most of the documents are in the 0-5000 length range. The longest one may requires some investigation."
   ]
  },
  {
   "cell_type": "code",
   "execution_count": 71,
   "metadata": {},
   "outputs": [
    {
     "name": "stdout",
     "output_type": "stream",
     "text": [
      "Index of longest document: 193868\n"
     ]
    }
   ],
   "source": [
    "print(f\"Index of longest document: {np.argmax(x)}\")"
   ]
  },
  {
   "cell_type": "markdown",
   "metadata": {},
   "source": [
    "### Zipf curve\n",
    "\n",
    "We start by computing the document frequency for each token, we can clearly see some tokens are heavily used, mean and max are really distant."
   ]
  },
  {
   "cell_type": "code",
   "execution_count": 105,
   "metadata": {},
   "outputs": [],
   "source": [
    "freqs = defaultdict(lambda:0)\n",
    "\n",
    "for doc in tokens:\n",
    "    for t in set(doc):\n",
    "        freqs[t] += 1\n",
    "\n",
    "f = list(freqs.values())"
   ]
  },
  {
   "cell_type": "code",
   "execution_count": 106,
   "metadata": {},
   "outputs": [
    {
     "name": "stdout",
     "output_type": "stream",
     "text": [
      "Terms frequency stats:\n",
      "[('max', 180590),\n",
      " ('min', 1),\n",
      " ('mean', 138.16451797044812),\n",
      " ('std', 2286.117048500945)]\n"
     ]
    }
   ],
   "source": [
    "print(\"Terms frequency stats:\")\n",
    "pprint([(g.__name__, g(f)) for g in fun])"
   ]
  },
  {
   "cell_type": "markdown",
   "metadata": {},
   "source": [
    "We now consider terms that appear in at least the 1 percent of documents. "
   ]
  },
  {
   "cell_type": "code",
   "execution_count": 115,
   "metadata": {},
   "outputs": [
    {
     "name": "stdout",
     "output_type": "stream",
     "text": [
      "Filtered terms frequency stats:\n",
      "[('max', 180590),\n",
      " ('min', 1944),\n",
      " ('mean', 14031.021150374001),\n",
      " ('std', 20444.439152469593)]\n"
     ]
    }
   ],
   "source": [
    "s_f = list(filter(lambda x : x >= len(tokens)*0.01, f))\n",
    "print(\"Filtered terms frequency stats:\")\n",
    "pprint([(g.__name__, g(s_f)) for g in fun])"
   ]
  },
  {
   "cell_type": "code",
   "execution_count": 129,
   "metadata": {},
   "outputs": [
    {
     "name": "stdout",
     "output_type": "stream",
     "text": [
      "The most common term appears in the 0.93% of documents.\n",
      "There are 454690 terms that appear in less than 1% of documents (19436).\n"
     ]
    }
   ],
   "source": [
    "print(f\"The most common term appears in the {round(max(s_f)/len(tokens), 2)}% of documents.\")\n",
    "print(f\"There are {len(list(filter(lambda x : x<=0.1*len(tokens), f)))} terms that appear in less than 1% of documents ({int(0.1*len(tokens))}).\")"
   ]
  },
  {
   "cell_type": "code",
   "execution_count": 131,
   "metadata": {},
   "outputs": [
    {
     "data": {
      "image/png": "[encoded data removed]",
      "text/plain": [
       "<Figure size 1080x360 with 2 Axes>"
      ]
     },
     "metadata": {
      "needs_background": "light"
     },
     "output_type": "display_data"
    }
   ],
   "source": [
    "fig, axs = plt.subplots(1,2, figsize=(15,5))\n",
    "axs[0].hist(f, bins=50)\n",
    "axs[1].hist(s_f, bins=50)\n",
    "axs[0].set(title= \"All tokens\", \n",
    "           xlabel=\"Frequency\", ylabel=\"N. of tokens\")\n",
    "axs[1].set(title= \"Tokens in at least 1% of docs\", \n",
    "           xlabel=\"Frequency\", ylabel=\"N. of tokens\")\n",
    "\n",
    "plt.show()"
   ]
  },
  {
   "cell_type": "markdown",
   "metadata": {},
   "source": [
    "## Topic modelling\n",
    "\n",
    "### Vectorization"
   ]
  },
  {
   "cell_type": "code",
   "execution_count": 5,
   "metadata": {},
   "outputs": [
    {
     "name": "stdout",
     "output_type": "stream",
     "text": [
      "Vocabulary length: 455470\n"
     ]
    }
   ],
   "source": [
    "dv = TokenTfidfVectorizer(tokens)\n",
    "\n",
    "vectors = dv.vectors()\n",
    "dv.save_vectors_vectorizer(vectors)\n",
    "\n",
    "print(f\"Vocabulary length: {len(dv.vectorizer.vocabulary_)}\")"
   ]
  },
  {
   "cell_type": "markdown",
   "metadata": {},
   "source": [
    "### Vectors loading\n",
    "Loading of previusly computed vectors, to avoid recomputing"
   ]
  },
  {
   "cell_type": "code",
   "execution_count": 2,
   "metadata": {},
   "outputs": [],
   "source": [
    "vectors, vectorizer = TokenTfidfVectorizer.load_vectors_vectorizer()"
   ]
  },
  {
   "cell_type": "markdown",
   "metadata": {},
   "source": [
    "## Guided LDA model definition\n",
    "\n",
    "We start by setting the priors, then fit the model."
   ]
  },
  {
   "cell_type": "code",
   "execution_count": 79,
   "metadata": {},
   "outputs": [],
   "source": [
    "# ..."
   ]
  }
 ],
 "metadata": {
  "interpreter": {
   "hash": "916dbcbb3f70747c44a77c7bcd40155683ae19c65e1c03b4aa3499c5328201f1"
  },
  "kernelspec": {
   "display_name": "Python 3",
   "language": "python",
   "name": "python3"
  },
  "language_info": {
   "codemirror_mode": {
    "name": "ipython",
    "version": 3
   },
   "file_extension": ".py",
   "mimetype": "text/x-python",
   "name": "python",
   "nbconvert_exporter": "python",
   "pygments_lexer": "ipython3",
   "version": "3.8.10"
  }
 },
 "nbformat": 4,
 "nbformat_minor": 2
}
