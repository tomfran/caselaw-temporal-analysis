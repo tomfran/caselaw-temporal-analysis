{
 "cells": [
  {
   "cell_type": "markdown",
   "metadata": {},
   "source": [
    "As discussed in the previous notebook, we now align the models to find semantic shifts.\n",
    "\n",
    "The models are aligned pairwise and the shift is detected comparing cosine similarities between adjacent years."
   ]
  },
  {
   "cell_type": "code",
   "execution_count": 1,
   "metadata": {},
   "outputs": [],
   "source": [
    "import sys\n",
    "sys.path.append(\"..\")\n",
    "\n",
    "import numpy as np\n",
    "from pprint import pprint\n",
    "from gensim.models import Word2Vec, KeyedVectors\n",
    "\n",
    "from src.seeds import Seeds\n",
    "from src.gensim_word2vec_procrustes_align import smart_procrustes_align_gensim"
   ]
  },
  {
   "cell_type": "code",
   "execution_count": 2,
   "metadata": {},
   "outputs": [],
   "source": [
    "def print_similar(word, models, n=5):\n",
    "    print(word)\n",
    "    for y, m in models.items():\n",
    "        try:\n",
    "            print(f\"\\t{y}: {[e[0] for e in m.wv.most_similar(word, topn=n)]}\")\n",
    "        except:\n",
    "            pass\n",
    "        \n",
    "def cos_sim(a, b):\n",
    "    dot_product = np.dot(a, b) # x.y\n",
    "    norm_a = np.linalg.norm(a) #|x|\n",
    "    norm_b = np.linalg.norm(b) #|y|\n",
    "    return dot_product / (norm_a * norm_b)\n",
    "\n",
    "def get_similarity(m1, m2, word):\n",
    "    try:\n",
    "        return cos_sim(m1.wv[word], m2.wv[word])\n",
    "    except:\n",
    "        return -1\n",
    "    \n",
    "def get_similarity_sequence(models, couple_lists, word):\n",
    "    return [get_similarity(models[s], models[e], word) for s, e in couple_lists]\n",
    "\n",
    "def find_semantic_shift(models, couple_list, word, alpha=.9, threshold=.7):\n",
    "    \n",
    "    els = list(zip(couple_list, get_similarity_sequence(models, couple_list, word)))\n",
    "    els = [e for e in els if e[1]>0]\n",
    "    if not els:\n",
    "        return []\n",
    "    if len(els) == 1 and els[0][1] < threshold:\n",
    "        return els\n",
    "    \n",
    "    m = np.mean([e[1] for e in els if e[1]>0])\n",
    "    return [e for e in els if e[1] < alpha*m and e[1] != -1]\n",
    "    # return [e for e in els if e[1] < 0.7 and e[1] != -1]\n",
    "\n",
    "\n",
    "def print_shift(semantic_shifts):\n",
    "    if not semantic_shifts:\n",
    "        print(\"No semantic shifts found.\")\n",
    "    else:\n",
    "        s = \"Semantic shifts found:\\n\\t\"\n",
    "        s += \"\\n\\t\".join([f\"{e[0][0]} - {e[0][1]}: cos_sim {round(e[1], 2)}\" \n",
    "                            for e in semantic_shifts])\n",
    "        print(s)"
   ]
  },
  {
   "cell_type": "markdown",
   "metadata": {},
   "source": [
    "### Aligning the models"
   ]
  },
  {
   "cell_type": "code",
   "execution_count": 3,
   "metadata": {},
   "outputs": [],
   "source": [
    "directory = \"../data/models/time_vectors\"\n",
    "models = {int(model_name.split(\"/\")[-1][:4]) : Word2Vec.load(model_name) \n",
    "          for model_name in [f\"{directory}/{el}\" for el in sorted(os.listdir(directory))]}"
   ]
  },
  {
   "cell_type": "code",
   "execution_count": 4,
   "metadata": {},
   "outputs": [
    {
     "name": "stdout",
     "output_type": "stream",
     "text": [
      "[(2010, 2005), (2005, 2000), (2000, 1995)] ...\n"
     ]
    }
   ],
   "source": [
    "years = sorted(list(models.keys()), reverse=True)\n",
    "couple_list = list(zip(years, years[1:]))\n",
    "print(couple_list[:3], \"...\")"
   ]
  },
  {
   "cell_type": "code",
   "execution_count": 5,
   "metadata": {},
   "outputs": [],
   "source": [
    "for base, other in couple_list:\n",
    "    smart_procrustes_align_gensim(models[base], models[other])"
   ]
  },
  {
   "cell_type": "markdown",
   "metadata": {},
   "source": [
    "### Detecting semantic shifts"
   ]
  },
  {
   "cell_type": "markdown",
   "metadata": {},
   "source": [
    "The function detected two semantic shifts, the first one is plausible, while the second might require some tuning."
   ]
  },
  {
   "cell_type": "code",
   "execution_count": 16,
   "metadata": {},
   "outputs": [
    {
     "name": "stdout",
     "output_type": "stream",
     "text": [
      "[0.8691654, 0.90565354, 0.89996094, 0.8732419, 0.8876986, 0.8930776, 0.8834063, 0.8867987, 0.85011154, 0.85648865, 0.92155033, 0.9331214, 0.9254542, 0.8913033, 0.9035417, 0.88802475, 0.89950114, 0.9326969, 0.8689469, 0.6593746, 0.68954474, 0.769387, 0.5876891, 0.76707613, -1, -1, -1, -1, -1, -1, -1, -1, -1, -1, -1, -1]\n",
      "Semantic shifts found:\n",
      "\t1915 - 1910: cos_sim 0.6600000262260437\n",
      "\t1910 - 1905: cos_sim 0.6899999976158142\n",
      "\t1900 - 1875: cos_sim 0.5899999737739563\n",
      "gun\n",
      "\t1870: ['fracture', 'pair', 'clean', 'fight', 'left', 'bone', 'game', 'packing', 'hood', 'play']\n",
      "\t1875: ['appliance', 'scheme', 'tea', 'pistol', 'combination', 'fist', 'heart', 'mechanical', 'switching', 'shoulder']\n",
      "\t1900: ['pistol', 'knife', 'hook', 'accidentally', 'revolver', 'neck', 'punch', 'shoot', 'pin', 'shot']\n",
      "\t1905: ['shoot', 'shake', 'dress', 'spark', 'firing', 'lunch', 'glove', 'scream', 'ignite', 'cry']\n",
      "\t1910: ['pistol', 'cartridge', 'firing', 'knife', 'revolver', 'flame', 'powder', 'toy', 'ignite', 'explode']\n",
      "\t1915: ['revolver', 'pistol', 'grab', 'scuffle', 'shoot', 'ball', 'pick', 'corcoran', 'pocket', 'hit']\n",
      "\t1920: ['revolver', 'pistol', 'robber', 'knife', 'pocket', 'caliber', 'burglar', 'stick', 'chair', 'coat']\n",
      "\t1925: ['revolver', 'pistol', 'knife', 'coat', 'robber', 'struggle', 'shell', 'stick', 'grab', 'shirt']\n",
      "\t1930: ['revolver', 'pistol', 'robber', 'pocket', 'shoot', 'caliber', 'shooting', 'cartridge', 'stick', 'beat']\n",
      "\t1935: ['revolver', 'pistol', 'robber', 'stick', 'pocket', 'grab', 'shoot', 'shotgun', 'beat', 'bullet']\n",
      "\t1940: ['revolver', 'pistol', 'knife', 'robber', 'shoot', 'pocket', 'bullet', 'purse', 'flashlight', 'kick']\n",
      "\t1945: ['revolver', 'pistol', 'knife', 'shotgun', 'watch', 'beat', 'assailant', 'purse', 'robber', 'pocket']\n",
      "\t1950: ['pistol', 'revolver', 'purse', 'knife', 'bullet', 'shirt', 'bedroom', 'shoot', 'rifle', 'lock']\n",
      "\t1955: ['pocket', 'revolver', 'knife', 'wallet', 'pistol', 'coat', 'shoot', 'glove', 'flashlight', 'assailant']\n",
      "\t1960: ['knife', 'pistol', 'revolver', 'purse', 'robber', 'shoot', 'struggle', 'closet', 'clothing', 'wallet']\n",
      "\t1965: ['revolver', 'knife', 'pistol', 'shotgun', 'rifle', 'purse', 'weapon', 'wallet', 'saw', 'shoot']\n",
      "\t1970: ['pistol', 'shotgun', 'rifle', 'knife', 'revolver', 'shoot', 'saw', 'purse', 'weapon', 'razor']\n",
      "\t1975: ['pistol', 'shotgun', 'handgun', 'revolver', 'knife', 'rifle', 'weapon', 'holster', 'cane', 'stick']\n",
      "\t1980: ['pistol', 'shotgun', 'rifle', 'knife', 'handgun', 'revolver', 'saw', 'weapon', 'ammunition', 'shooter']\n",
      "\t1985: ['pistol', 'rifle', 'revolver', 'shotgun', 'handgun', 'knife', 'caliber', 'saw', 'weapon', 'holster']\n",
      "\t1990: ['pistol', 'handgun', 'shotgun', 'rifle', 'revolver', 'knife', 'caliber', 'weapon', 'loaded', 'waistband']\n",
      "\t1995: ['pistol', 'handgun', 'rifle', 'knife', 'revolver', 'shotgun', 'weapon', 'caliber', 'millimeter', 'loaded']\n",
      "\t2000: ['handgun', 'shotgun', 'pistol', 'revolver', 'knife', 'caliber', 'weapon', 'rifle', 'waistband', 'millimeter']\n",
      "\t2005: ['handgun', 'shotgun', 'revolver', 'pistol', 'rifle', 'knife', 'loaded', 'caliber', 'weapon', 'waistband']\n",
      "\t2010: ['revolver', 'handgun', 'caliber', 'knife', 'pocket', 'pistol', 'rifle', 'holster', 'waistband', 'weapon']\n"
     ]
    }
   ],
   "source": [
    "word = \"gun\"\n",
    "print(get_similarity_sequence(models, couple_list, word))\n",
    "print_shift(find_semantic_shift(models, couple_list, word))\n",
    "print_similar(word, models, 10)"
   ]
  },
  {
   "cell_type": "markdown",
   "metadata": {},
   "source": [
    "Another example"
   ]
  },
  {
   "cell_type": "code",
   "execution_count": 17,
   "metadata": {},
   "outputs": [
    {
     "name": "stdout",
     "output_type": "stream",
     "text": [
      "[0.33504492, 0.47475046, 0.7654252, 0.80400616, 0.80024385, 0.7773294, 0.81307054, 0.68021977, -1, -1, -1, -1, -1, -1, -1, -1, -1, -1, -1, -1, -1, -1, -1, -1, -1, -1, -1, -1, -1, -1, -1, -1, -1, -1, -1, -1]\n",
      "Semantic shifts found:\n",
      "\t2010 - 2005: cos_sim 0.3400000035762787\n",
      "\t2005 - 2000: cos_sim 0.4699999988079071\n",
      "homosexual\n",
      "\t1970: ['unprovoked', 'paramour', 'prostitute', 'violent', 'delusion', 'panic', 'fellatio', 'stabbing', 'fondle', 'emotionally']\n",
      "\t1975: ['immoral', 'sexual', 'unprovoked', 'threat', 'insult', 'aggressive', 'intimidate', 'revenge', 'lewd', 'woman']\n",
      "\t1980: ['prostitute', 'sexual', 'fondle', 'anal', 'belligerent', 'hysterical', 'sex', 'lewd', 'lure', 'threatening']\n",
      "\t1985: ['prostitute', 'fondle', 'aggressive', 'threatening', 'acquaintance', 'echols', 'killer', 'aggression', 'victim', 'abusive']\n",
      "\t1990: ['anger', 'hate', 'girl', 'tommy', 'aggressive', 'boyfriend', 'jealous', 'abusive', 'friendly', 'boy']\n",
      "\t1995: ['abusive', 'jealous', 'teenage', 'prostitute', 'molest', 'female', 'woman', 'incest', 'aggressive', 'deviant']\n",
      "\t2000: ['boy', 'girl', 'dream', 'woman', 'mexican', 'scout', 'abusive', 'boyfriend', 'angry', 'frightened']\n",
      "\t2005: ['teenager', 'familial', 'adolescent', 'victim', 'leader', 'gender', 'carter', 'kenya', 'romantic', 'softball']\n",
      "\t2010: ['blagg', 'lori', 'terrence', 'afraid', 'calm', 'topeka', 'reardon', 'tired', 'auguste', 'eddlemon']\n"
     ]
    }
   ],
   "source": [
    "word = \"homosexual\"\n",
    "print(get_similarity_sequence(models, couple_list, word))\n",
    "print_shift(find_semantic_shift(models, couple_list, word))\n",
    "print_similar(word, models, 10)"
   ]
  },
  {
   "cell_type": "code",
   "execution_count": 18,
   "metadata": {},
   "outputs": [
    {
     "name": "stdout",
     "output_type": "stream",
     "text": [
      "[0.7422146, 0.7420629, 0.74819547, 0.81739616, 0.7563726, 0.716122, 0.83076614, 0.84968543, 0.8456069, 0.87560034, 0.9014175, 0.9030931, 0.9061008, 0.92596436, 0.9177247, 0.938816, 0.9139613, 0.9191841, 0.88082516, 0.8682343, 0.89535046, 0.89584684, 0.78498065, 0.89838916, 0.89973617, 0.65147275, 0.9195534, 0.90651715, 0.9667838, 0.83998644, -1, -1, -1, -1, -1, -1]\n",
      "Semantic shifts found:\n",
      "\t2010 - 2005: cos_sim 0.7400000095367432\n",
      "\t2005 - 2000: cos_sim 0.7400000095367432\n",
      "\t2000 - 1995: cos_sim 0.75\n",
      "\t1990 - 1985: cos_sim 0.7599999904632568\n",
      "\t1985 - 1980: cos_sim 0.7200000286102295\n",
      "\t1865 - 1860: cos_sim 0.6499999761581421\n",
      "assault\n",
      "\t1840: ['accuse', 'conviction', 'evidently', 'altogether', 'nevertheless', 'sufficiently', 'precisely', 'side', 'country', 'uncertainty']\n",
      "\t1845: ['detain', 'absent', 'formally', 'regularly', 'home', 'imprisonment', 'following', 'mayor', 'affiant', 'finally']\n",
      "\t1850: ['indict', 'imprisonment', 'threaten', 'battery', 'abundantly', 'corpus', 'ad', 'murder', 'blow', 'convict']\n",
      "\t1855: ['battery', 'stage', 'felony', 'beat', 'negligently', 'whistle', 'murder', 'identical', 'fellow', 'malicious']\n",
      "\t1860: ['indict', 'weapon', 'rejection', 'start', 'murder', 'throw', 'pure', 'cumulative', 'unknown', 'grossly']\n",
      "\t1865: ['battery', 'murder', 'indict', 'malicious', 'homicide', 'maliciously', 'commit', 'crime', 'prisoner', 'convict']\n",
      "\t1870: ['battery', 'malicious', 'murder', 'manslaughter', 'crime', 'commit', 'convict', 'maliciously', 'wilful', 'wilfully']\n",
      "\t1875: ['battery', 'malicious', 'perjury', 'maliciously', 'crime', 'beat', 'commit', 'guilty', 'wilfully', 'indict']\n",
      "\t1900: ['murder', 'homicide', 'killing', 'wilfully', 'assailant', 'robbery', 'rape', 'intentionally', 'maliciously', 'willfully']\n",
      "\t1905: ['robbery', 'killing', 'beat', 'maliciously', 'accuse', 'malicious', 'murder', 'burglary', 'rape', 'crime']\n",
      "\t1910: ['murder', 'robbery', 'killing', 'battery', 'rape', 'weapon', 'deadly', 'felony', 'accuse', 'maliciously']\n",
      "\t1915: ['killing', 'murder', 'robbery', 'threat', 'battery', 'homicide', 'deliberately', 'burglary', 'kill', 'suicide']\n",
      "\t1920: ['murder', 'killing', 'kill', 'homicide', 'robbery', 'manslaughter', 'suicide', 'weapon', 'rape', 'burglary']\n",
      "\t1925: ['murder', 'rape', 'killing', 'homicide', 'assailant', 'weapon', 'deadly', 'kill', 'suspect', 'provocation']\n",
      "\t1930: ['killing', 'murder', 'battery', 'burglary', 'rape', 'kill', 'weapon', 'deadly', 'felonious', 'malicious']\n",
      "\t1935: ['deadly', 'weapon', 'rape', 'murder', 'manslaughter', 'sexual', 'killing', 'habitual', 'perpetrator', 'burglary']\n",
      "\t1940: ['killing', 'rape', 'robbery', 'assailant', 'homicide', 'murder', 'perjury', 'sexual', 'kill', 'wantonly']\n",
      "\t1945: ['killing', 'homicide', 'felonious', 'murder', 'rape', 'kill', 'victim', 'weapon', 'battery', 'threat']\n",
      "\t1950: ['battery', 'homicide', 'robbery', 'kill', 'unprovoked', 'weapon', 'killing', 'victim', 'threat', 'wantonly']\n",
      "\t1955: ['homicide', 'kill', 'murder', 'deadly', 'victim', 'rape', 'weapon', 'killing', 'unprovoked', 'provocation']\n",
      "\t1960: ['murder', 'rape', 'homicide', 'battery', 'victim', 'kill', 'deadly', 'killing', 'weapon', 'felonious']\n",
      "\t1965: ['homicide', 'beating', 'battery', 'aggravated', 'violent', 'rape', 'murder', 'arson', 'incest', 'violence']\n",
      "\t1970: ['aggravated', 'kidnapping', 'incest', 'kidnaping', 'violent', 'rape', 'battery', 'aggravate', 'kidnap', 'deviate']\n",
      "\t1975: ['kidnapping', 'aggravated', 'kidnap', 'incest', 'kidnaping', 'rape', 'battery', 'deviate', 'intimidation', 'violence']\n",
      "\t1980: ['aggravated', 'kidnaping', 'rape', 'kidnap', 'kidnapping', 'incest', 'deviate', 'battery', 'intimidation', 'sexual']\n",
      "\t1985: ['molestation', 'kidnapping', 'gratification', 'penetration', 'rape', 'kidnap', 'incest', 'kidnaping', 'intercourse', 'harassment']\n",
      "\t1990: ['molestation', 'penetration', 'gratification', 'abuse', 'arousal', 'rape', 'molest', 'kidnapping', 'harassment', 'touching']\n",
      "\t1995: ['intercourse', 'penetration', 'gratification', 'harassment', 'molestation', 'arousal', 'kidnap', 'touching', 'kidnapping', 'rape']\n",
      "\t2000: ['intercourse', 'molestation', 'gratification', 'penetration', 'arousal', 'molester', 'harassment', 'exploitation', 'molest', 'preoccupation']\n",
      "\t2005: ['molestation', 'intercourse', 'rape', 'gratification', 'penetration', 'arousal', 'exploitation', 'predatory', 'abuse', 'harassment']\n",
      "\t2010: ['intercourse', 'penetration', 'gratification', 'deviant', 'predatory', 'rape', 'battery', 'kidnap', 'kidnapping', 'violence']\n"
     ]
    }
   ],
   "source": [
    "word = \"assault\"\n",
    "print(get_similarity_sequence(models, couple_list, word))\n",
    "print_shift(find_semantic_shift(models, couple_list, word))\n",
    "print_similar(word, models, 10)"
   ]
  },
  {
   "cell_type": "markdown",
   "metadata": {},
   "source": [
    "### Interesting words shifts\n",
    "For each word of interest find semantic shifts. "
   ]
  },
  {
   "cell_type": "code",
   "execution_count": 19,
   "metadata": {},
   "outputs": [],
   "source": [
    "narcotics, weapons, investigation = Seeds().get_starting_seeds()"
   ]
  },
  {
   "cell_type": "code",
   "execution_count": 20,
   "metadata": {},
   "outputs": [
    {
     "name": "stdout",
     "output_type": "stream",
     "text": [
      "blunt\n",
      "Semantic shifts found:\n",
      "\t1975 - 1970: cos_sim 0.6700000166893005\n",
      "\t1970 - 1965: cos_sim 0.699999988079071\n",
      "\n",
      "methamphetamine\n",
      "Semantic shifts found:\n",
      "\t2000 - 1995: cos_sim 0.44999998807907104\n",
      "\n",
      "overdose\n",
      "Semantic shifts found:\n",
      "\t2010 - 2005: cos_sim 0.44999998807907104\n",
      "\n",
      "ketamine\n",
      "No semantic shifts found.\n",
      "\n",
      "marijuana\n",
      "Semantic shifts found:\n",
      "\t2010 - 2005: cos_sim 0.7599999904632568\n",
      "\n",
      "fentanyl\n",
      "No semantic shifts found.\n",
      "\n",
      "drugs\n",
      "No semantic shifts found.\n",
      "\n",
      "ecstasy\n",
      "No semantic shifts found.\n",
      "\n",
      "cannabis\n",
      "Semantic shifts found:\n",
      "\t1970 - 1965: cos_sim 0.5099999904632568\n",
      "\t1965 - 1960: cos_sim 0.699999988079071\n",
      "\n",
      "lsd\n",
      "No semantic shifts found.\n",
      "\n",
      "heroin\n",
      "No semantic shifts found.\n",
      "\n",
      "cocaine\n",
      "Semantic shifts found:\n",
      "\t2010 - 2005: cos_sim 0.7599999904632568\n",
      "\t1975 - 1970: cos_sim 0.7300000190734863\n",
      "\n",
      "drug\n",
      "Semantic shifts found:\n",
      "\t1950 - 1945: cos_sim 0.5400000214576721\n",
      "\t1875 - 1870: cos_sim 0.6600000262260437\n",
      "\n"
     ]
    }
   ],
   "source": [
    "for word in narcotics:\n",
    "    print(word)\n",
    "    print_shift(find_semantic_shift(models, couple_list, word))\n",
    "    print()"
   ]
  },
  {
   "cell_type": "code",
   "execution_count": 21,
   "metadata": {},
   "outputs": [
    {
     "name": "stdout",
     "output_type": "stream",
     "text": [
      "gun\n",
      "Semantic shifts found:\n",
      "\t1915 - 1910: cos_sim 0.6600000262260437\n",
      "\t1910 - 1905: cos_sim 0.6899999976158142\n",
      "\t1900 - 1875: cos_sim 0.5899999737739563\n",
      "\n",
      "firearm\n",
      "Semantic shifts found:\n",
      "\t1965 - 1960: cos_sim 0.49000000953674316\n",
      "\t1945 - 1940: cos_sim 0.47999998927116394\n",
      "\t1940 - 1935: cos_sim 0.3799999952316284\n",
      "\t1930 - 1925: cos_sim 0.6000000238418579\n",
      "\t1920 - 1915: cos_sim 0.5899999737739563\n",
      "\n",
      "shotgun\n",
      "Semantic shifts found:\n",
      "\t1945 - 1940: cos_sim 0.7300000190734863\n",
      "\t1930 - 1925: cos_sim 0.6800000071525574\n",
      "\n",
      "handgun\n",
      "No semantic shifts found.\n",
      "\n",
      "revolver\n",
      "Semantic shifts found:\n",
      "\t1900 - 1875: cos_sim 0.6200000047683716\n",
      "\n",
      "assault\n",
      "Semantic shifts found:\n",
      "\t2010 - 2005: cos_sim 0.7400000095367432\n",
      "\t2005 - 2000: cos_sim 0.7400000095367432\n",
      "\t2000 - 1995: cos_sim 0.75\n",
      "\t1990 - 1985: cos_sim 0.7599999904632568\n",
      "\t1985 - 1980: cos_sim 0.7200000286102295\n",
      "\t1865 - 1860: cos_sim 0.6499999761581421\n",
      "\n",
      "carbine\n",
      "No semantic shifts found.\n",
      "\n",
      "rifle\n",
      "Semantic shifts found:\n",
      "\t1950 - 1945: cos_sim 0.6800000071525574\n",
      "\t1940 - 1935: cos_sim 0.6200000047683716\n",
      "\t1915 - 1910: cos_sim 0.5600000023841858\n",
      "\t1910 - 1905: cos_sim 0.4000000059604645\n",
      "\n",
      "musket\n",
      "No semantic shifts found.\n",
      "\n",
      "weapon\n",
      "Semantic shifts found:\n",
      "\t1905 - 1900: cos_sim 0.7599999904632568\n",
      "\n",
      "derringer\n",
      "No semantic shifts found.\n",
      "\n",
      "knife\n",
      "Semantic shifts found:\n",
      "\t1900 - 1875: cos_sim 0.75\n",
      "\t1875 - 1870: cos_sim 0.7900000214576721\n",
      "\n",
      "sword\n",
      "Semantic shifts found:\n",
      "\t2010 - 2005: cos_sim 0.38999998569488525\n",
      "\n",
      "pistol\n",
      "Semantic shifts found:\n",
      "\t1915 - 1910: cos_sim 0.7200000286102295\n",
      "\t1910 - 1905: cos_sim 0.6899999976158142\n",
      "\t1905 - 1900: cos_sim 0.7200000286102295\n",
      "\t1900 - 1875: cos_sim 0.7300000190734863\n",
      "\n"
     ]
    }
   ],
   "source": [
    "for word in weapons:\n",
    "    print(word)\n",
    "    print_shift(find_semantic_shift(models, couple_list, word))\n",
    "    print()"
   ]
  },
  {
   "cell_type": "code",
   "execution_count": 22,
   "metadata": {},
   "outputs": [
    {
     "name": "stdout",
     "output_type": "stream",
     "text": [
      "cybercrime\n",
      "No semantic shifts found.\n",
      "\n",
      "mafia\n",
      "No semantic shifts found.\n",
      "\n",
      "robbery\n",
      "Semantic shifts found:\n",
      "\t1985 - 1980: cos_sim 0.7400000095367432\n",
      "\t1980 - 1975: cos_sim 0.7200000286102295\n",
      "\t1920 - 1915: cos_sim 0.7400000095367432\n",
      "\t1900 - 1875: cos_sim 0.699999988079071\n",
      "\n",
      "gang\n",
      "Semantic shifts found:\n",
      "\t1965 - 1960: cos_sim 0.6499999761581421\n",
      "\t1960 - 1955: cos_sim 0.6700000166893005\n",
      "\t1920 - 1915: cos_sim 0.6100000143051147\n",
      "\t1900 - 1875: cos_sim 0.6100000143051147\n",
      "\n",
      "theft\n",
      "Semantic shifts found:\n",
      "\t1915 - 1910: cos_sim 0.6600000262260437\n",
      "\t1910 - 1905: cos_sim 0.49000000953674316\n",
      "\t1900 - 1875: cos_sim 0.47999998927116394\n",
      "\t1875 - 1870: cos_sim 0.6100000143051147\n",
      "\n",
      "cyber\n",
      "No semantic shifts found.\n",
      "\n",
      "killer\n",
      "No semantic shifts found.\n",
      "\n",
      "crime\n",
      "Semantic shifts found:\n",
      "\t1900 - 1875: cos_sim 0.7699999809265137\n",
      "\n",
      "recidivism\n",
      "Semantic shifts found:\n",
      "\t2000 - 1995: cos_sim 0.4399999976158142\n",
      "\t1995 - 1990: cos_sim 0.5\n",
      "\t1990 - 1985: cos_sim 0.4399999976158142\n",
      "\n",
      "serial\n",
      "Semantic shifts found:\n",
      "\t1945 - 1940: cos_sim 0.6600000262260437\n",
      "\t1925 - 1920: cos_sim 0.6600000262260437\n",
      "\n",
      "arrest\n",
      "Semantic shifts found:\n",
      "\t1840 - 1835: cos_sim 0.7300000190734863\n",
      "\n",
      "rape\n",
      "Semantic shifts found:\n",
      "\t2010 - 2005: cos_sim 0.7099999785423279\n",
      "\t2005 - 2000: cos_sim 0.75\n",
      "\t1900 - 1875: cos_sim 0.7200000286102295\n",
      "\n"
     ]
    }
   ],
   "source": [
    "for word in investigation:\n",
    "    print(word)\n",
    "    print_shift(find_semantic_shift(models, couple_list, word))\n",
    "    print()"
   ]
  }
 ],
 "metadata": {
  "interpreter": {
   "hash": "916dbcbb3f70747c44a77c7bcd40155683ae19c65e1c03b4aa3499c5328201f1"
  },
  "kernelspec": {
   "display_name": "Python 3.8.10 64-bit",
   "language": "python",
   "name": "python3"
  },
  "language_info": {
   "codemirror_mode": {
    "name": "ipython",
    "version": 3
   },
   "file_extension": ".py",
   "mimetype": "text/x-python",
   "name": "python",
   "nbconvert_exporter": "python",
   "pygments_lexer": "ipython3",
   "version": "3.8.10"
  },
  "orig_nbformat": 4
 },
 "nbformat": 4,
 "nbformat_minor": 2
}
