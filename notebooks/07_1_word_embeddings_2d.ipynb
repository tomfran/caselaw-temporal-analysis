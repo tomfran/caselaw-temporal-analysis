{
 "cells": [
  {
   "cell_type": "code",
   "execution_count": 13,
   "metadata": {},
   "outputs": [],
   "source": [
    "import sys\n",
    "sys.path.append(\"..\")\n",
    "\n",
    "from collections import defaultdict\n",
    "\n",
    "import numpy as np\n",
    "import matplotlib.pyplot as plt\n",
    "from sklearn.decomposition import PCA\n",
    "from gensim.models import Word2Vec, KeyedVectors\n",
    "\n",
    "from src.seeds import Seeds\n",
    "from src.dataset import Dataset\n",
    "from src.gensim_word2vec_procrustes_align import smart_procrustes_align_gensim"
   ]
  },
  {
   "cell_type": "markdown",
   "metadata": {},
   "source": [
    "### Loading tokens\n",
    "As always, we load the Illinois Appellate Court tokens."
   ]
  },
  {
   "cell_type": "code",
   "execution_count": 14,
   "metadata": {},
   "outputs": [],
   "source": [
    "tokens = [e[\"tokens\"] for e in Dataset().load_dataset(year=None, fields={\"tokens\"})]\n",
    "\n",
    "print(\"Total documents:\", len(tokens))"
   ]
  },
  {
   "cell_type": "markdown",
   "metadata": {},
   "source": [
    "### Training a Word2Vec model and saving\n",
    "We now train a Word2Vec gensim model, filtering out words that appear less than five times, with four workers.\n",
    "The model is then saved to disk and reloaded."
   ]
  },
  {
   "cell_type": "code",
   "execution_count": 6,
   "metadata": {},
   "outputs": [],
   "source": [
    "model = Word2Vec(tokens, min_count=5, workers=4, vector_size=2)"
   ]
  },
  {
   "cell_type": "code",
   "execution_count": null,
   "metadata": {},
   "outputs": [],
   "source": [
    "model_path = \"../data/models/vectors/Illinois_appellate_w2v.model\"\n",
    "model.save(model_path)"
   ]
  },
  {
   "cell_type": "code",
   "execution_count": null,
   "metadata": {},
   "outputs": [],
   "source": [
    "model = Word2Vec.load(model_path)"
   ]
  },
  {
   "cell_type": "markdown",
   "metadata": {},
   "source": [
    "### Finding similar words\n",
    "The model can find similar words to a given one by considering similar vectors."
   ]
  },
  {
   "cell_type": "code",
   "execution_count": 7,
   "metadata": {},
   "outputs": [
    {
     "name": "stdout",
     "output_type": "stream",
     "text": [
      "cocaine : not present in vocab\n",
      "\n",
      "rape :\n",
      "\t- courts (1.0)\n",
      "\t- route (1.0)\n",
      "\t- comply (1.0)\n",
      "\t- recollection (1.0)\n",
      "\t- aught (1.0) \n",
      "\n",
      "gun : not present in vocab\n",
      "\n"
     ]
    }
   ],
   "source": [
    "for word in [\"cocaine\", \"rape\", \"gun\"]:\n",
    "    try:\n",
    "        sim = model.wv.most_similar(word, topn=5)\n",
    "        print(word, \":\\n\\t- \" + \"\\n\\t- \".join([f\"{e[0]} ({round(e[1], 2)})\" for e in sim]), \"\\n\")\n",
    "    except:\n",
    "        print(word, \": not present in vocab\\n\")"
   ]
  },
  {
   "cell_type": "markdown",
   "metadata": {},
   "source": [
    "### 2d visualization of interesting words\n",
    "Reducing dimensionality to two makes possible to visualize datapoints, the original seeds are used, so a small set of narcotics, weapons and investigation terms, otherwise the plot would be too convoluted."
   ]
  },
  {
   "cell_type": "code",
   "execution_count": 12,
   "metadata": {},
   "outputs": [
    {
     "name": "stdout",
     "output_type": "stream",
     "text": [
      "[[ 0.4140879  -0.12378559]]\n",
      "[[1.7646399 0.6438782]]\n",
      "[[1.3249394  0.36205226]\n",
      " [0.5140231  0.30136898]\n",
      " [1.846569   2.3465264 ]]\n"
     ]
    },
    {
     "data": {
      "image/png": "[encoded data removed]",
      "text/plain": [
       "<Figure size 936x504 with 1 Axes>"
      ]
     },
     "metadata": {
      "needs_background": "light"
     },
     "output_type": "display_data"
    }
   ],
   "source": [
    "interesting = [list(e) for e in Seeds().get_starting_seeds()]\n",
    "\n",
    "plt.figure(figsize=(13,7))\n",
    "\n",
    "colors = [\"green\", \"red\", \"blue\"]\n",
    "\n",
    "for i, l in enumerate(interesting):\n",
    "    vectors = []\n",
    "    for w in l.copy():\n",
    "        try:\n",
    "            vectors.append(model.wv[w])\n",
    "        except:\n",
    "            l.remove(w)\n",
    "            \n",
    "    vectors = np.array(vectors)\n",
    "    print(vectors)\n",
    "    \n",
    "    plt.scatter(vectors[:,0],vectors[:,1],linewidths=5,color=colors[i])\n",
    "    \n",
    "    for i, word in enumerate(l):\n",
    "        plt.annotate(word,xy=(vectors[i,0]+0.02,vectors[i,1]-0.02))\n",
    "        \n",
    "plt.xlabel(\"PC1\",size=15)\n",
    "plt.ylabel(\"PC2\",size=15)\n",
    "\n",
    "plt.title(\"Word Embedding Space\",size=20)\n",
    "\n",
    "plt.show()"
   ]
  }
 ],
 "metadata": {
  "interpreter": {
   "hash": "916dbcbb3f70747c44a77c7bcd40155683ae19c65e1c03b4aa3499c5328201f1"
  },
  "kernelspec": {
   "display_name": "Python 3",
   "language": "python",
   "name": "python3"
  },
  "language_info": {
   "codemirror_mode": {
    "name": "ipython",
    "version": 3
   },
   "file_extension": ".py",
   "mimetype": "text/x-python",
   "name": "python",
   "nbconvert_exporter": "python",
   "pygments_lexer": "ipython3",
   "version": "3.8.10"
  }
 },
 "nbformat": 4,
 "nbformat_minor": 4
}
