{
 "cells": [
  {
   "cell_type": "code",
   "execution_count": 1,
   "metadata": {},
   "outputs": [],
   "source": [
    "import sys\n",
    "sys.path.append(\"..\")\n",
    "\n",
    "import numpy as np\n",
    "from gensim.models import Word2Vec, KeyedVectors\n",
    "\n",
    "from src.seeds import Seeds\n",
    "from src.gensim_word2vec_procrustes_align import smart_procrustes_align_gensim"
   ]
  },
  {
   "cell_type": "markdown",
   "metadata": {},
   "source": [
    "### Find differences of meaning in time\n",
    "\n",
    "The idea here is to consider the vectors coming from the different epochs and to find a difference in meaning in time. We can clearly see that some words change meaning by printing the top similar ones. For instance, the word drug is related to products in general, probably linked to the meaning of drugstore, while from 1920 on the word have a different context, related to narcotics.\n",
    "\n",
    "To quantify this semantic shift we take the approach introduced here (https://gist.github.com/zhicongchen/9e23d5c3f1e5b1293b16133485cd17d8), that aligns the gensim models making them comparable.\n",
    "\n",
    "We can see that the cosine similarity is increased when aligning two models, the idea now is to align models in a sequential fashion, so: \n",
    "\n",
    "align(2000, 1980), align(1980, 1960)... \n",
    "\n",
    "The models are aligned pairwise and the shift is detected comparing cosine similarities between adjacent years."
   ]
  },
  {
   "cell_type": "code",
   "execution_count": 2,
   "metadata": {},
   "outputs": [],
   "source": [
    "def print_similar(word, models, n=5):\n",
    "    print(word)\n",
    "    for y, m in models.items():\n",
    "        try:\n",
    "            print(f\"\\t{y}: {[e[0] for e in m.wv.most_similar(word, topn=n)]}\")\n",
    "        except:\n",
    "            pass\n",
    "        \n",
    "def cos_sim(a, b):\n",
    "    dot_product = np.dot(a, b) # x.y\n",
    "    norm_a = np.linalg.norm(a) #|x|\n",
    "    norm_b = np.linalg.norm(b) #|y|\n",
    "    return dot_product / (norm_a * norm_b)\n",
    "\n",
    "def get_similarity(m1, m2, word):\n",
    "    try:\n",
    "        return cos_sim(m1.wv[word], m2.wv[word])\n",
    "    except:\n",
    "        return -1\n",
    "    \n",
    "def get_similarity_sequence(models, couple_lists, word):\n",
    "    return [get_similarity(models[s], models[e], word) for s, e in couple_lists]\n",
    "\n",
    "def find_semantic_shift(models, couple_list, word, alpha=.9, threshold=.7):\n",
    "    \n",
    "    els = list(zip(couple_list, get_similarity_sequence(models, couple_list, word)))\n",
    "    els = [e for e in els if e[1]>0]\n",
    "    if not els:\n",
    "        return []\n",
    "    if len(els) == 1 and els[0][1] < threshold:\n",
    "        return els\n",
    "    \n",
    "    # m = np.mean([e[1] for e in els if e[1]>0])\n",
    "    # return [e for e in els if e[1] < alpha*m and e[1] != -1]\n",
    "    return [e for e in els if e[1] < threshold and e[1] != -1]\n",
    "\n",
    "\n",
    "def print_shift(semantic_shifts):\n",
    "    if not semantic_shifts:\n",
    "        print(\"No semantic shifts found.\")\n",
    "    else:\n",
    "        s = \"Semantic shifts found:\\n\\t\"\n",
    "        s += \"\\n\\t\".join([f\"{e[0][0]} - {e[0][1]}: cos_sim {round(e[1], 2)}\" \n",
    "                            for e in semantic_shifts])\n",
    "        print(s)"
   ]
  },
  {
   "cell_type": "markdown",
   "metadata": {},
   "source": [
    "### Aligning the models"
   ]
  },
  {
   "cell_type": "markdown",
   "metadata": {},
   "source": [
    "### Detecting semantic shifts"
   ]
  },
  {
   "cell_type": "code",
   "execution_count": 16,
   "metadata": {},
   "outputs": [],
   "source": [
    "directory = \"../data/models/merged_time_vectors\"\n",
    "\n",
    "def get_name(s):\n",
    "    s = s.split(\"/\")[-1]\n",
    "    l = s.split(\"_\")\n",
    "    return f\"{l[0]}_{l[-2]}\" if len(l)>2 else l[0]\n",
    "\n",
    "models = { get_name(model_name) : Word2Vec.load(model_name) \n",
    "          for model_name in [f\"{directory}/{el}\" for el in sorted(os.listdir(directory))]}"
   ]
  },
  {
   "cell_type": "code",
   "execution_count": 17,
   "metadata": {},
   "outputs": [
    {
     "name": "stdout",
     "output_type": "stream",
     "text": [
      "[('2010_2005', '2000'), ('2000', '1995'), ('1995', '1990')] ...\n"
     ]
    }
   ],
   "source": [
    "years = sorted(list(models.keys()), reverse=True)\n",
    "couple_list = list(zip(years, years[1:]))\n",
    "print(couple_list[:3], \"...\")"
   ]
  },
  {
   "cell_type": "code",
   "execution_count": 18,
   "metadata": {},
   "outputs": [],
   "source": [
    "for base, other in couple_list:\n",
    "    smart_procrustes_align_gensim(models[base], models[other])"
   ]
  },
  {
   "cell_type": "code",
   "execution_count": 19,
   "metadata": {},
   "outputs": [
    {
     "data": {
      "image/png": "[encoded data removed]",
      "text/plain": [
       "<Figure size 432x288 with 1 Axes>"
      ]
     },
     "metadata": {
      "needs_background": "light"
     },
     "output_type": "display_data"
    },
    {
     "name": "stdout",
     "output_type": "stream",
     "text": [
      "Semantic shifts found:\n",
      "\t1970 - 1965_1960: cos_sim 0.6800000071525574\n",
      "cocaine\n",
      "\t1965_1960: ['partee', 'dancer', 'mccracken', 'underwear', 'wrapping', 'sykes', 'manufactured', 'galloway', 'emblem', 'dominic']\n",
      "\t1970: ['morphine', 'amphetamine', 'stimulant', 'dispensing', 'heroin', 'marijuana', 'capsule', 'beverage', 'alcoholic', 'addiction']\n",
      "\t1975: ['heroin', 'lsd', 'amphetamine', 'marijuana', 'narcotic', 'morphine', 'tablet', 'ounce', 'drug', 'acid']\n",
      "\t1980: ['heroin', 'marijuana', 'ounce', 'lsd', 'pcp', 'narcotic', 'amphetamine', 'cannabis', 'gram', 'drug']\n",
      "\t1985: ['heroin', 'ounce', 'lsd', 'marijuana', 'narcotic', 'tovar', 'kilogram', 'gram', 'cannabis', 'tablet']\n",
      "\t1990: ['heroin', 'marijuana', 'narcotic', 'cannabis', 'lsd', 'drug', 'ounce', 'pcp', 'cannabi', 'kilo']\n",
      "\t1995: ['heroin', 'marijuana', 'kilogram', 'cannabis', 'lsd', 'ounce', 'narcotic', 'gram', 'pcp', 'paraphernalia']\n",
      "\t2000: ['heroin', 'marijuana', 'cannabis', 'crack', 'gram', 'narcotic', 'packet', 'methamphetamine', 'kilogram', 'kilo']\n",
      "\t2010_2005: ['heroin', 'marijuana', 'cannabis', 'narcotic', 'packet', 'ounce', 'pill', 'kilogram', 'drug', 'pseudoephedrine']\n"
     ]
    }
   ],
   "source": [
    "import matplotlib.pyplot as plt\n",
    "word = \"cocaine\"\n",
    "x = get_similarity_sequence(models, couple_list, word)\n",
    "plt.title(word)\n",
    "plt.plot([e for e in x if e>0])\n",
    "plt.show()\n",
    "print_shift(find_semantic_shift(models, couple_list, word))\n",
    "print_similar(word, models, 10)"
   ]
  },
  {
   "cell_type": "code",
   "execution_count": 20,
   "metadata": {},
   "outputs": [],
   "source": [
    "narcotics, _, _ = Seeds().get_starting_seeds()"
   ]
  },
  {
   "cell_type": "code",
   "execution_count": 22,
   "metadata": {},
   "outputs": [
    {
     "name": "stdout",
     "output_type": "stream",
     "text": [
      "ecstasy\n",
      "No semantic shifts found.\n",
      "ecstasy\n",
      "\t2010_2005: ['pill', 'marijuana', 'mdma', 'powder', 'baggie', 'fingernail', 'heroin', 'cooler', 'condom', 'bottle']\n",
      "\n",
      "lsd\n",
      "Semantic shifts found:\n",
      "\t2010_2005 - 2000: cos_sim 0.46000000834465027\n",
      "\t2000 - 1995: cos_sim 0.6800000071525574\n",
      "lsd\n",
      "\t1975: ['cocaine', 'tablet', 'amphetamine', 'marijuana', 'heroin', 'acid', 'capsule', 'packet', 'morphine', 'ounce']\n",
      "\t1980: ['acid', 'pcp', 'heroin', 'marijuana', 'cocaine', 'ounce', 'amphetamine', 'pill', 'dope', 'cigarette']\n",
      "\t1985: ['tablet', 'heroin', 'amphetamine', 'powder', 'vial', 'packet', 'cocaine', 'capsule', 'ounce', 'snort']\n",
      "\t1990: ['heroin', 'cannabis', 'pcp', 'cocaine', 'marijuana', 'kilogram', 'package', 'amphetamine', 'counterfeit', 'metabolite']\n",
      "\t1995: ['ounce', 'marijuana', 'kilogram', 'heroin', 'tablet', 'pcp', 'cocaine', 'paraphernalia', 'cannabis', 'whiskey']\n",
      "\t2000: ['tablet', 'powder', 'pill', 'tinfoil', 'ink', 'foil', 'filter', 'liquid', 'wrapping', 'kilogram']\n",
      "\t2010_2005: ['daisy', 'microscopy', 'fiordirosa', 'wakefield', 'myrick', 'conagra', 'minsky', 'sweatpant', 'coco', 'caress']\n",
      "\n",
      "overdose\n",
      "Semantic shifts found:\n",
      "\t2010_2005 - 2000: cos_sim 0.6499999761581421\n",
      "\t2000 - 1995: cos_sim 0.6000000238418579\n",
      "overdose\n",
      "\t1970: ['addicted', 'aspirin', 'pill', 'smoking', 'nap', 'vomit', 'morphine', 'killer', 'julie', 'dope']\n",
      "\t1975: ['addiction', 'ingest', 'morphine', 'stimulant', 'ingestion', 'illicit', 'pill', 'injection', 'dose', 'blackout']\n",
      "\t1980: ['ingest', 'demerol', 'poisoning', 'cardiac', 'valium', 'injection', 'ingestion', 'reaction', 'dependence', 'addiction']\n",
      "\t1985: ['ingestion', 'ingest', 'valium', 'sedative', 'intravenous', 'dilantin', 'dependence', 'psychosis', 'morphine', 'reaction']\n",
      "\t1990: ['ingestion', 'addiction', 'morphine', 'ingest', 'dependence', 'antipsychotic', 'diabetes', 'poisoning', 'dilantin', 'addicted']\n",
      "\t1995: ['antipsychotic', 'nonprescription', 'addicted', 'addiction', 'prozac', 'ingestion', 'addict', 'antidepressant', 'haldol', 'neuroleptic']\n",
      "\t2000: ['sinequan', 'potent', 'antipsychotic', 'absorption', 'ingestion', 'xanax', 'intravenous', 'allergic', 'chloride', 'trafficker']\n",
      "\t2010_2005: ['addiction', 'addict', 'ingestion', 'ingest', 'trafficker', 'addicted', 'lethal', 'trafficking', 'paraphernalia', 'encephalopathy']\n",
      "\n",
      "methamphetamine\n",
      "Semantic shifts found:\n",
      "\t2000 - 1995: cos_sim 0.46000000834465027\n",
      "methamphetamine\n",
      "\t1995: ['cannabis', 'powdery', 'baggie', 'leafy', 'tinfoil', 'tablet', 'packaging', 'iud', 'exalt', 'prac']\n",
      "\t2000: ['cannabis', 'gram', 'heroin', 'kilogram', 'cocaine', 'kilo', 'ammonia', 'ingredient', 'ether', 'packaging']\n",
      "\t2010_2005: ['pseudoephedrine', 'heroin', 'precursor', 'ephedrine', 'usable', 'pseudo', 'mdma', 'cannabis', 'illicit', 'cocaine']\n",
      "\n",
      "cocaine\n",
      "Semantic shifts found:\n",
      "\t1970 - 1965_1960: cos_sim 0.6800000071525574\n",
      "cocaine\n",
      "\t1965_1960: ['partee', 'dancer', 'mccracken', 'underwear', 'wrapping', 'sykes', 'manufactured', 'galloway', 'emblem', 'dominic']\n",
      "\t1970: ['morphine', 'amphetamine', 'stimulant', 'dispensing', 'heroin', 'marijuana', 'capsule', 'beverage', 'alcoholic', 'addiction']\n",
      "\t1975: ['heroin', 'lsd', 'amphetamine', 'marijuana', 'narcotic', 'morphine', 'tablet', 'ounce', 'drug', 'acid']\n",
      "\t1980: ['heroin', 'marijuana', 'ounce', 'lsd', 'pcp', 'narcotic', 'amphetamine', 'cannabis', 'gram', 'drug']\n",
      "\t1985: ['heroin', 'ounce', 'lsd', 'marijuana', 'narcotic', 'tovar', 'kilogram', 'gram', 'cannabis', 'tablet']\n",
      "\t1990: ['heroin', 'marijuana', 'narcotic', 'cannabis', 'lsd', 'drug', 'ounce', 'pcp', 'cannabi', 'kilo']\n",
      "\t1995: ['heroin', 'marijuana', 'kilogram', 'cannabis', 'lsd', 'ounce', 'narcotic', 'gram', 'pcp', 'paraphernalia']\n",
      "\t2000: ['heroin', 'marijuana', 'cannabis', 'crack', 'gram', 'narcotic', 'packet', 'methamphetamine', 'kilogram', 'kilo']\n",
      "\t2010_2005: ['heroin', 'marijuana', 'cannabis', 'narcotic', 'packet', 'ounce', 'pill', 'kilogram', 'drug', 'pseudoephedrine']\n",
      "\n",
      "drug\n",
      "Semantic shifts found:\n",
      "\t1900_1875 - 1870_1770: cos_sim 0.550000011920929\n",
      "drug\n",
      "\t1870_1770: ['hide', 'wine', 'wholesale', 'leather', 'apple', 'meat', 'customer', 'whiskey', 'store', 'lumber']\n",
      "\t1900_1875: ['retail', 'food', 'tavern', 'drinking', 'meat', 'grocery', 'stable', 'wine', 'beverage', 'medicine']\n",
      "\t1910_1905: ['wine', 'cigar', 'grocery', 'retail', 'wholesale', 'meat', 'candy', 'junk', 'soap', 'food']\n",
      "\t1920_1915: ['narcotic', 'medicine', 'tobacco', 'addict', 'patron', 'alcoholic', 'candy', 'food', 'obscene', 'retail']\n",
      "\t1930_1925: ['butcher', 'grocery', 'store', 'beauty', 'radio', 'barber', 'soap', 'theater', 'hardware', 'laundry']\n",
      "\t1940_1935: ['tobacco', 'packing', 'grocery', 'parlor', 'optical', 'wholesale', 'tailor', 'beauty', 'butcher', 'cafeteria']\n",
      "\t1955_1945: ['narcotic', 'addict', 'marijuana', 'meat', 'capsule', 'food', 'technician', 'beverage', 'dispense', 'jewelry']\n",
      "\t1965_1960: ['addiction', 'narcotic', 'marijuana', 'addicted', 'addict', 'dispense', 'morphine', 'cannabis', 'dispensing', 'heroin']\n",
      "\t1970: ['addiction', 'narcotic', 'dispensing', 'addict', 'marijuana', 'cocaine', 'morphine', 'stimulant', 'heroin', 'amphetamine']\n",
      "\t1975: ['narcotic', 'heroin', 'cocaine', 'addiction', 'addict', 'marijuana', 'intoxicant', 'pill', 'alcohol', 'dope']\n",
      "\t1980: ['narcotic', 'heroin', 'addiction', 'cocaine', 'valium', 'lsd', 'marijuana', 'ingest', 'abuser', 'alcohol']\n",
      "\t1985: ['narcotic', 'heroin', 'cocaine', 'marijuana', 'alcohol', 'valium', 'addict', 'pcp', 'pill', 'alcoholic']\n",
      "\t1990: ['narcotic', 'cocaine', 'heroin', 'marijuana', 'illicit', 'lsd', 'pcp', 'valium', 'amphetamine', 'dope']\n",
      "\t1995: ['narcotic', 'addict', 'cocaine', 'marijuana', 'addiction', 'ingest', 'alcohol', 'lsd', 'trafficking', 'paraphernalia']\n",
      "\t2000: ['narcotic', 'marijuana', 'cocaine', 'heroin', 'addict', 'cannabis', 'alcohol', 'underage', 'drinking', 'consumption']\n",
      "\t2010_2005: ['narcotic', 'heroin', 'cocaine', 'marijuana', 'cannabis', 'addict', 'methadone', 'prostitution', 'addiction', 'alcohol']\n",
      "\n",
      "drugs\n",
      "Semantic shifts found:\n",
      "\t2010_2005 - 2000: cos_sim 0.5099999904632568\n",
      "\t1995 - 1990: cos_sim 0.6700000166893005\n",
      "\t1985 - 1980: cos_sim 0.5600000023841858\n",
      "drugs\n",
      "\t1980: ['risky', 'imminently', 'dispensing', 'communications', 'systems', 'distributors', 'pest', 'extrahazardous', 'intrinsically', 'centers']\n",
      "\t1985: ['tours', 'homes', 'systems', 'enterprises', 'merrell', 'bradstreet', 'architects', 'graphics', 'publications', 'builders']\n",
      "\t1990: ['stores', 'obata', 'kassabaum', 'engineers', 'hellmuth', 'companies', 'holdings', 'systems', 'commodities', 'bradstreet']\n",
      "\t1995: ['harlem', 'hyde', 'apartments', 'clarendon', 'distributors', 'mel', 'gardens', 'consultants', 'galleries', 'liquors']\n",
      "\t2000: ['mel', 'constructors', 'homes', 'distributors', 'terminals', 'enterprises', 'commodities', 'pharmaceuticals', 'builders', 'textron']\n",
      "\t2010_2005: ['bravo', 'sokolow', 'severini', 'reyna', 'didley', 'jogging', 'holloman', 'fearn', 'fabian', 'durgan']\n",
      "\n",
      "marijuana\n",
      "Semantic shifts found:\n",
      "\t1965_1960 - 1955_1945: cos_sim 0.6700000166893005\n",
      "marijuana\n",
      "\t1955_1945: ['addict', 'narcotic', 'drug', 'cannabis', 'beef', 'bread', 'gin', 'meat', 'burglar', 'ammunition']\n",
      "\t1965_1960: ['heroin', 'package', 'packet', 'capsule', 'cigarette', 'powder', 'bag', 'narcotic', 'morphine', 'ounce']\n",
      "\t1970: ['heroin', 'narcotic', 'cocaine', 'amphetamine', 'contraband', 'drug', 'hypodermic', 'morphine', 'cigarette', 'tablet']\n",
      "\t1975: ['heroin', 'cocaine', 'lsd', 'amphetamine', 'narcotic', 'cannabis', 'packet', 'ounce', 'tablet', 'morphine']\n",
      "\t1980: ['heroin', 'cocaine', 'lsd', 'cannabis', 'pcp', 'amphetamine', 'narcotic', 'ounce', 'cigarette', 'packet']\n",
      "\t1985: ['heroin', 'cocaine', 'cigarette', 'pcp', 'lsd', 'cannabis', 'narcotic', 'smoke', 'ounce', 'snort']\n",
      "\t1990: ['heroin', 'cocaine', 'pcp', 'narcotic', 'lsd', 'cannabis', 'cigarette', 'drug', 'cannabi', 'snort']\n",
      "\t1995: ['cocaine', 'heroin', 'lsd', 'narcotic', 'smoke', 'cannabis', 'cigarette', 'pcp', 'paraphernalia', 'bottle']\n",
      "\t2000: ['cocaine', 'heroin', 'smoke', 'crack', 'cannabis', 'cigarette', 'kilogram', 'kilo', 'narcotic', 'smoking']\n",
      "\t2010_2005: ['cocaine', 'heroin', 'cannabis', 'ounce', 'crack', 'narcotic', 'smoke', 'pill', 'ecstasy', 'vodka']\n",
      "\n",
      "cannabis\n",
      "Semantic shifts found:\n",
      "\t1970 - 1965_1960: cos_sim 0.5899999737739563\n",
      "cannabis\n",
      "\t1955_1945: ['mixture', 'poisonous', 'cellophane', 'resin', 'horsepower', 'potato', 'bread', 'marijuana', 'asbestos', 'noun']\n",
      "\t1965_1960: ['morphine', 'resin', 'dye', 'tablet', 'vial', 'garment', 'mixture', 'stimulant', 'pharmaceutical', 'marijuana']\n",
      "\t1970: ['gram', 'substance', 'marijuana', 'amphetamine', 'heroin', 'morphine', 'dispensing', 'cocaine', 'explosive', 'hypodermic']\n",
      "\t1975: ['gram', 'marijuana', 'substance', 'lsd', 'heroin', 'amphetamine', 'cocaine', 'acid', 'hypodermic', 'narcotic']\n",
      "\t1980: ['marijuana', 'heroin', 'cocaine', 'gram', 'narcotic', 'contraband', 'substance', 'amphetamine', 'hypodermic', 'packet']\n",
      "\t1985: ['gram', 'pcp', 'heroin', 'marijuana', 'cannabi', 'lsd', 'cocaine', 'kilogram', 'narcotic', 'contraband']\n",
      "\t1990: ['lsd', 'heroin', 'cocaine', 'substance', 'marijuana', 'cannabi', 'gram', 'narcotic', 'pcp', 'hypodermic']\n",
      "\t1995: ['heroin', 'cocaine', 'marijuana', 'paraphernalia', 'lsd', 'narcotic', 'gram', 'baggie', 'kilogram', 'contraband']\n",
      "\t2000: ['methamphetamine', 'marijuana', 'heroin', 'cocaine', 'narcotic', 'gram', 'substance', 'kilo', 'kilogram', 'trafficking']\n",
      "\t2010_2005: ['cocaine', 'heroin', 'marijuana', 'pill', 'gram', 'pseudoephedrine', 'methamphetamine', 'mdma', 'narcotic', 'packet']\n",
      "\n",
      "blunt\n",
      "Semantic shifts found:\n",
      "\t1965_1960 - 1955_1945: cos_sim 0.6800000071525574\n",
      "\t1955_1945 - 1940_1935: cos_sim 0.5400000214576721\n",
      "\t1940_1935 - 1930_1925: cos_sim 0.6100000143051147\n",
      "\t1930_1925 - 1920_1915: cos_sim 0.6100000143051147\n",
      "blunt\n",
      "\t1920_1915: ['hardy', 'fritz', 'stephens', 'simon', 'watson', 'cameron', 'patton', 'jarvis', 'egan', 'mc']\n",
      "\t1930_1925: ['pointed', 'womb', 'perforate', 'pant', 'forehead', 'transparent', 'rectangular', 'spurious', 'black', 'thrust']\n",
      "\t1940_1935: ['finney', 'garner', 'ervin', 'ritchie', 'whittaker', 'robe', 'gifford', 'harder', 'dickey', 'browne']\n",
      "\t1955_1945: ['penetrate', 'pointed', 'vagina', 'embed', 'perforation', 'shatter', 'thread', 'absorption', 'jaw', 'external']\n",
      "\t1965_1960: ['strangle', 'vagina', 'occlusion', 'accidentally', 'throat', 'violent', 'bleed', 'stab', 'excitement', 'unconsciousness']\n",
      "\t1970: ['sharp', 'penetrate', 'thumb', 'choke', 'stiff', 'skull', 'stomach', 'abdomen', 'vagina', 'badly']\n",
      "\t1975: ['shiny', 'puncture', 'claw', 'skin', 'metallic', 'hematoma', 'nose', 'jaw', 'hemorrhage', 'torso']\n",
      "\t1980: ['skull', 'skin', 'hemorrhage', 'laceration', 'scalp', 'abdominal', 'abdomen', 'linear', 'contusion', 'tissue']\n",
      "\t1985: ['strangulation', 'ligature', 'puncture', 'skull', 'hemorrhage', 'laceration', 'abdomen', 'aorta', 'edema', 'external']\n",
      "\t1990: ['abdomen', 'liver', 'strangulation', 'abrasion', 'laceration', 'skull', 'contusion', 'hemorrhage', 'cerebral', 'massive']\n",
      "\t1995: ['abrasion', 'skull', 'scalp', 'laceration', 'neck', 'chin', 'jaw', 'forehead', 'trauma', 'bruise']\n",
      "\t2000: ['trauma', 'laceration', 'strangulation', 'hemorrhage', 'abdomen', 'skull', 'abrasion', 'bleed', 'spleen', 'forehead']\n",
      "\t2010_2005: ['strangulation', 'trauma', 'neck', 'cerebral', 'bruising', 'skull', 'bruise', 'contusion', 'cavity', 'abrasion']\n",
      "\n",
      "ketamine\n",
      "No semantic shifts found.\n",
      "ketamine\n",
      "\t2010_2005: ['mdma', 'precursor', 'pseudoephedrine', 'pseudo', 'ephedrine', 'isomer', 'leafy', 'pie', 'plasma', 'capsule']\n",
      "\n",
      "fentanyl\n",
      "No semantic shifts found.\n",
      "fentanyl\n",
      "\n",
      "heroin\n",
      "No semantic shifts found.\n",
      "heroin\n",
      "\t1965_1960: ['marijuana', 'package', 'packet', 'powder', 'capsule', 'narcotic', 'ounce', 'cigarette', 'bag', 'morphine']\n",
      "\t1970: ['marijuana', 'narcotic', 'amphetamine', 'cocaine', 'tablet', 'packet', 'morphine', 'capsule', 'gram', 'hypodermic']\n",
      "\t1975: ['marijuana', 'cocaine', 'narcotic', 'lsd', 'amphetamine', 'drug', 'tablet', 'cannabis', 'gram', 'morphine']\n",
      "\t1980: ['cocaine', 'marijuana', 'lsd', 'narcotic', 'pcp', 'cannabis', 'amphetamine', 'ounce', 'packet', 'drug']\n",
      "\t1985: ['cocaine', 'marijuana', 'lsd', 'pcp', 'narcotic', 'cannabis', 'snort', 'kilogram', 'tablet', 'ounce']\n",
      "\t1990: ['cocaine', 'marijuana', 'lsd', 'pcp', 'narcotic', 'cannabis', 'cannabi', 'kilogram', 'snort', 'drug']\n",
      "\t1995: ['cocaine', 'marijuana', 'kilogram', 'cannabis', 'paraphernalia', 'gram', 'lsd', 'packet', 'pcp', 'ounce']\n",
      "\t2000: ['cocaine', 'marijuana', 'kilo', 'crack', 'kilogram', 'packet', 'narcotic', 'cannabis', 'powder', 'tinfoil']\n",
      "\t2010_2005: ['cocaine', 'marijuana', 'cannabis', 'packet', 'narcotic', 'pill', 'ounce', 'pseudoephedrine', 'kilogram', 'drug']\n",
      "\n"
     ]
    }
   ],
   "source": [
    "for n in narcotics:\n",
    "    print(n)\n",
    "    print_shift(find_semantic_shift(models, couple_list, n))\n",
    "    print_similar(n, models, 10)\n",
    "    print()    "
   ]
  }
 ],
 "metadata": {
  "interpreter": {
   "hash": "916dbcbb3f70747c44a77c7bcd40155683ae19c65e1c03b4aa3499c5328201f1"
  },
  "kernelspec": {
   "display_name": "Python 3.8.10 64-bit",
   "language": "python",
   "name": "python3"
  },
  "language_info": {
   "codemirror_mode": {
    "name": "ipython",
    "version": 3
   },
   "file_extension": ".py",
   "mimetype": "text/x-python",
   "name": "python",
   "nbconvert_exporter": "python",
   "pygments_lexer": "ipython3",
   "version": "3.8.10"
  },
  "orig_nbformat": 4
 },
 "nbformat": 4,
 "nbformat_minor": 2
}
