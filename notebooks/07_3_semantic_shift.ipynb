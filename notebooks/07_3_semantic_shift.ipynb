{
 "cells": [
  {
   "cell_type": "code",
   "execution_count": 14,
   "metadata": {},
   "outputs": [],
   "source": [
    "import sys\n",
    "sys.path.append(\"..\")\n",
    "\n",
    "import numpy as np\n",
    "from gensim.models import Word2Vec, KeyedVectors\n",
    "\n",
    "from src.seeds import Seeds\n",
    "from src.gensim_word2vec_procrustes_align import smart_procrustes_align_gensim"
   ]
  },
  {
   "cell_type": "markdown",
   "metadata": {},
   "source": [
    "### Find differences of meaning in time\n",
    "\n",
    "The idea here is to consider the vectors coming from the different epochs and to find a difference in meaning in time. We can clearly see that some words change meaning by printing the top similar ones. For instance, the word drug is related to products in general, probably linked to the meaning of drugstore, while from 1920 on the word have a different context, related to narcotics.\n",
    "\n",
    "To quantify this semantic shift we take the approach introduced here (https://gist.github.com/zhicongchen/9e23d5c3f1e5b1293b16133485cd17d8), that aligns the gensim models making them comparable.\n",
    "\n",
    "We can see that the cosine similarity is increased when aligning two models, the idea now is to align models in a sequential fashion, so: \n",
    "\n",
    "align(2000, 1980), align(1980, 1960)... \n",
    "\n",
    "The models are aligned pairwise and the shift is detected comparing cosine similarities between adjacent years."
   ]
  },
  {
   "cell_type": "code",
   "execution_count": 15,
   "metadata": {},
   "outputs": [],
   "source": [
    "def print_similar(word, models, n=5):\n",
    "    print(word)\n",
    "    for y, m in models.items():\n",
    "        try:\n",
    "            print(f\"\\t{y}: {[e[0] for e in m.wv.most_similar(word, topn=n)]}\")\n",
    "        except:\n",
    "            pass\n",
    "        \n",
    "def cos_sim(a, b):\n",
    "    dot_product = np.dot(a, b) # x.y\n",
    "    norm_a = np.linalg.norm(a) #|x|\n",
    "    norm_b = np.linalg.norm(b) #|y|\n",
    "    return dot_product / (norm_a * norm_b)\n",
    "\n",
    "def get_similarity(m1, m2, word):\n",
    "    try:\n",
    "        return cos_sim(m1.wv[word], m2.wv[word])\n",
    "    except:\n",
    "        return -1\n",
    "    \n",
    "def get_similarity_sequence(models, couple_lists, word):\n",
    "    return [get_similarity(models[s], models[e], word) for s, e in couple_lists]\n",
    "\n",
    "def find_semantic_shift(models, couple_list, word, alpha=.9, threshold=.7):\n",
    "    \n",
    "    els = list(zip(couple_list, get_similarity_sequence(models, couple_list, word)))\n",
    "    els = [e for e in els if e[1]>0]\n",
    "    if not els:\n",
    "        return []\n",
    "    if len(els) == 1 and els[0][1] < threshold:\n",
    "        return els\n",
    "    \n",
    "    # m = np.mean([e[1] for e in els if e[1]>0])\n",
    "    # return [e for e in els if e[1] < alpha*m and e[1] != -1]\n",
    "    return [e for e in els if e[1] < threshold and e[1] != -1]\n",
    "\n",
    "\n",
    "def print_shift(semantic_shifts):\n",
    "    if not semantic_shifts:\n",
    "        print(\"No semantic shifts found.\")\n",
    "    else:\n",
    "        s = \"Semantic shifts found:\\n\\t\"\n",
    "        s += \"\\n\\t\".join([f\"{e[0][0]} - {e[0][1]}: cos_sim {round(e[1], 2)}\" \n",
    "                            for e in semantic_shifts])\n",
    "        print(s)"
   ]
  },
  {
   "cell_type": "markdown",
   "metadata": {},
   "source": [
    "### Aligning the models"
   ]
  },
  {
   "cell_type": "markdown",
   "metadata": {},
   "source": [
    "### Detecting semantic shifts"
   ]
  },
  {
   "cell_type": "code",
   "execution_count": 17,
   "metadata": {},
   "outputs": [],
   "source": [
    "directory = \"../data/models/merged_time_vectors\"\n",
    "\n",
    "def get_name(s):\n",
    "    s = s.split(\"/\")[-1]\n",
    "    l = s.split(\"_\")\n",
    "    return f\"{l[0]}_{l[-2]}\" if len(l)>2 else l[0]\n",
    "\n",
    "models = { get_name(model_name) : Word2Vec.load(model_name) \n",
    "          for model_name in [f\"{directory}/{el}\" for el in sorted(os.listdir(directory)) if \"npy\" not in el]}"
   ]
  },
  {
   "cell_type": "code",
   "execution_count": 18,
   "metadata": {},
   "outputs": [
    {
     "name": "stdout",
     "output_type": "stream",
     "text": [
      "[('2010_2005', '2000'), ('2000', '1995'), ('1995', '1990')] ...\n"
     ]
    }
   ],
   "source": [
    "years = sorted(list(models.keys()), reverse=True)\n",
    "couple_list = list(zip(years, years[1:]))\n",
    "print(couple_list[:3], \"...\")"
   ]
  },
  {
   "cell_type": "code",
   "execution_count": 19,
   "metadata": {},
   "outputs": [],
   "source": [
    "for base, other in couple_list:\n",
    "    smart_procrustes_align_gensim(models[base], models[other])"
   ]
  },
  {
   "cell_type": "code",
   "execution_count": 23,
   "metadata": {},
   "outputs": [
    {
     "data": {
      "image/png": "[encoded data removed]",
      "text/plain": [
       "<Figure size 432x288 with 1 Axes>"
      ]
     },
     "metadata": {
      "needs_background": "light"
     },
     "output_type": "display_data"
    },
    {
     "name": "stdout",
     "output_type": "stream",
     "text": [
      "Semantic shifts found:\n",
      "\t1965_1960 - 1955_1945: cos_sim 0.6600000262260437\n",
      "marijuana\n",
      "\t1955_1945: ['narcotic', 'dope', 'powder', 'capsule', 'beef', 'addict', 'drug', 'package', 'firearm', 'meat']\n",
      "\t1965_1960: ['heroin', 'packet', 'package', 'powder', 'capsule', 'cigarette', 'bag', 'vial', 'morphine', 'hypodermic']\n",
      "\t1970: ['heroin', 'narcotic', 'cocaine', 'capsule', 'amphetamine', 'morphine', 'cannabis', 'packet', 'tablet', 'hypodermic']\n",
      "\t1975: ['heroin', 'cocaine', 'lsd', 'narcotic', 'amphetamine', 'packet', 'cannabis', 'ounce', 'morphine', 'contraband']\n",
      "\t1980: ['heroin', 'cocaine', 'lsd', 'narcotic', 'cannabis', 'amphetamine', 'pcp', 'pill', 'ounce', 'cigarette']\n",
      "\t1985: ['heroin', 'cocaine', 'pcp', 'lsd', 'cigarette', 'cannabis', 'narcotic', 'smoke', 'ounce', 'amphetamine']\n",
      "\t1990: ['heroin', 'cocaine', 'pcp', 'cannabis', 'narcotic', 'cannabi', 'cigarette', 'lsd', 'snort', 'drug']\n",
      "\t1995: ['heroin', 'cocaine', 'pcp', 'narcotic', 'cigarette', 'smoke', 'lsd', 'bottle', 'ounce', 'kilogram']\n",
      "\t2000: ['heroin', 'cocaine', 'smoke', 'crack', 'cannabis', 'cigarette', 'pcp', 'kilo', 'kilogram', 'narcotic']\n",
      "\t2010_2005: ['cocaine', 'heroin', 'cannabis', 'ingest', 'ounce', 'smoke', 'crack', 'drinking', 'drug', 'narcotic']\n"
     ]
    }
   ],
   "source": [
    "import matplotlib.pyplot as plt\n",
    "word = \"marijuana\"\n",
    "x = get_similarity_sequence(models, couple_list, word)\n",
    "plt.title(word)\n",
    "plt.plot([e for e in x if e>0])\n",
    "plt.ylim(0, 1)\n",
    "plt.show()\n",
    "print_shift(find_semantic_shift(models, couple_list, word))\n",
    "print_similar(word, models, 10)"
   ]
  },
  {
   "cell_type": "code",
   "execution_count": 21,
   "metadata": {},
   "outputs": [],
   "source": [
    "narcotics, _, _ = Seeds().get_starting_seeds()"
   ]
  },
  {
   "cell_type": "code",
   "execution_count": 22,
   "metadata": {},
   "outputs": [
    {
     "name": "stdout",
     "output_type": "stream",
     "text": [
      "cannabis\n",
      "Semantic shifts found:\n",
      "\t1970 - 1965_1960: cos_sim 0.44999998807907104\n",
      "cannabis\n",
      "\t1955_1945: ['resin', 'poisonous', 'potato', 'mixture', 'metallic', 'membrane', 'noun', 'rag', 'perforate', 'marijuana']\n",
      "\t1965_1960: ['morphine', 'resin', 'dye', 'tablet', 'caustic', 'analyst', 'seed', 'vial', 'mixture', 'antique']\n",
      "\t1970: ['gram', 'marijuana', 'heroin', 'substance', 'amphetamine', 'cocaine', 'explosive', 'hypodermic', 'drug', 'narcotic']\n",
      "\t1975: ['substance', 'gram', 'marijuana', 'acid', 'heroin', 'lsd', 'amphetamine', 'cocaine', 'narcotic', 'hypodermic']\n",
      "\t1980: ['marijuana', 'heroin', 'cocaine', 'narcotic', 'gram', 'hypodermic', 'contraband', 'substance', 'amphetamine', 'packet']\n",
      "\t1985: ['gram', 'pcp', 'heroin', 'marijuana', 'cocaine', 'cannabi', 'lsd', 'substance', 'hypodermic', 'contraband']\n",
      "\t1990: ['lsd', 'heroin', 'marijuana', 'cocaine', 'narcotic', 'substance', 'gram', 'cannabi', 'contraband', 'pcp']\n",
      "\t1995: ['heroin', 'gram', 'cocaine', 'marijuana', 'narcotic', 'lsd', 'paraphernalia', 'pcp', 'baggie', 'kilogram']\n",
      "\t2000: ['marijuana', 'cocaine', 'methamphetamine', 'heroin', 'narcotic', 'gram', 'substance', 'pill', 'kilo', 'trafficking']\n",
      "\t2010_2005: ['cocaine', 'heroin', 'marijuana', 'narcotic', 'methamphetamine', 'pill', 'gram', 'powder', 'ounce', 'packet']\n",
      "\n",
      "methamphetamine\n",
      "Semantic shifts found:\n",
      "\t2000 - 1995: cos_sim 0.38999998569488525\n",
      "methamphetamine\n",
      "\t1995: ['prac', 'packaging', 'computerized', 'vial', 'powdery', 'cannabis', 'packet', 'baggie', 'pill', 'cornell']\n",
      "\t2000: ['heroin', 'gram', 'cannabis', 'ingredient', 'cocaine', 'kilogram', 'kilo', 'packaging', 'manufacture', 'narcotic']\n",
      "\t2010_2005: ['pseudoephedrine', 'ephedrine', 'cannabis', 'heroin', 'anhydrous', 'cocaine', 'usable', 'ammonia', 'gram', 'precursor']\n",
      "\n",
      "ecstasy\n",
      "No semantic shifts found.\n",
      "ecstasy\n",
      "\t2010_2005: ['pill', 'baggie', 'valium', 'pseudoephedrine', 'mdma', 'pseudo', 'ziploc', 'cooler', 'powder', 'wastebasket']\n",
      "\n",
      "fentanyl\n",
      "No semantic shifts found.\n",
      "fentanyl\n",
      "\n",
      "blunt\n",
      "Semantic shifts found:\n",
      "\t1975 - 1970: cos_sim 0.6499999761581421\n",
      "\t1970 - 1965_1960: cos_sim 0.6899999976158142\n",
      "\t1965_1960 - 1955_1945: cos_sim 0.6899999976158142\n",
      "\t1955_1945 - 1940_1935: cos_sim 0.5400000214576721\n",
      "\t1940_1935 - 1930_1925: cos_sim 0.6200000047683716\n",
      "\t1930_1925 - 1920_1915: cos_sim 0.550000011920929\n",
      "blunt\n",
      "\t1920_1915: ['hardy', 'watson', 'clayton', 'mabel', 'schrader', 'jarvis', 'dodson', 'myers', 'woods', 'stephens']\n",
      "\t1930_1925: ['womb', 'pointed', 'spurious', 'forehead', 'scratch', 'stain', 'wax', 'chin', 'contraction', 'bite']\n",
      "\t1940_1935: ['sweat', 'whittaker', 'bi', 'spoon', 'holloway', 'garner', 'robe', 'mcgill', 'bullock', 'geary']\n",
      "\t1955_1945: ['pointed', 'perforation', 'penetrate', 'scrape', 'insertion', 'tilt', 'rupture', 'vagina', 'throat', 'melt']\n",
      "\t1965_1960: ['vagina', 'bleed', 'throat', 'mouth', 'choke', 'lip', 'aorta', 'stomach', 'jaw', 'penetrate']\n",
      "\t1970: ['sharp', 'stomach', 'mouth', 'cutting', 'protrude', 'penetrate', 'skull', 'poison', 'excited', 'blade']\n",
      "\t1975: ['metallic', 'nose', 'shiny', 'edema', 'hemorrhage', 'abdomen', 'forehead', 'penetrate', 'jaw', 'skin']\n",
      "\t1980: ['hemorrhage', 'cerebral', 'skull', 'contusion', 'scalp', 'laceration', 'abdominal', 'external', 'skin', 'abrasion']\n",
      "\t1985: ['strangulation', 'ligature', 'hemorrhage', 'bleed', 'skull', 'aorta', 'contusion', 'laceration', 'stomach', 'forehead']\n",
      "\t1990: ['strangulation', 'abdomen', 'liver', 'laceration', 'cranial', 'abrasion', 'skull', 'hemorrhage', 'contusion', 'massive']\n",
      "\t1995: ['abrasion', 'laceration', 'skull', 'jaw', 'chin', 'scalp', 'carotid', 'throat', 'trauma', 'rib']\n",
      "\t2000: ['laceration', 'strangulation', 'trauma', 'abdomen', 'hemorrhage', 'skull', 'scalp', 'abrasion', 'forehead', 'skin']\n",
      "\t2010_2005: ['strangulation', 'cerebral', 'trauma', 'neck', 'skull', 'contusion', 'plexus', 'bruise', 'umbilical', 'laceration']\n",
      "\n",
      "cocaine\n",
      "Semantic shifts found:\n",
      "\t1970 - 1965_1960: cos_sim 0.5299999713897705\n",
      "cocaine\n",
      "\t1965_1960: ['pendleton', 'dominic', 'schwab', 'tobin', 'lamont', 'clemons', 'partee', 'scissor', 'denton', 'dancer']\n",
      "\t1970: ['morphine', 'amphetamine', 'stimulant', 'marijuana', 'capsule', 'heroin', 'spoon', 'tablet', 'beverage', 'narcotic']\n",
      "\t1975: ['heroin', 'lsd', 'amphetamine', 'marijuana', 'narcotic', 'morphine', 'ounce', 'tablet', 'drug', 'acid']\n",
      "\t1980: ['heroin', 'marijuana', 'ounce', 'narcotic', 'lsd', 'pcp', 'cannabis', 'amphetamine', 'gram', 'drug']\n",
      "\t1985: ['heroin', 'marijuana', 'ounce', 'lsd', 'narcotic', 'gram', 'tovar', 'kilogram', 'cannabis', 'drug']\n",
      "\t1990: ['heroin', 'marijuana', 'narcotic', 'cannabis', 'drug', 'pcp', 'lsd', 'ounce', 'gram', 'packet']\n",
      "\t1995: ['heroin', 'marijuana', 'narcotic', 'cannabis', 'gram', 'lsd', 'pcp', 'ounce', 'kilogram', 'packet']\n",
      "\t2000: ['heroin', 'marijuana', 'cannabis', 'packet', 'gram', 'methamphetamine', 'narcotic', 'kilo', 'crack', 'baggie']\n",
      "\t2010_2005: ['heroin', 'cannabis', 'marijuana', 'narcotic', 'packet', 'ounce', 'gram', 'crack', 'kilogram', 'pill']\n",
      "\n",
      "drug\n",
      "Semantic shifts found:\n",
      "\t1900_1875 - 1870_1770: cos_sim 0.6600000262260437\n",
      "drug\n",
      "\t1870_1770: ['wholesale', 'wine', 'dealer', 'hide', 'whiskey', 'sugar', 'beef', 'meat', 'retail', 'customer']\n",
      "\t1900_1875: ['retail', 'grocery', 'wholesale', 'meat', 'bottle', 'food', 'proprietary', 'grocer', 'tobacco', 'drinking']\n",
      "\t1910_1905: ['grocery', 'cigar', 'meat', 'retail', 'wine', 'candy', 'junk', 'bakery', 'wholesale', 'restaurant']\n",
      "\t1920_1915: ['medicine', 'narcotic', 'tobacco', 'addict', 'retail', 'decorate', 'candy', 'patron', 'morphine', 'food']\n",
      "\t1930_1925: ['grocery', 'store', 'butcher', 'bakery', 'radio', 'parlor', 'beauty', 'saloon', 'restaurant', 'pie']\n",
      "\t1940_1935: ['tobacco', 'grocery', 'wholesale', 'narcotic', 'optical', 'butcher', 'tailor', 'chemical', 'cream', 'fruit']\n",
      "\t1955_1945: ['narcotic', 'addict', 'marijuana', 'food', 'capsule', 'meat', 'beef', 'beverage', 'dispense', 'powder']\n",
      "\t1965_1960: ['addiction', 'narcotic', 'addict', 'addicted', 'marijuana', 'dispensing', 'dispense', 'heroin', 'dope', 'morphine']\n",
      "\t1970: ['addiction', 'stimulant', 'addict', 'narcotic', 'morphine', 'cocaine', 'marijuana', 'dispense', 'heroin', 'cannabis']\n",
      "\t1975: ['narcotic', 'heroin', 'cocaine', 'addiction', 'addict', 'dope', 'pill', 'amphetamine', 'morphine', 'alcohol']\n",
      "\t1980: ['narcotic', 'heroin', 'cocaine', 'marijuana', 'valium', 'addiction', 'alcohol', 'lsd', 'illicit', 'morphine']\n",
      "\t1985: ['narcotic', 'heroin', 'cocaine', 'marijuana', 'pcp', 'valium', 'addict', 'pill', 'alcohol', 'intoxicant']\n",
      "\t1990: ['narcotic', 'cocaine', 'heroin', 'marijuana', 'pcp', 'valium', 'dope', 'lsd', 'illicit', 'cannabis']\n",
      "\t1995: ['narcotic', 'cocaine', 'marijuana', 'alcohol', 'addict', 'medication', 'ingest', 'lsd', 'thorazine', 'consumption']\n",
      "\t2000: ['narcotic', 'marijuana', 'cocaine', 'heroin', 'cannabis', 'alcohol', 'addict', 'alcoholism', 'consumption', 'pcp']\n",
      "\t2010_2005: ['narcotic', 'cocaine', 'marijuana', 'heroin', 'cannabis', 'addict', 'addiction', 'trafficking', 'methadone', 'prostitution']\n",
      "\n",
      "drugs\n",
      "Semantic shifts found:\n",
      "\t2010_2005 - 2000: cos_sim 0.3799999952316284\n",
      "\t2000 - 1995: cos_sim 0.6899999976158142\n",
      "\t1995 - 1990: cos_sim 0.5699999928474426\n",
      "\t1990 - 1985: cos_sim 0.6899999976158142\n",
      "\t1985 - 1980: cos_sim 0.5\n",
      "drugs\n",
      "\t1980: ['communications', 'risky', 'minerals', 'systems', 'distributors', 'products', 'extrahazardous', 'imminently', 'beech', 'investors']\n",
      "\t1985: ['commodities', 'graphics', 'bradstreet', 'lanes', 'kenroy', 'distributors', 'enterprises', 'stores', 'climatemp', 'homes']\n",
      "\t1990: ['obata', 'kassabaum', 'stores', 'engineers', 'climatemp', 'tours', 'companies', 'hellmuth', 'bradstreet', 'pharmaceuticals']\n",
      "\t1995: ['farms', 'mel', 'systems', 'kenroy', 'elmwood', 'apartments', 'inns', 'investments', 'stores', 'productions']\n",
      "\t2000: ['mel', 'terminals', 'distributors', 'evergreen', 'paradise', 'climatemp', 'elm', 'pharmaceuticals', 'yacht', 'constructors']\n",
      "\t2010_2005: ['schalk', 'fidyk', 'rapala', 'ragusa', 'arturo', 'bajt', 'choker', 'pollard', 'haskins', 'sidney']\n",
      "\n",
      "lsd\n",
      "Semantic shifts found:\n",
      "\t2010_2005 - 2000: cos_sim 0.5\n",
      "\t2000 - 1995: cos_sim 0.6000000238418579\n",
      "\t1990 - 1985: cos_sim 0.6800000071525574\n",
      "lsd\n",
      "\t1975: ['cocaine', 'tablet', 'amphetamine', 'heroin', 'capsule', 'acid', 'marijuana', 'packet', 'gram', 'morphine']\n",
      "\t1980: ['acid', 'pcp', 'heroin', 'marijuana', 'amphetamine', 'pill', 'ounce', 'cocaine', 'dope', 'tinfoil']\n",
      "\t1985: ['tablet', 'heroin', 'amphetamine', 'powder', 'packet', 'vial', 'pcp', 'marijuana', 'capsule', 'baggie']\n",
      "\t1990: ['heroin', 'cannabis', 'pcp', 'cocaine', 'gram', 'marijuana', 'packet', 'kilogram', 'package', 'powder']\n",
      "\t1995: ['ounce', 'heroin', 'vial', 'kilogram', 'marijuana', 'tablet', 'baggie', 'pcp', 'cocaine', 'cannabis']\n",
      "\t2000: ['tablet', 'powder', 'baggie', 'pill', 'wrap', 'filter', 'liquid', 'flammable', 'towel', 'tinfoil']\n",
      "\t2010_2005: ['valium', 'vise', 'tic', 'caustic', 'gaseous', 'choker', 'colt', 'xanax', 'hypodermic', 'miniature']\n",
      "\n",
      "marijuana\n",
      "Semantic shifts found:\n",
      "\t1965_1960 - 1955_1945: cos_sim 0.6600000262260437\n",
      "marijuana\n",
      "\t1955_1945: ['narcotic', 'dope', 'powder', 'capsule', 'beef', 'addict', 'drug', 'package', 'firearm', 'meat']\n",
      "\t1965_1960: ['heroin', 'packet', 'package', 'powder', 'capsule', 'cigarette', 'bag', 'vial', 'morphine', 'hypodermic']\n",
      "\t1970: ['heroin', 'narcotic', 'cocaine', 'capsule', 'amphetamine', 'morphine', 'cannabis', 'packet', 'tablet', 'hypodermic']\n",
      "\t1975: ['heroin', 'cocaine', 'lsd', 'narcotic', 'amphetamine', 'packet', 'cannabis', 'ounce', 'morphine', 'contraband']\n",
      "\t1980: ['heroin', 'cocaine', 'lsd', 'narcotic', 'cannabis', 'amphetamine', 'pcp', 'pill', 'ounce', 'cigarette']\n",
      "\t1985: ['heroin', 'cocaine', 'pcp', 'lsd', 'cigarette', 'cannabis', 'narcotic', 'smoke', 'ounce', 'amphetamine']\n",
      "\t1990: ['heroin', 'cocaine', 'pcp', 'cannabis', 'narcotic', 'cannabi', 'cigarette', 'lsd', 'snort', 'drug']\n",
      "\t1995: ['heroin', 'cocaine', 'pcp', 'narcotic', 'cigarette', 'smoke', 'lsd', 'bottle', 'ounce', 'kilogram']\n",
      "\t2000: ['heroin', 'cocaine', 'smoke', 'crack', 'cannabis', 'cigarette', 'pcp', 'kilo', 'kilogram', 'narcotic']\n",
      "\t2010_2005: ['cocaine', 'heroin', 'cannabis', 'ingest', 'ounce', 'smoke', 'crack', 'drinking', 'drug', 'narcotic']\n",
      "\n",
      "heroin\n",
      "No semantic shifts found.\n",
      "heroin\n",
      "\t1965_1960: ['marijuana', 'package', 'packet', 'powder', 'narcotic', 'ounce', 'capsule', 'vial', 'cigarette', 'bag']\n",
      "\t1970: ['marijuana', 'narcotic', 'amphetamine', 'capsule', 'packet', 'tablet', 'cocaine', 'gram', 'morphine', 'hypodermic']\n",
      "\t1975: ['marijuana', 'cocaine', 'narcotic', 'lsd', 'amphetamine', 'tablet', 'drug', 'packet', 'pill', 'cannabis']\n",
      "\t1980: ['cocaine', 'marijuana', 'narcotic', 'lsd', 'pcp', 'cannabis', 'amphetamine', 'drug', 'packet', 'pill']\n",
      "\t1985: ['lsd', 'marijuana', 'pcp', 'cocaine', 'narcotic', 'amphetamine', 'cannabis', 'tablet', 'gram', 'snort']\n",
      "\t1990: ['marijuana', 'cocaine', 'pcp', 'lsd', 'narcotic', 'snort', 'cannabis', 'cannabi', 'powder', 'ingest']\n",
      "\t1995: ['cocaine', 'marijuana', 'kilogram', 'cannabis', 'pcp', 'gram', 'lsd', 'packet', 'ounce', 'baggie']\n",
      "\t2000: ['cocaine', 'marijuana', 'crack', 'kilo', 'methamphetamine', 'packet', 'kilogram', 'narcotic', 'cannabis', 'powder']\n",
      "\t2010_2005: ['cocaine', 'marijuana', 'cannabis', 'packet', 'narcotic', 'ounce', 'tinfoil', 'pill', 'kilogram', 'crack']\n",
      "\n",
      "overdose\n",
      "Semantic shifts found:\n",
      "\t2010_2005 - 2000: cos_sim 0.6000000238418579\n",
      "\t2000 - 1995: cos_sim 0.5699999928474426\n",
      "overdose\n",
      "\t1970: ['pill', 'morphine', 'smear', 'demerol', 'bath', 'baby', 'needle', 'aspirin', 'addicted', 'insulin']\n",
      "\t1975: ['addiction', 'illicit', 'stimulant', 'morphine', 'addicted', 'ingest', 'addict', 'injection', 'dependence', 'pill']\n",
      "\t1980: ['ingest', 'valium', 'demerol', 'cardiac', 'poisoning', 'morphine', 'chronic', 'ingestion', 'abuser', 'blackout']\n",
      "\t1985: ['ingestion', 'ingest', 'addiction', 'dependence', 'valium', 'sedative', 'psychotropic', 'psychosis', 'poisoning', 'thorazine']\n",
      "\t1990: ['ingestion', 'addiction', 'ingest', 'antipsychotic', 'intravenous', 'morphine', 'dilantin', 'poisoning', 'trafficker', 'injection']\n",
      "\t1995: ['antipsychotic', 'addicted', 'addiction', 'neuroleptic', 'trafficker', 'antidepressant', 'addict', 'trafficking', 'prozac', 'intravenous']\n",
      "\t2000: ['trafficker', 'ingestion', 'allergic', 'inhalation', 'sedative', 'antipsychotic', 'medicate', 'uncontrollable', 'reaction', 'ingest']\n",
      "\t2010_2005: ['addict', 'addiction', 'trafficker', 'ingest', 'addicted', 'ingestion', 'trafficking', 'interdiction', 'paraphernalia', 'contraindicate']\n",
      "\n",
      "ketamine\n",
      "No semantic shifts found.\n",
      "ketamine\n",
      "\t2010_2005: ['indicator', 'counterfeit', 'ammonia', 'isomer', 'pseudoephedrine', 'intuition', 'leafy', 'tivoli', 'anhydrous', 'precursor']\n",
      "\n"
     ]
    }
   ],
   "source": [
    "for n in narcotics:\n",
    "    print(n)\n",
    "    print_shift(find_semantic_shift(models, couple_list, n))\n",
    "    print_similar(n, models, 10)\n",
    "    print()    "
   ]
  }
 ],
 "metadata": {
  "interpreter": {
   "hash": "916dbcbb3f70747c44a77c7bcd40155683ae19c65e1c03b4aa3499c5328201f1"
  },
  "kernelspec": {
   "display_name": "Python 3.8.10 64-bit",
   "language": "python",
   "name": "python3"
  },
  "language_info": {
   "codemirror_mode": {
    "name": "ipython",
    "version": 3
   },
   "file_extension": ".py",
   "mimetype": "text/x-python",
   "name": "python",
   "nbconvert_exporter": "python",
   "pygments_lexer": "ipython3",
   "version": "3.8.10"
  },
  "orig_nbformat": 4
 },
 "nbformat": 4,
 "nbformat_minor": 2
}
