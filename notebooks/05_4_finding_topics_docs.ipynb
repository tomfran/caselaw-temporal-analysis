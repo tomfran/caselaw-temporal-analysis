{
 "cells": [
  {
   "cell_type": "code",
   "execution_count": 1,
   "metadata": {},
   "outputs": [],
   "source": [
    "import sys\n",
    "sys.path.append(\"..\")\n",
    "\n",
    "import pickle\n",
    "import json\n",
    "import numpy as np\n",
    "\n",
    "from src.dataset import Dataset\n",
    "from src.vectorizers import TokenVectorizer\n",
    "\n",
    "import warnings\n",
    "warnings.filterwarnings('ignore')"
   ]
  },
  {
   "cell_type": "markdown",
   "metadata": {},
   "source": [
    "### Find topics for each document and save them to json\n",
    "They will be merged with the dataset in a separate notebook."
   ]
  },
  {
   "cell_type": "code",
   "execution_count": 2,
   "metadata": {},
   "outputs": [],
   "source": [
    "lda_model = pickle.load(open(\"../data/models/IAC_exp_seed_minf_10_max_50%.pk\", \"rb\"))\n",
    "_, vectorizer = TokenVectorizer.load_vectors_vectorizer(method=\"count\")\n",
    "\n",
    "def get_topics(lda_output):\n",
    "    return [[str(e) for e in row] for row in lda_output]\n",
    "\n",
    "def save_topics(topics_list, filename):\n",
    "    with open(filename, \"w\") as f:\n",
    "        f.write(json.dumps(topics_list))"
   ]
  },
  {
   "cell_type": "code",
   "execution_count": 3,
   "metadata": {},
   "outputs": [
    {
     "name": "stdout",
     "output_type": "stream",
     "text": [
      "Processing year: 1760\n",
      "Processing year: 1800\n",
      "Processing year: 1820\n",
      "Processing year: 1840\n",
      "Processing year: 1860\n",
      "Processing year: 1880\n",
      "Processing year: 1900\n",
      "Processing year: 1920\n",
      "Processing year: 1940\n",
      "Processing year: 1960\n",
      "Processing year: 1980\n",
      "Processing year: 2000\n"
     ]
    }
   ],
   "source": [
    "d = Dataset()\n",
    "\n",
    "for year in [1760, 1800, 1820, 1840, 1860, 1880, 1900, 1920, 1940, 1960, 1980, 2000]:\n",
    "    print(f\"Processing year: {year}\")\n",
    "    tokens = [e[\"tokens\"] for e in d.load_dataset(year=year, fields={\"tokens\"})]\n",
    "    \n",
    "    vectors = vectorizer.transform(tokens)\n",
    "    lda_output = lda_model.transform(vectors)\n",
    "    \n",
    "    save_topics(get_topics(lda_output), f\"../data/processed/topics/{year}.json\")"
   ]
  }
 ],
 "metadata": {
  "interpreter": {
   "hash": "916dbcbb3f70747c44a77c7bcd40155683ae19c65e1c03b4aa3499c5328201f1"
  },
  "kernelspec": {
   "display_name": "Python 3.8.10 64-bit",
   "language": "python",
   "name": "python3"
  },
  "language_info": {
   "codemirror_mode": {
    "name": "ipython",
    "version": 3
   },
   "file_extension": ".py",
   "mimetype": "text/x-python",
   "name": "python",
   "nbconvert_exporter": "python",
   "pygments_lexer": "ipython3",
   "version": "3.8.10"
  },
  "orig_nbformat": 4
 },
 "nbformat": 4,
 "nbformat_minor": 2
}
