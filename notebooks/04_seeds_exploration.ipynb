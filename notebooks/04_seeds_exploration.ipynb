{
 "cells": [
  {
   "cell_type": "markdown",
   "id": "8389d946-0c34-4a71-997d-edb5df5671fa",
   "metadata": {},
   "source": [
    "# Seeds exploration\n",
    "\n",
    "The idea is to expand the set of words of interest; in fact, not all the suggested words are present in the corpus, and some of them have really low frequencies. This is a problem when trying to guide to topic modelling around the concepts of interests, because these words appear in few documents. Trying to expand the set should help us in discovering better topics (and in general in doing a better analysis)."
   ]
  },
  {
   "cell_type": "code",
   "execution_count": 7,
   "id": "04f71e9b-0f7b-4e1f-8069-45f538c98b74",
   "metadata": {},
   "outputs": [],
   "source": [
    "import warnings\n",
    "warnings.filterwarnings('ignore')\n",
    "\n",
    "import sys\n",
    "sys.path.append(\"..\")\n",
    "\n",
    "from pprint import pprint\n",
    "import itertools\n",
    "\n",
    "from src.dataset import Dataset\n",
    "\n",
    "import spacy\n",
    "nlp = spacy.load('en_core_web_md', disable=['parser', 'ner']) # just keep tagger for lemmatization"
   ]
  },
  {
   "cell_type": "code",
   "execution_count": 8,
   "id": "b20dcb1f-3734-4150-be71-353f21041e6a",
   "metadata": {},
   "outputs": [],
   "source": [
    "dataset = Dataset()\n",
    "tokens = dataset.load_dataset(year=None, \n",
    "                              tokens=True, \n",
    "                              courts={\"Illinois Supreme Court\"})"
   ]
  },
  {
   "cell_type": "code",
   "execution_count": 18,
   "id": "f5746178-ea58-4f61-b63a-02e234c72f47",
   "metadata": {},
   "outputs": [],
   "source": [
    "from collections import defaultdict\n",
    "def check_corpus_presence(narcotics, weapons, investigation, filtered_tokens, topN=100, notFoundN=100):\n",
    "    seen = set()\n",
    "    not_found = weapons.union(investigation).union(narcotics)\n",
    "    freq = defaultdict(lambda:0)\n",
    "    for doc in filtered_tokens:\n",
    "        for w in set(doc): \n",
    "            if w in not_found:\n",
    "                seen.add(w)\n",
    "                freq[w] += 1\n",
    "    \n",
    "    not_found -= seen\n",
    "                \n",
    "    sorted_words = sorted([(v,k) for k,v in freq.items()])\n",
    "    if topN:\n",
    "        print(', '.join([str(t) for t in sorted_words[:topN]]))\n",
    "    else:\n",
    "        print(', '.join([str(t) for t in sorted_words]))    \n",
    "    print(f\"*** Not found ({len(not_found)} words): ***\")\n",
    "    if notFoundN:\n",
    "        print(', '.join([t for t in itertools.islice(not_found, notFoundN)]))\n",
    "    else:\n",
    "        print(', '.join(not_found))    \n",
    "    \n",
    "    return sorted_words, not_found"
   ]
  },
  {
   "cell_type": "markdown",
   "id": "9ba26930-54f6-4839-9f6e-b975f4995866",
   "metadata": {},
   "source": [
    "### Initial sets\n",
    "We keep singular and plural versions of words because the pre-processing phase can produce both versions, depending on the context (we use Spacy)"
   ]
  },
  {
   "cell_type": "code",
   "execution_count": 19,
   "id": "c458cc89-3647-421c-88b7-80a4f90a6744",
   "metadata": {},
   "outputs": [],
   "source": [
    "narcotics = {'cannabis', 'cocaine', 'methamphetamine', 'drugs', 'drug', 'marijuana', \n",
    "             'ecstasy', 'lsd', 'ketamine', 'heroin', 'fentanyl', 'overdose', 'blunt'}\n",
    "\n",
    "weapons = {'gun', 'knife', 'weapon', 'firearm', 'rifle', 'carbine', 'shotgun', 'handgun', \n",
    "           'revolver', 'musket', 'pistol', 'derringer', 'assault', 'rifle', 'sword'}\n",
    "\n",
    "investigation = {'gang', 'mafia', 'serial',  'killer', 'rape', 'theft', 'recidivism', \n",
    "                 'arrest', 'robbery', 'cybercrime', 'cyber', 'crime'}"
   ]
  },
  {
   "cell_type": "markdown",
   "id": "ea36596e-2ee4-4927-ad2d-4ee3305df52a",
   "metadata": {},
   "source": [
    "As we can see, many words don't appear so frequently in the collection, and some words don't even appear; if we want to try to drive the Topic Modelling process towards topics of interest, we need to expand these sets with more frequent words."
   ]
  },
  {
   "cell_type": "code",
   "execution_count": 20,
   "id": "27849c87-c15a-456d-b033-a668f1fcb8fd",
   "metadata": {},
   "outputs": [
    {
     "name": "stdout",
     "output_type": "stream",
     "text": [
      "(1, 'cyber'), (1, 'ketamine'), (2, 'musket'), (5, 'mafia'), (8, 'derringer'), (14, 'drugs'), (18, 'methamphetamine'), (20, 'carbine'), (20, 'overdose'), (29, 'lsd'), (32, 'recidivism'), (100, 'sword'), (138, 'killer'), (142, 'cannabis'), (158, 'serial'), (203, 'blunt'), (204, 'handgun'), (205, 'rifle'), (265, 'shotgun'), (288, 'marijuana'), (290, 'heroin'), (320, 'cocaine'), (359, 'firearm'), (392, 'gang'), (721, 'pistol'), (773, 'knife'), (923, 'revolver'), (975, 'theft'), (1043, 'rape'), (1475, 'weapon'), (1611, 'drug'), (1941, 'gun'), (2053, 'assault'), (2279, 'robbery'), (5971, 'arrest'), (6662, 'crime')\n",
      "*** Not found (3 words): ***\n",
      "fentanyl, ecstasy, cybercrime\n"
     ]
    }
   ],
   "source": [
    "_ = check_corpus_presence(narcotics, weapons, investigation, tokens)"
   ]
  },
  {
   "cell_type": "code",
   "execution_count": 21,
   "id": "b82d48a4-7989-44af-ae3f-4e97bdd7586d",
   "metadata": {},
   "outputs": [],
   "source": [
    "not_found_in_collection = {'ecstasy', 'cybercrime', 'fentanyl'}\n",
    "\n",
    "interesting_set = narcotics.union(weapons).union(investigation)"
   ]
  },
  {
   "cell_type": "markdown",
   "id": "393fcb7e-0c98-4de5-9aa2-b43feba0a006",
   "metadata": {},
   "source": [
    "## GoogleNews word embeddings\n",
    "\n",
    "Using word embeddings, it should be possible to find the words that are used in the same context as our words of interest, so that we can expand the seed set with different words that are used in the same context."
   ]
  },
  {
   "cell_type": "code",
   "execution_count": 22,
   "id": "b487e5b5-05f2-47f3-ad4c-610897f8d5f8",
   "metadata": {},
   "outputs": [],
   "source": [
    "from gensim import models\n",
    "\n",
    "w = models.KeyedVectors.load_word2vec_format(\n",
    "    '../data/models/GoogleNews-vectors-negative300.bin', binary=True)"
   ]
  },
  {
   "cell_type": "code",
   "execution_count": 23,
   "id": "5f494006-a75f-43f0-a01f-90a7efe10f3f",
   "metadata": {},
   "outputs": [
    {
     "data": {
      "text/plain": [
       "[('heroin', 0.8294118046760559),\n",
       " ('crack_cocaine', 0.8008098006248474),\n",
       " ('methamphetamine', 0.7232441306114197),\n",
       " ('narcotics', 0.707099974155426),\n",
       " ('methamphetamines', 0.7007291316986084)]"
      ]
     },
     "execution_count": 23,
     "metadata": {},
     "output_type": "execute_result"
    }
   ],
   "source": [
    "w.most_similar(positive=['cocaine'], topn=5)"
   ]
  },
  {
   "cell_type": "code",
   "execution_count": 24,
   "id": "0e0c5de6-20ae-4901-a19c-06624b4b67f9",
   "metadata": {},
   "outputs": [
    {
     "name": "stdout",
     "output_type": "stream",
     "text": [
      "*** pistol ***:\n",
      " rifle, 0.84 - pistols, 0.8 - handgun, 0.79 - 9mm_pistol, 0.77 - gun, 0.77\n",
      "*** gun ***:\n",
      " handgun, 0.81 - guns, 0.78 - pistol, 0.77 - firearm, 0.74 - firearms, 0.73\n",
      "*** drug ***:\n",
      " drugs, 0.85 - Drug, 0.75 - narcotics, 0.64 - cocaine, 0.61 - heroin, 0.61\n",
      "*** heroin ***:\n",
      " cocaine, 0.83 - Heroin, 0.77 - crack_cocaine, 0.74 - narcotics, 0.73 - methamphetamine, 0.72\n",
      "*** firearm ***:\n",
      " firearms, 0.8 - handgun, 0.77 - gun, 0.74 - possessing_firearm, 0.71 - pistol, 0.7\n",
      "*** carbine ***:\n",
      " rifle, 0.71 - carbines, 0.69 - rifles, 0.65 - M4_carbine, 0.64 - pistol, 0.63\n",
      "*** killer ***:\n",
      " killers, 0.76 - murderer, 0.66 - Killer, 0.64 - serial_killer, 0.6 - rapist, 0.57\n",
      "*** methamphetamine ***:\n",
      " meth, 0.9 - methamphetamines, 0.86 - crystal_methamphetamine, 0.8 - Methamphetamine, 0.79 - meth_amphetamine, 0.76\n",
      "*** fentanyl ***:\n",
      " Fentanyl, 0.72 - oxycodone, 0.66 - painkiller_fentanyl, 0.64 - fentanyl_patch, 0.62 - morphine, 0.62\n",
      "*** sword ***:\n",
      " swords, 0.77 - broadsword, 0.66 - sandal_flick, 0.63 - katana, 0.62 - scimitar, 0.6\n",
      "*** cybercrime ***:\n",
      " Cybercrime, 0.76 - cybercrimes, 0.75 - cyber, 0.73 - cyber_criminals, 0.65 - identity_theft, 0.63\n",
      "*** derringer ***:\n",
      " derringer_pistol, 0.66 - Ruger_pistol, 0.66 - 9mm_handgun, 0.66 - Derringer_pistol, 0.66 - .##_magnum_revolver, 0.66\n",
      "*** mafia ***:\n",
      " mafias, 0.71 - Mafia, 0.68 - gangsters, 0.67 - underworld, 0.66 - mafioso, 0.66\n",
      "*** arrest ***:\n",
      " arrests, 0.7 - arrested, 0.67 - arrrest, 0.64 - rearrest, 0.6 - arresting, 0.6\n",
      "*** rape ***:\n",
      " sexual_assault, 0.79 - rapes, 0.73 - Rape, 0.73 - raping, 0.72 - raped, 0.71\n",
      "*** ecstasy ***:\n",
      " ecstacy, 0.77 - Ecstasy, 0.73 - Ecstacy, 0.65 - amphetamine, 0.65 - MDMA, 0.64\n",
      "*** weapon ***:\n",
      " weapons, 0.73 - firearm, 0.62 - gun, 0.61 - pistol, 0.6 - handgun, 0.59\n",
      "*** robbery ***:\n",
      " armed_robbery, 0.88 - attempted_robbery, 0.87 - robberies, 0.83 - carjacking, 0.78 - burglary, 0.77\n",
      "*** overdose ***:\n",
      " drug_overdose, 0.8 - overdosing, 0.72 - overdosed, 0.71 - fatal_overdose, 0.7 - overdoses, 0.7\n",
      "*** handgun ***:\n",
      " semiautomatic_handgun, 0.82 - .##_caliber_handgun, 0.82 - 9mm_handgun, 0.82 - gun, 0.81 - 9_mm_handgun, 0.81\n",
      "*** knife ***:\n",
      " kitchen_knife, 0.81 - knives, 0.77 - steak_knife, 0.75 - machete, 0.74 - carving_knife, 0.74\n",
      "*** musket ***:\n",
      " muskets, 0.74 - flintlock_muskets, 0.63 - flintlocks, 0.62 - cannon, 0.62 - flintlock_rifles, 0.62\n",
      "*** ketamine ***:\n",
      " Ketamine, 0.78 - MDMA, 0.65 - ketamine_hydrochloride, 0.65 - Ecstasy, 0.61 - horse_tranquillizer, 0.61\n",
      "*** recidivism ***:\n",
      " reoffending, 0.73 - reducing_recidivism, 0.7 - reduce_recidivism, 0.69 - Recidivism, 0.69 - reconviction, 0.64\n",
      "*** cannabis ***:\n",
      " marijuana, 0.81 - Cannabis, 0.75 - herbal_cannabis, 0.71 - skunk_cannabis, 0.71 - marihuana, 0.68\n",
      "*** crime ***:\n",
      " crimes, 0.75 - Crime, 0.7 - murders, 0.62 - homicides, 0.61 - criminality, 0.61\n",
      "*** shotgun ***:\n",
      " gauge_shotgun, 0.76 - .##_caliber_rifle, 0.7 - double_barreled_shotgun, 0.7 - pistol, 0.69 - handgun, 0.67\n",
      "*** cyber ***:\n",
      " cybercrime, 0.73 - cybersecurity, 0.68 - cyberterrorism, 0.66 - cyberspace, 0.65 - cyber_warfare, 0.64\n",
      "*** theft ***:\n",
      " thefts, 0.81 - Theft, 0.78 - stolen, 0.72 - burglary, 0.7 - larceny, 0.69\n",
      "*** blunt ***:\n",
      " drugs, 0.7 - cocaine, 0.66 - methamphetamine, 0.65 - cannabis, 0.65 - narcotics, 0.64\n",
      "*** revolver ***:\n",
      " pistol, 0.74 - revolvers, 0.69 - handgun, 0.68 - 9mm_handgun, 0.68 - .##_revolver, 0.68\n",
      "*** cocaine ***:\n",
      " heroin, 0.83 - crack_cocaine, 0.8 - methamphetamine, 0.72 - narcotics, 0.71 - methamphetamines, 0.7\n",
      "*** marijuana ***:\n",
      " cannabis, 0.81 - Marijuana, 0.79 - marijauna, 0.76 - marihuana, 0.75 - medicinal_marijuana, 0.74\n",
      "*** rifle ***:\n",
      " pistol, 0.84 - rifles, 0.8 - assault_rifle, 0.75 - .##_caliber, 0.73 - .##_caliber_rifle, 0.71\n",
      "*** drugs ***:\n",
      " drug, 0.85 - prescription_drugs, 0.69 - medications, 0.67 - illicit_drugs, 0.67 - Drugs, 0.67\n",
      "*** serial ***:\n",
      " ########_##XX, 0.64 - killers, 0.6 - murderer, 0.57 - serial_killer, 0.56 - Serial, 0.55\n",
      "*** gang ***:\n",
      " gangs, 0.8 - Bloods_gang, 0.68 - Sureno_gang, 0.68 - Norteño_gang, 0.67 - Sureño_gang, 0.66\n",
      "*** assault ***:\n",
      " assaults, 0.72 - assualt, 0.71 - assaulting, 0.65 - asault, 0.65 - aggravated_assault, 0.6\n",
      "*** lsd ***:\n",
      " seroquel, 0.61 - mmj, 0.59 - xr, 0.58 - generic_vicodin, 0.55 - dreampharmaceuticals, 0.55\n"
     ]
    }
   ],
   "source": [
    "top_words = 5\n",
    "\n",
    "for word in interesting_set:\n",
    "    if word == \"blunt\": # usually blunt is too generic, not referring to drugs\n",
    "        similar_words = w.most_similar(positive=[word, \"drug\", \"marijuana\"], topn=top_words)\n",
    "    elif word == \"serial\": # too generic by itself\n",
    "        similar_words = w.most_similar(positive=[word, \"killer\"], topn=top_words)    \n",
    "    else:\n",
    "        similar_words = w.most_similar(positive=[word], topn=top_words)\n",
    "    print(f\"*** {word} ***:\\n {' - '.join(map(lambda x: f'{x[0]}, {round(x[1], 2)}', similar_words))}\")"
   ]
  },
  {
   "cell_type": "markdown",
   "id": "8b2e16db-4972-4ad9-adea-affae958dc3f",
   "metadata": {},
   "source": [
    "Some words are compounds words, which would be separated by a whitespace but in order to keep them in googleNewsVectors it has been chosen to use the underscore in order to combine them; we need to split them in singular words, because we are expanding the set using only single words."
   ]
  },
  {
   "cell_type": "code",
   "execution_count": 25,
   "id": "dec95b05-5de6-40ff-ab63-ba83b7e2a6e5",
   "metadata": {},
   "outputs": [],
   "source": [
    "top_words = 100\n",
    "\n",
    "def addWordsToSet(wordSet, similar_words, lemmatize=False):\n",
    "    if lemmatize:\n",
    "        for similar_word in similar_words:\n",
    "             words = [\" \".join([token.lemma_ for token in nlp(similar.lower())]) for similar in similar_word[0].split(\"_\")]  # split composite words in singular ones\n",
    "             wordSet.update(words)\n",
    "    else:\n",
    "        for similar_word in similar_words:\n",
    "            wordSet.update([w.lower() for w in similar_word[0].split(\"_\")])\n"
   ]
  },
  {
   "cell_type": "markdown",
   "id": "2c04f439-d8c2-490c-ad27-471c4ade4483",
   "metadata": {},
   "source": [
    "### Start expansion process\n",
    "Get top n words for each word of interest. This is our starting point in order to expand the seeds."
   ]
  },
  {
   "cell_type": "code",
   "execution_count": 26,
   "id": "0453a749-d72b-49c7-8dec-db13cf77a289",
   "metadata": {},
   "outputs": [
    {
     "name": "stdout",
     "output_type": "stream",
     "text": [
      "*** New narcotics (496 words): ***\n",
      "anesthetic, antipsychotic, amphetamine, suspected, coroner, lortab, pgi2, smokable, methyl, ecstacy, imitation, acetylcysteine, yerba, cardiac, toprol, hallucinogens, deoxy, reservation, euphoric, mdma, muscle, trafficable, paraphenalia, methampetamine, adipex, amytal, commonly, subutex, dagga, powder, vertex, klonopin, adderal, amyl, od'd, benzylpiperazine, psychostimulant, fentanyl, suboxone, toxicity, medicines, syabu, pneumonia, glibenclamide, hydroponically, ghb, cialis, arrest, heart, marajuana\n",
      "*** New weapons (485 words): ***\n",
      "guns, scimitar, wielding, longbows, plated, hammer, mallet, ammunition, bows, cannonball, occasioning, gravity, imitation, assult, airsoft, &, semiautomatic, chambering, lightsabres, nine, iiia, unlicenced, degree, assualting, damocles, article, indecent, kukri, warrior, wesson, scepter, paring, gage, volleys, cleaver, enactments, dragoons, vicious, cobra, powder, enactor, lascivious, .9, short, gladius, silencer, steak, hangs, flash, m\n",
      "*** New investigation (1002 words) ***:\n",
      "cyberterrorism, neapolitan, wielding, mentally, violent, heldreth, cartel, protection, adware, thriller, wars, oo, probing, prolific, prisoner, assult, dentention, jigsaw, psychopath, centers, pink, schoolgirl, zeus, assualting, jails, man, infection, extortions, prosecution, indecent, sureno, ddos, birney, cobras, snatching, knowledge, canadawide, recidivist, don, fugitive, stolen, cyberdefense, backpacker, prisons, jeremy, aarelaid, burglarize, carlton, slashings, hilton\n"
     ]
    }
   ],
   "source": [
    "new_narcotics, new_weapons, new_investigation = set(), set(), set()\n",
    "for word in interesting_set:\n",
    "    if word == \"blunt\": # usually blunt is too generic, not referring to drugs\n",
    "        similar_words = w.most_similar(positive=[word, \"drug\", \"marijuana\"], topn=top_words)\n",
    "    elif word == \"serial\": # too generic by itself\n",
    "        similar_words = w.most_similar(positive=[word, \"killer\"], topn=top_words)\n",
    "    else:\n",
    "        similar_words = w.most_similar(positive=[word], topn=top_words)\n",
    "        \n",
    "    if word in narcotics:\n",
    "        addWordsToSet(new_narcotics, similar_words)\n",
    "    elif word in weapons:\n",
    "        addWordsToSet(new_weapons, similar_words)\n",
    "    elif word in investigation:\n",
    "        addWordsToSet(new_investigation, similar_words)\n",
    "    \n",
    "print(f\"*** New narcotics ({len(new_narcotics)} words): ***\\n{', '.join([t for t in itertools.islice(new_narcotics, 50)])}\")\n",
    "print(f\"*** New weapons ({len(new_weapons)} words): ***\\n{', '.join([t for t in itertools.islice(new_weapons, 50)])}\")\n",
    "print(f\"*** New investigation ({len(new_investigation)} words) ***:\\n{', '.join([t for t in itertools.islice(new_investigation, 50)])}\")"
   ]
  },
  {
   "cell_type": "code",
   "execution_count": 27,
   "id": "66d84cfa-74dc-47ca-8ba7-29fa5e2bbcc2",
   "metadata": {},
   "outputs": [
    {
     "name": "stdout",
     "output_type": "stream",
     "text": [
      "(1, 'absconder'), (1, 'aces'), (1, 'affiliations'), (1, 'ambien'), (1, 'amitriptyline'), (1, 'amphetamines'), (1, 'antidepression'), (1, 'arrrest'), (1, 'assualt'), (1, 'assult'), (1, 'attacks'), (1, 'bali'), (1, 'balls'), (1, 'boots'), (1, 'botched'), (1, 'bredel'), (1, 'bullying'), (1, 'calabrian'), (1, 'chainsaw'), (1, 'chucks'), (1, 'chucky'), (1, 'cleared'), (1, 'clonazepam'), (1, 'concealed'), (1, 'cooks'), (1, 'criminals'), (1, 'crip'), (1, 'crooks'), (1, 'cyber'), (1, 'dextromethorphan'), (1, 'diazepam'), (1, 'effects'), (1, 'epic'), (1, 'familia'), (1, 'felons'), (1, 'flintlock'), (1, 'foxen'), (1, 'genovese'), (1, 'grasso'), (1, 'harasser'), (1, 'hcl'), (1, 'herion'), (1, 'hilltop'), (1, 'homocide'), (1, 'howitzer'), (1, 'id'), (1, 'indictments'), (1, 'insider'), (1, 'ketamine'), (1, 'kiddie'), (1, 'killings'), (1, 'krishna'), (1, 'langner'), (1, 'larcency'), (1, 'legalizing'), (1, 'lorazepam'), (1, 'manhunt'), (1, 'meow'), (1, 'mice'), (1, 'milly'), (1, 'minie'), (1, 'minimi'), (1, 'mmj'), (1, 'molestor'), (1, 'moors'), (1, 'murderers'), (1, 'neonaticide'), (1, 'nonlethal'), (1, 'norinco'), (1, 'nostra'), (1, 'ons'), (1, 'painkiller'), (1, 'parolees'), (1, 'paxil'), (1, 'phenytoin'), (1, 'pills'), (1, 'polydrug'), (1, 'pons'), (1, 'postponed'), (1, 'preying'), (1, 'propoxyphene'), (1, 'psychedelic'), (1, 'raping'), (1, 'reconvicted'), (1, 'reoffenders'), (1, 'reoffense'), (1, 'robbed'), (1, 'sabers'), (1, 'scopolamine'), (1, 'seconal'), (1, 'seroquel'), (1, 'serpent'), (1, 'sheathed'), (1, 'shotguns'), (1, 'sidearm'), (1, 'siders'), (1, 'sks'), (1, 'soma'), (1, 'sorcery'), (1, 'spies')\n",
      "*** Not found (817 words): ***\n",
      "scimitar, heldreth, occasioning, smokable, adware, thriller, wars, mdma, &, schoolgirl, lightsabres, methampetamine, sureno, kukri, ddos, stolen, cyberdefense, backpacker, subutex, dagga, aarelaid, klonopin, adderal, hacktivism, benzylpiperazine, gladius, hangs, pceu, infowar, psychostimulant, burglarized, suboxone, mauser, hydroponically, ghb, .##-###, chiques, assaults, cybersecurity, croxteth, piperazine, endocet, xanex, crocky, dhananjoy, mushrooms, nunchuks, stickups, decriminalizing, phishers, arrested, suppressor, chambered, injecting, propecia, evron, whodunnit, vandalisms, ar##, m9, crime.the, worms, opiods, trafficante, cyberthreats, cells, promethazine, vatos, lod, attemped, percocet, cocain, benzodiazepine, botmasters, xr, mafioso, filleting, combating, §, 5, lightsabre, chews, barons, breadknife, hydroxybutyrate, proxamol, alprazolam, hourlong, pawan, cyberterrorist, warrants, grabbed, mjolnir, actiq, ipr, chicano, parabellum, matricide, #,#, trinitarios\n"
     ]
    }
   ],
   "source": [
    "found_google, not_found_google = check_corpus_presence(new_narcotics, new_weapons, new_investigation, tokens)"
   ]
  },
  {
   "cell_type": "markdown",
   "id": "5727396a-b58d-4f05-bd14-c387de89e717",
   "metadata": {},
   "source": [
    "Not all the words of googleNews are present in our collection, also because we use Spacy for the lemmatization during the pre-processing phase. \n",
    "While Spacy shouldn't be used to lemmatize singular words, it should still be better to use it rather than considering directly the words without any kind of pre-processing."
   ]
  },
  {
   "cell_type": "code",
   "execution_count": 28,
   "id": "f5271665-b386-4603-afeb-49ed63e6718a",
   "metadata": {},
   "outputs": [
    {
     "name": "stdout",
     "output_type": "stream",
     "text": [
      "*** New narcotics (462 words): ***\n",
      "anesthetic, drown, antipsychotic, prescribe, amphetamine, lortab, coroner, lace, pgi2, smokable, methyl, ecstacy, imitation, acetylcysteine, yerba, cardiac, toprol, deoxy, reservation, euphoric, mdma, muscle, trafficable, paraphenalia, methampetamine, adipex, amytal, apcali, commonly, subutex, dagga, 5 mg, powder, vertex, mouse, adderal, klonopin, amyl, od'd, benzylpiperazine, psychostimulant, fentanyl, suboxone, toxicity, medicine, syabu, pneumonia, glibenclamide, hydroponically, ghb\n",
      "*** New weapons (428 words): ***\n",
      "scimitar, hammer, mallet, ammunition, cannonball, gravity, imitation, ar # #, unlicence, assult, airsoft, &, semiautomatic, nine, iiia, degree, article, curve, indecent, kukri, warrior, wesson, scepter, gage, holstere, cleaver, grab, vicious, cobra, powder, enactor, lascivious, .9, short, gladius, silencer, steak, flash, breastplate, m, boxcutter, retractable, machete, mauser, a. # #, # .##x##mm, ball, unlawful, springfield, arrest\n",
      "*** New investigation (897 words) ***:\n",
      "cyberterrorism, neapolitan, mentally, violent, heldreth, cartel, protection, adware, thriller, oo, prolific, dr ., prisoner, assult, dentention, jigsaw, psychopath, mask, pink, schoolgirl, zeus, man, infection, prosecution, sureno, indecent, ace, birney, snatching, knowledge, canadawide, recidivist, don, fugitive, name, backpacker, cyberdefense, jeremy, detective, aarelaid, burglarize, cobra, carlton, hilton, hacktivism, arousal, probation, ddo, warrant, cowz\n"
     ]
    }
   ],
   "source": [
    "new_narcotics_lemma, new_weapons_lemma, new_investigation_lemma = set(), set(), set()\n",
    "for word in interesting_set:\n",
    "    if word == \"blunt\": # usually blunt is too generic, not referring to drugs\n",
    "        similar_words = w.most_similar(positive=[word, \"drug\", \"marijuana\"], topn=top_words)\n",
    "    elif word == \"serial\": # too generic by itself\n",
    "        similar_words = w.most_similar(positive=[word, \"killer\"], topn=top_words)\n",
    "    else:\n",
    "        similar_words = w.most_similar(positive=[word], topn=top_words)\n",
    "        \n",
    "    if word in narcotics:\n",
    "        addWordsToSet(new_narcotics_lemma, similar_words, True)\n",
    "    elif word in weapons:\n",
    "        addWordsToSet(new_weapons_lemma, similar_words, True)\n",
    "    elif word in investigation:\n",
    "        addWordsToSet(new_investigation_lemma, similar_words, True)\n",
    "    \n",
    "print(f\"*** New narcotics ({len(new_narcotics_lemma)} words): ***\\n{', '.join([t for t in itertools.islice(new_narcotics_lemma, 50)])}\")\n",
    "print(f\"*** New weapons ({len(new_weapons_lemma)} words): ***\\n{', '.join([t for t in itertools.islice(new_weapons_lemma, 50)])}\")\n",
    "print(f\"*** New investigation ({len(new_investigation_lemma)} words) ***:\\n{', '.join([t for t in itertools.islice(new_investigation_lemma, 50)])}\")\n"
   ]
  },
  {
   "cell_type": "code",
   "execution_count": 29,
   "id": "9d8d39f9-3e97-47b5-8991-77e516305cc9",
   "metadata": {},
   "outputs": [
    {
     "name": "stdout",
     "output_type": "stream",
     "text": [
      "(1, 'absconder'), (1, 'ambien'), (1, 'amitriptyline'), (1, 'antidepression'), (1, 'antiretroviral'), (1, 'arrrest'), (1, 'assualt'), (1, 'assult'), (1, 'bali'), (1, 'batterer'), (1, 'blunderbuss'), (1, 'breastplate'), (1, 'bredel'), (1, 'bugle'), (1, 'bungle'), (1, 'calabrian'), (1, 'chainsaw'), (1, 'chucky'), (1, 'clonazepam'), (1, 'crip'), (1, 'cyber'), (1, 'dextromethorphan'), (1, 'diazepam'), (1, 'dug'), (1, 'epic'), (1, 'familia'), (1, 'flintlock'), (1, 'foxen'), (1, 'gangbanger'), (1, 'gatle'), (1, 'genovese'), (1, 'grasso'), (1, 'harasser'), (1, 'hcl'), (1, 'herion'), (1, 'hilltop'), (1, 'homocide'), (1, 'howitzer'), (1, 'insider'), (1, 'ketamine'), (1, 'kiddie'), (1, 'krishna'), (1, 'langner'), (1, 'larcency'), (1, 'lorazepam'), (1, 'manhunt'), (1, 'meow'), (1, 'milly'), (1, 'minie'), (1, 'minimi'), (1, 'mmj'), (1, 'molestor'), (1, 'neonaticide'), (1, 'nonlethal'), (1, 'norinco'), (1, 'nostra'), (1, 'painkiller'), (1, 'paxil'), (1, 'phenytoin'), (1, 'polydrug'), (1, 'profiler'), (1, 'propoxyphene'), (1, 'psychedelic'), (1, 'reoffense'), (1, 'scopolamine'), (1, 'seconal'), (1, 'seroquel'), (1, 'serpent'), (1, 'sheathe'), (1, 'sidearm'), (1, 'soma'), (1, 'sorcery'), (1, 'sympathomimetic'), (1, 'torrio'), (1, 'ultram'), (1, 'uninsurance'), (1, 'unlicence'), (1, 'upstart'), (1, 'weap'), (1, 'xanthine'), (1, 'yerba'), (2, 'acetaminophen'), (2, 'acto'), (2, 'antabuse'), (2, 'asault'), (2, 'bamber'), (2, 'barbituate'), (2, 'bashing'), (2, 'carjack'), (2, 'catalytic'), (2, 'citrate'), (2, 'concealable'), (2, 'dilaudid'), (2, 'diphenhydramine'), (2, 'ephedrine'), (2, 'extradiction'), (2, 'fedex'), (2, 'fillet'), (2, 'firebug'), (2, 'giancana')\n",
      "*** Not found (586 words): ***\n",
      "scimitar, heldreth, smokable, adware, thriller, ar # #, dr ., mdma, &, schoolgirl, methampetamine, sureno, kukri, backpacker, cyberdefense, subutex, dagga, aarelaid, 5 mg, klonopin, adderal, hacktivism, benzylpiperazine, gladius, pceu, infowar, psychostimulant, suboxone, mauser, hydroponically, ghb, cybersecurity, croxteth, piperazine, endocet, xanex, crocky, m##a #, dhananjoy, cyberspie, suppressor, propecia, m # #, evron, whodunnit, m9, wasarreste, crime.the, trafficante, painkille, promethazine, lod, percocet, cocain, benzodiazepine, xr, mafioso, §, 5, lightsabre, breadknife, hydroxybutyrate, proxamol, alprazolam, vato, hourlong, i d, pawan, cyberterrorist, mjolnir, actiq, ipr, chicano, parabellum, matricide, psuedoephedrine, phishe, colonia, evonitz, mydoom, # # a #, carjacker, reserpine, cannabinoid, cyberstalker, silagra, ecstasy, vicoprofen, sickert, smoothbore, m4, www.csc.com, opioid, btk, cytochrome, breakin, digoxin, heparin, frostmourne, halberd\n"
     ]
    }
   ],
   "source": [
    "found_google_lemma, not_found_google_lemma = check_corpus_presence(new_narcotics_lemma, new_weapons_lemma, new_investigation_lemma, tokens)"
   ]
  },
  {
   "cell_type": "code",
   "execution_count": 30,
   "id": "8a77fb3f-1e5b-48f6-9278-71348f6f6f23",
   "metadata": {},
   "outputs": [
    {
     "name": "stdout",
     "output_type": "stream",
     "text": [
      "*** Never found (903 words): ***\n",
      "scimitar, heldreth, occasioning, smokable, adware, thriller, wars, ar # #, dr ., mdma, &, schoolgirl, lightsabres, methampetamine, sureno, kukri, ddos, stolen, cyberdefense, backpacker, subutex, dagga, aarelaid, 5 mg, klonopin, adderal, hacktivism, benzylpiperazine, gladius, hangs, pceu, infowar, psychostimulant, burglarized, suboxone, mauser, hydroponically, ghb, .##-###, chiques, assaults, cybersecurity, croxteth, piperazine, endocet, xanex, crocky, m##a #, dhananjoy, mushrooms, nunchuks, stickups, decriminalizing, phishers, cyberspie, arrested, suppressor, chambered, injecting, propecia, m # #, evron, whodunnit, vandalisms, ar##, m9, wasarreste, crime.the, worms, opiods, trafficante, cyberthreats, cells, painkille, promethazine, vatos, lod, attemped, percocet, cocain, benzodiazepine, botmasters, xr, mafioso, filleting, combating, §, 5, lightsabre, chews, barons, breadknife, hydroxybutyrate, proxamol, alprazolam, vato, hourlong, pawan, i d, cyberterrorist\n"
     ]
    }
   ],
   "source": [
    "never_found = not_found_google.union(not_found_google_lemma)\n",
    "print(f\"*** Never found ({len(never_found)} words): ***\\n{', '.join([t for t in itertools.islice(never_found, 100)])}\")"
   ]
  },
  {
   "cell_type": "markdown",
   "id": "821a5fa3-2c66-4a4d-a691-6e39f677f6d9",
   "metadata": {},
   "source": [
    "### Combine and filter results\n",
    "We have both the words and their lemmas, we unite them and we subtract from the resulting sets the words that don't appear in our collection."
   ]
  },
  {
   "cell_type": "code",
   "execution_count": 31,
   "id": "60d44f2a-cfcf-449a-82e3-09c1e4e9f573",
   "metadata": {},
   "outputs": [],
   "source": [
    "expanded_narcotics = (set(narcotics).union(new_narcotics).union(new_narcotics_lemma)) - not_found_google - not_found_google_lemma\n",
    "expanded_weapons = (set(weapons).union(new_weapons).union(new_weapons_lemma)) - not_found_google - not_found_google_lemma\n",
    "expanded_investigation = (set(investigation).union(new_investigation).union(new_investigation_lemma)) - not_found_google - not_found_google_lemma"
   ]
  },
  {
   "cell_type": "code",
   "execution_count": 32,
   "id": "c9de1d35-c48e-45e2-827c-194b4d994898",
   "metadata": {},
   "outputs": [
    {
     "name": "stdout",
     "output_type": "stream",
     "text": [
      "*** Expanded narcotics (303 words): ***\n",
      "anesthetic, drown, banning, pfizer, antipsychotic, prescribe, addict, tablets, amphetamine, grown, allergy, addiction, coroner, co, sophisticated, lace, od, steroid, antianxiety, methyl, psychotic, imitation, pseudoephedrine, bath, animal, acid, nonfatal, yerba, dose, pharmaceutical, cardiac, quantity, demerol, narcotic, induced, reservation, euphoric, hallucinogen, malarial, muscle, mari, paxil, addictive, meow, opiate, seconal, asphyxiation, hcl, danny, prescription\n",
      "*** Expanded weapons (362 words): ***\n",
      "guns, wielding, plated, hammer, mallet, ammunition, cannonball, gravity, imitation, unlicence, assult, semiautomatic, nine, iiia, degree, article, curve, indecent, warrior, wesson, paring, gage, volleys, cleaver, grab, enactments, vicious, cobra, powder, lascivious, short, silencer, steak, flash, breastplate, m, retractable, curved, pons, machete, ball, aggravated, unlawful, springfield, arrest, unlawfully, burglary, shotgun, lance, bodily\n",
      "*** Expanded investigation (734 words) ***:\n",
      "neapolitan, wielding, mentally, violent, cartel, protection, oo, probing, prolific, prisoner, assult, jigsaw, psychopath, centers, mask, pink, zeus, man, infection, prosecution, indecent, ace, birney, cobras, snatching, knowledge, recidivist, name, don, fugitive, prisons, jeremy, detective, burglarize, cobra, carlton, hilton, arousal, probation, warrant, rates, pilfer, response, affiliations, kingpin, parolees, santos, felon, selby, escapee\n"
     ]
    }
   ],
   "source": [
    "print(f\"*** Expanded narcotics ({len(expanded_narcotics)} words): ***\\n{', '.join([t for t in itertools.islice(expanded_narcotics, 50)])}\")\n",
    "print(f\"*** Expanded weapons ({len(expanded_weapons)} words): ***\\n{', '.join([t for t in itertools.islice(expanded_weapons, 50)])}\")\n",
    "print(f\"*** Expanded investigation ({len(expanded_investigation)} words) ***:\\n{', '.join([t for t in itertools.islice(expanded_investigation, 50)])}\")"
   ]
  },
  {
   "cell_type": "markdown",
   "id": "34084236-87e8-420e-adf2-4a6e09a8b3a0",
   "metadata": {},
   "source": [
    "### Cleaning of not related words\n",
    "Because of the underscore-splitting process (from compound words to singular words, e.g. 'new_amphetamine' becomes 'new' and 'amphetamine'; while 'amphetamine' is still a word of interest, 'new' is not), and because not all the GoogleVectors words are really meaningful in our topics of interest, it has been necessary to perform a manual cleaning process, going through the expanded seeds word-per-word, checking if its meaning was related to the corresponding topic of interest.\n",
    "At the end of this process, 3 sets have been created, containing those words which are not related to the topics of interest but that were found during the expansion phase; these sets should be subtracted from the expanded sets in order to get the final seeds."
   ]
  },
  {
   "cell_type": "code",
   "execution_count": 33,
   "id": "ccdfe395-27eb-4a7f-9e4c-f9ac2e08a608",
   "metadata": {},
   "outputs": [],
   "source": [
    "not_narcotics = {'suspect', 'medicine', 'gans', 'lab', 'dispensary', 'pain', 'sleeping', 'mouse', 'alliance', 'asphyxia', 'cheap', 'allergic', 'mrs', \n",
    "                 'arrest', 'sleep', 'drowning', 'vertex', 'contain', 'labs', 'heart', 'acute', 'buy', 'magic', 'pneumonia', 'usa', 'control', 'swallow', \n",
    "                 'abstracting', 'residue', 'treat', 'accidental', 'allergy', 'medications', 'dug', 'drown', 'cooks', 'nonfatal', 'quaid', 'grow', 'c', \n",
    "                 'salt', 'highly', 'traffic', 'medicinal', 'dope', 'decriminalize', 'medication', 'manufacture', 'reservation', 'precursor', 'plc', 'cook', \n",
    "                 'e', 'hepatitis', 'euphoric', 'boot', 'med', 'lace', 'lethal', 'twin', 'accidentally', 'generic', 'coroner', 'malarial', 'restraint', 'ba', \n",
    "                 'controlled', 'ultram', 'powerful', 'fit', 'mood', 'danny', 'illicit', 'toxicity', 'effects', 'commonly', 'his', 'quoad', 'n', 'legalize', \n",
    "                 'parkinson', 'fatal', 'amy', 'muscle', 'banning', 'sedentary', 'induce', 'electricity', 'patch', 'horse', 'smell', 'reaction', 'sophisticated', \n",
    "                 'ingest', 'cardiac', 'mice', 'bath', 'swallowed', 'anti', 'legalizing', 'altering', 'mmj', 'abstract', 'imitation', 'tar', 'unk', 'maker', \n",
    "                 'fatally', 'induced', 'medi', 'cocktail', 'surgical', 'grown', 'effect', 'patricia', 'co', 'ban', 'quantity', 'ya', 'clandestine', 'entertainer',\n",
    "                 'new', 'animal', 'chemicals', 'storefront', 'pseudo', 'cr', 'containing', 'alias', 'newer', 'boots', 'alter', 'delirium', 'asphyxiation', 'gamma',\n",
    "                 'wholesaler'}\n",
    "not_weapons = {'addictive', 'bloodstaine', 'grievous', 'model', 'millimeter', 'instrument', 'plate', 'flame', 'shoplift', 'm', 'disorderly', 'kitchen', \n",
    "               'pastry', 'blender', 'plated', 'drug', 'pons', 'small', 'rape', 'power', 'battery', 'criminal', 'uttering', 'arrest', 'attempt', 'bread', \n",
    "               'bone', 'bar', 'cannabis', 'maggard', 'inch', 'fish', 'bloodstained', 'nonlethal', 'hang', 'blacksmith', 'unregistere', 'chuck', 'reckless',\n",
    "               'control', 'polydrug', 'grevious', 'revolutionary', 'chucks', 'utter', 'chrome', 'using', 'crystal', 'treat', 'fillet', 'grab', 'tablets', \n",
    "               'lewd', 'banta', 'harassment', 'fix', 'heroin', 'sandal', 'opiate', 'unlicensed', 'semi', 'gravity', 'cause', 'article', 'salt', 'carrying',\n",
    "               'recklessly', 'narcotic', 'highly', 'bodily', 'petit', 'dope', 'medicinal', 'prize', 'decriminalize', 'toothbrush', 'carving', 'resist',\n",
    "               'tablet', 'threats', 'vicodin', 'pen', 'felonious', 'occasion', 'crow', 'liberties', 'inflict', 'wield', 'affray', 'automatic', 'charge', \n",
    "               'machine', 'acto', 'x', 'harm', 'light', 'concealed', 'lace', 'forcible', 'stimulant', 'springfield', 'prosecutor', 'cocaine', \n",
    "               'methamphetamine', 'contin', 'custodial', 'powered', 'altercation', 'trespassing', 'mm', 'theft', 'load', 'attempe', 'controlled', 'butcher',\n",
    "               'attack', 'illicit', 'nun', 'steroid', 'brawl', 'possessing', 'double', 'facsimile', 'threat', 'nosed', 'legalize', 'mischief', 'enactment',\n",
    "               'officer', 'liberty', 'fantasy', 'caleb', 'paring', 'short', 'meat', 'green', 'crack', 'tactical', 'incident', 'juana', 'fatal', 'unlawful',\n",
    "               'vicious', 'intoxication', 'on', 'marihuana', 're', 'squad', 'banning', 'carry', 'civil', 'peacock', 'nine', 'peeler', 'inflicting', 'stick',\n",
    "               'synthetic', 'pon', 'leather', 'drugs', 'trespass', 'conceal', 'ceremonial', 'conduct', 'cannabi', 'encampment', 'cultivation', 'flick', \n",
    "               'confinement', 'aggravated', 'homemade', 'cock', 'h', 'epic', 'painkiller', 'bath', 'amphetamines', 'flash', 'vegetable', 'sorcery', 'first', \n",
    "               'ornamental', 'shoplifting', 'sexual', 'scissor', 'mallet', 'fife', 'unlicence', 'retractable', 'malicious', 'imitation', 'amphetamine', \n",
    "               'wrench', 'substances', 'steak', 'mighty', 'substance', 'burglary', 'centimeter', 'brittany', 'serpent', 'stanley', 'narcotics', 'causing', \n",
    "               'endangerment', 'addiction', 'sig', 'unlawfully', 'marijuana', 'bugle', 'ons', 'balls', 'forge', 'assualt', 'domestic', 'felony', 'resisting', \n",
    "               'curve', 'ball', 'unlicense', 'pare', 'stimulants', 'methadone', 'caine', 'ban', 'concealable', 'class', 'co', 'deadly', 'meth', 'prescription', \n",
    "               'sault', 'murder', 'allegedly', 'unprovoked', 'indecent', 'filet', 'box', 'hallucinogen', 'potent', 'era', 'cobra', 'robbery', 'unregistered', \n",
    "               'use', 'war', 'mari', 'molestation', 'salute', 'lascivious', 'incense', 'threatening', 'threaten', 'degree', 'curved', 'phencyclidine', \n",
    "               'possess','prescribe', 'warrior', 'abercrombie', 'bowie', 'prescribing', 'misdemeanor', 'fixed', 'carve'}\n",
    "not_investigation = {'cache', 'drink', 'mask', 'scrap', 'id', 'protective', 'rest', 'surrey', 'prison', 'heart', 'brega', 'firearm', 'bar', 'arousal',\n",
    "                     'gunman', 'touch', 'accuse', 'handgun', 'embezzlement', 'psychopath', 'utter', 'misdemeanants', 'name', 'shooters', 'pizza', \n",
    "                     'truancy', 'mara', 'abortion', 'relapse', 'traffic', 'hate', 'carlo', 'incest', 'concealing', 'jewelry', 'wield', 'sheet', \n",
    "                     'joshua', 'organize', 'task', 'dotson', 'prosecutor', 'parental', 'psychopathic', 'daylight', 'banger', 'magistrate', 'offenses',\n",
    "                     'detaining', 'milly', 'nicola', 'attack', 'wielding', 'santos', 'parolees', 'facilities', 'grand', 'organized', 'foxen', \n",
    "                     'postpone', 'hillside', 'in', 'arpaio', 'civilly', 'whereabouts', 'hilton', 'calculating', 'proceedings', 'reoffende', 'illinois',\n",
    "                     'fedex', 'anton', 'bars', 'wnt', 'markus', 'cobras', 'debit', 'mccarthy', 'attacks', 'behavior', 'reputed', 'tool', 'ralph', \n",
    "                     'subway', 'standoff', 'apts', 'bag', 'tamper', 'patronizing', 'ted', 'fake', 'felony', 'oakdale', 'brotherhood', 'ms', 'scheme',\n",
    "                     'attorney', 'night', 'moat', 'unprotected', 'bully', 'mathew', 'selby', 'rates', 'bail', 'stab', 'indecent', 'cell', 'kiddie',\n",
    "                     'detention', 'w', 'releasing', 'motorcycle', 'detainer', 'correctional', 'protection', 'angels', 'los', 'shipman', 'activity',\n",
    "                     'supremacist', 'brother', 'armed', 'pistol', 'grasso', 'jury', 'baseline', 'white', 'mysterious', 'youthful', 'naming', 'caseload',\n",
    "                     'brazen', 'uninsurance', 'reconviction', 'response', 'tampering', 'knife', 'bali', 'aces', 'botched', 'woode', 'buy', 'sandwich',\n",
    "                     'solido', 'tools', 'harold', 'facility', 'mentally', 'nonviolent', 'lewd', 'ace', 'plead', 'car', 'parole', 'break', 'petit', \n",
    "                     'offense', 'safe', 'marc', 'pantry', 'similar', 'pornography', 'carlton', 'classic', 'richard', 'johnny', 'justice', 'stole', \n",
    "                     'spiking', 'spear', 'forcible', 'juvenile', 'knowledge', 'home', 'imprison', 'jigsaw', 'pink', 'repeat', 'mischief', 'bungle', \n",
    "                     'norinco', 'sam', 'petty', 'siders', 'expert', 'squad', 'scenery', 'joe', 'artist', 'prolific', 'chew', 'refuse', 'conceal', \n",
    "                     'habitual', 'ins', 'trespass', 'queen', 'advanced', 'reincarceration', 'distraction', 'postponed', 'misconduct', 'calabrian', \n",
    "                     'cop', 'prisoner', 'ram', 'imperial', 'infection', 'blue', 'jeremy', 'black', 'computer', 'handbag', 'detroit', 'chucky', \n",
    "                     'brandish', 'ice', 'incarceration', 'security', 'identity', 'mai', 'antoni', 'prisons', 'prosecution', 'misappropriation',\n",
    "                     'scare', 'cobra', 'mexican', 'teen', 'notorious', 'tin', 'levi', 'walter', 'sider', 'v', 'crime', 'masked', 'dowler', 'aryan',\n",
    "                     'misdemeanor', 'torrio', 'emergency', 'handcuff', 'detachment', 'human', 'debs', 'mickey', 'mandatory', 'defilement', 'instrument',\n",
    "                     'agency', 'hilltop', 'drug', 'deportation', 'zodiac', 'efrain', 'cold', 'hobo', 'naples', 'spousal', 'uttering', 'dui', 'targeted',\n",
    "                     'attempt', 'detain', 'exploitation', 'incarcerated', 'unregistere', 'neighborhood', 'reconvict', 'moor', 'mortality', 'harbor',\n",
    "                     'meditate', 'testify', 'scared', 'hiv', 'ee', 'sheets', 'disposition', 'joanna', 'refused', 'virus', 'wedlock', 'ex', 'caller',\n",
    "                     'reentry', 'statutory', 'lords', 'exposure', 'deputy', 'convict', 'confined', 'money', 'metal', 'trojan', 'operation', 'reduce',\n",
    "                     'angel', 'collar', 'hospitalization', 'apt', 'rate', 'bust', 'threat', 'straight', 'custody', 'liberty', 'card', 'dr', 'vito', \n",
    "                     'purse', 'sicilian', 'guilty', 'doll', 'jail', 'serial', 'fatal', 'revocation', 'alleged', 're', 'spike', 'return', 'recognizance',\n",
    "                     'variant', 'deuces', 'accused', 'capias', 'nonforcible', 'do', 'nathan', 'pregnancy', 'conviction', 'malicious', 'lover', \n",
    "                     'substance', 'misdemeanant', 'psychiatric', 'persistent', 'melbourne', 'welfare', 'syndicate', 'detainment', 'pietro', 'graffiti',\n",
    "                     'crimes', 'winkler', 'raoul', 'infringement', 'infant', 'doc', 'own', 'victim', 'ar', 'street', 'krishna', 'bundy', 'calculate', \n",
    "                     'indecently', 'within', 'rested', 'forcibly', 'lynn', 'net', 'harden', 'ill', 'worm', 'neapolitan', 'path', 'carnal', 'lab', \n",
    "                     'langner', 'daytime', 'whereabout', 'tony', 'bamber', 'clear', 'odometer', 'criminal', 'arresting', 'bandit', 'birney', 'reducing',\n",
    "                     'bandana', 'rascal', 'lonely', 'bredel', 'ira', 'digital', 'tire', 'uniform', 'baron', 'biker', 'oo', 'cleared', 'target', 'touching',\n",
    "                     'queens', 'indictment', 'pre', 'allege', 'slashing', 'destruction', 'patronize', 'child', 'apprehend', 'crush', 'enzyme', 'chinese',\n",
    "                     'charge', 'thirst', 'offend', 'policing', 'moh', 'force', 'probation', 'overcrowd', 'teodor', 'custodial', 'pect', 'prevalence',\n",
    "                     'dropout', 'teenage', 'arraignment', 'gay', 'shoot', 'yorkshire', 'bike', 'u', 'insane', 'victimization', 'tiny', 'store', 'incident',\n",
    "                     'baby', 'minimum', 'antisocial', 'mass', 'family', 'project', 'offender', 'la', 'capia', 'rearreste', 'waive', 'hardened', 'mad', \n",
    "                     'confine', 'converter', 'centers', 'gord', 'sting', 'domain', 'german', 'man', 'deuce', 'deliveryman', 'detection', 'release', 'police',\n",
    "                     'catalytic', 'proceeding', 'dump', 'nostra', 't', 'surrender', 'apartment', 'center', 'behind', 'meth', 'bullying', 'batterer', 'felon',\n",
    "                     'willful', 'birth', 'genovese', 'consensual', 'converters', 'wooded', 'overcrowded', 'unregistered', 'reconvicted', 'zeus', 'knifepoint',\n",
    "                     'apprehension', 'vigilante', 'brutally', 'upstart'}"
   ]
  },
  {
   "cell_type": "code",
   "execution_count": 34,
   "id": "58361200-8045-4cd4-bc5b-07d85b7dcba0",
   "metadata": {},
   "outputs": [],
   "source": [
    "final_narcotics = expanded_narcotics - not_narcotics\n",
    "final_weapons = expanded_weapons - not_weapons\n",
    "final_investigation = expanded_investigation - not_investigation"
   ]
  },
  {
   "cell_type": "code",
   "execution_count": 35,
   "id": "a165d1d0-88e7-4721-8b17-303c3528a454",
   "metadata": {},
   "outputs": [
    {
     "name": "stdout",
     "output_type": "stream",
     "text": [
      "*** Final narcotics (167 words): ***\n",
      "anesthetic, pfizer, antipsychotic, prescribe, addict, tablets, amphetamine, addiction, od, steroid, antianxiety, methyl, psychotic, pseudoephedrine, acid, yerba, dose, pharmaceutical, demerol, narcotic, hallucinogen, mari, addictive, paxil, opiate, meow, seconal, hcl, prescription, paraphenalia, methaqualone, lorazepam, sodium, alia, librium, amytal, phenytoin, juana, sativa, codeine, cultivate, phencyclidine, powder, ativan, clonazepam, chemical, diphenhydramine, caine, acetaminophen, banta\n",
      "*** Final weapons (158 words): ***\n",
      "guns, gun, sk, wielding, armed, barreled, armored, hammer, cannonball, ammunition, colt, carbine, loader, chainsaw, barrel, sks, nuclear, bayonet, weap, saw, assult, tec, scythe, flintlock, fire, shank, armor, dagger, pellet, semiautomatic, howitzer, breech, musket, iiia, knife, gatle, firing, thompson, scar, luger, loaded, wesson, stabbing, claw, cutlass, gage, volleys, bladed, nova, cleaver\n",
      "*** Final investigation (245 words) ***:\n",
      "suffolk, crooks, lord, forensic, homocide, sexually, profiler, violent, scam, snatcher, terrorism, cartel, dhs, killer, firebug, felons, kidnaping, sodomize, invasion, undercover, unsolved, holdup, probing, slaying, disciples, liberties, rearrest, assult, indictments, crook, mafia, preying, rape, corruption, carjacking, smuggle, culprit, aileen, snatch, heist, gangland, cyber, theft, skim, fbi, poisoning, snatching, recidivist, killings, stabbing\n"
     ]
    }
   ],
   "source": [
    "print(f\"*** Final narcotics ({len(final_narcotics)} words): ***\\n{', '.join([t for t in itertools.islice(final_narcotics, 50)])}\")\n",
    "print(f\"*** Final weapons ({len(final_weapons)} words): ***\\n{', '.join([t for t in itertools.islice(final_weapons, 50)])}\")\n",
    "print(f\"*** Final investigation ({len(final_investigation)} words) ***:\\n{', '.join([t for t in itertools.islice(final_investigation, 50)])}\")"
   ]
  },
  {
   "cell_type": "code",
   "execution_count": 36,
   "id": "8e7a340a-b9aa-47cd-b5eb-14b9e14cab06",
   "metadata": {},
   "outputs": [
    {
     "name": "stdout",
     "output_type": "stream",
     "text": [
      "(1, 'absconder'), (1, 'affiliations'), (1, 'ambien'), (1, 'amitriptyline'), (1, 'amphetamines'), (1, 'antidepression'), (1, 'antiretroviral'), (1, 'arrrest'), (1, 'assualt'), (1, 'assult'), (1, 'blunderbuss'), (1, 'breastplate'), (1, 'chainsaw'), (1, 'clonazepam'), (1, 'criminals'), (1, 'crip'), (1, 'crooks'), (1, 'cyber'), (1, 'dextromethorphan'), (1, 'diazepam'), (1, 'familia'), (1, 'felons'), (1, 'flintlock'), (1, 'gangbanger'), (1, 'gatle'), (1, 'harasser'), (1, 'hcl'), (1, 'herion'), (1, 'homocide'), (1, 'howitzer'), (1, 'indictments'), (1, 'insider'), (1, 'ketamine'), (1, 'killings'), (1, 'larcency'), (1, 'lorazepam'), (1, 'manhunt'), (1, 'meow'), (1, 'minie'), (1, 'minimi'), (1, 'molestor'), (1, 'moors'), (1, 'murderers'), (1, 'neonaticide'), (1, 'painkiller'), (1, 'paxil'), (1, 'phenytoin'), (1, 'pills'), (1, 'polydrug'), (1, 'preying'), (1, 'profiler'), (1, 'propoxyphene'), (1, 'psychedelic'), (1, 'raping'), (1, 'reoffenders'), (1, 'reoffense'), (1, 'robbed'), (1, 'sabers'), (1, 'scopolamine'), (1, 'seconal'), (1, 'seroquel'), (1, 'sheathe'), (1, 'sheathed'), (1, 'shotguns'), (1, 'sidearm'), (1, 'sks'), (1, 'soma'), (1, 'spies'), (1, 'stimulants'), (1, 'sympathomimetic'), (1, 'volleys'), (1, 'weap'), (1, 'xanthine'), (1, 'yerba'), (2, 'acetaminophen'), (2, 'antabuse'), (2, 'asault'), (2, 'assaulting'), (2, 'barbituate'), (2, 'bashing'), (2, 'carjack'), (2, 'citrate'), (2, 'detectives'), (2, 'dilaudid'), (2, 'diphenhydramine'), (2, 'ephedrine'), (2, 'evading'), (2, 'extradiction'), (2, 'firebug'), (2, 'gangsters'), (2, 'giancana'), (2, 'heist'), (2, 'housebreaking'), (2, 'iiia'), (2, 'injectable'), (2, 'katana'), (2, 'kia'), (2, 'kingpin'), (2, 'methyl'), (2, 'mobster'), (2, 'molesting'), (2, 'murdering'), (2, 'musket'), (2, 'paraphenalia'), (2, 'pilfering'), (2, 'pipes'), (2, 'plants'), (2, 'pseudoephedrine'), (2, 'relaxer'), (2, 'reoffender'), (2, 'revolvers'), (2, 'rifleman'), (2, 'robberies'), (2, 'samurai'), (2, 'scabbard'), (2, 'sharpener'), (2, 'stabbed'), (2, 'submachine'), (2, 'swords'), (2, 'vicodin'), (2, 'wea'), (2, 'weaponry'), (2, 'wielding'), (2, 'xanax'), (3, 'bomber'), (3, 'bong'), (3, 'conscript'), (3, 'guns'), (3, 'hallucinogen'), (3, 'harboring'), (3, 'juana'), (3, 'mescaline'), (3, 'methaqualone'), (3, 'penknife'), (3, 'pocketknife'), (3, 'possessing'), (3, 'psilocybin'), (3, 'psychoactive'), (3, 'ritalin'), (3, 'silencer'), (3, 'skimming'), (3, 'skunk'), (3, 'smuggling'), (3, 'snatcher'), (3, 'tablets'), (3, 'tec'), (3, 'thug'), (3, 'weapons'), (4, 'amytal'), (4, 'axes'), (4, 'burglarizing'), (4, 'cannonball'), (4, 'cartel'), (4, 'depakote'), (4, 'dos'), (4, 'dragon'), (4, 'espionage'), (4, 'gangland'), (4, 'hacking'), (4, 'hallucinogenic'), (4, 'ipswich'), (4, 'pawning'), (4, 'satan'), (4, 'sniper'), (4, 'thievery'), (4, 'uncut'), (5, 'addictive'), (5, 'carjacking'), (5, 'cutlass'), (5, 'demerol'), (5, 'glock'), (5, 'hashish'), (5, 'lysergic'), (5, 'mafia'), (5, 'meth'), (5, 'methadone'), (5, 'molester'), (5, 'ninja'), (5, 'pfizer'), (5, 'python'), (5, 'ripper'), (5, 'serrated'), (5, 'sulfate'), (5, 'taurus'), (5, 'warring'), (6, 'aileen'), (6, 'ativan'), (6, 'bladed'), (6, 'clan'), (6, 'cocked'), (6, 'coldblooded'), (6, 'dhs'), (6, 'diethylamide'), (6, 'fiend'), (6, 'kel'), (6, 'laundering'), (6, 'librium'), (6, 'machete'), (6, 'od'), (6, 'piracy'), (6, 'serrate'), (6, 'sharpened'), (6, 'sodomize'), (6, 'stalker'), (6, 'sulphate'), (6, 'terrorism'), (6, 'triad'), (6, 'volley'), (6, 'zoloft'), (7, 'bayonet'), (7, 'defacing'), (7, 'grenade'), (7, 'incense'), (7, 'marihuana'), (7, 'murders'), (7, 'nitrate'), (7, 'rocket'), (7, 'scythe'), (7, 'snatching'), (7, 'spearman'), (7, 'unloaded'), (8, 'buckler'), (8, 'derringer'), (8, 'extortionist'), (8, 'harrassment'), (8, 'phencyclidine'), (8, 'reoffend'), (8, 'sawed'), (8, 'sk'), (8, 'snub'), (8, 'thumbprint'), (9, 'antianxiety'), (9, 'armor'), (9, 'artillery'), (9, 'cannabi'), (9, 'firearms'), (9, 'mari'), (9, 'phenobarbital'), (9, 'ruger'), (9, 'steroid'), (10, 'enactments'), (10, 'luger'), (10, 'pilfer'), (10, 'prescribing'), (10, 'probing'), (10, 'remorseless'), (10, 'tylenol'), (11, 'analgesic'), (11, 'assassin'), (11, 'rearrest'), (11, 'sativa'), (11, 'snitch'), (11, 'snort'), (12, 'baggie'), (12, 'beretta'), (12, 'breech'), (12, 'cultivating'), (12, 'hydrochloride'), (12, 'powdered'), (13, 'codeine'), (13, 'underworld'), (13, 'warfare'), (14, 'depressant'), (14, 'drugs'), (14, 'folding'), (14, 'shoplift'), (15, 'deviant'), (15, 'erb'), (15, 'escapee'), (15, 'fondling'), (15, 'hypnotic'), (15, 'knifepoint'), (15, 'synthetic'), (16, 'claw'), (16, 'contin'), (16, 'sauer'), (16, 'smuggle'), (16, 'switchblade'), (17, 'armored'), (17, 'barreled'), (17, 'hacker'), (17, 'racketeer'), (17, 'relaxant'), (18, 'antipsychotic'), (18, 'methamphetamine'), (18, 'robbing'), (19, 'barbiturate'), (19, 'disciples'), (19, 'sadistic'), (20, 'axis'), (20, 'burglarious'), (20, 'carbine'), (20, 'maniac'), (20, 'overdose'), (20, 'valium'), (21, 'mushroom'), (21, 'suffolk'), (21, 'trafficker'), (22, 'amphetamine'), (22, 'kidnapper'), (22, 'shoplifting'), (22, 'tranquilizer'), (23, 'gambino'), (23, 'infuse'), (23, 'pcp'), (23, 'rapist'), (24, 'racket'), (24, 'skim'), (25, 'yeates'), (26, 'launder'), (26, 'resin'), (26, 'sodium'), (27, 'blackhawk'), (27, 'liberties'), (27, 'spree'), (27, 'tommy'), (27, 'vandalism'), (28, 'caine'), (28, 'dagger'), (28, 'sodomy'), (28, 'unprescribed'), (29, 'antidepressant'), (29, 'lsd'), (30, 'unsolved'), (31, 'anesthetic'), (31, 'narcotics'), (32, 'opiate'), (32, 'recidivism'), (32, 'stickup'), (33, 'caleb'), (34, 'bb'), (34, 'gan'), (35, 'arsenal'), (36, 'abuser'), (36, 'nuclear'), (36, 'recidivist'), (36, 'runaway'), (36, 'spears'), (37, 'banta'), (37, 'counterfeiting'), (37, 'mug'), (38, 'crowbar'), (38, 'magnum'), (38, 'muzzle'), (38, 'parolee'), (38, 'pellet'), (38, 'semiautomatic'), (40, 'trafficking'), (42, 'pharmaceutical'), (42, 'slayer'), (43, 'cleaver'), (43, 'stimulant'), (45, 'culprit'), (46, 'mace'), (46, 'sedative'), (48, 'gunpowder'), (49, 'crescent'), (50, 'disciple'), (50, 'wesson'), (51, 'epileptic'), (52, 'anal'), (52, 'blooded'), (52, 'slaying'), (53, 'loco'), (53, 'murderous'), (54, 'loader'), (55, 'snatch'), (56, 'gangster'), (56, 'guage'), (56, 'shank'), (57, 'psychotropic'), (57, 'remington'), (59, 'dosage'), (59, 'fondle'), (59, 'probationer'), (61, 'extradite'), (62, 'opium'), (62, 'tablet'), (64, 'brandish'), (64, 'deface'), (66, 'screwdriver'), (68, 'substances'), (69, 'morphine'), (71, 'holster'), (73, 'bow'), (75, 'flint'), (75, 'shooter'), (79, 'lance'), (79, 'pawn'), (79, 'slay'), (80, 'kidnaping'), (81, 'dose'), (81, 'premeditate'), (81, 'undercover'), (85, 'abduction'), (86, 'psychotic'), (88, 'discharging'), (89, 'fbi'), (89, 'molestation'), (90, 'pot'), (90, 'stealing'), (91, 'potent'), (92, 'holdup'), (92, 'nova'), (92, 'razor'), (93, 'mob'), (93, 'premeditated'), (93, 'probe'), (94, 'prey'), (95, 'crystal'), (96, 'paraphernalia'), (96, 'sus'), (100, 'sword'), (102, 'raid'), (105, 'stabbing'), (106, 'hack'), (107, 'spear'), (113, 'prostitute'), (117, 'hunting'), (119, 'cutter'), (120, 'ammunition'), (123, 'addiction'), (127, 'crook'), (127, 'knights'), (129, 'disappearance'), (129, 'extortion'), (130, 'acid'), (134, 'counterfeit'), (136, 'winchester'), (138, 'killer'), (139, 'blast'), (140, 'poisoning'), (141, 'spy'), (142, 'cannabis'), (142, 'colt'), (142, 'firing'), (143, 'pill'), (148, 'ar'), (152, 'affiliation'), (152, 'prostitution'), (164, 'molest'), (166, 'criminality'), (174, 'kidnap'), (175, 'extradition'), (175, 'heinous'), (182, 'combat'), (201, 'cannon'), (203, 'blunt'), (204, 'burglar'), (204, 'handgun'), (205, 'rifle'), (206, 'blade'), (207, 'corruption'), (209, 'fugitive'), (214, 'murderer'), (216, 'gauge'), (221, 'scar'), (221, 'violator'), (226, 'kidnapping'), (245, 'thief'), (252, 'crack'), (257, 'boss'), (257, 'loaded'), (265, 'shotgun'), (266, 'addict'), (276, 'forensic'), (276, 'intrusion'), (279, 'arson'), (279, 'sexually'), (288, 'marijuana'), (290, 'heroin'), (296, 'loading'), (297, 'hammer'), (300, 'burglarize'), (311, 'powder'), (320, 'cocaine'), (322, 'saw'), (334, 'inject'), (343, 'felonious'), (349, 'cultivation'), (357, 'fold'), (359, 'firearm'), (386, 'corrupt'), (392, 'gang'), (392, 'stab'), (401, 'caliber'), (401, 'knight'), (414, 'deadly'), (415, 'barrel'), (417, 'intoxication'), (424, 'crew'), (441, 'cultivate'), (464, 'robber'), (466, 'hunter'), (472, 'prescription'), (486, 'bounty'), (505, 'aggravated'), (524, 'delinquency'), (536, 'incarcerate'), (537, 'sex'), (544, 'concealment'), (547, 'smoke'), (562, 'chemical'), (628, 'evade'), (631, 'narcotic'), (646, 'forgery'), (660, 'intercourse'), (721, 'pistol'), (735, 'war'), (750, 'hunt'), (753, 'prescribed'), (769, 'chamber'), (770, 'invasion'), (773, 'knife'), (829, 'homicide'), (871, 'violent'), (903, 'detective'), (923, 'revolver'), (947, 'gage'), (975, 'theft'), (998, 'sexual'), (998, 'shooting'), (1001, 'rob'), (1006, 'pipe'), (1043, 'rape'), (1045, 'killing'), (1153, 'lord'), (1175, 'alia'), (1194, 'suspect'), (1196, 'larceny'), (1332, 'aggravate'), (1475, 'weapon'), (1477, 'burglary'), (1541, 'armed'), (1603, 'blood'), (1611, 'drug'), (1696, 'cal'), (1782, 'violence'), (1826, 'steal'), (1872, 'green'), (1874, 'plant'), (1941, 'gun'), (1968, 'scam'), (2053, 'assault'), (2188, 'don'), (2279, 'robbery'), (3032, 'murder'), (3125, 'medical'), (3204, 'kill'), (3334, 'thompson'), (4008, 'abuse'), (4192, 'fire'), (5083, 'possess'), (5877, 'prescribe'), (5971, 'arrest'), (6608, 'fraud'), (7940, 'substance'), (8056, 'die'), (8118, 'discharge'), (8388, 'violation'), (9723, 'warrant'), (10372, 'death')\n",
      "*** Not found (0 words): ***\n",
      "\n"
     ]
    }
   ],
   "source": [
    "_ = check_corpus_presence(final_narcotics, final_weapons, final_investigation, tokens, topN=None, notFoundN=None)"
   ]
  },
  {
   "cell_type": "code",
   "execution_count": 37,
   "id": "99618381-d84e-4131-9d93-a63e958580ef",
   "metadata": {},
   "outputs": [
    {
     "name": "stdout",
     "output_type": "stream",
     "text": [
      "(1, 'aces'), (1, 'amphetamines'), (1, 'assualt'), (1, 'attacks'), (1, 'bali'), (1, 'balls'), (1, 'batterer'), (1, 'boots'), (1, 'botched'), (1, 'bredel'), (1, 'bugle'), (1, 'bullying'), (1, 'bungle'), (1, 'calabrian'), (1, 'chucks'), (1, 'chucky'), (1, 'cleared'), (1, 'concealed'), (1, 'cooks'), (1, 'dug'), (1, 'effects'), (1, 'epic'), (1, 'foxen'), (1, 'genovese'), (1, 'grasso'), (1, 'hilltop'), (1, 'id'), (1, 'kiddie'), (1, 'krishna'), (1, 'langner'), (1, 'legalizing'), (1, 'mice'), (1, 'milly'), (1, 'mmj'), (1, 'nonlethal'), (1, 'norinco'), (1, 'nostra'), (1, 'ons'), (1, 'painkiller'), (1, 'parolees'), (1, 'polydrug'), (1, 'pons'), (1, 'postponed'), (1, 'reconvicted'), (1, 'serpent'), (1, 'siders'), (1, 'sorcery'), (1, 'stimulants'), (1, 'swallowed'), (1, 'threats'), (1, 'torrio'), (1, 'ultram'), (1, 'uninsurance'), (1, 'unlicence'), (1, 'upstart'), (2, 'abstracting'), (2, 'acto'), (2, 'angels'), (2, 'apts'), (2, 'bamber'), (2, 'catalytic'), (2, 'cobras'), (2, 'concealable'), (2, 'containing'), (2, 'fedex'), (2, 'fillet'), (2, 'his'), (2, 'jigsaw'), (2, 'maggard'), (2, 'misdemeanants'), (2, 'moh'), (2, 'neapolitan'), (2, 'paring'), (2, 'plated'), (2, 'reconvict'), (2, 'rested'), (2, 'retractable'), (2, 'shooters'), (2, 'standoff'), (2, 'supremacist'), (2, 'targeted'), (2, 'teodor'), (2, 'tools'), (2, 'vertex'), (2, 'vicodin'), (2, 'wielding'), (3, 'attempe'), (3, 'blender'), (3, 'brittany'), (3, 'decriminalize'), (3, 'detaining'), (3, 'deuces'), (3, 'efrain'), (3, 'euphoric'), (3, 'filet'), (3, 'hallucinogen'), (3, 'hobo'), (3, 'juana'), (3, 'newer'), (3, 'nicola')\n",
      "*** Not found (0 words): ***\n",
      "\n"
     ]
    }
   ],
   "source": [
    "_ = check_corpus_presence(not_narcotics, not_weapons, not_investigation, tokens)  # Check if there is something borderline which appear lot of times that should be considered as interesting"
   ]
  },
  {
   "cell_type": "markdown",
   "id": "0149e5a8-9348-4e0c-9084-385ddf2c9c6c",
   "metadata": {},
   "source": [
    "## Save to local memory"
   ]
  },
  {
   "cell_type": "code",
   "execution_count": 38,
   "id": "fd526456-2e6a-4dfb-b612-da8fa7422986",
   "metadata": {},
   "outputs": [],
   "source": [
    "from src.seeds import Seeds"
   ]
  },
  {
   "cell_type": "code",
   "execution_count": 39,
   "id": "4f7574ff-4f18-4292-92e0-e8ed2c2e1d5e",
   "metadata": {},
   "outputs": [],
   "source": [
    "seeds = Seeds()"
   ]
  },
  {
   "cell_type": "code",
   "execution_count": 40,
   "id": "66df97d8-6851-4297-adf2-c9040e9c66c7",
   "metadata": {},
   "outputs": [],
   "source": [
    "seeds.save_word2vec_seeds(new_narcotics, new_weapons, new_investigation)\n",
    "seeds.save_word2vec_lemmatized_seeds(new_narcotics_lemma, new_weapons_lemma, new_investigation_lemma)\n",
    "seeds.save_word2vec_combined_seeds(expanded_narcotics, expanded_weapons, expanded_investigation)\n",
    "seeds.save_final_filtered_seeds(final_narcotics, final_weapons, final_investigation)"
   ]
  },
  {
   "cell_type": "code",
   "execution_count": 41,
   "id": "64eeec56-f190-401e-a9b2-505793f42512",
   "metadata": {},
   "outputs": [
    {
     "name": "stdout",
     "output_type": "stream",
     "text": [
      "167 158 245\n"
     ]
    }
   ],
   "source": [
    "n, w, i = seeds.get_final_filtered_seeds()\n",
    "print(len(n), len(w), len(i))"
   ]
  },
  {
   "cell_type": "code",
   "execution_count": null,
   "id": "9241cb9a-4824-424f-9d30-eae949569e02",
   "metadata": {},
   "outputs": [],
   "source": []
  }
 ],
 "metadata": {
  "kernelspec": {
   "display_name": "Python 3",
   "language": "python",
   "name": "python3"
  },
  "language_info": {
   "codemirror_mode": {
    "name": "ipython",
    "version": 3
   },
   "file_extension": ".py",
   "mimetype": "text/x-python",
   "name": "python",
   "nbconvert_exporter": "python",
   "pygments_lexer": "ipython3",
   "version": "3.9.1"
  }
 },
 "nbformat": 4,
 "nbformat_minor": 5
}
