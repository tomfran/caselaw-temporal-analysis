{
 "cells": [
  {
   "cell_type": "markdown",
   "id": "8389d946-0c34-4a71-997d-edb5df5671fa",
   "metadata": {},
   "source": [
    "# Seeds exploration\n",
    "\n",
    "The idea is to expand the set of words of interest; in fact, not all the suggested words are present in the corpus, and some of them have really low frequencies. This is a problem when trying to guide to topic modelling around the concepts of interests, because these words appear in few documents. Trying to expand the set should help us in discovering better topics (and in general in doing a better analysis)."
   ]
  },
  {
   "cell_type": "code",
   "execution_count": 1,
   "id": "04f71e9b-0f7b-4e1f-8069-45f538c98b74",
   "metadata": {},
   "outputs": [],
   "source": [
    "import warnings\n",
    "warnings.filterwarnings('ignore')\n",
    "\n",
    "import sys\n",
    "sys.path.append(\"..\")\n",
    "\n",
    "from pprint import pprint\n",
    "\n",
    "from src.dataset import Dataset"
   ]
  },
  {
   "cell_type": "code",
   "execution_count": 2,
   "id": "b20dcb1f-3734-4150-be71-353f21041e6a",
   "metadata": {},
   "outputs": [],
   "source": [
    "dataset = Dataset()\n",
    "tokens = dataset.load_dataset(year=None, \n",
    "                              tokens=True, \n",
    "                              courts={\"Illinois Supreme Court\"})"
   ]
  },
  {
   "cell_type": "code",
   "execution_count": 3,
   "id": "f5746178-ea58-4f61-b63a-02e234c72f47",
   "metadata": {},
   "outputs": [],
   "source": [
    "from collections import defaultdict\n",
    "def check_presence(narcotics, weapons, investigation, filtered_tokens):\n",
    "    seen = set()\n",
    "    not_found = set(weapons + investigation + narcotics)\n",
    "    freq = defaultdict(lambda:0)\n",
    "    for doc in filtered_tokens:\n",
    "        for w in set(doc): \n",
    "            if w in not_found:\n",
    "                seen.add(w)\n",
    "                freq[w] += 1\n",
    "    \n",
    "    not_found -= seen\n",
    "                \n",
    "    sorted_words = sorted([(v,k) for k,v in freq.items()])\n",
    "    print(', '.join([str(t) for t in sorted_words]))\n",
    "    print(f\"*** Not found ({len(not_found)} words): ***\")\n",
    "    print(', '.join(not_found))\n",
    "    \n",
    "    return sorted_words, not_found"
   ]
  },
  {
   "cell_type": "markdown",
   "id": "9ba26930-54f6-4839-9f6e-b975f4995866",
   "metadata": {},
   "source": [
    "We keep singular and plural versions of words because the pre-processing phase can produce both versions, depending on the context (we use Spacy)"
   ]
  },
  {
   "cell_type": "code",
   "execution_count": 4,
   "id": "c458cc89-3647-421c-88b7-80a4f90a6744",
   "metadata": {},
   "outputs": [],
   "source": [
    "narcotics = ['cannabis', 'cocaine', 'methamphetamine', 'drugs', 'drug', 'marijuana', \n",
    "             'ecstasy', 'lsd', 'ketamine', 'heroin', 'fentanyl', 'overdose']\n",
    "\n",
    "weapons = ['gun', 'knife', 'weapon', 'firearm', 'rifle', 'carbine', 'shotgun', 'handgun', \n",
    "           'revolver', 'musket', 'pistol', 'derringer', 'assault', 'rifle', 'sword', 'blunt']\n",
    "\n",
    "investigation = ['gang', 'mafia', 'serial',  'killer', 'rape', 'theft', 'recidivism', \n",
    "                 'arrest', 'robbery', 'cybercrime', 'cyber', 'crime']"
   ]
  },
  {
   "cell_type": "markdown",
   "id": "ea36596e-2ee4-4927-ad2d-4ee3305df52a",
   "metadata": {},
   "source": [
    "As we can see, many words don't appear so frequently in the collection, and some words don't even appear; if we want to try to drive the Topic Modelling process towards topics of interest, we need to expand these sets with more frequent words."
   ]
  },
  {
   "cell_type": "code",
   "execution_count": 5,
   "id": "27849c87-c15a-456d-b033-a668f1fcb8fd",
   "metadata": {},
   "outputs": [
    {
     "name": "stdout",
     "output_type": "stream",
     "text": [
      "(1, 'cyber'), (1, 'ketamine'), (2, 'musket'), (5, 'mafia'), (8, 'derringer'), (14, 'drugs'), (18, 'methamphetamine'), (20, 'carbine'), (20, 'overdose'), (29, 'lsd'), (32, 'recidivism'), (100, 'sword'), (138, 'killer'), (142, 'cannabis'), (158, 'serial'), (203, 'blunt'), (204, 'handgun'), (205, 'rifle'), (265, 'shotgun'), (288, 'marijuana'), (290, 'heroin'), (320, 'cocaine'), (359, 'firearm'), (392, 'gang'), (721, 'pistol'), (773, 'knife'), (923, 'revolver'), (975, 'theft'), (1043, 'rape'), (1475, 'weapon'), (1611, 'drug'), (1941, 'gun'), (2053, 'assault'), (2279, 'robbery'), (5971, 'arrest'), (6662, 'crime')\n",
      "*** Not found (3 words): ***\n",
      "cybercrime, fentanyl, ecstasy\n"
     ]
    },
    {
     "data": {
      "text/plain": [
       "([(1, 'cyber'),\n",
       "  (1, 'ketamine'),\n",
       "  (2, 'musket'),\n",
       "  (5, 'mafia'),\n",
       "  (8, 'derringer'),\n",
       "  (14, 'drugs'),\n",
       "  (18, 'methamphetamine'),\n",
       "  (20, 'carbine'),\n",
       "  (20, 'overdose'),\n",
       "  (29, 'lsd'),\n",
       "  (32, 'recidivism'),\n",
       "  (100, 'sword'),\n",
       "  (138, 'killer'),\n",
       "  (142, 'cannabis'),\n",
       "  (158, 'serial'),\n",
       "  (203, 'blunt'),\n",
       "  (204, 'handgun'),\n",
       "  (205, 'rifle'),\n",
       "  (265, 'shotgun'),\n",
       "  (288, 'marijuana'),\n",
       "  (290, 'heroin'),\n",
       "  (320, 'cocaine'),\n",
       "  (359, 'firearm'),\n",
       "  (392, 'gang'),\n",
       "  (721, 'pistol'),\n",
       "  (773, 'knife'),\n",
       "  (923, 'revolver'),\n",
       "  (975, 'theft'),\n",
       "  (1043, 'rape'),\n",
       "  (1475, 'weapon'),\n",
       "  (1611, 'drug'),\n",
       "  (1941, 'gun'),\n",
       "  (2053, 'assault'),\n",
       "  (2279, 'robbery'),\n",
       "  (5971, 'arrest'),\n",
       "  (6662, 'crime')],\n",
       " {'cybercrime', 'ecstasy', 'fentanyl'})"
      ]
     },
     "execution_count": 5,
     "metadata": {},
     "output_type": "execute_result"
    }
   ],
   "source": [
    "check_presence(narcotics, weapons, investigation, tokens)"
   ]
  },
  {
   "cell_type": "code",
   "execution_count": 6,
   "id": "b82d48a4-7989-44af-ae3f-4e97bdd7586d",
   "metadata": {},
   "outputs": [],
   "source": [
    "not_found_in_collection = {'ecstasy', 'cybercrime', 'fentanyl'}\n",
    "\n",
    "interesting_set = set(narcotics + weapons + investigation)"
   ]
  },
  {
   "cell_type": "markdown",
   "id": "393fcb7e-0c98-4de5-9aa2-b43feba0a006",
   "metadata": {},
   "source": [
    "## GoogleNews word embeddings\n",
    "\n",
    "Using word embeddings, it should be possible to find the words that are used in the same context as our words of interest, so that we can expand the seed set with different words that are used in the same context."
   ]
  },
  {
   "cell_type": "code",
   "execution_count": 7,
   "id": "b487e5b5-05f2-47f3-ad4c-610897f8d5f8",
   "metadata": {},
   "outputs": [],
   "source": [
    "from gensim import models\n",
    "\n",
    "w = models.KeyedVectors.load_word2vec_format(\n",
    "    '../data/models/GoogleNews-vectors-negative300.bin', binary=True)"
   ]
  },
  {
   "cell_type": "code",
   "execution_count": 8,
   "id": "5f494006-a75f-43f0-a01f-90a7efe10f3f",
   "metadata": {},
   "outputs": [
    {
     "data": {
      "text/plain": [
       "[('heroin', 0.8294118046760559),\n",
       " ('crack_cocaine', 0.8008098006248474),\n",
       " ('methamphetamine', 0.7232441306114197),\n",
       " ('narcotics', 0.707099974155426),\n",
       " ('methamphetamines', 0.7007291316986084)]"
      ]
     },
     "execution_count": 8,
     "metadata": {},
     "output_type": "execute_result"
    }
   ],
   "source": [
    "w.most_similar(positive=['cocaine'], topn=5)"
   ]
  },
  {
   "cell_type": "code",
   "execution_count": 9,
   "id": "0e0c5de6-20ae-4901-a19c-06624b4b67f9",
   "metadata": {},
   "outputs": [
    {
     "name": "stdout",
     "output_type": "stream",
     "text": [
      "*** mafia ***:\n",
      " mafias, 0.71 - Mafia, 0.68 - gangsters, 0.67 - underworld, 0.66 - mafioso, 0.66\n",
      "*** methamphetamine ***:\n",
      " meth, 0.9 - methamphetamines, 0.86 - crystal_methamphetamine, 0.8 - Methamphetamine, 0.79 - meth_amphetamine, 0.76\n",
      "*** serial ***:\n",
      " ########_##XX, 0.64 - killers, 0.6 - murderer, 0.57 - serial_killer, 0.56 - Serial, 0.55\n",
      "*** recidivism ***:\n",
      " reoffending, 0.73 - reducing_recidivism, 0.7 - reduce_recidivism, 0.69 - Recidivism, 0.69 - reconviction, 0.64\n",
      "*** assault ***:\n",
      " assaults, 0.72 - assualt, 0.71 - assaulting, 0.65 - asault, 0.65 - aggravated_assault, 0.6\n",
      "*** rifle ***:\n",
      " pistol, 0.84 - rifles, 0.8 - assault_rifle, 0.75 - .##_caliber, 0.73 - .##_caliber_rifle, 0.71\n",
      "*** ketamine ***:\n",
      " Ketamine, 0.78 - MDMA, 0.65 - ketamine_hydrochloride, 0.65 - Ecstasy, 0.61 - horse_tranquillizer, 0.61\n",
      "*** marijuana ***:\n",
      " cannabis, 0.81 - Marijuana, 0.79 - marijauna, 0.76 - marihuana, 0.75 - medicinal_marijuana, 0.74\n",
      "*** drugs ***:\n",
      " drug, 0.85 - prescription_drugs, 0.69 - medications, 0.67 - illicit_drugs, 0.67 - Drugs, 0.67\n",
      "*** firearm ***:\n",
      " firearms, 0.8 - handgun, 0.77 - gun, 0.74 - possessing_firearm, 0.71 - pistol, 0.7\n",
      "*** sword ***:\n",
      " swords, 0.77 - broadsword, 0.66 - sandal_flick, 0.63 - katana, 0.62 - scimitar, 0.6\n",
      "*** drug ***:\n",
      " drugs, 0.85 - Drug, 0.75 - narcotics, 0.64 - cocaine, 0.61 - heroin, 0.61\n",
      "*** robbery ***:\n",
      " armed_robbery, 0.88 - attempted_robbery, 0.87 - robberies, 0.83 - carjacking, 0.78 - burglary, 0.77\n",
      "*** overdose ***:\n",
      " drug_overdose, 0.8 - overdosing, 0.72 - overdosed, 0.71 - fatal_overdose, 0.7 - overdoses, 0.7\n",
      "*** blunt ***:\n",
      " drugs, 0.7 - cocaine, 0.66 - methamphetamine, 0.65 - cannabis, 0.65 - narcotics, 0.64\n",
      "*** rape ***:\n",
      " sexual_assault, 0.79 - rapes, 0.73 - Rape, 0.73 - raping, 0.72 - raped, 0.71\n",
      "*** cyber ***:\n",
      " cybercrime, 0.73 - cybersecurity, 0.68 - cyberterrorism, 0.66 - cyberspace, 0.65 - cyber_warfare, 0.64\n",
      "*** heroin ***:\n",
      " cocaine, 0.83 - Heroin, 0.77 - crack_cocaine, 0.74 - narcotics, 0.73 - methamphetamine, 0.72\n",
      "*** gun ***:\n",
      " handgun, 0.81 - guns, 0.78 - pistol, 0.77 - firearm, 0.74 - firearms, 0.73\n",
      "*** arrest ***:\n",
      " arrests, 0.7 - arrested, 0.67 - arrrest, 0.64 - rearrest, 0.6 - arresting, 0.6\n",
      "*** crime ***:\n",
      " crimes, 0.75 - Crime, 0.7 - murders, 0.62 - homicides, 0.61 - criminality, 0.61\n",
      "*** musket ***:\n",
      " muskets, 0.74 - flintlock_muskets, 0.63 - flintlocks, 0.62 - cannon, 0.62 - flintlock_rifles, 0.62\n",
      "*** fentanyl ***:\n",
      " Fentanyl, 0.72 - oxycodone, 0.66 - painkiller_fentanyl, 0.64 - fentanyl_patch, 0.62 - morphine, 0.62\n",
      "*** shotgun ***:\n",
      " gauge_shotgun, 0.76 - .##_caliber_rifle, 0.7 - double_barreled_shotgun, 0.7 - pistol, 0.69 - handgun, 0.67\n",
      "*** killer ***:\n",
      " killers, 0.76 - murderer, 0.66 - Killer, 0.64 - serial_killer, 0.6 - rapist, 0.57\n",
      "*** ecstasy ***:\n",
      " ecstacy, 0.77 - Ecstasy, 0.73 - Ecstacy, 0.65 - amphetamine, 0.65 - MDMA, 0.64\n",
      "*** pistol ***:\n",
      " rifle, 0.84 - pistols, 0.8 - handgun, 0.79 - 9mm_pistol, 0.77 - gun, 0.77\n",
      "*** cocaine ***:\n",
      " heroin, 0.83 - crack_cocaine, 0.8 - methamphetamine, 0.72 - narcotics, 0.71 - methamphetamines, 0.7\n",
      "*** knife ***:\n",
      " kitchen_knife, 0.81 - knives, 0.77 - steak_knife, 0.75 - machete, 0.74 - carving_knife, 0.74\n",
      "*** lsd ***:\n",
      " seroquel, 0.61 - mmj, 0.59 - xr, 0.58 - generic_vicodin, 0.55 - dreampharmaceuticals, 0.55\n",
      "*** derringer ***:\n",
      " derringer_pistol, 0.66 - Ruger_pistol, 0.66 - 9mm_handgun, 0.66 - Derringer_pistol, 0.66 - .##_magnum_revolver, 0.66\n",
      "*** handgun ***:\n",
      " semiautomatic_handgun, 0.82 - .##_caliber_handgun, 0.82 - 9mm_handgun, 0.82 - gun, 0.81 - 9_mm_handgun, 0.81\n",
      "*** revolver ***:\n",
      " pistol, 0.74 - revolvers, 0.69 - handgun, 0.68 - 9mm_handgun, 0.68 - .##_revolver, 0.68\n",
      "*** theft ***:\n",
      " thefts, 0.81 - Theft, 0.78 - stolen, 0.72 - burglary, 0.7 - larceny, 0.69\n",
      "*** cannabis ***:\n",
      " marijuana, 0.81 - Cannabis, 0.75 - herbal_cannabis, 0.71 - skunk_cannabis, 0.71 - marihuana, 0.68\n",
      "*** gang ***:\n",
      " gangs, 0.8 - Bloods_gang, 0.68 - Sureno_gang, 0.68 - Norteño_gang, 0.67 - Sureño_gang, 0.66\n",
      "*** cybercrime ***:\n",
      " Cybercrime, 0.76 - cybercrimes, 0.75 - cyber, 0.73 - cyber_criminals, 0.65 - identity_theft, 0.63\n",
      "*** weapon ***:\n",
      " weapons, 0.73 - firearm, 0.62 - gun, 0.61 - pistol, 0.6 - handgun, 0.59\n",
      "*** carbine ***:\n",
      " rifle, 0.71 - carbines, 0.69 - rifles, 0.65 - M4_carbine, 0.64 - pistol, 0.63\n"
     ]
    }
   ],
   "source": [
    "top_words = 5\n",
    "\n",
    "for word in interesting_set:\n",
    "    if word == \"blunt\": # usually blunt is too generic, not referring to drugs\n",
    "        similar_words = w.most_similar(positive=[word, \"drug\", \"marijuana\"], topn=top_words)\n",
    "    elif word == \"serial\": # too generic by itself\n",
    "        similar_words = w.most_similar(positive=[word, \"killer\"], topn=top_words)    \n",
    "    else:\n",
    "        similar_words = w.most_similar(positive=[word], topn=top_words)\n",
    "    print(f\"*** {word} ***:\\n {' - '.join(map(lambda x: f'{x[0]}, {round(x[1], 2)}', similar_words))}\")"
   ]
  },
  {
   "cell_type": "code",
   "execution_count": 10,
   "id": "dec95b05-5de6-40ff-ab63-ba83b7e2a6e5",
   "metadata": {},
   "outputs": [],
   "source": [
    "top_words = 100\n",
    "\n",
    "def addWordsToSet(wordSet, similar_words, lemmatize=False):\n",
    "    if lemmatize:\n",
    "        for similar_word in similar_words:\n",
    "             words = [\" \".join([token.lemma_ for token in nlp(similar.lower())]) for similar in similar_word[0].split(\"_\")]  # split composite words in singular ones\n",
    "             wordSet.update(words)\n",
    "    else:\n",
    "        for similar_word in similar_words:\n",
    "            wordSet.update([w.lower() for w in similar_word[0].split(\"_\")])\n"
   ]
  },
  {
   "cell_type": "markdown",
   "id": "2c04f439-d8c2-490c-ad27-471c4ade4483",
   "metadata": {},
   "source": [
    "Get top n words for each word of interest. This is our starting point in order to expand the seeds."
   ]
  },
  {
   "cell_type": "code",
   "execution_count": 11,
   "id": "0453a749-d72b-49c7-8dec-db13cf77a289",
   "metadata": {},
   "outputs": [
    {
     "name": "stdout",
     "output_type": "stream",
     "text": [
      "*** New narcotics (489 words): ***\n",
      "epileptic, divinorum, effects, salts, shabu, pain, pentazocine, xr, effet, analgesic, grown, resin, zugsberger, nimetazepam, methodone, pills, subutex, cytochrome, powerful, juana, citrate, pgi2, toprol, antiretrovirals, deoxy, containing, kwaso, hydrochloride, khat, seroquel, naltrexone, apcalis, zopiclone, labs, illicit, herbal, pipes, accolate, piperazines, poospatuck, cabergoline, prescription, vendita, legalizing, hepatitis, phenobarbital, tussionex, mdma, highly, fatal\n",
      "*** New weapons (570 words): ***\n",
      "bersa, divinorum, burlgary, peacocks, kitchen, dragon, salts, kel, swordsmen, endangerment, potent, iiia, ##cm, maces, robbery, forcible, affray, methodone, automatic, ninja, blender, longbows, aggrevated, juana, hattori, crowbar, submachine, breastworks, pistol, scissors, sawed, mm, sniper, wea, weaponry, gravity, samurai, rifles, #.##x##mm, &, unloaded, spear, brandished, sword, illicit, semiauto, herbal, tommy, sks, prescription\n",
      "*** New investigation (1002 words) ***:\n",
      "burglarize, extradiction, scams, burlgary, kelowna, crooks, card, dhs, extradition, scared, cyberstalkers, kill, aryan, convict, pignatone, pietro, backpacker, moors, ########, forcibly, rascals, jacker, prosecution, sex, malwares, rostov, robbery, raped, black, convienence, forcible, shooters, blooded, rearresting, sandwich, boss, reoffended, disposition, crime, prevalence, combating, behavior, stickups, botched, supects, crips, arrrested, yob, dump, dos\n"
     ]
    }
   ],
   "source": [
    "new_narcotics, new_weapons, new_investigation = set(), set(), set()\n",
    "for word in interesting_set:\n",
    "    if word == \"blunt\": # usually blunt is too generic, not referring to drugs\n",
    "        similar_words = w.most_similar(positive=[word, \"drug\", \"marijuana\"], topn=top_words)\n",
    "    elif word == \"serial\": # too generic by itself\n",
    "        similar_words = w.most_similar(positive=[word, \"killer\"], topn=top_words)\n",
    "    else:\n",
    "        similar_words = w.most_similar(positive=[word], topn=top_words)\n",
    "        \n",
    "    if word in narcotics:\n",
    "        addWordsToSet(new_narcotics, similar_words)\n",
    "    elif word in weapons:\n",
    "        addWordsToSet(new_weapons, similar_words)\n",
    "    elif word in investigation:\n",
    "        addWordsToSet(new_investigation, similar_words)\n",
    "    \n",
    "print(f\"*** New narcotics ({len(new_narcotics)} words): ***\\n{', '.join(list(new_narcotics)[:50])}\")\n",
    "print(f\"*** New weapons ({len(new_weapons)} words): ***\\n{', '.join(list(new_weapons)[:50])}\")\n",
    "print(f\"*** New investigation ({len(new_investigation)} words) ***:\\n{', '.join(list(new_investigation)[:50])}\")"
   ]
  },
  {
   "cell_type": "code",
   "execution_count": 12,
   "id": "66d84cfa-74dc-47ca-8ba7-29fa5e2bbcc2",
   "metadata": {},
   "outputs": [
    {
     "name": "stdout",
     "output_type": "stream",
     "text": [
      "(1, 'absconder'), (1, 'aces'), (1, 'affiliations'), (1, 'ambien'), (1, 'amitriptyline'), (1, 'amphetamines'), (1, 'antidepression'), (1, 'arrrest'), (1, 'assualt'), (1, 'assult'), (1, 'attacks'), (1, 'bali'), (1, 'balls'), (1, 'boots'), (1, 'botched'), (1, 'bredel'), (1, 'bullying'), (1, 'calabrian'), (1, 'chainsaw'), (1, 'chucks'), (1, 'chucky'), (1, 'cleared'), (1, 'clonazepam'), (1, 'concealed'), (1, 'cooks'), (1, 'criminals'), (1, 'crip'), (1, 'crooks'), (1, 'cyber'), (1, 'dextromethorphan'), (1, 'diazepam'), (1, 'effects'), (1, 'epic'), (1, 'familia'), (1, 'felons'), (1, 'flintlock'), (1, 'foxen'), (1, 'genovese'), (1, 'grasso'), (1, 'harasser'), (1, 'hcl'), (1, 'herion'), (1, 'hilltop'), (1, 'homocide'), (1, 'howitzer'), (1, 'id'), (1, 'indictments'), (1, 'insider'), (1, 'ketamine'), (1, 'kiddie'), (1, 'killings'), (1, 'krishna'), (1, 'langner'), (1, 'larcency'), (1, 'legalizing'), (1, 'lorazepam'), (1, 'manhunt'), (1, 'meow'), (1, 'mice'), (1, 'milly'), (1, 'minie'), (1, 'minimi'), (1, 'mmj'), (1, 'molestor'), (1, 'moors'), (1, 'murderers'), (1, 'neonaticide'), (1, 'nonlethal'), (1, 'norinco'), (1, 'nostra'), (1, 'ons'), (1, 'painkiller'), (1, 'parolees'), (1, 'paxil'), (1, 'phenytoin'), (1, 'pills'), (1, 'polydrug'), (1, 'pons'), (1, 'postponed'), (1, 'preying'), (1, 'propoxyphene'), (1, 'psychedelic'), (1, 'raping'), (1, 'reconvicted'), (1, 'reoffenders'), (1, 'reoffense'), (1, 'robbed'), (1, 'sabers'), (1, 'scopolamine'), (1, 'seconal'), (1, 'seroquel'), (1, 'serpent'), (1, 'sheathed'), (1, 'shotguns'), (1, 'sidearm'), (1, 'siders'), (1, 'sks'), (1, 'soma'), (1, 'sorcery'), (1, 'spies'), (1, 'stimulants'), (1, 'swallowed'), (1, 'sympathomimetic'), (1, 'threats'), (1, 'torrio'), (1, 'ultram'), (1, 'uninsurance'), (1, 'volleys'), (1, 'weap'), (1, 'xanthine'), (1, 'yerba'), (2, 'abstracting'), (2, 'acetaminophen'), (2, 'acto'), (2, 'angels'), (2, 'antabuse'), (2, 'apts'), (2, 'asault'), (2, 'assaulting'), (2, 'bamber'), (2, 'barbituate'), (2, 'carjack'), (2, 'catalytic'), (2, 'citrate'), (2, 'cobras'), (2, 'concealable'), (2, 'containing'), (2, 'detectives'), (2, 'dilaudid'), (2, 'diphenhydramine'), (2, 'ephedrine'), (2, 'evading'), (2, 'extradiction'), (2, 'fedex'), (2, 'fillet'), (2, 'firebug'), (2, 'gangsters'), (2, 'giancana'), (2, 'heist'), (2, 'his'), (2, 'iiia'), (2, 'injectable'), (2, 'jigsaw'), (2, 'katana'), (2, 'kia'), (2, 'kingpin'), (2, 'maggard'), (2, 'methyl'), (2, 'misdemeanants'), (2, 'mobster'), (2, 'moh'), (2, 'molesting'), (2, 'murdering'), (2, 'musket'), (2, 'neapolitan'), (2, 'paraphenalia'), (2, 'paring'), (2, 'pilfering'), (2, 'pipes'), (2, 'plants'), (2, 'plated'), (2, 'pseudoephedrine'), (2, 'relaxer'), (2, 'reoffender'), (2, 'rested'), (2, 'retractable'), (2, 'revolvers'), (2, 'robberies'), (2, 'samurai'), (2, 'scabbard'), (2, 'sharpener'), (2, 'shooters'), (2, 'stabbed'), (2, 'standoff'), (2, 'submachine'), (2, 'supremacist'), (2, 'swords'), (2, 'targeted'), (2, 'teodor'), (2, 'tools'), (2, 'vertex'), (2, 'vicodin'), (2, 'wea'), (2, 'weaponry'), (2, 'wielding'), (2, 'xanax'), (3, 'blender'), (3, 'bomber'), (3, 'brittany'), (3, 'detaining'), (3, 'deuces'), (3, 'efrain'), (3, 'euphoric'), (3, 'filet'), (3, 'guns'), (3, 'hallucinogen'), (3, 'harboring'), (3, 'hobo'), (3, 'juana'), (3, 'mescaline'), (3, 'methaqualone'), (3, 'newer'), (3, 'nicola'), (3, 'nine'), (3, 'patronizing'), (3, 'penknife'), (3, 'pietro'), (3, 'pocketknife'), (3, 'possessing'), (3, 'psilocybin'), (3, 'psychoactive'), (3, 'ritalin'), (3, 'sandal'), (3, 'silencer'), (3, 'skimming'), (3, 'skunk'), (3, 'smuggling'), (3, 'snatcher'), (3, 'tablets'), (3, 'tec'), (3, 'thug'), (3, 'trojan'), (3, 'unk'), (3, 'weapons'), (3, 'wnt'), (3, 'zeus'), (4, 'amytal'), (4, 'arpaio'), (4, 'axes'), (4, 'banning'), (4, 'burglarizing'), (4, 'cannonball'), (4, 'cartel'), (4, 'concealing'), (4, 'defilement'), (4, 'depakote'), (4, 'dos'), (4, 'dragon'), (4, 'espionage'), (4, 'gamma'), (4, 'gangland'), (4, 'grevious'), (4, 'hacking'), (4, 'hallucinogenic'), (4, 'ipswich'), (4, 'labs'), (4, 'medications'), (4, 'moat'), (4, 'pawning'), (4, 'raoul'), (4, 'satan'), (4, 'sniper'), (4, 'spiking'), (4, 'thievery'), (4, 'toothbrush'), (4, 'uncut'), (5, 'addictive'), (5, 'bandana'), (5, 'brega'), (5, 'carjacking'), (5, 'cutlass'), (5, 'demerol'), (5, 'detainment'), (5, 'dropout'), (5, 'glock'), (5, 'hashish'), (5, 'incarcerated'), (5, 'indecently'), (5, 'lysergic'), (5, 'mafia'), (5, 'meth'), (5, 'methadone'), (5, 'molester'), (5, 'ninja'), (5, 'nonforcible'), (5, 'nosed'), (5, 'pfizer'), (5, 'plc'), (5, 'prisons'), (5, 'python'), (5, 'resisting'), (5, 'ripper'), (5, 'salute'), (5, 'serrated'), (5, 'sicilian'), (5, 'sulfate'), (5, 'taurus'), (5, 'vigilante'), (5, 'warring'), (5, 'zodiac'), (6, 'accused'), (6, 'aileen'), (6, 'antoni'), (6, 'ativan'), (6, 'biker'), (6, 'bladed'), (6, 'carving'), (6, 'clan'), (6, 'cocked'), (6, 'coldblooded'), (6, 'dhs'), (6, 'diethylamide'), (6, 'fiend'), (6, 'gans'), (6, 'gord'), (6, 'kel'), (6, 'laundering'), (6, 'librium'), (6, 'machete'), (6, 'malarial'), (6, 'markus'), (6, 'od'), (6, 'piracy'), (6, 'pseudo'), (6, 'reconviction'), (6, 'reincarceration'), (6, 'sharpened'), (6, 'stalker'), (6, 'sulphate'), (6, 'terrorism'), (6, 'triad'), (6, 'ya'), (6, 'zoloft'), (7, 'aryan'), (7, 'bayonet'), (7, 'cobra'), (7, 'defacing'), (7, 'dowler'), (7, 'graffiti'), (7, 'grenade'), (7, 'incense'), (7, 'marihuana'), (7, 'melbourne'), (7, 'murders'), (7, 'nitrate'), (7, 'pastry'), (7, 'rocket'), (7, 'scythe'), (7, 'snatching'), (7, 'storefront'), (7, 'unloaded'), (8, 'abercrombie'), (8, 'arresting'), (8, 'buckler'), (8, 'calculating'), (8, 'chemicals'), (8, 'converter'), (8, 'derringer'), (8, 'harrassment'), (8, 'phencyclidine'), (8, 'rates'), (8, 'reoffend'), (8, 'sawed'), (8, 'sheets'), (8, 'snub'), (8, 'thirst'), (8, 'thumbprint'), (8, 'yorkshire'), (9, 'antianxiety'), (9, 'artillery'), (9, 'bars'), (9, 'baseline'), (9, 'entertainer'), (9, 'firearms'), (9, 'hardened'), (9, 'mari'), (9, 'phenobarbital'), (9, 'ruger'), (9, 'scenery'), (9, 'steroid'), (10, 'debs'), (10, 'deliveryman'), (10, 'enactments'), (10, 'flick'), (10, 'induced'), (10, 'luger'), (10, 'odometer'), (10, 'prescribing'), (10, 'probing'), (10, 'queens'), (10, 'reducing'), (10, 'releasing'), (10, 'remorseless'), (10, 'surrey'), (10, 'tylenol'), (11, 'analgesic'), (11, 'assassin'), (11, 'converters'), (11, 'mallet'), (11, 'rearrest'), (11, 'sativa'), (12, 'baggie'), (12, 'beretta'), (12, 'breech'), (12, 'cultivating'), (12, 'dotson'), (12, 'hepatitis'), (12, 'hydrochloride'), (12, 'powdered'), (12, 'rascal'), (12, 'santos'), (12, 'vito'), (13, 'codeine'), (13, 'controlled'), (13, 'inflicting'), (13, 'prolific'), (13, 'stole'), (13, 'underworld'), (13, 'warfare'), (14, 'allergic'), (14, 'depressant'), (14, 'drugs'), (14, 'folding'), (14, 'shoplift'), (14, 'toxicity'), (15, 'confined'), (15, 'crimes'), (15, 'deviant'), (15, 'endangerment'), (15, 'erb'), (15, 'escapee'), (15, 'fondling'), (15, 'hypnotic'), (15, 'jeremy'), (15, 'knifepoint'), (15, 'synthetic'), (15, 'warrior'), (16, 'arousal'), (16, 'claw'), (16, 'contin'), (16, 'encampment'), (16, 'hiv'), (16, 'nonfatal'), (16, 'offenses'), (16, 'peeler'), (16, 'sauer'), (16, 'switchblade'), (17, 'armored'), (17, 'barreled'), (17, 'hacker'), (17, 'joanna'), (17, 'nun'), (17, 'policing'), (17, 'quoad'), (17, 'relaxant'), (18, 'allergy'), (18, 'antipsychotic'), (18, 'chrome'), (18, 'deportation'), (18, 'handbag'), (18, 'mara'), (18, 'methamphetamine'), (18, 'powered'), (18, 'psychopath'), (18, 'quaid'), (18, 'refused'), (18, 'robbing'), (19, 'barbiturate'), (19, 'birney'), (19, 'disciples'), (19, 'medi'), (19, 'sadistic'), (19, 'steak'), (20, 'asphyxia'), (20, 'burglarious'), (20, 'carbine'), (20, 'digital'), (20, 'maniac'), (20, 'overdose'), (20, 'using'), (20, 'valium'), (20, 'victimization'), (21, 'causing'), (21, 'mushroom'), (21, 'naples'), (21, 'suffolk'), (22, 'amphetamine'), (22, 'bowie'), (22, 'centers'), (22, 'kidnapper'), (22, 'mai'), (22, 'sedentary'), (22, 'shoplifting'), (22, 'sting'), (22, 'tranquilizer'), (23, 'gambino'), (23, 'pcp'), (23, 'rapist'), (23, 'truancy'), (23, 'usa'), (24, 'bike'), (24, 'bloodstained'), (24, 'carlo'), (24, 'oakdale'), (24, 'racket'), (25, 'virus'), (25, 'yeates'), (26, 'brawl'), (26, 'centimeter'), (26, 'distraction'), (26, 'homemade'), (26, 'lonely'), (26, 'overcrowded'), (26, 'reentry'), (26, 'resin'), (26, 'sodium'), (27, 'ba'), (27, 'bandit'), (27, 'blackhawk'), (27, 'brazen'), (27, 'facsimile'), (27, 'liberties'), (27, 'spree'), (27, 'tiny'), (27, 'tommy'), (27, 'vandalism'), (28, 'asphyxiation'), (28, 'caine'), (28, 'ceremonial'), (28, 'dagger'), (28, 'marc'), (28, 'relapse'), (28, 'sault'), (28, 'sodomy'), (28, 'unprescribed'), (28, 'winkler'), (29, 'antidepressant'), (29, 'facilities'), (29, 'lover'), (29, 'lsd'), (29, 'prevalence'), (30, 'chinese'), (30, 'mickey'), (30, 'unsolved'), (31, 'anesthetic'), (31, 'narcotics'), (31, 'sig'), (31, 'spousal'), (32, 'opiate'), (32, 'pizza'), (32, 'pornography'), (32, 'recidivism'), (32, 'stickup'), (33, 'bust'), (33, 'caleb'), (33, 'clandestine'), (34, 'bb'), (34, 'cocktail'), (34, 'nonviolent'), (34, 'pantry'), (35, 'arsenal'), (35, 'psychopathic'), (35, 'revolutionary'), (35, 'uttering'), (36, 'masked'), (36, 'nuclear'), (36, 'recidivist'), (36, 'runaway'), (36, 'spears'), (37, 'banta'), (37, 'counterfeiting'), (37, 'drowning'), (38, 'crowbar'), (38, 'lascivious'), (38, 'magnum'), (38, 'muzzle'), (38, 'pellet'), (38, 'semiautomatic'), (39, 'cache'), (40, 'doll'), (40, 'precursor'), (40, 'tampering'), (40, 'trafficking'), (41, 'fantasy'), (42, 'grown'), (42, 'pharmaceutical'), (42, 'slayer'), (43, 'altering'), (43, 'cleaver'), (43, 'danny'), (43, 'mysterious'), (43, 'stimulant'), (45, 'culprit'), (46, 'mace'), (46, 'medicinal'), (46, 'sedative'), (46, 'touching'), (47, 'mathew'), (47, 'millimeter'), (48, 'bundy'), (48, 'gunpowder'), (48, 'imitation'), (49, 'crescent'), (49, 'lords'), (50, 'curved'), (50, 'disciple'), (50, 'hillside'), (50, 'wesson'), (51, 'civilly'), (51, 'epileptic'), (51, 'ram'), (52, 'anal'), (52, 'blooded'), (52, 'slaying'), (53, 'delirium'), (53, 'murderous'), (54, 'loader'), (54, 'unregistered'), (55, 'mortality'), (55, 'reputed'), (55, 'youthful'), (56, 'fake'), (56, 'gangster'), (56, 'guage'), (56, 'shank'), (56, 'wooded'), (57, 'psychotropic'), (57, 'remington'), (58, 'pink'), (59, 'dosage'), (60, 'sleeping'), (61, 'cardiac'), (61, 'teen'), (62, 'opium'), (62, 'wholesaler'), (63, 'magic'), (65, 'brutally'), (66, 'screwdriver'), (66, 'selby'), (67, 'gunman'), (67, 'johnny'), (67, 'sophisticated'), (68, 'artist'), (68, 'dope'), (68, 'incest'), (68, 'parkinson'), (68, 'substances'), (69, 'morphine'), (69, 'unprovoked'), (70, 'dui'), (71, 'holster'), (72, 'ornamental'), (73, 'cop'), (74, 'amy'), (75, 'era'), (76, 'exploitation'), (77, 'carnal'), (77, 'imperial'), (78, 'hilton'), (78, 'shipman'), (79, 'mexican'), (79, 'teenage'), (80, 'kidnaping'), (81, 'alliance'), (81, 'dose'), (81, 'ee'), (81, 'undercover'), (84, 'tar'), (84, 'wedlock'), (85, 'abduction'), (86, 'consensual'), (86, 'trespassing'), (87, 'carlton'), (87, 'hate'), (87, 'lewd'), (88, 'affray'), (88, 'discharging'), (89, 'fbi'), (89, 'grievous'), (89, 'molestation'), (90, 'pot'), (90, 'stealing'), (90, 'unprotected'), (91, 'potent'), (92, 'antisocial'), (92, 'holdup'), (92, 'nova'), (92, 'razor'), (93, 'mob'), (93, 'premeditated'), (95, 'caller'), (95, 'crystal'), (95, 'daytime'), (96, 'paraphernalia'), (96, 'sus'), (97, 'tactical'), (98, 'unlicensed'), (100, 'sword'), (101, 'detachment'), (102, 'raid'), (103, 'bread'), (105, 'doc'), (105, 'stabbing'), (107, 'classic'), (107, 'spear'), (110, 'joshua'), (112, 'mad'), (113, 'mood'), (113, 'prostitute'), (114, 'scrap'), (115, 'lab'), (116, 'wrench'), (117, 'hunting'), (118, 'pneumonia'), (119, 'cutter'), (120, 'ammunition'), (121, 'threatening'), (123, 'addiction'), (123, 'subway'), (127, 'debit'), (127, 'knights'), (129, 'disappearance'), (129, 'extortion'), (129, 'patch'), (130, 'acid'), (134, 'brotherhood'), (135, 'naming'), (136, 'harassment'), (136, 'scared'), (136, 'winchester'), (138, 'anton'), (138, 'blacksmith'), (138, 'killer'), (139, 'blast'), (139, 'mm'), (139, 'sandwich'), (140, 'daylight'), (140, 'poisoning'), (141, 'cr'), (141, 'patricia'), (141, 'ted'), (142, 'cannabis'), (142, 'colt'), (142, 'firing'), (142, 'lethal'), (143, 'pill'), (147, 'motorcycle'), (148, 'ar'), (151, 'proceedings'), (152, 'prostitution'), (155, 'collar'), (155, 'misappropriation'), (155, 'vegetable'), (156, 'ira'), (157, 'computer'), (158, 'levi'), (158, 'serial'), (164, 'molest'), (166, 'criminality'), (166, 'detection'), (166, 'generic'), (168, 'tony'), (171, 'crow'), (173, 'gay'), (174, 'kidnap'), (175, 'extradition'), (175, 'heinous'), (177, 'pregnancy'), (189, 'abortion'), (189, 'los'), (199, 'nathan'), (201, 'cannon'), (203, 'powerful'), (204, 'burglar'), (204, 'handgun'), (205, 'rifle'), (206, 'blade'), (207, 'corruption'), (209, 'fugitive'), (211, 'illicit'), (213, 'capias'), (214, 'murderer'), (215, 'flash'), (216, 'gauge'), (216, 'persistent'), (216, 'target'), (218, 'leather'), (218, 'legalize'), (221, 'petty'), (221, 'scar'), (224, 'cheap'), (226, 'kidnapping'), (229, 'bath'), (230, 'dump'), (233, 'within'), (236, 'butcher'), (236, 'lynn'), (241, 'custodial'), (245, 'thief'), (252, 'crack'), (253, 'anti'), (255, 'parental'), (257, 'boss'), (257, 'loaded'), (257, 'tin'), (259, 'gravity'), (262, 'hospitalization'), (264, 'infection'), (265, 'shotgun'), (266, 'recklessly'), (269, 'behind'), (269, 'petit'), (271, 'vicious'), (272, 'organized'), (274, 'disorderly'), (276, 'embezzlement'), (276, 'intrusion'), (279, 'arson'), (279, 'sexually'), (280, 'detroit'), (281, 'altercation'), (288, 'marijuana'), (290, 'heroin'), (296, 'loading'), (297, 'hammer'), (300, 'burglarize'), (301, 'infringement'), (303, 'meat'), (306, 'muscle'), (311, 'powder'), (319, 'jewelry'), (320, 'cocaine'), (322, 'purse'), (323, 'acute'), (323, 'recognizance'), (329, 'mccarthy'), (330, 'indecent'), (331, 'electricity'), (334, 'sam'), (335, 'fixed'), (336, 'mischief'), (339, 'reaction'), (343, 'felonious'), (349, 'cultivation'), (359, 'firearm'), (359, 'path'), (360, 'german'), (364, 'ralph'), (381, 'accidentally'), (383, 'fish'), (386, 'corrupt'), (386, 'notorious'), (391, 'medication'), (392, 'gang'), (395, 'joe'), (400, 'baby'), (401, 'caliber'), (401, 'knight'), (404, 'alias'), (409, 'stanley'), (410, 'psychiatric'), (414, 'deadly'), (417, 'intoxication'), (424, 'crew'), (426, 'squad'), (427, 'protective'), (428, 'harold'), (430, 'pen'), (442, 'crush'), (459, 'surgical'), (464, 'robber'), (466, 'correctional'), (466, 'hunter'), (472, 'incarceration'), (472, 'prescription'), (476, 'carrying'), (479, 'arraignment'), (480, 'habitual'), (486, 'bounty'), (497, 'forcibly'), (500, 'malicious'), (502, 'model'), (505, 'aggravated'), (507, 'detainer'), (517, 'ball'), (517, 'juvenile'), (523, 'whereabouts'), (524, 'delinquency'), (531, 'forge'), (536, 'incarcerate'), (537, 'sex'), (544, 'concealment'), (547, 'apprehension'), (569, 'semi'), (575, 'detain'), (580, 'coroner'), (608, 'straight'), (614, 'automatic'), (620, 'animal'), (631, 'narcotic'), (639, 'ms'), (646, 'forgery'), (648, 'offend'), (656, 'fatally'), (658, 'bag'), (660, 'intercourse'), (681, 'metal'), (685, 'cold'), (694, 'reckless'), (721, 'pistol'), (728, 'oo'), (733, 'ice'), (735, 'war'), (744, 'detention'), (753, 'prescribed'), (770, 'confinement'), (770, 'invasion'), (773, 'knife'), (779, 'advanced'), (789, 'parole'), (792, 'task'), (819, 'kitchen'), (829, 'homicide'), (830, 'blue'), (850, 'bail'), (852, 'reservation'), (865, 'insane'), (871, 'violent'), (893, 'battery'), (899, 'mentally'), (913, 'willful'), (923, 'revolver'), (935, 'forcible'), (937, 'domestic'), (947, 'gage'), (958, 'heart'), (970, 'behavior'), (975, 'theft'), (998, 'sexual'), (998, 'shooting'), (1001, 'rob'), (1003, 'restraint'), (1003, 'walter'), (1009, 'infant'), (1022, 'project'), (1027, 'card'), (1043, 'rape'), (1045, 'domain'), (1045, 'killing'), (1047, 'tire'), (1072, 'emergency'), (1084, 'misdemeanor'), (1123, 'richard'), (1146, 'prison'), (1147, 'offender'), (1153, 'lord'), (1170, 'bodily'), (1170, 'probation'), (1194, 'suspect'), (1196, 'larceny'), (1237, 'accidental'), (1257, 'apprehend'), (1281, 'destruction'), (1335, 'prisoner'), (1344, 'deputy'), (1379, 'trespass'), (1385, 'pre'), (1419, 'pain'), (1427, 'la'), (1475, 'weapon'), (1477, 'burglary'), (1498, 'drink'), (1541, 'armed'), (1564, 'threat'), (1580, 'machine'), (1595, 'commonly'), (1598, 'human'), (1604, 'manufacture'), (1611, 'drug'), (1626, 'springfield'), (1638, 'unlawfully'), (1647, 'prosecutor'), (1662, 'identity'), (1677, 'x'), (1689, 'maker'), (1693, 'residue'), (1696, 'cal'), (1708, 'horse'), (1734, 'mandatory'), (1755, 'box'), (1782, 'violence'), (1799, 'double'), (1826, 'steal'), (1866, 'misconduct'), (1872, 'green'), (1894, 'welfare'), (1932, 'felony'), (1941, 'gun'), (1971, 'apartment'), (1981, 'highly'), (1981, 'ins'), (1983, 'fatal'), (2053, 'assault'), (2082, 'allegedly'), (2112, 'black'), (2118, 'victim'), (2155, 'inch'), (2187, 'quantity'), (2188, 'don'), (2242, 'jail'), (2279, 'robbery'), (2296, 'harm'), (2309, 'expert'), (2337, 'activity'), (2571, 'mass'), (2580, 'uniform'), (2731, 'safe'), (2795, 'dr'), (2798, 'grand'), (3032, 'murder'), (3088, 'white'), (3116, 'response'), (3125, 'medical'), (3204, 'kill'), (3334, 'thompson'), (3337, 'fit'), (3348, 'custody'), (3429, 'agency'), (3432, 'store'), (3495, 'enactment'), (3514, 'break'), (3612, 'repeat'), (3668, 'unlawful'), (3720, 'night'), (3913, 'incident'), (4008, 'abuse'), (4447, 'brother'), (4497, 'alleged'), (4620, 'attack'), (4730, 'disposition'), (4774, 'civil'), (4962, 'reduce'), (4984, 'buy'), (5083, 'possess'), (5122, 'family'), (5158, 'security'), (5205, 'mrs'), (5278, 'small'), (5454, 'degree'), (5513, 'convict'), (5643, 'rate'), (5725, 'short'), (5936, 'prosecution'), (5971, 'arrest'), (6184, 'protection'), (6250, 'police'), (6268, 'car'), (6378, 'class'), (6395, 'ex'), (6442, 'instrument'), (6608, 'fraud'), (6662, 'crime'), (6796, 'conviction'), (7045, 'n'), (7169, 'h'), (7394, 'treat'), (7530, 'operation'), (7551, 'light'), (7560, 'child'), (7653, 'u'), (7940, 'substance'), (8056, 'die'), (8094, 'article'), (8386, 'home'), (8388, 'violation'), (8467, 'criminal'), (8893, 'statutory'), (8924, 't'), (9104, 'street'), (9106, 'w'), (9297, 'm'), (9630, 're'), (9723, 'warrant'), (9911, 'similar'), (9913, 'knowledge'), (10372, 'death'), (11377, 'man'), (11849, 'guilty'), (11941, 'bar'), (11989, 'officer'), (12558, 'conduct'), (12579, 'force'), (12878, 'c'), (13425, 'attorney'), (13651, 'e'), (16510, 'money'), (18242, 'jury'), (18804, 'illinois'), (20508, 'charge'), (21048, 'co'), (23368, 'own'), (31632, 'first'), (38860, 'ill'), (39384, 'v'), (44532, 'justice')\n",
      "*** Not found (817 words): ***\n",
      "scams, swordsmen, nimetazepam, methodone, rearresting, combating, stickups, crips, hattori, arrrested, yob, antiretrovirals, khat, naltrexone, #.##x##mm, probationers, brandished, herbal, poospatuck, cabergoline, m9, conscripting, cyberfraud, birthrate, nuestra, tussionex, pistols, waives, lucchese, razorblade, neighborhoods, methcathinone, cyberdefense, patches, lightsabres, meltabs, automatics, midmost, precursors, nupur, #####.##, smokin, racketeers, murdered, adderal, jails, medipot, bikie, skinhead, revocations, insas, cyberwarfare, minstead, ransomware, mydoom, cyberspies, .##, variants, dropouts, enisa, mephedrone, smoked, recidivists, lgtt, airsoft, exacto, od'd, chambering, dns, dagga, marajuana, caddoc, patriarca, phising, cyberattacks, buglary, sentonas, oxycotin, soprano, antispam, smokable, benelli, botnets, sticks, assualts, dru, yobbery, methoxy, cyberbullying, p##, snorted, calibers, glocks, painkillers, chlordiazepoxide, reincarcerated, breadknife, snitching, lod, dmx, mauser, cybercops, evron, assasin, bupe, gastroscopy, aarushi, viruses, norteno, ledbury, mushrooms, attemped, birthrates, statuatory, psuedoephedrine, overdoses, muscaria, palladone, www.csc.com, dr., levamisole, btk, sureno, rapes, porn, tranquillizer, fondler, kantrole, enactor, dhaula, stolen, ingesting, aarelaid, bullies, semion, holstered, burglaries, cybercrime, boning, flashforward, inurl, marijuna, lances, musketry, scareware, sodomizing, overdosing, heldreth, hangs, dehydroepiandrosterone, dispensaries, 9mm, knifes, .##-###, arsons, opioid, schiebel, rearrested, magistrated, premediated, rcmp, m###, unsheathing, reenactor, enactors, mafioso, methylenedioxymethamphetamine, mafiosi, valerate, ##a#, cyberterrorists, hourlong, chews, cialis, epics, opiates, dhananjoy, assaulted, vandalisms, .##/##, scoped, matchlock, nets, carjacker, scimitar, fentanyl, damocles, crimefighting, cannibal, dragoons, bunty, ##xx, centerfire, zemun, chicano, salvatrucha, jilted, mafias, henious, extortionists, acamprosate, premarin, semyon, hanzo, hangun, cannabinoids, farmacia, peacocks, kelowna, cyberstalkers, shabu, pignatone, ########, pentazocine, xr, jacker, raped, zugsberger, reoffended, longbows, pgi2, deoxy, weatherburn, &, vendita, mdma, saric, m##, hasanni, grapeshot, hmr, hydroxybutyrate, hydroxy, violators, pseudophedrine, flaming, conficker, revenger, schoolgirl, oxycontin, levaquin, medicines, a.##, proxamol, percodan, muzzleloaders, diethanolamine, dentention, gratteri, croxteth, adipex, firestarter, antipsychotics, driveby, sextortion, occasioning, killers, adderall, terroristic, wars, cyberworld, warrent, whodunnit, amoxil, heparin, ganglord, pceu, lortab, cnp, slayings, spam, scabbards, consentual, tweeter, kukri, §, muder, infosec, benzodiazepines, suboxone, piperazine, ectasy, lorcet, oxy, nitrite, nkt, cyberterror, arrested, knive, warhead, chigurh, diamorphine, lordz, acetylcysteine, gladius, muggings, thirddegree, marijauna, benzocaine, subds, swordfighting, hearts, nellessen, methamphetamines, spammers, thriller, hydromorphone, chlorpromazine, finasteride, assualted, tranquilisers, ricetta, nunchucks, claritin, bupivacaine, knives, growhouse, spearmen, rearrests, scepter, burglars, disulfiram, mukhtaran, lunesta, nagant, marama, klonopin, trece, matricide, .###, vijay, machinegun, gp, unichem, dugs, bandali, reserpine, attempted, mandrax, mandiant, bosses, convicted, injecting, norco, yohimbe, rackets, kisha, bandidos, bellagio, charas, percoset, percocet, rivotril, blackpowder, gadi, pharming, infowar, amyl, muskets, ddos, precription, vigabatrin, cyberterrorism, cybercrimes, norteños, phishing, infused, assualting, counterintelligence, locos, opiods, solidos, prolexic, fifes, arushi, mogilevich, varrio, lightsaber, plowshare, phishers, castlecops, bervar, carbines, matka, spellcasters, sildenafil, mossberg, frostmourne, hitman, makhmudov, threatscape, malware, beheader, swordplay, crime.the, decavalcante, fraudsters, exposures, mountie, cyberspace, boxcutter, redeploy, canadawide, xm8, ramrattan, unsub, cyberwar, bersa, backpacker, rascals, ##cm, effet, rostov, convienence, subutex, cytochrome, supects, breastworks, trafficante, adware, wuornos, ndrangheta, sureños, banff, zakone, zopiclone, accolate, keyblade, bloods, evonitz, housebreakings, jailed, riflemen, parabellum, tita, flints, pleads, benzodiazepine, clans, twins, housebreaks, ecstasy, digoxin, camorra, phishnet, tramadol, .9, erimin, gatling, atarax, bangers, quat, ivankov, tresspass, broadsword, pregnancies, massone, 9, syndicates, burglarized, actiq, 2c, rapier, robs, cyberthreats, cannoneers, returned, jou, darko, psychotics, hacktivism, comstat, surrenders, lexapro, compounder, thieves, extradited, druglord, unlicenced, txt, garand, surenos, rustam, handcuffs, barons, addicts, traffickers, mongols, zanaflex, pects, apprehended, katanas, buttstock, crossbow, methampetamine, levitra, riffle, painkilling, sandals, holdups, opioids, antivirus, methylamphetamines, ploughshare, xarelto, endocet, cyberattackers, pavan, homicides, #.##x##, warrants, suspects, mbanje, testifies, alegra, ##mg, dantis, worms, norte'o, recidivate, larcenies, methampethamine, hdac, infosecurity, gangrape, commet, krisberg, muzzleloader, reenactors, vyacheslav, snatchings, arested, cybercriminals, halberd, unsheathe, rapists, brandishing, strangler, metamphetamine, nunchaku, honeybee, wasarrested, scimitars, mukhi, gangmembers, macallair, oxycodone, pugil, vatos, senna, bongs, bousfield, khukri, escaper, rohypnol, yohimbine, unsheath, cybercriminal, ultracet, cannabinoid, zyprexa, cyberespionage, crimeware, mobsters, calibur, chessboard, barbituates, bugles, broadswords, births, minotaur, hackers, rimfire, tshepang, kuan, offenders, botnet, alprazolam, msgs, cannonade, cybertheft, chiques, muzzleloading, diflucan, burglarly, colonia, glibenclamide, cowz, opiod, swordsmanship, encampments, filleting, thefts, firings, sickert, counterterrorism, roshan, #,#, diacetylmorphine, bzp, seroxat, trinitarios, crimelord, terazosin, rapiers, longbow, eiriksson, divinorum, burlgary, salts, malwares, maces, aggrevated, conwoman, toprol, scissors, norteño, carjackings, kwaso, rifles, chargedwith, apcalis, semiauto, crocky, piperazines, bashings, abusing, jdai, jailbreaker, batterers, midazolam, mosin, ghb, m4, forensics, sawn, blowgun, naloxone, trafficable, nunchuks, paedophile, hydroponic, cumwithuscom, #.##mm, hydroponically, suppressor, chlorpheniramine, meditated, overdosed, spoofing, caseloads, spyware, laced, yaba, gangsterism, chuong, psychostimulant, cifas, quinoline, daggers, poisoner, hawala, redcoats, nortenos, kamagra, 7mm, dundon, flintlocks, mp5, cyberterrorist, prized, trendlabs, lightsabre, ar##, methylamphetamine, cocain, silagra, hemraj, decriminalizing, cyberwarriors, cyberattack, assaults, pandey, triads, loaders, imprisoned, extortions, manolache, buprenorphine, botmasters, sinsemilla, enzymes, ecrime, propecia, astrazeneca, iserdo, mjolnir, blunderbusses, mightier, promethazine, sedatives, syabu, cyalis, meds, bungled, arvs, bupropion, incarcerates, tabram, tranquiliser, rapper, abusers, xanex, duragesic, hoaxer, saber, upstarts, suspected, arrests, cannibis, bellfield, hydrocodone, breakins, pawan, incarcerations, antidepressants, varmint, investigtion, lightsabers, warfighting, ipr, gangbangers, hallucinogens, mugging, heists, dreampharmaceuticals, talwar, petersilia, xd, m##a#, minimums, maras, cannons, dextroamphetamine, keto, cannonballs, bayonets, buys, apwg, alchol, dragunov, barbiturates, m1, viagra, tfmpp, robbers, swordsman, 5, smelled, profilers, cybercrooks, sureño, smoothbore, convicts, mafiosos, nithari, .##-##, methamphetimine, incarcerating, piru, cosa, adown, transnational, vicoprofen, breastplates, reoffending, gangs, vory, jailing, cyberweapons, warheads, handguns, firstdegree, sicko, omcg, hells, bhang, oxys, whomso, salvia, bows, cybersecurity, antidrug, schemes, benzylpiperazine, temazepam, justin.tv, 5mg, detained, cells, cyberthreat, grabbed, propofol, underdose, helburn, dons, ganja, casalesi, ecstacy, methaphetamine, depressants, nhtcu, launcher, duggal, imiela, chambered, slashings\n"
     ]
    }
   ],
   "source": [
    "found_google, not_found_google = check_presence(list(new_narcotics), list(new_weapons), list(new_investigation), tokens)"
   ]
  },
  {
   "cell_type": "markdown",
   "id": "5727396a-b58d-4f05-bd14-c387de89e717",
   "metadata": {},
   "source": [
    "Not all the words of googleNews are present in our collection, also because we use Spacy for the lemmatization during the pre-processing phase. \n",
    "While Spacy shouldn't be used to lemmatize singular words, it should still be better to use it rather than considering directly the words without any kind of pre-processing."
   ]
  },
  {
   "cell_type": "code",
   "execution_count": 13,
   "id": "f5271665-b386-4603-afeb-49ed63e6718a",
   "metadata": {},
   "outputs": [
    {
     "name": "stdout",
     "output_type": "stream",
     "text": [
      "*** New narcotics (456 words): ***\n",
      "epileptic, divinorum, shabu, pain, pentazocine, xr, effet, analgesic, resin, zugsberger, nimetazepam, methodone, subutex, lace, cytochrome, powerful, juana, citrate, pgi2, toprol, deoxy, traffic, kwaso, hydrochloride, khat, seroquel, naltrexone, gan, zopiclone, illicit, herbal, accolate, med, poospatuck, cabergoline, prescription, vendita, hepatitis, phenobarbital, tussionex, mdma, highly, fatal, alia, hydroxybutyrate, hydroxy, pot, drown, legalize, midazolam\n",
      "*** New weapons (505 words): ***\n",
      "9 mm, divinorum, burlgary, bersa, kitchen, dragon, kel, endangerment, potent, hang, iiia, robbery, forcible, affray, resist, methodone, automatic, ninja, blender, fire, lace, juana, hattori, crowbar, . # # #, submachine, pistol, mm, sniper, wea, ar # #, weaponry, gravity, samurai, rifleman, &, unloaded, unlicense, spear, sword, illicit, semiauto, herbal, tommy, prescription, keyblade, m9, fix, gauge, pen\n",
      "*** New investigation (897 words) ***:\n",
      "burglarize, 9 mm, extradiction, burlgary, kelowna, card, dhs, extradition, kill, moor, gangmember, aryan, convict, pignatone, pietro, backpacker, forcibly, cyberbullye, phisher, jacker, prosecution, sex, batterer, rostov, robbery, black, convienence, forcible, blooded, sandwich, boss, disposition, crime, prevalence, behavior, phishe, yob, dump, rearreste, parental, notorious, trafficante, wuorno, killer, conwoman, pistol, kidnap, safe, larceny, norteño\n"
     ]
    }
   ],
   "source": [
    "import spacy\n",
    "nlp = spacy.load('en_core_web_md', disable=['parser', 'ner']) # just keep tagger for lemmatization\n",
    "\n",
    "new_narcotics_lemma, new_weapons_lemma, new_investigation_lemma = set(), set(), set()\n",
    "for word in interesting_set:\n",
    "    if word == \"blunt\": # usually blunt is too generic, not referring to drugs\n",
    "        similar_words = w.most_similar(positive=[word, \"drug\", \"marijuana\"], topn=top_words)\n",
    "    elif word == \"serial\": # too generic by itself\n",
    "        similar_words = w.most_similar(positive=[word, \"killer\"], topn=top_words)\n",
    "    else:\n",
    "        similar_words = w.most_similar(positive=[word], topn=top_words)\n",
    "        \n",
    "    if word in narcotics:\n",
    "        addWordsToSet(new_narcotics_lemma, similar_words, True)\n",
    "    elif word in weapons:\n",
    "        addWordsToSet(new_weapons_lemma, similar_words, True)\n",
    "    elif word in investigation:\n",
    "        addWordsToSet(new_investigation_lemma, similar_words, True)\n",
    "    \n",
    "print(f\"*** New narcotics ({len(new_narcotics_lemma)} words): ***\\n{', '.join(list(new_narcotics_lemma)[:50])}\")\n",
    "print(f\"*** New weapons ({len(new_weapons_lemma)} words): ***\\n{', '.join(list(new_weapons_lemma)[:50])}\")\n",
    "print(f\"*** New investigation ({len(new_investigation_lemma)} words) ***:\\n{', '.join(list(new_investigation_lemma)[:50])}\")\n"
   ]
  },
  {
   "cell_type": "code",
   "execution_count": 14,
   "id": "9d8d39f9-3e97-47b5-8991-77e516305cc9",
   "metadata": {},
   "outputs": [
    {
     "name": "stdout",
     "output_type": "stream",
     "text": [
      "(1, 'absconder'), (1, 'ambien'), (1, 'amitriptyline'), (1, 'antidepression'), (1, 'antiretroviral'), (1, 'arrrest'), (1, 'assualt'), (1, 'assult'), (1, 'bali'), (1, 'batterer'), (1, 'blunderbuss'), (1, 'breastplate'), (1, 'bredel'), (1, 'bugle'), (1, 'bungle'), (1, 'calabrian'), (1, 'chainsaw'), (1, 'chucky'), (1, 'clonazepam'), (1, 'crip'), (1, 'cyber'), (1, 'dextromethorphan'), (1, 'diazepam'), (1, 'dug'), (1, 'epic'), (1, 'familia'), (1, 'flintlock'), (1, 'foxen'), (1, 'gangbanger'), (1, 'gatle'), (1, 'genovese'), (1, 'grasso'), (1, 'harasser'), (1, 'hcl'), (1, 'herion'), (1, 'hilltop'), (1, 'homocide'), (1, 'howitzer'), (1, 'insider'), (1, 'ketamine'), (1, 'kiddie'), (1, 'krishna'), (1, 'langner'), (1, 'larcency'), (1, 'lorazepam'), (1, 'manhunt'), (1, 'meow'), (1, 'milly'), (1, 'minie'), (1, 'minimi'), (1, 'mmj'), (1, 'molestor'), (1, 'neonaticide'), (1, 'nonlethal'), (1, 'norinco'), (1, 'nostra'), (1, 'painkiller'), (1, 'paxil'), (1, 'phenytoin'), (1, 'polydrug'), (1, 'profiler'), (1, 'propoxyphene'), (1, 'psychedelic'), (1, 'reoffense'), (1, 'scopolamine'), (1, 'seconal'), (1, 'seroquel'), (1, 'serpent'), (1, 'sheathe'), (1, 'sidearm'), (1, 'soma'), (1, 'sorcery'), (1, 'sympathomimetic'), (1, 'torrio'), (1, 'ultram'), (1, 'uninsurance'), (1, 'unlicence'), (1, 'upstart'), (1, 'weap'), (1, 'xanthine'), (1, 'yerba'), (2, 'acetaminophen'), (2, 'acto'), (2, 'antabuse'), (2, 'asault'), (2, 'bamber'), (2, 'barbituate'), (2, 'bashing'), (2, 'carjack'), (2, 'catalytic'), (2, 'citrate'), (2, 'concealable'), (2, 'dilaudid'), (2, 'diphenhydramine'), (2, 'ephedrine'), (2, 'extradiction'), (2, 'fedex'), (2, 'fillet'), (2, 'firebug'), (2, 'giancana'), (2, 'heist'), (2, 'his'), (2, 'housebreaking'), (2, 'iiia'), (2, 'injectable'), (2, 'jigsaw'), (2, 'katana'), (2, 'kia'), (2, 'kingpin'), (2, 'maggard'), (2, 'methyl'), (2, 'mobster'), (2, 'moh'), (2, 'musket'), (2, 'neapolitan'), (2, 'paraphenalia'), (2, 'pseudoephedrine'), (2, 'reconvict'), (2, 'relaxer'), (2, 'reoffender'), (2, 'retractable'), (2, 'rifleman'), (2, 'samurai'), (2, 'scabbard'), (2, 'sharpener'), (2, 'standoff'), (2, 'submachine'), (2, 'supremacist'), (2, 'teodor'), (2, 'vertex'), (2, 'vicodin'), (2, 'wea'), (2, 'weaponry'), (2, 'xanax'), (3, 'attempe'), (3, 'blender'), (3, 'bomber'), (3, 'bong'), (3, 'brittany'), (3, 'conscript'), (3, 'decriminalize'), (3, 'efrain'), (3, 'euphoric'), (3, 'filet'), (3, 'hallucinogen'), (3, 'hobo'), (3, 'juana'), (3, 'mescaline'), (3, 'methaqualone'), (3, 'nicola'), (3, 'nine'), (3, 'penknife'), (3, 'pietro'), (3, 'pocketknife'), (3, 'psilocybin'), (3, 'psychoactive'), (3, 'ritalin'), (3, 'sandal'), (3, 'silencer'), (3, 'skunk'), (3, 'snatcher'), (3, 'tec'), (3, 'thug'), (3, 'trojan'), (3, 'unk'), (3, 'wnt'), (3, 'zeus'), (4, 'amytal'), (4, 'arpaio'), (4, 'banger'), (4, 'cannonball'), (4, 'cartel'), (4, 'defilement'), (4, 'depakote'), (4, 'dragon'), (4, 'espionage'), (4, 'gamma'), (4, 'gangland'), (4, 'grevious'), (4, 'hallucinogenic'), (4, 'ipswich'), (4, 'moat'), (4, 'raoul'), (4, 'satan'), (4, 'slashing'), (4, 'sniper'), (4, 'thievery'), (4, 'toothbrush'), (4, 'uncut'), (5, 'addictive'), (5, 'bandana'), (5, 'brega'), (5, 'carjacking'), (5, 'cutlass'), (5, 'demerol'), (5, 'detainment'), (5, 'dropout'), (5, 'glock'), (5, 'hashish'), (5, 'indecently'), (5, 'lysergic'), (5, 'mafia'), (5, 'meth'), (5, 'methadone'), (5, 'molester'), (5, 'ninja'), (5, 'nonforcible'), (5, 'nosed'), (5, 'pfizer'), (5, 'plc'), (5, 'python'), (5, 'ripper'), (5, 'salute'), (5, 'sicilian'), (5, 'sulfate'), (5, 'taurus'), (5, 'vigilante'), (5, 'zodiac'), (6, 'aileen'), (6, 'antoni'), (6, 'ativan'), (6, 'biker'), (6, 'clan'), (6, 'coldblooded'), (6, 'dhs'), (6, 'diethylamide'), (6, 'fiend'), (6, 'gord'), (6, 'kel'), (6, 'librium'), (6, 'machete'), (6, 'malarial'), (6, 'markus'), (6, 'od'), (6, 'piracy'), (6, 'pseudo'), (6, 'reconviction'), (6, 'reincarceration'), (6, 'serrate'), (6, 'sharpened'), (6, 'sodomize'), (6, 'solido'), (6, 'stalker'), (6, 'sulphate'), (6, 'terrorism'), (6, 'triad'), (6, 'volley'), (6, 'ya'), (6, 'zoloft'), (7, 'aryan'), (7, 'bayonet'), (7, 'cobra'), (7, 'dowler'), (7, 'graffiti'), (7, 'grenade'), (7, 'incense'), (7, 'marihuana'), (7, 'melbourne'), (7, 'nitrate'), (7, 'pastry'), (7, 'pect'), (7, 'rocket'), (7, 'scythe'), (7, 'snatching'), (7, 'spearman'), (7, 'storefront'), (7, 'unloaded'), (8, 'abercrombie'), (8, 'buckler'), (8, 'converter'), (8, 'derringer'), (8, 'extortionist'), (8, 'harrassment'), (8, 'phencyclidine'), (8, 'reoffend'), (8, 'sk'), (8, 'snub'), (8, 'thirst'), (8, 'thumbprint'), (8, 'yorkshire'), (9, 'antianxiety'), (9, 'armor'), (9, 'artillery'), (9, 'baseline'), (9, 'cannabi'), (9, 'entertainer'), (9, 'mari'), (9, 'phenobarbital'), (9, 'ruger'), (9, 'scenery'), (9, 'steroid'), (10, 'debs'), (10, 'deliveryman'), (10, 'flick'), (10, 'luger'), (10, 'odometer'), (10, 'pilfer'), (10, 'remorseless'), (10, 'surrey'), (10, 'tylenol'), (10, 'unregistere'), (11, 'analgesic'), (11, 'assassin'), (11, 'mallet'), (11, 'rearrest'), (11, 'reoffende'), (11, 'sativa'), (11, 'snitch'), (11, 'snort'), (12, 'baggie'), (12, 'beretta'), (12, 'breech'), (12, 'dotson'), (12, 'hepatitis'), (12, 'hydrochloride'), (12, 'rascal'), (12, 'santos'), (12, 'vito'), (13, 'codeine'), (13, 'prolific'), (13, 'underworld'), (13, 'warfare'), (14, 'allergic'), (14, 'depressant'), (14, 'rearreste'), (14, 'shoplift'), (14, 'toxicity'), (15, 'deviant'), (15, 'endangerment'), (15, 'erb'), (15, 'escapee'), (15, 'hypnotic'), (15, 'jeremy'), (15, 'knifepoint'), (15, 'meditate'), (15, 'misdemeanant'), (15, 'synthetic'), (15, 'warrior'), (16, 'arousal'), (16, 'claw'), (16, 'contin'), (16, 'encampment'), (16, 'hiv'), (16, 'nonfatal'), (16, 'peeler'), (16, 'sauer'), (16, 'smuggle'), (16, 'switchblade'), (17, 'hacker'), (17, 'joanna'), (17, 'nun'), (17, 'quoad'), (17, 'racketeer'), (17, 'relaxant'), (17, 'worm'), (18, 'allergy'), (18, 'antipsychotic'), (18, 'chrome'), (18, 'deportation'), (18, 'handbag'), (18, 'mara'), (18, 'methamphetamine'), (18, 'psychopath'), (18, 'quaid'), (19, 'barbiturate'), (19, 'birney'), (19, 'medi'), (19, 'sadistic'), (19, 'steak'), (19, 'unlicense'), (20, 'asphyxia'), (20, 'axis'), (20, 'bully'), (20, 'burglarious'), (20, 'capia'), (20, 'carbine'), (20, 'digital'), (20, 'enzyme'), (20, 'maniac'), (20, 'overcrowd'), (20, 'overdose'), (20, 'valium'), (20, 'victimization'), (21, 'caseload'), (21, 'mushroom'), (21, 'naples'), (21, 'suffolk'), (21, 'trafficker'), (22, 'amphetamine'), (22, 'bowie'), (22, 'kidnapper'), (22, 'mai'), (22, 'sedentary'), (22, 'sting'), (22, 'tranquilizer'), (23, 'bloodstaine'), (23, 'gambino'), (23, 'infuse'), (23, 'pcp'), (23, 'rapist'), (23, 'truancy'), (23, 'usa'), (24, 'bike'), (24, 'carlo'), (24, 'oakdale'), (24, 'racket'), (24, 'sider'), (24, 'skim'), (25, 'mouse'), (25, 'virus'), (26, 'brawl'), (26, 'centimeter'), (26, 'distraction'), (26, 'homemade'), (26, 'launder'), (26, 'lonely'), (26, 'reentry'), (26, 'resin'), (26, 'sodium'), (27, 'ba'), (27, 'bandit'), (27, 'blackhawk'), (27, 'brazen'), (27, 'facsimile'), (27, 'spree'), (27, 'tiny'), (27, 'tommy'), (27, 'vandalism'), (28, 'asphyxiation'), (28, 'caine'), (28, 'ceremonial'), (28, 'dagger'), (28, 'marc'), (28, 'relapse'), (28, 'sault'), (28, 'sodomy'), (28, 'unprescribed'), (28, 'winkler'), (28, 'woode'), (29, 'antidepressant'), (29, 'lover'), (29, 'lsd'), (29, 'prevalence'), (30, 'chinese'), (30, 'mickey'), (30, 'unsolved'), (31, 'anesthetic'), (31, 'mighty'), (31, 'sig'), (31, 'spousal'), (32, 'deuce'), (32, 'opiate'), (32, 'pizza'), (32, 'pornography'), (32, 'recidivism'), (32, 'scissor'), (32, 'stickup'), (33, 'bust'), (33, 'caleb'), (33, 'chuck'), (33, 'clandestine'), (34, 'bb'), (34, 'cocktail'), (34, 'gan'), (34, 'nonviolent'), (34, 'pantry'), (34, 'pon'), (35, 'arsenal'), (35, 'psychopathic'), (35, 'revolutionary'), (36, 'abuser'), (36, 'nuclear'), (36, 'recidivist'), (36, 'runaway'), (37, 'banta'), (37, 'mug'), (38, 'crowbar'), (38, 'lascivious'), (38, 'magnum'), (38, 'muzzle'), (38, 'parolee'), (38, 'pellet'), (38, 'semiautomatic'), (39, 'cache'), (40, 'doll'), (40, 'precursor'), (41, 'fantasy'), (41, 'pare'), (42, 'pharmaceutical'), (42, 'slayer'), (43, 'ace'), (43, 'cleaver'), (43, 'danny'), (43, 'mysterious'), (43, 'stimulant'), (45, 'culprit'), (46, 'mace'), (46, 'medicinal'), (46, 'sedative'), (47, 'mathew'), (47, 'millimeter'), (48, 'bundy'), (48, 'gunpowder'), (48, 'imitation'), (49, 'crescent'), (50, 'disciple'), (50, 'dispensary'), (50, 'hillside'), (50, 'wesson'), (51, 'civilly'), (51, 'epileptic'), (51, 'ram'), (52, 'anal'), (52, 'blooded'), (52, 'slaying'), (53, 'delirium'), (53, 'loco'), (53, 'murderous'), (54, 'loader'), (55, 'moor'), (55, 'mortality'), (55, 'reputed'), (55, 'snatch'), (55, 'youthful'), (56, 'chew'), (56, 'fake'), (56, 'gangster'), (56, 'guage'), (56, 'shank'), (56, 'spike'), (57, 'angel'), (57, 'lace'), (57, 'psychotropic'), (57, 'remington'), (58, 'pink'), (59, 'dosage'), (59, 'fondle'), (59, 'probationer'), (61, 'cardiac'), (61, 'extradite'), (61, 'teen'), (62, 'opium'), (62, 'tablet'), (62, 'wholesaler'), (63, 'magic'), (64, 'brandish'), (64, 'deface'), (65, 'brutally'), (66, 'baron'), (66, 'prize'), (66, 'screwdriver'), (66, 'selby'), (67, 'gunman'), (67, 'johnny'), (67, 'sophisticated'), (68, 'artist'), (68, 'dope'), (68, 'incest'), (68, 'parkinson'), (69, 'morphine'), (69, 'unprovoked'), (70, 'dui'), (71, 'holster'), (72, 'ornamental'), (72, 'wield'), (73, 'bow'), (73, 'cop'), (74, 'amy'), (75, 'era'), (75, 'flint'), (75, 'med'), (75, 'shooter'), (76, 'exploitation'), (77, 'carnal'), (77, 'fife'), (77, 'imperial'), (78, 'hilton'), (78, 'shipman'), (79, 'lance'), (79, 'mexican'), (79, 'pawn'), (79, 'slay'), (79, 'teenage'), (81, 'alliance'), (81, 'dose'), (81, 'ee'), (81, 'premeditate'), (81, 'undercover'), (84, 'tar'), (84, 'wedlock'), (85, 'abduction'), (85, 'cock'), (85, 'ingest'), (85, 'whereabout'), (86, 'consensual'), (86, 'psychotic'), (87, 'carlton'), (87, 'hate'), (87, 'lewd'), (88, 'affray'), (89, 'fbi'), (89, 'grievous'), (89, 'molestation'), (90, 'pot'), (90, 'unprotected'), (91, 'patronize'), (91, 'potent'), (92, 'antisocial'), (92, 'holdup'), (92, 'nova'), (92, 'razor'), (93, 'mob'), (93, 'probe'), (94, 'prey'), (95, 'caller'), (95, 'crystal'), (95, 'daytime'), (96, 'paraphernalia'), (96, 'sus'), (97, 'tactical'), (100, 'sword'), (101, 'detachment'), (102, 'raid'), (103, 'bread'), (103, 'scare'), (105, 'doc'), (106, 'hack'), (107, 'classic'), (107, 'spear'), (107, 'syndicate'), (110, 'joshua'), (112, 'mad'), (113, 'mood'), (113, 'prostitute'), (114, 'scrap'), (115, 'lab'), (115, 'peacock'), (116, 'wrench'), (118, 'harden'), (118, 'pneumonia'), (119, 'cutter'), (120, 'ammunition'), (122, 'queen'), (123, 'addiction'), (123, 'subway'), (123, 'swallow'), (124, 'flame'), (124, 'twin'), (125, 'drown'), (127, 'crook'), (127, 'debit'), (129, 'disappearance'), (129, 'extortion'), (129, 'patch'), (130, 'acid'), (134, 'brotherhood'), (134, 'counterfeit'), (136, 'harassment'), (136, 'winchester'), (138, 'anton'), (138, 'blacksmith'), (138, 'killer'), (139, 'blast'), (139, 'mm'), (139, 'sandwich'), (140, 'daylight'), (140, 'poisoning'), (141, 'cr'), (141, 'patricia'), (141, 'spy'), (141, 'ted'), (142, 'colt'), (142, 'firing'), (142, 'lethal'), (143, 'pill'), (147, 'motorcycle'), (148, 'ar'), (152, 'affiliation'), (152, 'prostitution'), (155, 'collar'), (155, 'misappropriation'), (155, 'vegetable'), (156, 'ira'), (157, 'computer'), (158, 'levi'), (158, 'serial'), (164, 'boot'), (164, 'molest'), (166, 'criminality'), (166, 'detection'), (166, 'generic'), (168, 'tony'), (170, 'mask'), (171, 'crow'), (173, 'gay'), (174, 'kidnap'), (175, 'extradition'), (175, 'heinous'), (177, 'pregnancy'), (179, 'ban'), (182, 'combat'), (189, 'abortion'), (189, 'carve'), (189, 'los'), (193, 'variant'), (199, 'nathan'), (201, 'cannon'), (203, 'powerful'), (204, 'burglar'), (204, 'handgun'), (205, 'rifle'), (206, 'blade'), (207, 'corruption'), (209, 'fugitive'), (211, 'illicit'), (214, 'murderer'), (215, 'flash'), (216, 'gauge'), (216, 'persistent'), (216, 'target'), (217, 'tamper'), (218, 'leather'), (218, 'legalize'), (221, 'petty'), (221, 'scar'), (221, 'violator'), (223, 'smell'), (224, 'cheap'), (224, 'salt'), (228, 'felon'), (229, 'bath'), (230, 'dump'), (233, 'within'), (236, 'butcher'), (236, 'lynn'), (241, 'custodial'), (245, 'thief'), (252, 'crack'), (253, 'anti'), (255, 'parental'), (257, 'boss'), (257, 'tin'), (259, 'gravity'), (262, 'hospitalization'), (264, 'infection'), (265, 'shotgun'), (266, 'addict'), (266, 'recklessly'), (269, 'behind'), (269, 'petit'), (271, 'vicious'), (274, 'disorderly'), (274, 'handcuff'), (276, 'embezzlement'), (276, 'forensic'), (276, 'intrusion'), (279, 'arson'), (279, 'sexually'), (280, 'detroit'), (281, 'altercation'), (281, 'curve'), (288, 'marijuana'), (290, 'heroin'), (297, 'hammer'), (300, 'burglarize'), (301, 'infringement'), (303, 'meat'), (304, 'harbor'), (306, 'muscle'), (311, 'powder'), (319, 'jewelry'), (320, 'cocaine'), (322, 'purse'), (322, 'saw'), (323, 'acute'), (323, 'recognizance'), (329, 'mccarthy'), (330, 'indecent'), (331, 'electricity'), (334, 'inject'), (334, 'sam'), (336, 'mischief'), (339, 'reaction'), (343, 'felonious'), (349, 'cultivation'), (357, 'fold'), (359, 'firearm'), (359, 'path'), (360, 'german'), (364, 'ralph'), (374, 'cell'), (381, 'accidentally'), (383, 'fish'), (386, 'corrupt'), (386, 'notorious'), (391, 'medication'), (392, 'gang'), (392, 'stab'), (395, 'joe'), (400, 'baby'), (401, 'caliber'), (401, 'knight'), (409, 'stanley'), (410, 'psychiatric'), (414, 'deadly'), (415, 'barrel'), (417, 'intoxication'), (424, 'crew'), (426, 'squad'), (427, 'protective'), (428, 'harold'), (430, 'pen'), (441, 'cultivate'), (442, 'crush'), (459, 'surgical'), (464, 'robber'), (466, 'correctional'), (466, 'hunter'), (472, 'incarceration'), (472, 'prescription'), (479, 'arraignment'), (480, 'habitual'), (486, 'bounty'), (497, 'forcibly'), (500, 'malicious'), (502, 'model'), (504, 'bone'), (507, 'detainer'), (517, 'ball'), (517, 'juvenile'), (524, 'delinquency'), (531, 'forge'), (536, 'incarcerate'), (537, 'sex'), (544, 'concealment'), (547, 'apprehension'), (547, 'smoke'), (558, 'exposure'), (562, 'chemical'), (569, 'semi'), (575, 'detain'), (580, 'coroner'), (608, 'straight'), (613, 'utter'), (614, 'automatic'), (620, 'animal'), (628, 'evade'), (631, 'hang'), (631, 'narcotic'), (639, 'ms'), (639, 'stick'), (646, 'forgery'), (648, 'offend'), (656, 'fatally'), (658, 'bag'), (660, 'intercourse'), (674, 'plate'), (681, 'metal'), (685, 'cold'), (694, 'reckless'), (721, 'pistol'), (728, 'medicine'), (728, 'oo'), (728, 'revocation'), (733, 'ice'), (735, 'war'), (744, 'detention'), (750, 'hunt'), (754, 'birth'), (762, 'grab'), (769, 'chamber'), (770, 'confinement'), (770, 'invasion'), (773, 'knife'), (773, 'magistrate'), (779, 'advanced'), (789, 'parole'), (792, 'task'), (819, 'kitchen'), (829, 'homicide'), (830, 'blue'), (850, 'bail'), (852, 'reservation'), (865, 'insane'), (871, 'violent'), (893, 'battery'), (899, 'mentally'), (903, 'detective'), (913, 'willful'), (923, 'revolver'), (935, 'forcible'), (937, 'domestic'), (937, 'postpone'), (947, 'gage'), (954, 'sheet'), (958, 'heart'), (962, 'imprison'), (964, 'on'), (970, 'behavior'), (975, 'theft'), (978, 'sleep'), (998, 'sexual'), (1001, 'rob'), (1003, 'restraint'), (1003, 'walter'), (1006, 'pipe'), (1009, 'infant'), (1022, 'project'), (1027, 'card'), (1037, 'tool'), (1043, 'rape'), (1045, 'domain'), (1045, 'killing'), (1047, 'tire'), (1056, 'apt'), (1072, 'emergency'), (1084, 'misdemeanor'), (1123, 'richard'), (1146, 'prison'), (1147, 'offender'), (1153, 'lord'), (1170, 'bodily'), (1170, 'probation'), (1175, 'alia'), (1194, 'suspect'), (1196, 'larceny'), (1237, 'accidental'), (1237, 'resist'), (1257, 'apprehend'), (1281, 'destruction'), (1332, 'aggravate'), (1335, 'prisoner'), (1344, 'deputy'), (1379, 'trespass'), (1385, 'pre'), (1419, 'pain'), (1427, 'la'), (1462, 'conceal'), (1475, 'weapon'), (1477, 'burglary'), (1498, 'drink'), (1541, 'armed'), (1564, 'threat'), (1580, 'machine'), (1582, 'traffic'), (1595, 'commonly'), (1598, 'human'), (1603, 'blood'), (1604, 'manufacture'), (1608, 'load'), (1611, 'drug'), (1626, 'springfield'), (1636, 'minimum'), (1638, 'unlawfully'), (1647, 'prosecutor'), (1662, 'identity'), (1670, 'touch'), (1677, 'x'), (1680, 'shoot'), (1689, 'maker'), (1689, 'neighborhood'), (1693, 'residue'), (1696, 'cal'), (1698, 'inflict'), (1708, 'horse'), (1734, 'mandatory'), (1755, 'box'), (1758, 'net'), (1782, 'violence'), (1799, 'double'), (1826, 'steal'), (1866, 'misconduct'), (1872, 'green'), (1874, 'plant'), (1894, 'welfare'), (1932, 'felony'), (1941, 'gun'), (1952, 'facility'), (1968, 'scam'), (1971, 'apartment'), (1981, 'highly'), (1983, 'fatal'), (2053, 'assault'), (2058, 'scheme'), (2082, 'allegedly'), (2112, 'black'), (2118, 'victim'), (2155, 'inch'), (2164, 'calculate'), (2187, 'quantity'), (2188, 'don'), (2242, 'jail'), (2279, 'robbery'), (2296, 'harm'), (2309, 'expert'), (2337, 'activity'), (2467, 'threaten'), (2571, 'mass'), (2580, 'uniform'), (2606, 'surrender'), (2731, 'safe'), (2766, 'in'), (2795, 'dr'), (2798, 'grand'), (2917, 'grow'), (3008, 'liberty'), (3032, 'murder'), (3059, 'center'), (3080, 'alter'), (3088, 'white'), (3116, 'response'), (3125, 'medical'), (3204, 'kill'), (3306, 'abstract'), (3334, 'thompson'), (3337, 'fit'), (3348, 'custody'), (3429, 'agency'), (3432, 'store'), (3495, 'enactment'), (3506, 'organize'), (3514, 'break'), (3612, 'repeat'), (3652, 'induce'), (3668, 'unlawful'), (3720, 'night'), (3913, 'incident'), (3945, 'accuse'), (4008, 'abuse'), (4192, 'fire'), (4386, 'confine'), (4447, 'brother'), (4620, 'attack'), (4730, 'disposition'), (4774, 'civil'), (4890, 'indictment'), (4962, 'reduce'), (4984, 'buy'), (5083, 'possess'), (5122, 'family'), (5158, 'security'), (5205, 'mrs'), (5278, 'small'), (5417, 'release'), (5454, 'degree'), (5513, 'convict'), (5643, 'rate'), (5725, 'short'), (5877, 'prescribe'), (5936, 'prosecution'), (5971, 'arrest'), (5975, 'offense'), (6184, 'protection'), (6250, 'police'), (6268, 'car'), (6378, 'class'), (6395, 'ex'), (6442, 'instrument'), (6608, 'fraud'), (6662, 'crime'), (6795, 'plead'), (6796, 'conviction'), (7045, 'n'), (7169, 'h'), (7269, 'waive'), (7394, 'treat'), (7519, 'occasion'), (7530, 'operation'), (7551, 'light'), (7560, 'child'), (7653, 'u'), (7940, 'substance'), (8056, 'die'), (8094, 'article'), (8118, 'discharge'), (8336, 'rest'), (8386, 'home'), (8388, 'violation'), (8467, 'criminal'), (8893, 'statutory'), (8924, 't'), (9104, 'street'), (9106, 'w'), (9297, 'm'), (9630, 're'), (9723, 'warrant'), (9911, 'similar'), (9913, 'knowledge'), (10372, 'death'), (10779, 'fix'), (10833, 'carry'), (11377, 'man'), (11849, 'guilty'), (11941, 'bar'), (11989, 'officer'), (12558, 'conduct'), (12579, 'force'), (12878, 'c'), (12898, 'control'), (13425, 'attorney'), (13651, 'e'), (13841, 'attempt'), (15254, 'return'), (15907, 'clear'), (16510, 'money'), (16676, 'power'), (16733, 'testify'), (17058, 'cook'), (17311, 'refuse'), (17956, 'new'), (18242, 'jury'), (18361, 'name'), (18804, 'illinois'), (19467, 'contain'), (19778, 'proceeding'), (20169, 'do'), (20508, 'charge'), (21048, 'co'), (21979, 'allege'), (22929, 'effect'), (23368, 'own'), (25907, 'use'), (31632, 'first'), (34198, 'cause'), (38860, 'ill'), (39384, 'v'), (44532, 'justice')\n",
      "*** Not found (586 words): ***\n",
      "nimetazepam, methodone, hattori, yob, khat, naltrexone, herbal, poospatuck, cabergoline, m9, cyberfraud, birthrate, nuestra, tussionex, lucchese, razorblade, methcathinone, cyberdefense, midmost, nupur, breastwork, smokin, bandido, adderal, medipot, bikie, skinhead, cyberwarfare, minstead, ransomware, mydoom, enisa, mephedrone, .##/ # #, lgtt, airsoft, exacto, od'd, dns, dagga, marajuana, caddoc, patriarca, buglary, # .##x # #, oxycotin, soprano, antispam, smokable, benelli, dru, yobbery, methoxy, sentona, chlordiazepoxide, reincarcerated, breadknife, lod, dmx, mauser, evron, assasin, bupe, gastroscopy, aarushi, norteno, ledbury, areste, cannoneer, redcoat, statuatory, psuedoephedrine, trinitario, muscaria, palladone, www.csc.com, levamisole, btk, i d, sureno, porn, tranquillizer, # # xx, nunchuck, fondler, kantrole, enactor, dhaula, # .##x##mm, spellcaster, aarelaid, semion, cybercrime, flashforward, inurl, marijuna, musketry, scareware, heldreth, dehydroepiandrosterone, damocle, opioid, schiebel, premediated, rcmp, reenactor, mafioso, methylenedioxymethamphetamine, valerate, hourlong, dhananjoy, scoped, spoof, matchlock, carjacker, scimitar, fentanyl, crimefighting, cannibal, bunty, centerfire, zemun, chicano, salvatrucha, henious, acamprosate, premarin, semyon, hanzo, hangun, farmacia, kelowna, shabu, pignatone, cyberbullye, pentazocine, xr, jacker, zugsberger, pgi2, . # # #, deoxy, weatherburn, &, fraudster, msg, vendita, mdma, saric, hasanni, hydroxybutyrate, grapeshot, hmr, hydroxy, pseudophedrine, cyberwarrior, revenger, m##a #, schoolgirl, 5 mg, oxycontin, levaquin, proxamol, holstere, nunchuk, percodan, diethanolamine, dentention, gratteri, croxteth, adipex, phise, firestarter, driveby, sextortion, # , #, adderall, chique, terroristic, cyberworld, # # a #, warrent, whodunnit, amoxil, heparin, ganglord, pceu, lortab, cnp, spam, consentual, tweeter, kukri, §, muder, infosec, suboxone, piperazine, ectasy, lorcet, oxy, nitrite, nkt, cyberterror, muzzleloade, knive, warhead, chigurh, diamorphine, lordz, acetylcysteine, gladius, thirddegree, marijauna, benzocaine, subds, swordfighting, nellessen, thriller, hydromorphone, chlorpromazine, arrreste, finasteride, ricetta, claritin, bupivacaine, # # cm, growhouse, # # mg, jilt, botch, cyberstalker, scepter, disulfiram, chara, mukhtaran, lunesta, nagant, marama, klonopin, trece, matricide, vijay, machinegun, cybercrook, gp, unichem, bandali, reserpine, mandrax, mandiant, norco, yohimbe, kisha, bellagio, painkille, # # # # # . # #, viruse, percoset, percocet, rivotril, blackpowder, gadi, infowar, amyl, precription, vigabatrin, cyberterrorism, counterintelligence, prolexic, arushi, mogilevich, varrio, lightsaber, plowshare, bervar, matka, sildenafil, mossberg, frostmourne, hitman, makhmudov, threatscape, malware, beheader, swordplay, crime.the, decavalcante, mountie, cyberspace, boxcutter, redeploy, canadawide, xm8, ramrattan, unsub, cyberwar, bersa, gangmember, backpacker, phisher, effet, rostov, convienence, subutex, phishe, cytochrome, trafficante, adware, ndrangheta, sureños, banff, zakone, trendlab, zopiclone, accolate, keyblade, evonitz, parabellum, tita, benzodiazepine, ecstasy, digoxin, camorra, phishnet, pharme, tramadol, .9, erimin, atarax, quat, ivankov, tresspass, apcali, broadsword, massone, 9, dreampharmaceutical, actiq, 2c, spammer, rapier, vato, jou, darko, hacktivism, comstat, lexapro, compounder, druglord, housebreak, txt, # # # # # # # #, garand, surenos, rustam, meltab, zanaflex, cyberattacker, buttstock, crossbow, methampetamine, levitra, riffle, antivirus, ploughshare, xarelto, endocet, pavan, cybercop, mbanje, .##- # # #, alegra, dantis, norte'o, recidivate, methampethamine, hdac, infosecurity, gangrape, commet, krisberg, muzzleloader, vyacheslav, yeate, halberd, unsheathe, strangler, metamphetamine, nunchaku, honeybee, warfighte, mukhi, supect, macallair, oxycodone, pugil, senna, bousfield, khukri, cyberspie, escaper, rohypnol, yohimbine, unsheath, confick, p # #, cybercriminal, wasarreste, ultracet, botmaster, cannabinoid, zyprexa, cyberespionage, crimeware, calibur, ciali, chessboard, minotaur, rimfire, tshepang, kuan, botnet, mongol, alprazolam, cannonade, cybertheft, diflucan, burglarly, a. # #, colonia, glibenclamide, cowz, opiod, swordsmanship, assualte, breakin, sickert, counterterrorism, roshan, diacetylmorphine, bzp, seroxat, crimelord, terazosin, longbow, eiriksson, m # # #, 9 mm, divinorum, burlgary, wuorno, conwoman, toprol, norteño, kwaso, ar # #, chargedwith, semiauto, crocky, jdai, jailbreaker, midazolam, mosin, ghb, m4, sawn, blowgun, naloxone, trafficable, paedophile, hydroponic, cumwithuscom, .##- # #, hydroponically, suppressor, insa, chlorpheniramine, dr ., spyware, yaba, gangsterism, chuong, psychostimulant, cifas, quinoline, poisoner, hawala, nortenos, castlecop, kamagra, dundon, mp5, cyberterrorist, lightsabre, ddo, methylamphetamine, m # #, cocain, silagra, hemraj, cyberattack, pandey, manolache, buprenorphine, sinsemilla, ecrime, propecia, astrazeneca, dragoon, # .##mm, iserdo, mjolnir, promethazine, syabu, cyalis, arvs, bupropion, tabram, tranquiliser, rapper, xanex, duragesic, hoaxer, saber, bellfield, hydrocodone, pawan, varmint, investigtion, ipr, mugging, talwar, petersilia, xd, cannibi, dextroamphetamine, keto, apwg, alchol, dragunov, viagra, m1, tfmpp, swordsman, 5, sureño, smoothbore, mafiosos, nithari, methamphetimine, . # #, piru, cosa, adown, transnational, vicoprofen, 7 mm, vory, firstdegree, sicko, omcg, hells, bhang, oxys, whomso, salvia, cybersecurity, antidrug, benzylpiperazine, temazepam, justin.tv, cyberthreat, propofol, underdose, aggrevate, helburn, ganja, casalesi, ecstacy, methaphetamine, nhtcu, launcher, duggal, imiela, cyberweapon\n"
     ]
    }
   ],
   "source": [
    "found_google_lemma, not_found_google_lemma = check_presence(list(new_narcotics_lemma), list(new_weapons_lemma), list(new_investigation_lemma), tokens)"
   ]
  },
  {
   "cell_type": "code",
   "execution_count": 15,
   "id": "8a77fb3f-1e5b-48f6-9278-71348f6f6f23",
   "metadata": {},
   "outputs": [
    {
     "name": "stdout",
     "output_type": "stream",
     "text": [
      "*** Never found (903 words): ***\n",
      "{'bersa', 'scams', 'gangmember', 'swordsmen', 'backpacker', 'phisher', 'rascals', '##cm', 'effet', 'rostov', 'convienence', 'nimetazepam', 'methodone', 'rearresting', 'combating', 'stickups', 'subutex', 'phishe', 'cytochrome', 'supects', 'crips', 'hattori', 'arrrested', 'yob', 'breastworks', 'trafficante', 'antiretrovirals', 'adware', 'wuornos', 'ndrangheta', 'sureños', 'khat', 'naltrexone', 'banff', '#.##x##mm', 'probationers', 'zakone', 'brandished', 'trendlab', 'zopiclone', 'herbal', 'accolate', 'poospatuck', 'cabergoline', 'keyblade', 'm9', 'conscripting', 'cyberfraud', 'birthrate', 'bloods', 'nuestra', 'evonitz', 'housebreakings', 'jailed', 'tussionex', 'pistols', 'waives', 'lucchese', 'riflemen', 'parabellum', 'tita', 'razorblade', 'flints', 'neighborhoods', 'pleads', 'methcathinone', 'benzodiazepine', 'clans', 'cyberdefense', 'patches', 'lightsabres', 'meltabs', 'twins', 'housebreaks', 'automatics', 'ecstasy', 'midmost', 'digoxin', 'camorra', 'precursors', 'phishnet', 'pharme', 'tramadol', '.9', 'nupur', 'breastwork', '#####.##', 'smokin', 'erimin', 'gatling', 'atarax', 'racketeers', 'bangers', 'bandido', 'quat', 'ivankov', 'murdered', 'tresspass', 'adderal', 'apcali', 'jails', 'medipot', 'bikie', 'skinhead', 'broadsword', 'revocations', 'insas', 'pregnancies', 'massone', 'cyberwarfare', 'minstead', 'ransomware', '9', 'mydoom', 'syndicates', 'burglarized', 'actiq', '2c', 'dreampharmaceutical', 'spammer', 'cyberspies', '.##', 'variants', 'dropouts', 'enisa', 'mephedrone', 'smoked', '.##/ # #', 'rapier', 'recidivists', 'lgtt', 'airsoft', 'exacto', \"od'd\", 'vato', 'robs', 'cyberthreats', 'chambering', 'cannoneers', 'dns', 'returned', 'jou', 'dagga', 'darko', 'marajuana', 'caddoc', 'patriarca', 'psychotics', 'hacktivism', 'phising', 'comstat', 'surrenders', 'lexapro', 'cyberattacks', 'compounder', 'thieves', 'extradited', 'buglary', 'druglord', 'housebreak', 'unlicenced', '# .##x # #', 'txt', '# # # # # # # #', 'garand', 'surenos', 'sentonas', 'rustam', 'handcuffs', 'barons', 'oxycotin', 'addicts', 'traffickers', 'meltab', 'mongols', 'zanaflex', 'pects', 'apprehended', 'soprano', 'cyberattacker', 'antispam', 'katanas', 'smokable', 'benelli', 'botnets', 'buttstock', 'sticks', 'assualts', 'crossbow', 'methampetamine', 'levitra', 'dru', 'painkilling', 'riffle', 'yobbery', 'sandals', 'methoxy', 'cyberbullying', 'p##', 'snorted', 'calibers', 'glocks', 'holdups', 'opioids', 'painkillers', 'sentona', 'chlordiazepoxide', 'antivirus', 'reincarcerated', 'breadknife', 'snitching', 'lod', 'dmx', 'methylamphetamines', 'mauser', 'evron', 'cybercops', 'ploughshare', 'assasin', 'bupe', 'xarelto', 'endocet', 'cyberattackers', 'pavan', 'homicides', 'gastroscopy', 'aarushi', 'viruses', 'norteno', '#.##x##', 'warrants', 'ledbury', 'cybercop', 'suspects', 'areste', 'mushrooms', 'mbanje', 'attemped', 'cannoneer', 'redcoat', 'testifies', '.##- # # #', 'birthrates', 'alegra', '##mg', 'statuatory', 'dantis', 'psuedoephedrine', 'worms', \"norte'o\", 'overdoses', 'trinitario', 'recidivate', 'muscaria', 'palladone', 'www.csc.com', 'larcenies', 'methampethamine', 'dr.', 'hdac', 'infosecurity', 'levamisole', 'gangrape', 'commet', 'krisberg', 'muzzleloader', 'reenactors', 'btk', 'vyacheslav', 'snatchings', 'arested', 'yeate', 'cybercriminals', 'i d', 'sureno', 'halberd', 'rapes', 'porn', 'unsheathe', 'tranquillizer', 'rapists', '# # xx', 'brandishing', 'nunchuck', 'strangler', 'metamphetamine', 'fondler', 'nunchaku', 'kantrole', 'enactor', 'dhaula', '# .##x##mm', 'honeybee', 'wasarrested', 'warfighte', 'spellcaster', 'stolen', 'scimitars', 'ingesting', 'aarelaid', 'bullies', 'mukhi', 'semion', 'gangmembers', 'supect', 'holstered', 'macallair', 'burglaries', 'oxycodone', 'pugil', 'cybercrime', 'vatos', 'senna', 'boning', 'bongs', 'bousfield', 'khukri', 'cyberspie', 'flashforward', 'inurl', 'marijuna', 'escaper', 'rohypnol', 'yohimbine', 'confick', 'unsheath', 'p # #', 'lances', 'cybercriminal', 'wasarreste', 'ultracet', 'musketry', 'botmaster', 'cannabinoid', 'zyprexa', 'cyberespionage', 'crimeware', 'mobsters', 'scareware', 'calibur', 'ciali', 'chessboard', 'sodomizing', 'overdosing', 'heldreth', 'barbituates', 'hangs', 'dehydroepiandrosterone', 'bugles', 'dispensaries', 'broadswords', '9mm', 'knifes', '.##-###', 'arsons', 'births', 'damocle', 'opioid', 'minotaur', 'schiebel', 'hackers', 'rearrested', 'rimfire', 'magistrated', 'premediated', 'tshepang', 'kuan', 'offenders', 'botnet', 'mongol', 'rcmp', 'm###', 'unsheathing', 'alprazolam', 'msgs', 'cannonade', 'reenactor', 'cybertheft', 'enactors', 'mafioso', 'chiques', 'muzzleloading', 'methylenedioxymethamphetamine', 'diflucan', 'burglarly', 'a. # #', 'mafiosi', 'valerate', 'colonia', 'glibenclamide', '##a#', 'cyberterrorists', 'cowz', 'opiod', 'hourlong', 'chews', 'cialis', 'epics', 'opiates', 'dhananjoy', 'assaulted', 'vandalisms', '.##/##', 'scoped', 'encampments', 'swordsmanship', 'assualte', 'spoof', 'matchlock', 'breakin', 'filleting', 'thefts', 'nets', 'carjacker', 'scimitar', 'fentanyl', 'damocles', 'firings', 'crimefighting', 'sickert', 'counterterrorism', 'cannibal', 'dragoons', 'roshan', '#,#', 'bunty', '##xx', 'centerfire', 'zemun', 'chicano', 'salvatrucha', 'diacetylmorphine', 'bzp', 'seroxat', 'trinitarios', 'jilted', 'crimelord', 'terazosin', 'mafias', 'henious', 'rapiers', 'extortionists', 'acamprosate', 'premarin', 'longbow', 'semyon', 'hanzo', 'hangun', 'cannabinoids', 'eiriksson', 'm # # #', 'farmacia', '9 mm', 'divinorum', 'burlgary', 'peacocks', 'kelowna', 'cyberstalkers', 'salts', 'shabu', 'pignatone', 'cyberbullye', '########', 'pentazocine', 'xr', 'jacker', 'malwares', 'maces', 'raped', 'zugsberger', 'reoffended', 'longbows', 'aggrevated', 'pgi2', '. # # #', 'wuorno', 'conwoman', 'toprol', 'scissors', 'norteño', 'deoxy', 'carjackings', 'kwaso', 'ar # #', 'weatherburn', 'rifles', '&', 'chargedwith', 'apcalis', 'semiauto', 'crocky', 'piperazines', 'bashings', 'fraudster', 'msg', 'vendita', 'abusing', 'jdai', 'mdma', 'jailbreaker', 'saric', 'm##', 'hasanni', 'grapeshot', 'hmr', 'hydroxybutyrate', 'hydroxy', 'batterers', 'violators', 'midazolam', 'pseudophedrine', 'mosin', 'ghb', 'm4', 'cyberwarrior', 'flaming', 'conficker', 'forensics', 'sawn', 'revenger', 'schoolgirl', 'blowgun', 'm##a #', 'naloxone', 'trafficable', '5 mg', 'oxycontin', 'levaquin', 'nunchuks', 'medicines', 'paedophile', 'hydroponic', 'cumwithuscom', '.##- # #', 'a.##', '#.##mm', 'hydroponically', 'suppressor', 'proxamol', 'chlorpheniramine', 'insa', 'meditated', 'holstere', 'overdosed', 'nunchuk', 'dr .', 'spoofing', 'caseloads', 'spyware', 'laced', 'percodan', 'yaba', 'gangsterism', 'chuong', 'psychostimulant', 'muzzleloaders', 'diethanolamine', 'dentention', 'gratteri', 'croxteth', 'adipex', 'cifas', 'phise', 'firestarter', 'antipsychotics', 'quinoline', 'driveby', 'daggers', 'poisoner', 'sextortion', 'hawala', 'redcoats', 'nortenos', 'castlecop', 'kamagra', '7mm', 'occasioning', 'killers', '# , #', 'adderall', 'dundon', 'chique', 'flintlocks', 'terroristic', 'wars', 'cyberworld', '# # a #', 'warrent', 'mp5', 'cyberterrorist', 'whodunnit', 'prized', 'amoxil', 'trendlabs', 'heparin', 'ganglord', 'lightsabre', 'pceu', 'lortab', 'cnp', 'slayings', 'spam', 'ddo', 'ar##', 'scabbards', 'consentual', 'tweeter', 'kukri', 'methylamphetamine', 'm # #', 'cocain', '§', 'muder', 'silagra', 'infosec', 'hemraj', 'decriminalizing', 'cyberwarriors', 'benzodiazepines', 'cyberattack', 'suboxone', 'assaults', 'piperazine', 'pandey', 'triads', 'loaders', 'ectasy', 'imprisoned', 'extortions', 'lorcet', 'manolache', 'oxy', 'nitrite', 'buprenorphine', 'nkt', 'cyberterror', 'botmasters', 'arrested', 'sinsemilla', 'enzymes', 'muzzleloade', 'knive', 'warhead', 'chigurh', 'ecrime', 'propecia', 'diamorphine', 'astrazeneca', 'dragoon', '# .##mm', 'iserdo', 'mjolnir', 'lordz', 'blunderbusses', 'acetylcysteine', 'mightier', 'gladius', 'promethazine', 'sedatives', 'syabu', 'cyalis', 'meds', 'bungled', 'muggings', 'arvs', 'bupropion', 'thirddegree', 'marijauna', 'benzocaine', 'incarcerates', 'tabram', 'subds', 'tranquiliser', 'swordfighting', 'hearts', 'nellessen', 'rapper', 'abusers', 'xanex', 'methamphetamines', 'duragesic', 'hoaxer', 'saber', 'spammers', 'thriller', 'hydromorphone', 'chlorpromazine', 'upstarts', 'arrreste', 'finasteride', 'suspected', 'arrests', 'assualted', 'tranquilisers', 'cannibis', 'ricetta', 'bellfield', 'nunchucks', 'claritin', 'bupivacaine', 'hydrocodone', 'knives', '# # cm', 'growhouse', 'breakins', 'spearmen', 'pawan', '# # mg', 'jilt', 'incarcerations', 'antidepressants', 'rearrests', 'botch', 'cyberstalker', 'varmint', 'scepter', 'investigtion', 'lightsabers', 'warfighting', 'ipr', 'burglars', 'disulfiram', 'gangbangers', 'hallucinogens', 'chara', 'mugging', 'mukhtaran', 'lunesta', 'nagant', 'heists', 'marama', 'klonopin', 'dreampharmaceuticals', 'talwar', 'trece', 'matricide', '.###', 'vijay', 'machinegun', 'petersilia', 'xd', 'm##a#', 'cannibi', 'minimums', 'cybercrook', 'maras', 'gp', 'cannons', 'unichem', 'dugs', 'bandali', 'reserpine', 'dextroamphetamine', 'attempted', 'mandrax', 'keto', 'mandiant', 'bosses', 'cannonballs', 'bayonets', 'buys', 'convicted', 'injecting', 'norco', 'yohimbe', 'rackets', 'kisha', 'apwg', 'alchol', 'dragunov', 'barbiturates', 'bandidos', 'viagra', 'm1', 'tfmpp', 'robbers', 'swordsman', 'bellagio', 'painkille', 'charas', '5', '# # # # # . # #', 'smelled', 'viruse', 'profilers', 'percoset', 'percocet', 'cybercrooks', 'sureño', 'smoothbore', 'rivotril', 'convicts', 'mafiosos', 'blackpowder', 'nithari', '.##-##', 'methamphetimine', 'gadi', 'pharming', 'incarcerating', '. # #', 'amyl', 'infowar', 'piru', 'muskets', 'cosa', 'ddos', 'precription', 'vigabatrin', 'cyberterrorism', 'cybercrimes', 'adown', 'norteños', 'transnational', 'phishing', 'vicoprofen', 'infused', 'assualting', 'counterintelligence', 'breastplates', 'reoffending', 'locos', 'opiods', 'gangs', 'solidos', 'prolexic', 'fifes', '7 mm', 'arushi', 'vory', 'jailing', 'mogilevich', 'varrio', 'cyberweapons', 'lightsaber', 'warheads', 'handguns', 'firstdegree', 'plowshare', 'sicko', 'phishers', 'castlecops', 'bervar', 'omcg', 'carbines', 'hells', 'matka', 'bhang', 'spellcasters', 'oxys', 'whomso', 'salvia', 'bows', 'sildenafil', 'cybersecurity', 'mossberg', 'frostmourne', 'antidrug', 'schemes', 'hitman', 'benzylpiperazine', 'makhmudov', 'temazepam', 'threatscape', 'malware', 'justin.tv', '5mg', 'detained', 'cells', 'beheader', 'swordplay', 'cyberthreat', 'crime.the', 'decavalcante', 'grabbed', 'fraudsters', 'propofol', 'exposures', 'mountie', 'cyberspace', 'underdose', 'aggrevate', 'helburn', 'boxcutter', 'dons', 'redeploy', 'ganja', 'casalesi', 'canadawide', 'ecstacy', 'xm8', 'ramrattan', 'methaphetamine', 'unsub', 'depressants', 'nhtcu', 'launcher', 'duggal', 'cyberwar', 'imiela', 'chambered', 'slashings', 'cyberweapon'}\n"
     ]
    }
   ],
   "source": [
    "never_found = not_found_google.union(not_found_google_lemma)\n",
    "print(f\"*** Never found ({len(never_found)} words): ***\\n{never_found}\")"
   ]
  },
  {
   "cell_type": "markdown",
   "id": "821a5fa3-2c66-4a4d-a691-6e39f677f6d9",
   "metadata": {},
   "source": [
    "We have both the words and their lemmas, we unite them and we subtract from the resulting sets the words that don't appear in our collection."
   ]
  },
  {
   "cell_type": "code",
   "execution_count": 30,
   "id": "60d44f2a-cfcf-449a-82e3-09c1e4e9f573",
   "metadata": {},
   "outputs": [],
   "source": [
    "expanded_narcotics = (set(narcotics).union(new_narcotics).union(new_narcotics_lemma)) - not_found_google - not_found_google_lemma\n",
    "expanded_weapons = (set(weapons).union(new_weapons).union(new_weapons_lemma)) - not_found_google - not_found_google_lemma\n",
    "expanded_investigation = (set(investigation).union(new_investigation).union(new_investigation_lemma)) - not_found_google - not_found_google_lemma"
   ]
  },
  {
   "cell_type": "code",
   "execution_count": 32,
   "id": "c9de1d35-c48e-45e2-827c-194b4d994898",
   "metadata": {},
   "outputs": [
    {
     "name": "stdout",
     "output_type": "stream",
     "text": [
      "*** Expanded narcotics (297 words): ***\n",
      "codeine, cocktail, amitriptyline, epileptic, effects, possess, dextromethorphan, antiretroviral, baggie, lethal, stimulants, acute, addict, pain, marijuana, crack, alter, pipe, steroid, methyl, barbituate, drug, tylenol, coroner, tranquilizer, synthetic, overdose, analgesic, grown, resin, dilaudid, depressant, hypnotic, pills, skunk, xanax, marihuana, stimulant, smoke, cooks, co, arrest, surgical, lace, opium, diazepam, mushroom, hallucinogen, powerful, juana, citrate, generic, control, methadone, newer, diethylamide, pharmaceutical, pill, librium, vicodin, toxicity, mrs, e, inject, maker, antianxiety, unprescribed, methaqualone, containing, traffic, fit, patricia, hydrochloride, cr, muscle, plant, mari, prescribe, ultram, seroquel, cardiac, mescaline, medical, prescribed, gan, ketamine, decriminalize, antidepression, precursor, addiction, hcl, narcotic, seconal, pfizer, suspect, od, effect, labs, illicit, ban, meth, accidentally, pcp, pipes, vertex, powder, new, phenytoin, cultivation, med, sulfate, tablet, herion, prescription, mmj, sleep, meow, soma, hashish, chemicals, acetaminophen, quantity, imitation, legalizing, abstract, hepatitis, phencyclidine, lsd, dose, phenobarbital, boots, valium, his, sulphate, diphenhydramine, mouse, bong, heart, infuse, cannabi, possessing, euphoric, nonfatal, psychotropic, highly, fatal, smell, altering, sedative, methamphetamine, hallucinogenic, alia, animal, medi, pot, drown, cultivating, injectable, paxil, legalize, grow, ingest, swallow, drowning, demerol, induced, sedentary, psychedelic, trafficking, dosage, paraphenalia, drugs, treat, sleeping, salt, contin, acid, electricity, buy, plc, mood, manufacture, relaxer, erb, residue, accidental, pseudoephedrine, clonazepam, snort, contain, magic, painkiller, lysergic, heroin, cook, fatally, ativan, delirium, bath, narcotics, commonly, parkinson, powdered, tablets, caine, patch, barbiturate, c, ambien, intoxication, medicinal, medicine, sativa, boot, polydrug, morphine, antidepressant, induce, pseudo, alliance, restraint, cocaine, malarial, allergic, nitrate, gamma, anti, opiate, usa, storefront, incense, cultivate, allergy, wholesaler, pneumonia, asphyxia, cheap, amy, quoad, sodium, medications, uncut, psilocybin, gans, addictive, unk, twin, banning, sophisticated, ba, reservation, amytal, dug, horse, psychotic, plants, reaction, abstracting, depakote, lorazepam, medication, controlled, tar, clandestine, dispensary, substance, entertainer, amphetamine, propoxyphene, psychoactive, scopolamine, crystal, danny, lab, mice, xanthine, substances, amphetamines, paraphernalia, sympathomimetic, alias, ya, n, antipsychotic, ephedrine, relaxant, chemical, yerba, swallowed, cannabis, quaid, asphyxiation, anesthetic, antabuse, ritalin, dope, zoloft\n",
      "*** Expanded weapons (425 words): ***\n",
      "kitchen, dragon, kel, endangerment, potent, hang, iiia, robbery, forcible, affray, resist, automatic, ninja, blender, fire, lace, juana, crowbar, submachine, pistol, sawed, mm, sniper, wea, weaponry, gravity, samurai, rifleman, unloaded, unlicense, spear, sword, illicit, tommy, sks, prescription, fix, gauge, pen, sauer, knife, cutlass, re, murder, pellet, plate, highly, fatal, felony, conceal, serrate, aggravated, peacock, legalize, penknife, ammunition, threaten, attempe, treat, model, flame, salt, glock, burglary, prosecutor, altercation, cocked, incident, bath, weapons, caine, intoxication, blackhawk, sig, cocaine, colt, opiate, python, blast, homemade, fife, asault, weapon, caliber, causing, degree, swords, assaulting, discharge, epic, utter, aggravate, charge, resisting, knifepoint, blunt, unprovoked, revolvers, double, banta, amphetamines, meat, spears, revolver, theft, cannabis, chucks, dope, sheathe, mighty, taurus, nosed, cal, steroid, axes, folding, mischief, razor, centimeter, artillery, tec, saw, marihuana, curve, stabbing, disorderly, handgun, m, blacksmith, pocketknife, tactical, box, volley, prescribe, h, muzzle, sandal, flash, decriminalize, ornamental, flintlock, nova, fixed, ban, chainsaw, armor, cultivation, butcher, enactments, reckless, scythe, petit, salute, lewd, harrassment, imitation, on, nun, fantasy, steak, threats, cannabi, possessing, criminal, liberties, shoplift, chuck, arsenal, cause, cannonball, leather, drugs, barreled, knight, caleb, nonlethal, serrated, lascivious, narcotics, ons, musket, era, buckler, screwdriver, medicinal, molestation, allegedly, incense, scabbard, blade, gunpowder, ceremonial, breastplate, discharging, winchester, retractable, war, filet, concealable, bar, weap, minimi, sharpener, cock, chamber, custodial, amphetamine, felonious, bread, battery, shank, stabbed, substances, ruger, x, serpent, brawl, revolutionary, switchblade, derringer, cannon, sharpened, toothbrush, magnum, dagger, beretta, enactment, knights, inflicting, stab, carrying, stimulants, marijuana, luger, harassment, machine, facsimile, claw, sexual, stimulant, short, hallucinogen, use, control, methadone, threat, armored, wielding, curved, loading, shotguns, first, nine, crescent, carbine, mari, pons, ball, addiction, narcotic, springfield, meth, domestic, powder, thompson, bayonet, tablet, prescribing, officer, warrior, sidearm, semi, shoplifting, vicious, sault, lance, trespass, phencyclidine, fillet, class, snub, semiautomatic, harm, conduct, unlawfully, article, methamphetamine, barrel, armed, pon, stanley, wesson, recklessly, volleys, firing, painkiller, gun, green, bb, blunderbuss, powdered, wield, uttering, scissor, millimeter, instrument, civil, unlicence, rocket, bone, deadly, mallet, bloodstaine, pastry, firearms, plated, malicious, howitzer, addictive, cleaver, load, machete, balls, maggard, mace, bugle, peeler, crystal, minie, attempt, crow, flick, sk, bladed, possess, assualt, loaded, crack, carve, drug, guns, synthetic, spearman, sabers, scar, occasion, co, arrest, unlawful, vicodin, guage, inch, prize, grab, small, trespassing, indecent, squad, unlicensed, acto, attack, firearm, carry, grievous, forge, stick, power, chrome, unregistered, misdemeanor, bodily, shotgun, sorcery, cutter, assult, gage, hammer, gatle, bowie, holster, ar, assault, sheathed, contin, breech, nuclear, confinement, inflict, vegetable, liberty, heroin, brittany, tablets, encampment, wrench, cobra, polydrug, katana, grevious, fold, flint, pare, loader, threatening, abercrombie, powered, remington, fish, light, grenade, banning, using, axis, carving, rifle, silencer, bloodstained, rape, controlled, unregistere, paring, substance, concealed, bow, brandish\n",
      "*** Expanded investigation (734 words) ***:\n",
      "burglarize, extradiction, crooks, card, dhs, extradition, scared, kill, moor, aryan, convict, pietro, forcibly, moors, prosecution, sex, batterer, robbery, black, forcible, shooters, blooded, sandwich, boss, disposition, crime, prevalence, behavior, botched, dump, rearreste, dos, parental, notorious, killer, pistol, id, kidnap, safe, larceny, victimization, wedlock, force, white, dr, deuce, traffic, bredel, markus, emergency, apprehend, harasser, refused, aces, human, ins, evading, identity, deliveryman, vigilante, deuces, reduce, spear, spiking, recognizance, child, angels, calculate, robberies, parolee, spies, forgery, dowler, warfare, yeates, mandatory, premeditated, metal, knife, carlo, carjack, rascal, fake, re, wnt, murder, shipman, gangster, robbing, fatal, felony, accuse, mafia, bounty, overcrowd, conceal, intrusion, lonely, aggravated, chew, classic, levi, sus, thief, arousal, truancy, doll, killing, task, invasion, culprit, mask, defilement, fondling, burglary, cartel, prosecutor, lover, teen, juvenile, rate, incident, espionage, thumbprint, la, steal, virus, activity, violator, whereabout, mathew, incarcerated, releasing, return, attacks, pre, mob, illinois, affiliations, plead, raoul, runaway, blue, asault, banger, converters, concealment, neighborhood, walter, assaulting, utter, infant, prolific, aggravate, charge, nicola, arraignment, patronizing, snatch, knifepoint, santos, richard, cell, angel, postpone, gangbanger, unprotected, street, offend, arrrest, criminality, name, brother, sexually, theft, rates, centers, detection, blood, snatching, marc, killings, distraction, cache, slayer, slashing, exploitation, slaying, poisoning, supremacist, civilly, arresting, night, sting, mischief, debs, uninsurance, nostra, criminals, consensual, t, molester, proceeding, jeremy, ill, stabbing, hiv, laundering, crook, brutally, abuser, handgun, calculating, teodor, corrupt, manhunt, stealing, justice, die, imperial, deputy, baby, willful, youthful, sicilian, neapolitan, indictment, handcuff, aileen, daytime, whereabouts, disappearance, behind, touching, sodomy, oo, petit, do, lewd, reoffend, detaining, reputed, tin, disciples, syndicate, larcency, family, criminal, liberties, pantry, clan, imprison, shoplift, reoffender, statutory, rob, postponed, pregnancy, bandit, unsolved, expert, kidnapper, reoffense, profiler, buy, misdemeanants, subway, ripper, computer, bundy, uniform, variant, tool, operation, bungle, prostitute, burglarious, fondle, similar, targeted, harold, molest, bomber, insider, persistent, own, tire, lords, molestation, lord, cobras, bars, reentry, detroit, felons, probationer, hospitalization, moh, queen, snatcher, misconduct, domain, bali, gang, teenage, bail, anton, spousal, target, robbed, bashing, masked, jail, baron, mug, evade, forensic, chinese, foxen, prey, war, detain, bar, release, harbor, indictments, center, rested, indecently, los, piracy, accused, apt, prison, ira, mickey, custodial, felonious, lab, harboring, brega, scam, hunter, extortion, offense, reconviction, absconder, undercover, kiddie, pink, destruction, nathan, spree, crimes, patronize, stab, smuggle, bamber, scheme, artist, hilltop, cold, exposure, minimum, extortionist, motorcycle, revocation, kidnaping, joshua, sexual, kidnapping, thirst, path, organized, confine, molesting, mysterious, threat, wielding, siders, joanna, fiend, net, carjacking, detachment, counterfeit, crew, detention, baseline, odometer, bandana, heinous, pawning, sam, suspect, scenery, sider, pilfer, racketeer, meth, arson, antoni, burglarizing, prisons, scare, zeus, attorney, loco, probation, abuse, probing, robber, trojan, protection, infringement, holdup, detainer, gangsters, facility, shoplifting, refuse, trespass, assassin, genovese, incarceration, offender, escapee, hobo, heart, habitual, hunting, giancana, psychopathic, triad, moat, confined, slay, armed, guilty, magistrate, racket, project, shoot, sodomize, counterfeiting, jewelry, man, correctional, conviction, cyber, joe, violent, bag, violence, gay, fbi, homicide, victim, housebreaking, premeditate, handbag, petty, reoffenders, carnal, wield, stole, home, corruption, raid, ace, hacking, mortality, thievery, uttering, clear, ex, instrument, rearrest, birney, selby, rest, apts, upstart, gambino, incarcerate, biker, thug, don, familia, queens, deadly, reducing, calabrian, parole, melbourne, tools, break, hate, in, malicious, trafficker, serial, mai, straight, fraud, drink, spike, ee, hacker, snitch, ralph, felon, woode, gord, murders, w, combat, embezzlement, tony, nonviolent, abduction, custody, probe, overcrowded, fedex, mad, pizza, repeat, ms, dropout, hack, deportation, misdemeanant, carlton, bully, caller, wooded, attempt, parolees, harden, crush, reconvict, efrain, incest, terrorism, prisoner, deface, bullying, assualt, recidivism, concealing, kingpin, crip, detective, psychiatric, jury, affiliation, testify, milly, relapse, raping, drug, murderous, surrender, stalker, jigsaw, catalytic, facilities, satan, sheets, detectives, arrest, fugitive, murdering, knowledge, ipswich, welfare, nonforcible, cleared, hunt, protective, delinquency, pawn, pect, homocide, detainment, reoffende, skim, tamper, sadistic, indecent, squad, waive, bust, attack, langner, molestor, money, firearm, abortion, police, skimming, maniac, burglar, insane, caseload, car, remorseless, murderer, policing, organize, grand, enzyme, unregistered, dotson, misdemeanor, anal, krishna, v, grasso, apprehension, rapist, smuggling, spy, u, vito, launder, assult, death, underworld, ice, tampering, pornography, misappropriation, yorkshire, psychopath, alleged, touch, within, defacing, ar, brotherhood, doc, recidivist, assault, offenses, solido, extradite, mexican, trafficking, graffiti, mccarthy, german, surrey, collar, winkler, naples, purse, intercourse, disciple, hilton, liberty, debit, deviant, mass, chucky, brazen, agency, cobra, bike, capias, dui, reincarceration, zodiac, daylight, infection, response, proceedings, meditate, neonaticide, cop, lynn, security, norinco, tiny, coldblooded, conscript, warrant, antisocial, reconvicted, ted, prostitution, mentally, heist, shooter, firebug, birth, arpaio, torrio, preying, sheet, rape, scrap, allege, unregistere, johnny, converter, substance, digital, murderers, oakdale, capia, kia, pilfering, store, gangland, hillside, stickup, suffolk, naming, standoff, hardened, brandish, worm, advanced, vandalism, shooting, warring, gunman, apartment, ram, violation, mara, mobster\n"
     ]
    }
   ],
   "source": [
    "print(f\"*** Expanded narcotics ({len(expanded_narcotics)} words): ***\\n{', '.join(list(expanded_narcotics))}\")\n",
    "print(f\"*** Expanded weapons ({len(expanded_weapons)} words): ***\\n{', '.join(list(expanded_weapons))}\")\n",
    "print(f\"*** Expanded investigation ({len(expanded_investigation)} words) ***:\\n{', '.join(list(expanded_investigation))}\")"
   ]
  },
  {
   "cell_type": "code",
   "execution_count": null,
   "id": "ccdfe395-27eb-4a7f-9e4c-f9ac2e08a608",
   "metadata": {},
   "outputs": [],
   "source": []
  }
 ],
 "metadata": {
  "kernelspec": {
   "display_name": "Python 3",
   "language": "python",
   "name": "python3"
  },
  "language_info": {
   "codemirror_mode": {
    "name": "ipython",
    "version": 3
   },
   "file_extension": ".py",
   "mimetype": "text/x-python",
   "name": "python",
   "nbconvert_exporter": "python",
   "pygments_lexer": "ipython3",
   "version": "3.9.1"
  }
 },
 "nbformat": 4,
 "nbformat_minor": 5
}
