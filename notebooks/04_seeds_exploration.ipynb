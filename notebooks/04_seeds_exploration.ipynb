{
 "cells": [
  {
   "cell_type": "markdown",
   "id": "8389d946-0c34-4a71-997d-edb5df5671fa",
   "metadata": {},
   "source": [
    "# Seeds exploration\n",
    "\n",
    "The idea is to expand the set of words of interest; in fact, not all the suggested words are present in the corpus, and some of them have really low frequencies. This is a problem when trying to guide to topic modelling around the concepts of interests, because these words appear in few documents. Trying to expand the set should help us in discovering better topics (and in general in doing a better analysis)."
   ]
  },
  {
   "cell_type": "code",
   "execution_count": 1,
   "id": "04f71e9b-0f7b-4e1f-8069-45f538c98b74",
   "metadata": {},
   "outputs": [],
   "source": [
    "import warnings\n",
    "warnings.filterwarnings('ignore')\n",
    "\n",
    "import sys\n",
    "sys.path.append(\"..\")\n",
    "\n",
    "from pprint import pprint\n",
    "import itertools\n",
    "\n",
    "from src.dataset import Dataset\n",
    "\n",
    "import spacy\n",
    "nlp = spacy.load('en_core_web_md', disable=['parser', 'ner']) # just keep tagger for lemmatization"
   ]
  },
  {
   "cell_type": "code",
   "execution_count": 2,
   "id": "b20dcb1f-3734-4150-be71-353f21041e6a",
   "metadata": {},
   "outputs": [],
   "source": [
    "dataset = Dataset()\n",
    "tokens = dataset.load_dataset(year=None, \n",
    "                              fields={\"tokens\"}, \n",
    "                              courts={\"Illinois Appellate Court\"})"
   ]
  },
  {
   "cell_type": "code",
   "execution_count": 3,
   "id": "f5746178-ea58-4f61-b63a-02e234c72f47",
   "metadata": {},
   "outputs": [],
   "source": [
    "from collections import defaultdict\n",
    "def check_corpus_presence(narcotics, weapons, investigation, filtered_tokens, topN=100, notFoundN=100):\n",
    "    seen = set()\n",
    "    not_found = weapons.union(investigation).union(narcotics)\n",
    "    freq = defaultdict(lambda:0)\n",
    "    for doc in filtered_tokens:\n",
    "        for w in set(doc): \n",
    "            if w in not_found:\n",
    "                seen.add(w)\n",
    "                freq[w] += 1\n",
    "    \n",
    "    not_found -= seen\n",
    "                \n",
    "    sorted_words = sorted([(v,k) for k,v in freq.items()])\n",
    "    if topN:\n",
    "        print(', '.join([str(t) for t in sorted_words[:topN]]))\n",
    "    else:\n",
    "        print(', '.join([str(t) for t in sorted_words]))    \n",
    "    print(f\"*** Not found ({len(not_found)} words): ***\")\n",
    "    if notFoundN:\n",
    "        print(', '.join([t for t in itertools.islice(not_found, notFoundN)]))\n",
    "    else:\n",
    "        print(', '.join(not_found))    \n",
    "    \n",
    "    return sorted_words, not_found"
   ]
  },
  {
   "cell_type": "markdown",
   "id": "9ba26930-54f6-4839-9f6e-b975f4995866",
   "metadata": {},
   "source": [
    "### Initial sets\n",
    "We keep singular and plural versions of words because the pre-processing phase can produce both versions, depending on the context (we use Spacy)"
   ]
  },
  {
   "cell_type": "code",
   "execution_count": 4,
   "id": "c458cc89-3647-421c-88b7-80a4f90a6744",
   "metadata": {},
   "outputs": [],
   "source": [
    "narcotics = {'cannabis', 'cocaine', 'methamphetamine', 'drugs', 'drug', 'marijuana', \n",
    "             'ecstasy', 'lsd', 'ketamine', 'heroin', 'fentanyl', 'overdose', 'blunt'}\n",
    "\n",
    "weapons = {'gun', 'knife', 'weapon', 'firearm', 'rifle', 'carbine', 'shotgun', 'handgun', \n",
    "           'revolver', 'musket', 'pistol', 'derringer', 'assault', 'rifle', 'sword'}\n",
    "\n",
    "investigation = {'gang', 'mafia', 'serial',  'killer', 'rape', 'theft', 'recidivism', \n",
    "                 'arrest', 'robbery', 'cybercrime', 'cyber', 'crime'}"
   ]
  },
  {
   "cell_type": "markdown",
   "id": "ea36596e-2ee4-4927-ad2d-4ee3305df52a",
   "metadata": {},
   "source": [
    "As we can see, many words don't appear so frequently in the collection, and some words don't even appear; if we want to try to drive the Topic Modelling process towards topics of interest, we need to expand these sets with more frequent words."
   ]
  },
  {
   "cell_type": "code",
   "execution_count": 5,
   "id": "27849c87-c15a-456d-b033-a668f1fcb8fd",
   "metadata": {},
   "outputs": [
    {
     "name": "stdout",
     "output_type": "stream",
     "text": [
      "(2, 'ketamine'), (3, 'musket'), (4, 'cyber'), (5, 'fentanyl'), (9, 'ecstasy'), (40, 'carbine'), (41, 'mafia'), (61, 'derringer'), (114, 'methamphetamine'), (119, 'drugs'), (167, 'recidivism'), (191, 'lsd'), (194, 'overdose'), (253, 'sword'), (384, 'killer'), (495, 'serial'), (556, 'blunt'), (691, 'rifle'), (1165, 'heroin'), (1294, 'shotgun'), (1319, 'handgun'), (1376, 'cannabis'), (1607, 'gang'), (1717, 'marijuana'), (1839, 'revolver'), (1970, 'pistol'), (2080, 'firearm'), (2355, 'cocaine'), (2736, 'rape'), (2772, 'knife'), (4948, 'theft'), (5426, 'assault'), (6223, 'weapon'), (6591, 'robbery'), (7116, 'drug'), (7271, 'gun'), (16487, 'crime'), (17005, 'arrest')\n",
      "*** Not found (1 words): ***\n",
      "cybercrime\n"
     ]
    }
   ],
   "source": [
    "_ = check_corpus_presence(narcotics, weapons, investigation, tokens)"
   ]
  },
  {
   "cell_type": "code",
   "execution_count": 6,
   "id": "b82d48a4-7989-44af-ae3f-4e97bdd7586d",
   "metadata": {},
   "outputs": [],
   "source": [
    "not_found_in_collection = {'ecstasy', 'cybercrime', 'fentanyl'}\n",
    "\n",
    "interesting_set = narcotics.union(weapons).union(investigation)"
   ]
  },
  {
   "cell_type": "markdown",
   "id": "393fcb7e-0c98-4de5-9aa2-b43feba0a006",
   "metadata": {},
   "source": [
    "## GoogleNews word embeddings\n",
    "\n",
    "Using word embeddings, it should be possible to find the words that are used in the same context as our words of interest, so that we can expand the seed set with different words that are used in the same context."
   ]
  },
  {
   "cell_type": "code",
   "execution_count": 7,
   "id": "b487e5b5-05f2-47f3-ad4c-610897f8d5f8",
   "metadata": {},
   "outputs": [],
   "source": [
    "from gensim import models\n",
    "\n",
    "w = models.KeyedVectors.load_word2vec_format(\n",
    "    '../data/models/GoogleNews-vectors-negative300.bin', binary=True)"
   ]
  },
  {
   "cell_type": "code",
   "execution_count": 8,
   "id": "5f494006-a75f-43f0-a01f-90a7efe10f3f",
   "metadata": {},
   "outputs": [
    {
     "data": {
      "text/plain": [
       "[('heroin', 0.8294118046760559),\n",
       " ('crack_cocaine', 0.8008098006248474),\n",
       " ('methamphetamine', 0.7232441306114197),\n",
       " ('narcotics', 0.707099974155426),\n",
       " ('methamphetamines', 0.7007291316986084)]"
      ]
     },
     "execution_count": 8,
     "metadata": {},
     "output_type": "execute_result"
    }
   ],
   "source": [
    "w.most_similar(positive=['cocaine'], topn=5)"
   ]
  },
  {
   "cell_type": "code",
   "execution_count": 9,
   "id": "0e0c5de6-20ae-4901-a19c-06624b4b67f9",
   "metadata": {},
   "outputs": [
    {
     "name": "stdout",
     "output_type": "stream",
     "text": [
      "*** serial ***:\n",
      " ########_##XX, 0.64 - killers, 0.6 - murderer, 0.57 - serial_killer, 0.56 - Serial, 0.55\n",
      "*** mafia ***:\n",
      " mafias, 0.71 - Mafia, 0.68 - gangsters, 0.67 - underworld, 0.66 - mafioso, 0.66\n",
      "*** cocaine ***:\n",
      " heroin, 0.83 - crack_cocaine, 0.8 - methamphetamine, 0.72 - narcotics, 0.71 - methamphetamines, 0.7\n",
      "*** knife ***:\n",
      " kitchen_knife, 0.81 - knives, 0.77 - steak_knife, 0.75 - machete, 0.74 - carving_knife, 0.74\n",
      "*** killer ***:\n",
      " killers, 0.76 - murderer, 0.66 - Killer, 0.64 - serial_killer, 0.6 - rapist, 0.57\n",
      "*** blunt ***:\n",
      " drugs, 0.7 - cocaine, 0.66 - methamphetamine, 0.65 - cannabis, 0.65 - narcotics, 0.64\n",
      "*** heroin ***:\n",
      " cocaine, 0.83 - Heroin, 0.77 - crack_cocaine, 0.74 - narcotics, 0.73 - methamphetamine, 0.72\n",
      "*** cybercrime ***:\n",
      " Cybercrime, 0.76 - cybercrimes, 0.75 - cyber, 0.73 - cyber_criminals, 0.65 - identity_theft, 0.63\n",
      "*** handgun ***:\n",
      " semiautomatic_handgun, 0.82 - .##_caliber_handgun, 0.82 - 9mm_handgun, 0.82 - gun, 0.81 - 9_mm_handgun, 0.81\n",
      "*** lsd ***:\n",
      " seroquel, 0.61 - mmj, 0.59 - xr, 0.58 - generic_vicodin, 0.55 - dreampharmaceuticals, 0.55\n",
      "*** arrest ***:\n",
      " arrests, 0.7 - arrested, 0.67 - arrrest, 0.64 - rearrest, 0.6 - arresting, 0.6\n",
      "*** musket ***:\n",
      " muskets, 0.74 - flintlock_muskets, 0.63 - flintlocks, 0.62 - cannon, 0.62 - flintlock_rifles, 0.62\n",
      "*** sword ***:\n",
      " swords, 0.77 - broadsword, 0.66 - sandal_flick, 0.63 - katana, 0.62 - scimitar, 0.6\n",
      "*** drugs ***:\n",
      " drug, 0.85 - prescription_drugs, 0.69 - medications, 0.67 - illicit_drugs, 0.67 - Drugs, 0.67\n",
      "*** methamphetamine ***:\n",
      " meth, 0.9 - methamphetamines, 0.86 - crystal_methamphetamine, 0.8 - Methamphetamine, 0.79 - meth_amphetamine, 0.76\n",
      "*** cannabis ***:\n",
      " marijuana, 0.81 - Cannabis, 0.75 - herbal_cannabis, 0.71 - skunk_cannabis, 0.71 - marihuana, 0.68\n",
      "*** fentanyl ***:\n",
      " Fentanyl, 0.72 - oxycodone, 0.66 - painkiller_fentanyl, 0.64 - fentanyl_patch, 0.62 - morphine, 0.62\n",
      "*** gun ***:\n",
      " handgun, 0.81 - guns, 0.78 - pistol, 0.77 - firearm, 0.74 - firearms, 0.73\n",
      "*** drug ***:\n",
      " drugs, 0.85 - Drug, 0.75 - narcotics, 0.64 - cocaine, 0.61 - heroin, 0.61\n",
      "*** firearm ***:\n",
      " firearms, 0.8 - handgun, 0.77 - gun, 0.74 - possessing_firearm, 0.71 - pistol, 0.7\n",
      "*** pistol ***:\n",
      " rifle, 0.84 - pistols, 0.8 - handgun, 0.79 - 9mm_pistol, 0.77 - gun, 0.77\n",
      "*** weapon ***:\n",
      " weapons, 0.73 - firearm, 0.62 - gun, 0.61 - pistol, 0.6 - handgun, 0.59\n",
      "*** cyber ***:\n",
      " cybercrime, 0.73 - cybersecurity, 0.68 - cyberterrorism, 0.66 - cyberspace, 0.65 - cyber_warfare, 0.64\n",
      "*** marijuana ***:\n",
      " cannabis, 0.81 - Marijuana, 0.79 - marijauna, 0.76 - marihuana, 0.75 - medicinal_marijuana, 0.74\n",
      "*** derringer ***:\n",
      " derringer_pistol, 0.66 - Ruger_pistol, 0.66 - 9mm_handgun, 0.66 - Derringer_pistol, 0.66 - .##_magnum_revolver, 0.66\n",
      "*** assault ***:\n",
      " assaults, 0.72 - assualt, 0.71 - assaulting, 0.65 - asault, 0.65 - aggravated_assault, 0.6\n",
      "*** gang ***:\n",
      " gangs, 0.8 - Bloods_gang, 0.68 - Sureno_gang, 0.68 - Norteño_gang, 0.67 - Sureño_gang, 0.66\n",
      "*** rifle ***:\n",
      " pistol, 0.84 - rifles, 0.8 - assault_rifle, 0.75 - .##_caliber, 0.73 - .##_caliber_rifle, 0.71\n",
      "*** ketamine ***:\n",
      " Ketamine, 0.78 - MDMA, 0.65 - ketamine_hydrochloride, 0.65 - Ecstasy, 0.61 - horse_tranquillizer, 0.61\n",
      "*** carbine ***:\n",
      " rifle, 0.71 - carbines, 0.69 - rifles, 0.65 - M4_carbine, 0.64 - pistol, 0.63\n",
      "*** robbery ***:\n",
      " armed_robbery, 0.88 - attempted_robbery, 0.87 - robberies, 0.83 - carjacking, 0.78 - burglary, 0.77\n",
      "*** ecstasy ***:\n",
      " ecstacy, 0.77 - Ecstasy, 0.73 - Ecstacy, 0.65 - amphetamine, 0.65 - MDMA, 0.64\n",
      "*** overdose ***:\n",
      " drug_overdose, 0.8 - overdosing, 0.72 - overdosed, 0.71 - fatal_overdose, 0.7 - overdoses, 0.7\n",
      "*** revolver ***:\n",
      " pistol, 0.74 - revolvers, 0.69 - handgun, 0.68 - 9mm_handgun, 0.68 - .##_revolver, 0.68\n",
      "*** shotgun ***:\n",
      " gauge_shotgun, 0.76 - .##_caliber_rifle, 0.7 - double_barreled_shotgun, 0.7 - pistol, 0.69 - handgun, 0.67\n",
      "*** crime ***:\n",
      " crimes, 0.75 - Crime, 0.7 - murders, 0.62 - homicides, 0.61 - criminality, 0.61\n",
      "*** recidivism ***:\n",
      " reoffending, 0.73 - reducing_recidivism, 0.7 - reduce_recidivism, 0.69 - Recidivism, 0.69 - reconviction, 0.64\n",
      "*** rape ***:\n",
      " sexual_assault, 0.79 - rapes, 0.73 - Rape, 0.73 - raping, 0.72 - raped, 0.71\n",
      "*** theft ***:\n",
      " thefts, 0.81 - Theft, 0.78 - stolen, 0.72 - burglary, 0.7 - larceny, 0.69\n"
     ]
    }
   ],
   "source": [
    "top_words = 5\n",
    "\n",
    "for word in interesting_set:\n",
    "    if word == \"blunt\": # usually blunt is too generic, not referring to drugs\n",
    "        similar_words = w.most_similar(positive=[word, \"drug\", \"marijuana\"], topn=top_words)\n",
    "    elif word == \"serial\": # too generic by itself\n",
    "        similar_words = w.most_similar(positive=[word, \"killer\"], topn=top_words)    \n",
    "    else:\n",
    "        similar_words = w.most_similar(positive=[word], topn=top_words)\n",
    "    print(f\"*** {word} ***:\\n {' - '.join(map(lambda x: f'{x[0]}, {round(x[1], 2)}', similar_words))}\")"
   ]
  },
  {
   "cell_type": "markdown",
   "id": "8b2e16db-4972-4ad9-adea-affae958dc3f",
   "metadata": {},
   "source": [
    "Some words are compounds words, which would be separated by a whitespace but in order to keep them in googleNewsVectors it has been chosen to use the underscore in order to combine them; we need to split them in singular words, because we are expanding the set using only single words."
   ]
  },
  {
   "cell_type": "code",
   "execution_count": 10,
   "id": "dec95b05-5de6-40ff-ab63-ba83b7e2a6e5",
   "metadata": {},
   "outputs": [],
   "source": [
    "top_words = 100\n",
    "\n",
    "def addWordsToSet(wordSet, similar_words, lemmatize=False):\n",
    "    if lemmatize:\n",
    "        for similar_word in similar_words:\n",
    "             words = [\" \".join([token.lemma_ for token in nlp(similar.lower())]) for similar in similar_word[0].split(\"_\")]  # split composite words in singular ones\n",
    "             wordSet.update(words)\n",
    "    else:\n",
    "        for similar_word in similar_words:\n",
    "            wordSet.update([w.lower() for w in similar_word[0].split(\"_\")])\n"
   ]
  },
  {
   "cell_type": "markdown",
   "id": "2c04f439-d8c2-490c-ad27-471c4ade4483",
   "metadata": {},
   "source": [
    "### Start expansion process\n",
    "Get top n words for each word of interest. This is our starting point in order to expand the seeds."
   ]
  },
  {
   "cell_type": "code",
   "execution_count": 11,
   "id": "0453a749-d72b-49c7-8dec-db13cf77a289",
   "metadata": {},
   "outputs": [
    {
     "name": "stdout",
     "output_type": "stream",
     "text": [
      "*** New narcotics (496 words): ***\n",
      "nimetazepam, twins, dugs, tranquilizer, buy, yaba, benzodiazepine, injecting, adderal, ya, quat, viagra, klonopin, sildenafil, salvia, gamma, caine, controlled, laced, overdoses, psychostimulant, bzp, sedative, barbiturates, asphyxiation, diflucan, danny, acute, quinoline, rohypnol, barbiturate, ##mg, diamorphine, mrs, atarax, lorazepam, patricia, alliance, amitriptyline, vertex, swallowed, pfizer, nitrite, drugs, cr, wholesaler, decriminalizing, pills, stimulant, smokable\n",
      "*** New weapons (485 words): ***\n",
      "knight, unlicenced, guage, ##a#, asault, stabbed, cutter, sword, sticks, tresspass, keyblade, launcher, brawl, scimitar, ar##, guns, firearms, homemade, muzzleloaders, endangerment, abercrombie, nun, filleting, gunpowder, small, dagger, axes, spears, assult, ceremonial, .##, insas, silencer, luger, centerfire, assualts, sandals, submachine, blowgun, grievous, gauge, .9, winchester, dragon, grevious, chrome, brandished, thirddegree, cannonball, airsoft\n",
      "*** New investigation (1002 words) ***:\n",
      "dons, organized, snatchings, aces, milly, driveby, rearrests, breakins, w, sicko, investigtion, mob, burglarizing, family, hunting, exploitation, asault, murderers, computer, insider, thumbprint, detroit, nicola, refused, larcenies, reoffended, hacking, enisa, gangsterism, bounty, arousal, spree, odometer, larcency, maniac, motorcycle, counterfeiting, mentally, pilfering, robbing, schiebel, soprano, surrenders, viruses, ramrattan, antivirus, salvatrucha, tita, violent, hemraj\n"
     ]
    }
   ],
   "source": [
    "new_narcotics, new_weapons, new_investigation = set(), set(), set()\n",
    "for word in interesting_set:\n",
    "    if word == \"blunt\": # usually blunt is too generic, not referring to drugs\n",
    "        similar_words = w.most_similar(positive=[word, \"drug\", \"marijuana\"], topn=top_words)\n",
    "    elif word == \"serial\": # too generic by itself\n",
    "        similar_words = w.most_similar(positive=[word, \"killer\"], topn=top_words)\n",
    "    else:\n",
    "        similar_words = w.most_similar(positive=[word], topn=top_words)\n",
    "        \n",
    "    if word in narcotics:\n",
    "        addWordsToSet(new_narcotics, similar_words)\n",
    "    elif word in weapons:\n",
    "        addWordsToSet(new_weapons, similar_words)\n",
    "    elif word in investigation:\n",
    "        addWordsToSet(new_investigation, similar_words)\n",
    "    \n",
    "print(f\"*** New narcotics ({len(new_narcotics)} words): ***\\n{', '.join([t for t in itertools.islice(new_narcotics, 50)])}\")\n",
    "print(f\"*** New weapons ({len(new_weapons)} words): ***\\n{', '.join([t for t in itertools.islice(new_weapons, 50)])}\")\n",
    "print(f\"*** New investigation ({len(new_investigation)} words) ***:\\n{', '.join([t for t in itertools.islice(new_investigation, 50)])}\")"
   ]
  },
  {
   "cell_type": "code",
   "execution_count": 12,
   "id": "66d84cfa-74dc-47ca-8ba7-29fa5e2bbcc2",
   "metadata": {},
   "outputs": [
    {
     "name": "stdout",
     "output_type": "stream",
     "text": [
      "(1, 'adderal'), (1, 'adderall'), (1, 'amyl'), (1, 'arrests'), (1, 'balls'), (1, 'blowgun'), (1, 'boning'), (1, 'bousfield'), (1, 'boxcutter'), (1, 'bupe'), (1, 'bupropion'), (1, 'burglaries'), (1, 'calabrian'), (1, 'cannibal'), (1, 'cannonade'), (1, 'chicano'), (1, 'chucky'), (1, 'convienence'), (1, 'counterterrorism'), (1, 'crips'), (1, 'darko'), (1, 'defilement'), (1, 'dentention'), (1, 'dextromethorphan'), (1, 'diflucan'), (1, 'dundon'), (1, 'duragesic'), (1, 'enactors'), (1, 'enzymes'), (1, 'escaper'), (1, 'exacto'), (1, 'fondler'), (1, 'gadi'), (1, 'ghb'), (1, 'harasser'), (1, 'hattori'), (1, 'hells'), (1, 'homocide'), (1, 'howitzer'), (1, 'hydromorphone'), (1, 'jailbreaker'), (1, 'jou'), (1, 'katana'), (1, 'khat'), (1, 'killers'), (1, 'killings'), (1, 'larcency'), (1, 'levaquin'), (1, 'longbow'), (1, 'lorcet'), (1, 'lortab'), (1, 'machinegun'), (1, 'mafias'), (1, 'mafioso'), (1, 'malware'), (1, 'matchlock'), (1, 'midazolam'), (1, 'mightier'), (1, 'minie'), (1, 'minimums'), (1, 'murderers'), (1, 'murdering'), (1, 'musketry'), (1, 'naltrexone'), (1, 'neapolitan'), (1, 'nets'), (1, 'nostra'), (1, 'nunchaku'), (1, 'nunchuks'), (1, 'occasioning'), (1, 'paraphenalia'), (1, 'patriarca'), (1, 'pawning'), (1, 'pipes'), (1, 'pistols'), (1, 'plowshare'), (1, 'poisoner'), (1, 'premediated'), (1, 'propofol'), (1, 'quat'), (1, 'razorblade'), (1, 'rearresting'), (1, 'redeploy'), (1, 'revolvers'), (1, 'riflemen'), (1, 'rohypnol'), (1, 'rostov'), (1, 'sabers'), (1, 'salvia'), (1, 'saric'), (1, 'sawn'), (1, 'schoolgirl'), (1, 'scythe'), (1, 'senna'), (1, 'sickert'), (1, 'siders'), (1, 'skinhead'), (1, 'smokin'), (1, 'snitching'), (1, 'sodomizing')\n",
      "*** Not found (638 words): ***\n",
      "dons, nimetazepam, snatchings, milly, dugs, breakins, asault, sildenafil, scimitar, overdoses, psychostimulant, bzp, muzzleloaders, ramrattan, antivirus, tita, quinoline, filleting, ##mg, cyberattacks, pleads, yobbery, insas, bredel, assualts, swallowed, conwoman, gratteri, .9, housebreaks, recidivists, petersilia, thirddegree, threatscape, airsoft, &, zakone, cannabinoids, hanzo, cnp, ransomware, mandiant, halberd, incarcerates, lightsabers, dreampharmaceuticals, painkilling, chuong, thieves, stimulants, scabbards, firebug, cannoneers, spammers, bhang, m9, 9, smoothbore, sinsemilla, burglarized, benzylpiperazine, tshepang, cyberattackers, norteño, crimefighting, fifes, propecia, abusers, cyberdefense, daggers, methylamphetamines, bosses, swordsmanship, m4, pugil, strangler, ndrangheta, extradited, swordsman, ledbury, ricetta, premarin, bunty, cyberstalkers, infowar, bikie, triads, flintlocks, pgi2, snorted, commet, honeybee, bongs, rackets, phishnet, methamphetamines, yohimbine, pregnancies, robbers, levitra\n"
     ]
    }
   ],
   "source": [
    "found_google, not_found_google = check_corpus_presence(new_narcotics, new_weapons, new_investigation, tokens)"
   ]
  },
  {
   "cell_type": "markdown",
   "id": "5727396a-b58d-4f05-bd14-c387de89e717",
   "metadata": {},
   "source": [
    "Not all the words of googleNews are present in our collection, also because we use Spacy for the lemmatization during the pre-processing phase. \n",
    "While Spacy shouldn't be used to lemmatize singular words, it should still be better to use it rather than considering directly the words without any kind of pre-processing."
   ]
  },
  {
   "cell_type": "code",
   "execution_count": 13,
   "id": "f5271665-b386-4603-afeb-49ed63e6718a",
   "metadata": {},
   "outputs": [
    {
     "name": "stdout",
     "output_type": "stream",
     "text": [
      "*** New narcotics (462 words): ***\n",
      "nimetazepam, tranquilizer, buy, contain, yaba, benzodiazepine, salt, meltab, gan, adderal, ya, quat, viagra, lace, klonopin, sildenafil, salvia, gamma, caine, psychostimulant, bzp, sedative, asphyxiation, twin, diflucan, danny, acute, quinoline, barbiturate, rohypnol, diamorphine, medicine, mrs, atarax, lorazepam, patricia, alliance, amitriptyline, vertex, dreampharmaceutical, pfizer, nitrite, cr, wholesaler, stimulant, smokable, delirium, uncut, tablet, pot\n",
      "*** New weapons (428 words): ***\n",
      "occasion, volley, knight, guage, # .##mm, asault, bloodstaine, cutter, power, sword, tresspass, keyblade, liberty, launcher, brawl, scimitar, carve, mighty, homemade, endangerment, abercrombie, nun, gunpowder, small, peacock, utter, dagger, assult, use, ceremonial, silencer, luger, centerfire, submachine, blowgun, grievous, threaten, gauge, .9, winchester, dragon, grevious, chrome, thirddegree, cannonball, airsoft, &, enactment, fire, assualt\n",
      "*** New investigation (897 words) ***:\n",
      "milly, driveby, w, sicko, probe, mob, investigtion, profiler, family, buy, exploitation, asault, confick, computer, insider, thumbprint, detroit, nicola, liberty, enisa, gangsterism, bounty, release, arousal, spree, odometer, larcency, maniac, motorcycle, mentally, breakin, schiebel, soprano, ramrattan, housebreak, antivirus, salvatrucha, tita, mug, hemraj, violent, catalytic, murderer, utter, magistrate, johnny, birthrate, rapper, vory, sureño\n"
     ]
    }
   ],
   "source": [
    "new_narcotics_lemma, new_weapons_lemma, new_investigation_lemma = set(), set(), set()\n",
    "for word in interesting_set:\n",
    "    if word == \"blunt\": # usually blunt is too generic, not referring to drugs\n",
    "        similar_words = w.most_similar(positive=[word, \"drug\", \"marijuana\"], topn=top_words)\n",
    "    elif word == \"serial\": # too generic by itself\n",
    "        similar_words = w.most_similar(positive=[word, \"killer\"], topn=top_words)\n",
    "    else:\n",
    "        similar_words = w.most_similar(positive=[word], topn=top_words)\n",
    "        \n",
    "    if word in narcotics:\n",
    "        addWordsToSet(new_narcotics_lemma, similar_words, True)\n",
    "    elif word in weapons:\n",
    "        addWordsToSet(new_weapons_lemma, similar_words, True)\n",
    "    elif word in investigation:\n",
    "        addWordsToSet(new_investigation_lemma, similar_words, True)\n",
    "    \n",
    "print(f\"*** New narcotics ({len(new_narcotics_lemma)} words): ***\\n{', '.join([t for t in itertools.islice(new_narcotics_lemma, 50)])}\")\n",
    "print(f\"*** New weapons ({len(new_weapons_lemma)} words): ***\\n{', '.join([t for t in itertools.islice(new_weapons_lemma, 50)])}\")\n",
    "print(f\"*** New investigation ({len(new_investigation_lemma)} words) ***:\\n{', '.join([t for t in itertools.islice(new_investigation_lemma, 50)])}\")\n"
   ]
  },
  {
   "cell_type": "code",
   "execution_count": 14,
   "id": "9d8d39f9-3e97-47b5-8991-77e516305cc9",
   "metadata": {},
   "outputs": [
    {
     "name": "stdout",
     "output_type": "stream",
     "text": [
      "(1, 'adderal'), (1, 'adderall'), (1, 'amyl'), (1, 'antiretroviral'), (1, 'areste'), (1, 'blowgun'), (1, 'bousfield'), (1, 'boxcutter'), (1, 'bupe'), (1, 'bupropion'), (1, 'calabrian'), (1, 'cannibal'), (1, 'cannonade'), (1, 'chicano'), (1, 'chucky'), (1, 'conscript'), (1, 'convienence'), (1, 'counterterrorism'), (1, 'darko'), (1, 'defilement'), (1, 'dentention'), (1, 'dextromethorphan'), (1, 'diflucan'), (1, 'dundon'), (1, 'duragesic'), (1, 'escaper'), (1, 'exacto'), (1, 'fondler'), (1, 'gadi'), (1, 'gangmember'), (1, 'ghb'), (1, 'harasser'), (1, 'hattori'), (1, 'hells'), (1, 'homocide'), (1, 'housebreaking'), (1, 'howitzer'), (1, 'hydromorphone'), (1, 'insa'), (1, 'jailbreaker'), (1, 'jou'), (1, 'katana'), (1, 'khat'), (1, 'larcency'), (1, 'levaquin'), (1, 'longbow'), (1, 'lorcet'), (1, 'lortab'), (1, 'machinegun'), (1, 'mafioso'), (1, 'malware'), (1, 'matchlock'), (1, 'midazolam'), (1, 'minie'), (1, 'mongol'), (1, 'musketry'), (1, 'naltrexone'), (1, 'neapolitan'), (1, 'nostra'), (1, 'nunchaku'), (1, 'paraphenalia'), (1, 'patriarca'), (1, 'plowshare'), (1, 'poisoner'), (1, 'premediated'), (1, 'profiler'), (1, 'propofol'), (1, 'quat'), (1, 'razorblade'), (1, 'redeploy'), (1, 'rohypnol'), (1, 'rostov'), (1, 'salvia'), (1, 'saric'), (1, 'sawn'), (1, 'schoolgirl'), (1, 'scythe'), (1, 'senna'), (1, 'sickert'), (1, 'skinhead'), (1, 'smokin'), (1, 'soprano'), (1, 'sorcery'), (1, 'statuatory'), (1, 'sureños'), (1, 'temazepam'), (1, 'trafficante'), (1, 'transnational'), (1, 'tresspass'), (1, 'tussionex'), (1, 'txt'), (1, 'unsheathe'), (1, 'varmint'), (1, 'vicoprofen'), (1, 'warhead'), (1, 'warrent'), (1, 'xanthine'), (1, 'yeate'), (1, 'yob'), (2, 'alprazolam')\n",
      "*** Not found (443 words): ***\n",
      "nimetazepam, milly, driveby, # .##mm, sicko, investigtion, asault, yaba, confick, meltab, keyblade, sildenafil, gangsterism, scimitar, psychostimulant, bzp, schiebel, ramrattan, antivirus, tita, salvatrucha, hemraj, quinoline, diamorphine, birthrate, rapper, vory, assult, nupur, yobbery, matricide, bredel, ecrime, castlecop, centerfire, gangrape, dreampharmaceutical, conwoman, cyberattacker, btk, gratteri, nitrite, .9, cyberthreat, petersilia, grevious, thirddegree, cyberweapon, threatscape, airsoft, &, norte'o, zakone, smokable, aarushi, carjacker, breadknife, hanzo, cnp, cybertheft, ransomware, mandiant, palladone, vendita, m1, halberd, calibur, chuong, vyacheslav, buttstock, ultracet, firebug, alchol, bhang, www.csc.com, m9, cabergoline, ectasy, 9, smoothbore, sinsemilla, crime.the, benzylpiperazine, tshepang, norteño, minstead, crimefighting, propecia, kukri, cyberdefense, midmost, # .##x # #, od'd, swordsmanship, m4, crocky, pugil, strangler, ndrangheta, swordsman\n"
     ]
    }
   ],
   "source": [
    "found_google_lemma, not_found_google_lemma = check_corpus_presence(new_narcotics_lemma, new_weapons_lemma, new_investigation_lemma, tokens)"
   ]
  },
  {
   "cell_type": "code",
   "execution_count": 15,
   "id": "8a77fb3f-1e5b-48f6-9278-71348f6f6f23",
   "metadata": {},
   "outputs": [
    {
     "name": "stdout",
     "output_type": "stream",
     "text": [
      "*** Never found (713 words): ***\n",
      "dons, nimetazepam, snatchings, milly, driveby, rearrests, dugs, # .##mm, breakins, ##a#, sicko, investigtion, asault, yaba, confick, meltab, larcenies, reoffended, keyblade, sildenafil, gangsterism, scimitar, overdoses, ar##, psychostimulant, bzp, barbiturates, muzzleloaders, schiebel, ramrattan, antivirus, tita, salvatrucha, hemraj, quinoline, filleting, ##mg, diamorphine, birthrate, rapper, castlecops, vory, assult, nupur, cyberattacks, pleads, yobbery, matricide, insas, bredel, .##, ecrime, castlecop, centerfire, gangrape, dreampharmaceutical, assualts, sandals, swallowed, conwoman, caseloads, btk, cyberattacker, gratteri, nitrite, .9, cyberthreat, rascals, housebreaks, recidivists, pects, petersilia, grevious, robs, thirddegree, cyberweapon, threatscape, airsoft, &, norte'o, muzzleloading, decriminalizing, zakone, smokable, aarushi, carjacker, cannabinoids, breadknife, hanzo, cnp, cybertheft, ransomware, mandiant, redcoats, palladone, vendita, m1, halberd, incarcerates, lightsabers\n"
     ]
    }
   ],
   "source": [
    "never_found = not_found_google.union(not_found_google_lemma)\n",
    "print(f\"*** Never found ({len(never_found)} words): ***\\n{', '.join([t for t in itertools.islice(never_found, 100)])}\")"
   ]
  },
  {
   "cell_type": "markdown",
   "id": "821a5fa3-2c66-4a4d-a691-6e39f677f6d9",
   "metadata": {},
   "source": [
    "### Combine and filter results\n",
    "We have both the words and their lemmas, we unite them and we subtract from the resulting sets the words that don't appear in our collection."
   ]
  },
  {
   "cell_type": "code",
   "execution_count": 16,
   "id": "60d44f2a-cfcf-449a-82e3-09c1e4e9f573",
   "metadata": {},
   "outputs": [],
   "source": [
    "expanded_narcotics = (set(narcotics).union(new_narcotics).union(new_narcotics_lemma)) - not_found_google - not_found_google_lemma\n",
    "expanded_weapons = (set(weapons).union(new_weapons).union(new_weapons_lemma)) - not_found_google - not_found_google_lemma\n",
    "expanded_investigation = (set(investigation).union(new_investigation).union(new_investigation_lemma)) - not_found_google - not_found_google_lemma"
   ]
  },
  {
   "cell_type": "code",
   "execution_count": 17,
   "id": "c9de1d35-c48e-45e2-827c-194b4d994898",
   "metadata": {},
   "outputs": [
    {
     "name": "stdout",
     "output_type": "stream",
     "text": [
      "*** Expanded narcotics (370 words): ***\n",
      "twins, tranquilizer, buy, contain, benzodiazepine, injecting, salt, gan, adderal, ya, quat, viagra, lace, klonopin, salvia, gamma, caine, controlled, laced, sedative, asphyxiation, twin, diflucan, danny, acute, rohypnol, barbiturate, medicine, mrs, atarax, lorazepam, patricia, alliance, amitriptyline, vertex, pfizer, drugs, cr, wholesaler, pills, stimulant, delirium, uncut, pot, overdose, tablet, phencyclidine, cardiac, pseudoephedrine, substance\n",
      "*** Expanded weapons (411 words): ***\n",
      "occasion, volley, knight, unlicenced, guage, stabbed, bloodstaine, cutter, power, sword, sticks, tresspass, liberty, launcher, brawl, carve, guns, mighty, firearms, homemade, endangerment, abercrombie, nun, gunpowder, small, peacock, utter, dagger, axes, spears, ceremonial, use, silencer, luger, submachine, blowgun, grievous, threaten, gauge, winchester, dragon, chrome, brandished, cannonball, enactment, fire, damocles, assualt, bersa, sexual\n",
      "*** Expanded investigation (809 words) ***:\n",
      "organized, aces, w, burglarizing, mob, probe, profiler, family, buy, hunting, exploitation, murderers, computer, insider, thumbprint, refused, nicola, detroit, liberty, hacking, enisa, bounty, release, arousal, spree, odometer, larcency, maniac, motorcycle, counterfeiting, mentally, pilfering, robbing, breakin, soprano, surrenders, viruses, housebreak, violent, mug, robberies, catalytic, murderer, utter, magistrate, johnny, sureño, incarcerated, target, repeat\n"
     ]
    }
   ],
   "source": [
    "print(f\"*** Expanded narcotics ({len(expanded_narcotics)} words): ***\\n{', '.join([t for t in itertools.islice(expanded_narcotics, 50)])}\")\n",
    "print(f\"*** Expanded weapons ({len(expanded_weapons)} words): ***\\n{', '.join([t for t in itertools.islice(expanded_weapons, 50)])}\")\n",
    "print(f\"*** Expanded investigation ({len(expanded_investigation)} words) ***:\\n{', '.join([t for t in itertools.islice(expanded_investigation, 50)])}\")"
   ]
  },
  {
   "cell_type": "markdown",
   "id": "34084236-87e8-420e-adf2-4a6e09a8b3a0",
   "metadata": {},
   "source": [
    "### Cleaning of not related words\n",
    "Because of the underscore-splitting process (from compound words to singular words, e.g. 'new_amphetamine' becomes 'new' and 'amphetamine'; while 'amphetamine' is still a word of interest, 'new' is not), and because not all the GoogleVectors words are really meaningful in our topics of interest, it has been necessary to perform a manual cleaning process, going through the expanded seeds word-per-word, checking if its meaning was related to the corresponding topic of interest.\n",
    "At the end of this process, 3 sets have been created, containing those words which are not related to the topics of interest but that were found during the expansion phase; these sets should be subtracted from the expanded sets in order to get the final seeds."
   ]
  },
  {
   "cell_type": "code",
   "execution_count": 18,
   "id": "ccdfe395-27eb-4a7f-9e4c-f9ac2e08a608",
   "metadata": {},
   "outputs": [],
   "source": [
    "not_narcotics = {'suspect', 'medicine', 'gans', 'lab', 'dispensary', 'pain', 'sleeping', 'mouse', 'alliance', 'asphyxia', 'cheap', 'allergic', 'mrs', \n",
    "                 'arrest', 'sleep', 'drowning', 'vertex', 'contain', 'labs', 'heart', 'acute', 'buy', 'magic', 'pneumonia', 'usa', 'control', 'swallow', \n",
    "                 'abstracting', 'residue', 'treat', 'accidental', 'allergy', 'medications', 'dug', 'drown', 'cooks', 'nonfatal', 'quaid', 'grow', 'c', \n",
    "                 'salt', 'highly', 'traffic', 'medicinal', 'dope', 'decriminalize', 'medication', 'manufacture', 'reservation', 'precursor', 'plc', 'cook', \n",
    "                 'e', 'hepatitis', 'euphoric', 'boot', 'med', 'lace', 'lethal', 'twin', 'accidentally', 'generic', 'coroner', 'malarial', 'restraint', 'ba', \n",
    "                 'controlled', 'ultram', 'powerful', 'fit', 'mood', 'danny', 'illicit', 'toxicity', 'effects', 'commonly', 'his', 'quoad', 'n', 'legalize', \n",
    "                 'parkinson', 'fatal', 'amy', 'muscle', 'banning', 'sedentary', 'induce', 'electricity', 'patch', 'horse', 'smell', 'reaction', 'sophisticated', \n",
    "                 'ingest', 'cardiac', 'mice', 'bath', 'swallowed', 'anti', 'legalizing', 'altering', 'mmj', 'abstract', 'imitation', 'tar', 'unk', 'maker', \n",
    "                 'fatally', 'induced', 'medi', 'cocktail', 'surgical', 'grown', 'effect', 'patricia', 'co', 'ban', 'quantity', 'ya', 'clandestine', 'entertainer',\n",
    "                 'new', 'animal', 'chemicals', 'storefront', 'pseudo', 'cr', 'containing', 'alias', 'newer', 'boots', 'alter', 'delirium', 'asphyxiation', 'gamma',\n",
    "                 'wholesaler', 'bousfield', 'gastroscopy', 'ingesting', 'lod', 'patches', 'unichem'}\n",
    "not_weapons = {'addictive', 'bloodstaine', 'grievous', 'model', 'millimeter', 'instrument', 'plate', 'flame', 'shoplift', 'm', 'disorderly', 'kitchen', \n",
    "               'pastry', 'blender', 'plated', 'drug', 'pons', 'small', 'rape', 'power', 'battery', 'criminal', 'uttering', 'arrest', 'attempt', 'bread', \n",
    "               'bone', 'bar', 'cannabis', 'maggard', 'inch', 'fish', 'bloodstained', 'nonlethal', 'hang', 'blacksmith', 'unregistere', 'chuck', 'reckless',\n",
    "               'control', 'polydrug', 'grevious', 'revolutionary', 'chucks', 'utter', 'chrome', 'using', 'crystal', 'treat', 'fillet', 'grab', 'tablets', \n",
    "               'lewd', 'banta', 'harassment', 'fix', 'heroin', 'sandal', 'opiate', 'unlicensed', 'semi', 'gravity', 'cause', 'article', 'salt', 'carrying',\n",
    "               'recklessly', 'narcotic', 'highly', 'bodily', 'petit', 'dope', 'medicinal', 'prize', 'decriminalize', 'toothbrush', 'carving', 'resist',\n",
    "               'tablet', 'threats', 'vicodin', 'pen', 'felonious', 'occasion', 'crow', 'liberties', 'inflict', 'wield', 'affray', 'automatic', 'charge', \n",
    "               'machine', 'acto', 'x', 'harm', 'light', 'concealed', 'lace', 'forcible', 'stimulant', 'springfield', 'prosecutor', 'cocaine', \n",
    "               'methamphetamine', 'contin', 'custodial', 'powered', 'altercation', 'trespassing', 'mm', 'theft', 'load', 'attempe', 'controlled', 'butcher',\n",
    "               'attack', 'illicit', 'nun', 'steroid', 'brawl', 'possessing', 'double', 'facsimile', 'threat', 'nosed', 'legalize', 'mischief', 'enactment',\n",
    "               'officer', 'liberty', 'fantasy', 'caleb', 'paring', 'short', 'meat', 'green', 'crack', 'tactical', 'incident', 'juana', 'fatal', 'unlawful',\n",
    "               'vicious', 'intoxication', 'on', 'marihuana', 're', 'squad', 'banning', 'carry', 'civil', 'peacock', 'nine', 'peeler', 'inflicting', 'stick',\n",
    "               'synthetic', 'pon', 'leather', 'drugs', 'trespass', 'conceal', 'ceremonial', 'conduct', 'cannabi', 'encampment', 'cultivation', 'flick', \n",
    "               'confinement', 'aggravated', 'homemade', 'cock', 'h', 'epic', 'painkiller', 'bath', 'amphetamines', 'flash', 'vegetable', 'sorcery', 'first', \n",
    "               'ornamental', 'shoplifting', 'sexual', 'scissor', 'mallet', 'fife', 'unlicence', 'retractable', 'malicious', 'imitation', 'amphetamine', \n",
    "               'wrench', 'substances', 'steak', 'mighty', 'substance', 'burglary', 'centimeter', 'brittany', 'serpent', 'stanley', 'narcotics', 'causing', \n",
    "               'endangerment', 'addiction', 'sig', 'unlawfully', 'marijuana', 'bugle', 'ons', 'balls', 'forge', 'assualt', 'domestic', 'felony', 'resisting', \n",
    "               'curve', 'ball', 'unlicense', 'pare', 'stimulants', 'methadone', 'caine', 'ban', 'concealable', 'class', 'co', 'deadly', 'meth', 'prescription', \n",
    "               'sault', 'murder', 'allegedly', 'unprovoked', 'indecent', 'filet', 'box', 'hallucinogen', 'potent', 'era', 'cobra', 'robbery', 'unregistered', \n",
    "               'use', 'war', 'mari', 'molestation', 'salute', 'lascivious', 'incense', 'threatening', 'threaten', 'degree', 'curved', 'phencyclidine', \n",
    "               'possess','prescribe', 'warrior', 'abercrombie', 'bowie', 'prescribing', 'misdemeanor', 'fixed', 'carve', 'varmint', 'subds', 'tresspass', \n",
    "               'xd', 'unlicenced', 'sticks', 'enactors', 'boning', 'flaming', 'scepter', 'enactor', 'prized', 'insa', 'mightier', 'premediated', \n",
    "               'terroristic', 'sawn'}\n",
    "not_investigation = {'cache', 'drink', 'mask', 'scrap', 'id', 'protective', 'rest', 'surrey', 'prison', 'heart', 'brega', 'firearm', 'bar', 'arousal',\n",
    "                     'gunman', 'touch', 'accuse', 'handgun', 'embezzlement', 'psychopath', 'utter', 'misdemeanants', 'name', 'shooters', 'pizza', \n",
    "                     'truancy', 'mara', 'abortion', 'relapse', 'traffic', 'hate', 'carlo', 'incest', 'concealing', 'jewelry', 'wield', 'sheet', \n",
    "                     'joshua', 'organize', 'task', 'dotson', 'prosecutor', 'parental', 'psychopathic', 'daylight', 'banger', 'magistrate', 'offenses',\n",
    "                     'detaining', 'milly', 'nicola', 'attack', 'wielding', 'santos', 'parolees', 'facilities', 'grand', 'organized', 'foxen', \n",
    "                     'postpone', 'hillside', 'in', 'arpaio', 'civilly', 'whereabouts', 'hilton', 'calculating', 'proceedings', 'reoffende', 'illinois',\n",
    "                     'fedex', 'anton', 'bars', 'wnt', 'markus', 'cobras', 'debit', 'mccarthy', 'attacks', 'behavior', 'reputed', 'tool', 'ralph', \n",
    "                     'subway', 'standoff', 'apts', 'bag', 'tamper', 'patronizing', 'ted', 'fake', 'felony', 'oakdale', 'brotherhood', 'ms', 'scheme',\n",
    "                     'attorney', 'night', 'moat', 'unprotected', 'bully', 'mathew', 'selby', 'rates', 'bail', 'stab', 'indecent', 'cell', 'kiddie',\n",
    "                     'detention', 'w', 'releasing', 'motorcycle', 'detainer', 'correctional', 'protection', 'angels', 'los', 'shipman', 'activity',\n",
    "                     'supremacist', 'brother', 'armed', 'pistol', 'grasso', 'jury', 'baseline', 'white', 'mysterious', 'youthful', 'naming', 'caseload',\n",
    "                     'brazen', 'uninsurance', 'reconviction', 'response', 'tampering', 'knife', 'bali', 'aces', 'botched', 'woode', 'buy', 'sandwich',\n",
    "                     'solido', 'tools', 'harold', 'facility', 'mentally', 'nonviolent', 'lewd', 'ace', 'plead', 'car', 'parole', 'break', 'petit', \n",
    "                     'offense', 'safe', 'marc', 'pantry', 'similar', 'pornography', 'carlton', 'classic', 'richard', 'johnny', 'justice', 'stole', \n",
    "                     'spiking', 'spear', 'forcible', 'juvenile', 'knowledge', 'home', 'imprison', 'jigsaw', 'pink', 'repeat', 'mischief', 'bungle', \n",
    "                     'norinco', 'sam', 'petty', 'siders', 'expert', 'squad', 'scenery', 'joe', 'artist', 'prolific', 'chew', 'refuse', 'conceal', \n",
    "                     'habitual', 'ins', 'trespass', 'queen', 'advanced', 'reincarceration', 'distraction', 'postponed', 'misconduct', 'calabrian', \n",
    "                     'cop', 'prisoner', 'ram', 'imperial', 'infection', 'blue', 'jeremy', 'black', 'computer', 'handbag', 'detroit', 'chucky', \n",
    "                     'brandish', 'ice', 'incarceration', 'security', 'identity', 'mai', 'antoni', 'prisons', 'prosecution', 'misappropriation',\n",
    "                     'scare', 'cobra', 'mexican', 'teen', 'notorious', 'tin', 'levi', 'walter', 'sider', 'v', 'crime', 'masked', 'dowler', 'aryan',\n",
    "                     'misdemeanor', 'torrio', 'emergency', 'handcuff', 'detachment', 'human', 'debs', 'mickey', 'mandatory', 'defilement', 'instrument',\n",
    "                     'agency', 'hilltop', 'drug', 'deportation', 'zodiac', 'efrain', 'cold', 'hobo', 'naples', 'spousal', 'uttering', 'dui', 'targeted',\n",
    "                     'attempt', 'detain', 'exploitation', 'incarcerated', 'unregistere', 'neighborhood', 'reconvict', 'moor', 'mortality', 'harbor',\n",
    "                     'meditate', 'testify', 'scared', 'hiv', 'ee', 'sheets', 'disposition', 'joanna', 'refused', 'virus', 'wedlock', 'ex', 'caller',\n",
    "                     'reentry', 'statutory', 'lords', 'exposure', 'deputy', 'convict', 'confined', 'money', 'metal', 'trojan', 'operation', 'reduce',\n",
    "                     'angel', 'collar', 'hospitalization', 'apt', 'rate', 'bust', 'threat', 'straight', 'custody', 'liberty', 'card', 'dr', 'vito', \n",
    "                     'purse', 'sicilian', 'guilty', 'doll', 'jail', 'serial', 'fatal', 'revocation', 'alleged', 're', 'spike', 'return', 'recognizance',\n",
    "                     'variant', 'deuces', 'accused', 'capias', 'nonforcible', 'do', 'nathan', 'pregnancy', 'conviction', 'malicious', 'lover', \n",
    "                     'substance', 'misdemeanant', 'psychiatric', 'persistent', 'melbourne', 'welfare', 'syndicate', 'detainment', 'pietro', 'graffiti',\n",
    "                     'crimes', 'winkler', 'raoul', 'infringement', 'infant', 'doc', 'own', 'victim', 'ar', 'street', 'krishna', 'bundy', 'calculate', \n",
    "                     'indecently', 'within', 'rested', 'forcibly', 'lynn', 'net', 'harden', 'ill', 'worm', 'neapolitan', 'path', 'carnal', 'lab', \n",
    "                     'langner', 'daytime', 'whereabout', 'tony', 'bamber', 'clear', 'odometer', 'criminal', 'arresting', 'bandit', 'birney', 'reducing',\n",
    "                     'bandana', 'rascal', 'lonely', 'bredel', 'ira', 'digital', 'tire', 'uniform', 'baron', 'biker', 'oo', 'cleared', 'target', 'touching',\n",
    "                     'queens', 'indictment', 'pre', 'allege', 'slashing', 'destruction', 'patronize', 'child', 'apprehend', 'crush', 'enzyme', 'chinese',\n",
    "                     'charge', 'thirst', 'offend', 'policing', 'moh', 'force', 'probation', 'overcrowd', 'teodor', 'custodial', 'pect', 'prevalence',\n",
    "                     'dropout', 'teenage', 'arraignment', 'gay', 'shoot', 'yorkshire', 'bike', 'u', 'insane', 'victimization', 'tiny', 'store', 'incident',\n",
    "                     'baby', 'minimum', 'antisocial', 'mass', 'family', 'project', 'offender', 'la', 'capia', 'rearreste', 'waive', 'hardened', 'mad', \n",
    "                     'confine', 'converter', 'centers', 'gord', 'sting', 'domain', 'german', 'man', 'deuce', 'deliveryman', 'detection', 'release', 'police',\n",
    "                     'catalytic', 'proceeding', 'dump', 'nostra', 't', 'surrender', 'apartment', 'center', 'behind', 'meth', 'bullying', 'batterer', 'felon',\n",
    "                     'willful', 'birth', 'genovese', 'consensual', 'converters', 'wooded', 'overcrowded', 'unregistered', 'reconvicted', 'zeus', 'knifepoint',\n",
    "                     'apprehension', 'vigilante', 'brutally', 'upstart', 'botch', 'skinhead', 'consentual', 'mongol', 'gadi', 'helburn', 'probationers', \n",
    "                     'porn', 'vijay', 'soprano', 'redeploy', 'hells', 'waives', 'brandished', 'viruses', 'worms', 'ipr', 'returned', 'poisoner', 'arrests', \n",
    "                     'darko', 'rearresting', 'stolen', 'recidivate', 'reoffending', 'jilt', 'handcuff', 'dundon', 'chews', 'brandishing', 'patriarca', \n",
    "                     'neighborhoods', 'txt', 'offenders', 'crossbow', 'saric', 'chicano', 'rostov', 'yob', 'breakin', 'evron', 'schoolgirl', 'testifies', \n",
    "                     'jails', 'jilted', 'dentention', 'minimums', 'incarcerating', 'gp', 'bungled', 'jou', 'areste', 'statuatory', 'nets', 'kuan', 'enzymes', \n",
    "                     'jailing', 'smokin', 'transnational', 'compounder', 'msg', 'convenience', 'nellessen'}"
   ]
  },
  {
   "cell_type": "code",
   "execution_count": 19,
   "id": "58361200-8045-4cd4-bc5b-07d85b7dcba0",
   "metadata": {},
   "outputs": [],
   "source": [
    "final_narcotics = expanded_narcotics - not_narcotics\n",
    "final_weapons = expanded_weapons - not_weapons\n",
    "final_investigation = expanded_investigation - not_investigation"
   ]
  },
  {
   "cell_type": "code",
   "execution_count": 20,
   "id": "a165d1d0-88e7-4721-8b17-303c3528a454",
   "metadata": {},
   "outputs": [
    {
     "name": "stdout",
     "output_type": "stream",
     "text": [
      "*** Final narcotics (233 words): ***\n",
      "ganja, twins, oxycodone, digoxin, zyprexa, chara, tranquilizer, possessing, xr, lexapro, propoxyphene, juana, benzodiazepine, alprazolam, injecting, cultivating, crack, pentazocine, gan, herbal, adderal, valium, quat, viagra, klonopin, midazolam, salvia, caine, cultivation, percodan, laced, xanax, hydromorphone, psychotic, sedative, phenobarbital, dextromethorphan, ketamine, seconal, infuse, diflucan, scopolamine, diazepam, pharmaceutical, psychedelic, dosage, painkille, relaxer, rohypnol, barbiturate\n",
      "*** Final weapons (193 words): ***\n",
      "volley, knights, knight, blackhawk, guage, chainsaw, nunchuck, minimi, stabbed, warhead, cutter, sword, knives, holstere, lance, gatling, longbow, armored, launcher, thompson, holstered, nunchaku, shank, guns, firearms, loading, kel, gunpowder, breech, mace, dagger, axes, screwdriver, gage, blade, spears, gatle, weap, muzzle, holster, semiautomatic, silencer, loader, luger, hammer, crescent, submachine, razorblade, musket, riflemen\n",
      "*** Final investigation (270 words) ***:\n",
      "extradite, shooting, snitching, burglaries, rob, smuggle, rearrest, extortion, liberties, burglarizing, mob, probe, profiler, hunting, arrest, killers, fondling, slaying, murderers, slay, felonious, ripper, boss, affiliation, hitman, insider, thumbprint, sodomy, yeate, kidnapping, culprit, kingpin, hacking, handcuffs, enisa, concealment, slayer, blooded, kidnaping, gangland, cyber, combat, kia, bounty, maras, henious, intercourse, mobster, spree, larcency\n"
     ]
    }
   ],
   "source": [
    "print(f\"*** Final narcotics ({len(final_narcotics)} words): ***\\n{', '.join([t for t in itertools.islice(final_narcotics, 50)])}\")\n",
    "print(f\"*** Final weapons ({len(final_weapons)} words): ***\\n{', '.join([t for t in itertools.islice(final_weapons, 50)])}\")\n",
    "print(f\"*** Final investigation ({len(final_investigation)} words) ***:\\n{', '.join([t for t in itertools.islice(final_investigation, 50)])}\")"
   ]
  },
  {
   "cell_type": "code",
   "execution_count": 21,
   "id": "8e7a340a-b9aa-47cd-b5eb-14b9e14cab06",
   "metadata": {},
   "outputs": [
    {
     "name": "stdout",
     "output_type": "stream",
     "text": [
      "(1, 'adderal'), (1, 'adderall'), (1, 'amyl'), (1, 'antiretroviral'), (1, 'blowgun'), (1, 'boxcutter'), (1, 'bupe'), (1, 'bupropion'), (1, 'burglaries'), (1, 'cannibal'), (1, 'cannonade'), (1, 'conscript'), (1, 'convienence'), (1, 'counterterrorism'), (1, 'crips'), (1, 'dextromethorphan'), (1, 'diflucan'), (1, 'duragesic'), (1, 'escaper'), (1, 'exacto'), (1, 'fondler'), (1, 'gangmember'), (1, 'ghb'), (1, 'harasser'), (1, 'hattori'), (1, 'homocide'), (1, 'housebreaking'), (1, 'howitzer'), (1, 'hydromorphone'), (1, 'jailbreaker'), (1, 'katana'), (1, 'khat'), (1, 'killers'), (1, 'killings'), (1, 'larcency'), (1, 'levaquin'), (1, 'longbow'), (1, 'lorcet'), (1, 'lortab'), (1, 'machinegun'), (1, 'mafias'), (1, 'mafioso'), (1, 'malware'), (1, 'matchlock'), (1, 'midazolam'), (1, 'minie'), (1, 'murderers'), (1, 'murdering'), (1, 'musketry'), (1, 'naltrexone'), (1, 'nunchaku'), (1, 'nunchuks'), (1, 'occasioning'), (1, 'paraphenalia'), (1, 'pawning'), (1, 'pipes'), (1, 'pistols'), (1, 'plowshare'), (1, 'profiler'), (1, 'propofol'), (1, 'quat'), (1, 'razorblade'), (1, 'revolvers'), (1, 'riflemen'), (1, 'rohypnol'), (1, 'sabers'), (1, 'salvia'), (1, 'scythe'), (1, 'senna'), (1, 'sickert'), (1, 'snitching'), (1, 'sodomizing'), (1, 'sureños'), (1, 'surrenders'), (1, 'temazepam'), (1, 'trafficante'), (1, 'tussionex'), (1, 'unsheathe'), (1, 'vicoprofen'), (1, 'warhead'), (1, 'warrent'), (1, 'xanthine'), (1, 'yeate'), (2, 'alprazolam'), (2, 'ambien'), (2, 'antipsychotics'), (2, 'atarax'), (2, 'bersa'), (2, 'blunderbuss'), (2, 'brandished'), (2, 'bupivacaine'), (2, 'cannibis'), (2, 'citrate'), (2, 'claritin'), (2, 'crossbow'), (2, 'dru'), (2, 'enisa'), (2, 'extradiction'), (2, 'gatling'), (2, 'hallucinogens'), (2, 'hcl'), (2, 'henious'), (2, 'hydroponic'), (2, 'hydroponically'), (2, 'injecting'), (2, 'ipswich'), (2, 'jacker'), (2, 'ketamine'), (2, 'knive'), (2, 'knives'), (2, 'mauser'), (2, 'naloxone'), (2, 'omcg'), (2, 'oxycodone'), (2, 'oxycontin'), (2, 'percocet'), (2, 'phenytoin'), (2, 'preying'), (2, 'rifleman'), (2, 'rifles'), (2, 'shotguns'), (2, 'sks'), (2, 'spam'), (2, 'sureño'), (2, 'sympathomimetic'), (2, 'tranquillizer'), (2, 'viagra'), (2, 'wea'), (2, 'xanex'), (3, 'axes'), (3, 'chlordiazepoxide'), (3, 'chlorpromazine'), (3, 'counterintelligence'), (3, 'crooks'), (3, 'familia'), (3, 'gangland'), (3, 'ganja'), (3, 'herion'), (3, 'holstere'), (3, 'housebreak'), (3, 'kisha'), (3, 'lexapro'), (3, 'meow'), (3, 'mossberg'), (3, 'musket'), (3, 'ninja'), (3, 'oxy'), (3, 'pilfering'), (3, 'propoxyphene'), (3, 'robbed'), (3, 'sharpener'), (3, 'spies'), (3, 'stabbed'), (3, 'warrants'), (3, 'warring'), (3, 'wielding'), (4, 'amitriptyline'), (4, 'antabuse'), (4, 'benzodiazepine'), (4, 'cartel'), (4, 'chara'), (4, 'crip'), (4, 'cyber'), (4, 'gangs'), (4, 'holstered'), (4, 'keto'), (4, 'laced'), (4, 'launcher'), (4, 'maras'), (4, 'methylenedioxymethamphetamine'), (4, 'norco'), (4, 'painkille'), (4, 'percodan'), (4, 'polydrug'), (4, 'remorseless'), (4, 'scabbard'), (4, 'scopolamine'), (4, 'sheathe'), (4, 'xr'), (5, 'affiliations'), (5, 'assualt'), (5, 'chambered'), (5, 'clonazepam'), (5, 'cyberspace'), (5, 'defacing'), (5, 'digoxin'), (5, 'fentanyl'), (5, 'gangsters'), (5, 'giancana'), (5, 'harboring'), (5, 'indictments'), (5, 'kia'), (5, 'murders'), (5, 'nunchuck'), (5, 'psychedelic'), (5, 'raping'), (5, 'reoffender'), (5, 'saber'), (5, 'sheathed'), (5, 'twins'), (5, 'unprescribed'), (6, 'burglarizing'), (6, 'carjack'), (6, 'diacetylmorphine'), (6, 'ecstacy'), (6, 'flintlock'), (6, 'gatle'), (6, 'hacking'), (6, 'handcuffs'), (6, 'handguns'), (6, 'herbal'), (6, 'hitman'), (6, 'minimi'), (6, 'possessing'), (6, 'riffle'), (6, 'robberies'), (6, 'weap'), (7, 'acetaminophen'), (7, 'assaulting'), (7, 'bladed'), (7, 'bomber'), (7, 'diphenhydramine'), (7, 'evading'), (7, 'hydrocodone'), (7, 'iiia'), (7, 'klonopin'), (7, 'wars'), (8, 'amytal'), (8, 'kingpin'), (8, 'mdma'), (8, 'pills'), (8, 'skimming'), (8, 'skunk'), (9, 'amphetamines'), (9, 'cannonball'), (9, 'damocles'), (9, 'dos'), (9, 'ecstasy'), (9, 'enactments'), (9, 'extortionist'), (9, 'heist'), (9, 'manhunt'), (9, 'penknife'), (9, 'python'), (9, 'rapier'), (9, 'ripper'), (10, 'burglarious'), (10, 'chainsaw'), (10, 'cultivating'), (10, 'detectives'), (10, 'guns'), (10, 'mobster'), (10, 'pentazocine'), (10, 'plants'), (10, 'robbing'), (10, 'seroquel'), (10, 'snatcher'), (10, 'soma'), (10, 'thievery'), (11, 'fiend'), (11, 'lorazepam'), (11, 'psilocybin'), (11, 'psychoactive'), (11, 'sidearm'), (11, 'tablets'), (12, 'artillery'), (12, 'assassin'), (12, 'harrassment'), (12, 'juana'), (12, 'samurai'), (13, 'aileen'), (13, 'bayonet'), (13, 'caleb'), (13, 'cannabinoid'), (13, 'espionage'), (13, 'hallucinogen'), (13, 'methyl'), (14, 'gangbanger'), (14, 'mugging'), (14, 'submachine'), (15, 'brandishing'), (15, 'dilaudid'), (15, 'glock'), (15, 'injectable'), (15, 'reoffense'), (15, 'sniper'), (15, 'weapons'), (16, 'barbituate'), (16, 'ephedrine'), (16, 'paxil'), (17, 'kel'), (17, 'machete'), (17, 'piracy'), (17, 'relaxer'), (17, 'stalker'), (18, 'antianxiety'), (18, 'weaponry'), (19, 'dragon'), (19, 'swords'), (19, 'underworld'), (19, 'vicodin'), (20, 'marihuana'), (20, 'mescaline'), (20, 'molesting'), (20, 'serrate'), (20, 'sulphate'), (21, 'methaqualone'), (21, 'painkiller'), (21, 'seconal'), (21, 'sulfate'), (21, 'terrorism'), (21, 'volley'), (22, 'ativan'), (22, 'depakote'), (22, 'heparin'), (22, 'librium'), (22, 'pilfer'), (22, 'prescribing'), (22, 'pseudoephedrine'), (22, 'rearrest'), (23, 'hallucinogenic'), (23, 'serrated'), (23, 'sharpened'), (23, 'silencer'), (23, 'uncut'), (23, 'xanax'), (23, 'zyprexa'), (24, 'carjacking'), (24, 'diazepam'), (24, 'laundering'), (24, 'meth'), (24, 'od'), (24, 'smuggling'), (25, 'counterfeiting'), (25, 'grenade'), (25, 'luger'), (25, 'thumbprint'), (26, 'bong'), (26, 'nitrate'), (26, 'probing'), (27, 'hashish'), (27, 'ritalin'), (27, 'yeates'), (28, 'coldblooded'), (28, 'pfizer'), (28, 'sadistic'), (28, 'zoloft'), (29, 'clan'), (29, 'hypnotic'), (30, 'firearms'), (30, 'ruger'), (30, 'spearman'), (31, 'contin'), (31, 'suffolk'), (32, 'snitch'), (33, 'breech'), (33, 'hydrochloride'), (34, 'sodomize'), (34, 'warfare'), (35, 'cocked'), (35, 'phenobarbital'), (35, 'tec'), (35, 'triad'), (36, 'rocket'), (36, 'sawed'), (37, 'banta'), (37, 'kidnapper'), (37, 'mari'), (38, 'liberties'), (39, 'dhs'), (39, 'sk'), (39, 'slayer'), (39, 'smuggle'), (40, 'carbine'), (40, 'satan'), (40, 'snatching'), (40, 'thug'), (41, 'analgesic'), (41, 'mafia'), (41, 'powdered'), (41, 'skim'), (42, 'demerol'), (43, 'erb'), (43, 'gambino'), (43, 'incense'), (44, 'addictive'), (45, 'maniac'), (45, 'racket'), (45, 'sodomy'), (47, 'armored'), (47, 'beretta'), (47, 'synthetic'), (47, 'taurus'), (48, 'insider'), (48, 'sauer'), (50, 'armor'), (55, 'buckler'), (55, 'escapee'), (55, 'mushroom'), (56, 'launder'), (57, 'barreled'), (57, 'dagger'), (57, 'methadone'), (57, 'unsolved'), (58, 'infuse'), (59, 'pocketknife'), (61, 'derringer'), (61, 'diethylamide'), (61, 'murderous'), (61, 'reoffend'), (62, 'depressant'), (62, 'shoplift'), (62, 'stealing'), (62, 'switchblade'), (63, 'hacker'), (63, 'unloaded'), (64, 'axis'), (64, 'deviant'), (64, 'molester'), (65, 'cleaver'), (65, 'lysergic'), (66, 'claw'), (66, 'racketeer'), (67, 'arsenal'), (67, 'sativa'), (68, 'resin'), (73, 'spree'), (74, 'snub'), (76, 'codeine'), (77, 'knifepoint'), (77, 'phencyclidine'), (77, 'slaying'), (79, 'opium'), (80, 'stimulant'), (82, 'deface'), (82, 'folding'), (84, 'caine'), (84, 'sodium'), (86, 'barbiturate'), (86, 'gunpowder'), (86, 'narcotics'), (86, 'snort'), (87, 'shank'), (87, 'slay'), (89, 'guage'), (89, 'steroid'), (90, 'opiate'), (91, 'cutlass'), (92, 'relaxant'), (93, 'fondling'), (94, 'antipsychotic'), (98, 'muzzle'), (101, 'blackhawk'), (101, 'tylenol'), (103, 'antidepressant'), (106, 'runaway'), (107, 'parolee'), (109, 'bb'), (109, 'extradite'), (109, 'trafficker'), (110, 'sedative'), (111, 'flint'), (113, 'cannabi'), (113, 'loader'), (114, 'methamphetamine'), (117, 'gan'), (118, 'culprit'), (119, 'drugs'), (119, 'epileptic'), (121, 'disciples'), (122, 'pawn'), (125, 'shoplifting'), (127, 'mace'), (129, 'crescent'), (131, 'tranquilizer'), (133, 'pcp'), (133, 'sus'), (134, 'anesthetic'), (135, 'valium'), (143, 'potent'), (144, 'counterfeit'), (144, 'crowbar'), (146, 'spears'), (147, 'wesson'), (149, 'premeditate'), (150, 'extortion'), (154, 'blooded'), (156, 'spy'), (157, 'morphine'), (158, 'loco'), (161, 'amphetamine'), (162, 'prey'), (163, 'magnum'), (167, 'recidivism'), (170, 'recidivist'), (171, 'cultivation'), (177, 'vandalism'), (178, 'remington'), (182, 'semiautomatic'), (183, 'nuclear'), (191, 'lsd'), (191, 'tommy'), (193, 'stickup'), (194, 'overdose'), (194, 'premeditated'), (199, 'rapist'), (201, 'pellet'), (204, 'abuser'), (204, 'winchester'), (207, 'crook'), (212, 'poisoning'), (215, 'extradition'), (228, 'pharmaceutical'), (230, 'holdup'), (234, 'bow'), (236, 'raid'), (237, 'trafficking'), (238, 'colt'), (239, 'mob'), (241, 'fugitive'), (241, 'tablet'), (243, 'bounty'), (245, 'baggie'), (249, 'dosage'), (251, 'molestation'), (253, 'sword'), (255, 'discharging'), (257, 'snatch'), (258, 'holster'), (268, 'lance'), (270, 'psychotropic'), (271, 'gangster'), (275, 'mug'), (280, 'abduction'), (281, 'razor'), (282, 'cutter'), (282, 'fbi'), (284, 'screwdriver'), (294, 'kidnaping'), (299, 'dose'), (300, 'disappearance'), (304, 'cultivate'), (305, 'spear'), (309, 'probationer'), (314, 'hunting'), (314, 'knights'), (318, 'corruption'), (325, 'brandish'), (327, 'disciple'), (335, 'probe'), (336, 'felonious'), (341, 'pot'), (349, 'anal'), (357, 'substances'), (369, 'prostitute'), (376, 'murderer'), (384, 'killer'), (391, 'prostitution'), (395, 'corrupt'), (398, 'psychotic'), (419, 'hack'), (435, 'thief'), (446, 'blast'), (456, 'acid'), (464, 'ar'), (472, 'molest'), (484, 'violator'), (493, 'fondle'), (495, 'stabbing'), (498, 'combat'), (509, 'kidnap'), (535, 'firing'), (548, 'burglar'), (556, 'addiction'), (556, 'blunt'), (559, 'cannon'), (559, 'paraphernalia'), (569, 'ammunition'), (594, 'gauge'), (595, 'crystal'), (617, 'affiliation'), (633, 'kidnapping'), (656, 'shooter'), (666, 'larceny'), (668, 'fold'), (676, 'arson'), (678, 'criminality'), (679, 'pill'), (691, 'nova'), (691, 'rifle'), (715, 'boss'), (744, 'blade'), (745, 'gage'), (756, 'saw'), (776, 'undercover'), (791, 'loaded'), (791, 'scar'), (817, 'loading'), (838, 'heinous'), (842, 'addict'), (842, 'hammer'), (862, 'knight'), (891, 'burglarize'), (975, 'scam'), (975, 'war'), (1049, 'powder'), (1059, 'prescription'), (1061, 'barrel'), (1070, 'lord'), (1146, 'hunter'), (1157, 'forgery'), (1163, 'robber'), (1165, 'heroin'), (1179, 'intrusion'), (1210, 'evade'), (1235, 'inject'), (1291, 'hunt'), (1294, 'shotgun'), (1319, 'handgun'), (1337, 'crack'), (1376, 'cannabis'), (1394, 'deadly'), (1428, 'stab'), (1429, 'crew'), (1431, 'delinquency'), (1483, 'prescribed'), (1560, 'forensic'), (1582, 'sexually'), (1607, 'gang'), (1694, 'caliber'), (1717, 'marijuana'), (1745, 'killing'), (1788, 'concealment'), (1839, 'revolver'), (1843, 'intoxication'), (1876, 'incarcerate'), (1925, 'intercourse'), (1928, 'invasion'), (1970, 'pistol'), (1976, 'smoke'), (1981, 'homicide'), (2080, 'firearm'), (2251, 'chamber'), (2355, 'cocaine'), (2395, 'sex'), (2431, 'pipe'), (2484, 'chemical'), (2523, 'narcotic'), (2579, 'aggravated'), (2695, 'violent'), (2698, 'rob'), (2736, 'rape'), (2772, 'knife'), (3401, 'shooting'), (3457, 'cal'), (4211, 'detective'), (4282, 'plant'), (4434, 'steal'), (4700, 'sexual'), (4764, 'violence'), (4948, 'theft'), (4966, 'thompson'), (4997, 'burglary'), (5400, 'blood'), (5426, 'assault'), (5507, 'alia'), (5517, 'suspect'), (6223, 'weapon'), (6412, 'armed'), (6591, 'robbery'), (6676, 'aggravate'), (7116, 'drug'), (7271, 'gun'), (7924, 'prescribe'), (8014, 'murder'), (8081, 'green'), (8591, 'don'), (8940, 'kill'), (10348, 'possess'), (10775, 'fraud'), (12488, 'die'), (13146, 'fire'), (13521, 'medical'), (15984, 'discharge'), (16850, 'substance'), (17005, 'arrest'), (18450, 'death'), (20457, 'abuse'), (22364, 'warrant'), (24919, 'violation')\n",
      "*** Not found (0 words): ***\n",
      "\n"
     ]
    }
   ],
   "source": [
    "_ = check_corpus_presence(final_narcotics, final_weapons, final_investigation, tokens, topN=None, notFoundN=None)"
   ]
  },
  {
   "cell_type": "code",
   "execution_count": 22,
   "id": "99618381-d84e-4131-9d93-a63e958580ef",
   "metadata": {},
   "outputs": [
    {
     "name": "stdout",
     "output_type": "stream",
     "text": [
      "(1, 'areste'), (1, 'arrests'), (1, 'balls'), (1, 'boning'), (1, 'bousfield'), (1, 'calabrian'), (1, 'chicano'), (1, 'chucky'), (1, 'darko'), (1, 'defilement'), (1, 'dentention'), (1, 'dundon'), (1, 'enactors'), (1, 'enzymes'), (1, 'gadi'), (1, 'hells'), (1, 'insa'), (1, 'jou'), (1, 'mightier'), (1, 'minimums'), (1, 'mongol'), (1, 'neapolitan'), (1, 'nets'), (1, 'nostra'), (1, 'patriarca'), (1, 'poisoner'), (1, 'premediated'), (1, 'rearresting'), (1, 'redeploy'), (1, 'rostov'), (1, 'saric'), (1, 'sawn'), (1, 'schoolgirl'), (1, 'siders'), (1, 'skinhead'), (1, 'smokin'), (1, 'soprano'), (1, 'sorcery'), (1, 'statuatory'), (1, 'threats'), (1, 'transnational'), (1, 'tresspass'), (1, 'txt'), (1, 'varmint'), (1, 'waives'), (1, 'yob'), (2, 'arpaio'), (2, 'bali'), (2, 'bamber'), (2, 'brandished'), (2, 'bungled'), (2, 'chews'), (2, 'cooks'), (2, 'crossbow'), (2, 'enactor'), (2, 'ingesting'), (2, 'ipr'), (2, 'jails'), (2, 'kuan'), (2, 'langner'), (2, 'lod'), (2, 'msg'), (2, 'returned'), (2, 'scepter'), (2, 'supremacist'), (2, 'targeted'), (2, 'teodor'), (2, 'testifies'), (2, 'ultram'), (2, 'upstart'), (2, 'viruses'), (2, 'worms'), (3, 'angels'), (3, 'botched'), (3, 'bugle'), (3, 'consentual'), (3, 'evron'), (3, 'gastroscopy'), (3, 'helburn'), (3, 'maggard'), (3, 'patches'), (3, 'probationers'), (3, 'sticks'), (3, 'terroristic'), (3, 'vijay'), (3, 'wielding'), (3, 'xd'), (4, 'banning'), (4, 'concealing'), (4, 'epic'), (4, 'flaming'), (4, 'incarcerating'), (4, 'indecently'), (4, 'moh'), (4, 'nine'), (4, 'polydrug'), (4, 'recidivate'), (4, 'reconvict'), (4, 'sicilian'), (4, 'stolen')\n",
      "*** Not found (20 words): ***\n",
      "milly, bredel, stimulants, norinco, swallowed, cleared, reconvicted, acto, mmj, foxen, grevious, wnt, parolees, attacks, his, legalizing, postponed, effects, torrio, unlicence\n"
     ]
    }
   ],
   "source": [
    "_ = check_corpus_presence(not_narcotics, not_weapons, not_investigation, tokens)  # Check if there is something borderline which appear lot of times that should be considered as interesting"
   ]
  },
  {
   "cell_type": "markdown",
   "id": "0149e5a8-9348-4e0c-9084-385ddf2c9c6c",
   "metadata": {},
   "source": [
    "## Save to local memory"
   ]
  },
  {
   "cell_type": "code",
   "execution_count": 23,
   "id": "fd526456-2e6a-4dfb-b612-da8fa7422986",
   "metadata": {},
   "outputs": [],
   "source": [
    "from src.seeds import Seeds"
   ]
  },
  {
   "cell_type": "code",
   "execution_count": 24,
   "id": "4f7574ff-4f18-4292-92e0-e8ed2c2e1d5e",
   "metadata": {},
   "outputs": [],
   "source": [
    "seeds = Seeds()"
   ]
  },
  {
   "cell_type": "code",
   "execution_count": 25,
   "id": "66df97d8-6851-4297-adf2-c9040e9c66c7",
   "metadata": {},
   "outputs": [],
   "source": [
    "seeds.save_word2vec_seeds(new_narcotics, new_weapons, new_investigation)\n",
    "seeds.save_word2vec_lemmatized_seeds(new_narcotics_lemma, new_weapons_lemma, new_investigation_lemma)\n",
    "seeds.save_word2vec_combined_seeds(expanded_narcotics, expanded_weapons, expanded_investigation)\n",
    "seeds.save_final_filtered_seeds(final_narcotics, final_weapons, final_investigation)"
   ]
  },
  {
   "cell_type": "code",
   "execution_count": 26,
   "id": "64eeec56-f190-401e-a9b2-505793f42512",
   "metadata": {},
   "outputs": [
    {
     "name": "stdout",
     "output_type": "stream",
     "text": [
      "233 193 270\n"
     ]
    }
   ],
   "source": [
    "n, w, i = seeds.get_final_filtered_seeds()\n",
    "print(len(n), len(w), len(i))"
   ]
  },
  {
   "cell_type": "code",
   "execution_count": null,
   "id": "97187e5a-0ca5-4ba0-a0c3-ae3a61502059",
   "metadata": {},
   "outputs": [],
   "source": []
  }
 ],
 "metadata": {
  "kernelspec": {
   "display_name": "Python 3",
   "language": "python",
   "name": "python3"
  },
  "language_info": {
   "codemirror_mode": {
    "name": "ipython",
    "version": 3
   },
   "file_extension": ".py",
   "mimetype": "text/x-python",
   "name": "python",
   "nbconvert_exporter": "python",
   "pygments_lexer": "ipython3",
   "version": "3.9.1"
  }
 },
 "nbformat": 4,
 "nbformat_minor": 5
}
