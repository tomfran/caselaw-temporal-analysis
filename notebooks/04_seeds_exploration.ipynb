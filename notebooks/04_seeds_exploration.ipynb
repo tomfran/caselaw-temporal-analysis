{
 "cells": [
  {
   "cell_type": "markdown",
   "id": "8389d946-0c34-4a71-997d-edb5df5671fa",
   "metadata": {},
   "source": [
    "# Seeds exploration\n",
    "\n",
    "The idea is to expand the set of words of interest; in fact, not all the suggested words are present in the corpus, and some of them have really low frequencies. This is a problem when trying to guide to topic modelling around the concepts of interests, because these words appear in few documents. Trying to expand the set should help us in discovering better topics (and in general in doing a better analysis)."
   ]
  },
  {
   "cell_type": "code",
   "execution_count": 1,
   "id": "c458cc89-3647-421c-88b7-80a4f90a6744",
   "metadata": {},
   "outputs": [],
   "source": [
    "narcotics = ['cannabis', 'cocaine', 'methamphetamine', 'drugs', 'drug', 'marijuana', \n",
    "             'ecstasy', 'lsd', 'ketamine', 'heroin', 'fentanyl', 'overdose']\n",
    "\n",
    "weapons = ['gun', 'knife', 'weapon', 'firearm', 'rifle', 'carabine', 'shotgun', 'handgun', \n",
    "           'revolver', 'musket', 'pistol', 'derringer', 'assault', 'rifle', 'sword', 'blunt']\n",
    "\n",
    "investigation = ['gang', 'mafia', 'serial',  'killer', 'rape', 'theft', 'recidivism', \n",
    "                 'arrest', 'robbery', 'cybercrime', 'cyber', 'crime']\n",
    "\n",
    "interesting_set = set(narcotics + weapons + investigation)"
   ]
  },
  {
   "cell_type": "markdown",
   "id": "9ba26930-54f6-4839-9f6e-b975f4995866",
   "metadata": {},
   "source": [
    "We keep singular and plural versions of words because the pre-processing phase can produce both versions, depending on the context (we use Spacy)"
   ]
  },
  {
   "cell_type": "code",
   "execution_count": null,
   "id": "5e6d47c1-b02b-4791-a293-5d90b5592880",
   "metadata": {},
   "outputs": [],
   "source": []
  }
 ],
 "metadata": {
  "kernelspec": {
   "display_name": "Python 3",
   "language": "python",
   "name": "python3"
  },
  "language_info": {
   "codemirror_mode": {
    "name": "ipython",
    "version": 3
   },
   "file_extension": ".py",
   "mimetype": "text/x-python",
   "name": "python",
   "nbconvert_exporter": "python",
   "pygments_lexer": "ipython3",
   "version": "3.9.1"
  }
 },
 "nbformat": 4,
 "nbformat_minor": 5
}
