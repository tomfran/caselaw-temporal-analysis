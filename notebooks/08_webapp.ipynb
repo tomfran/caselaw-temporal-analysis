{
 "cells": [
  {
   "cell_type": "code",
   "execution_count": 1,
   "id": "e2759ede-7016-46c2-882b-396afdb3c507",
   "metadata": {},
   "outputs": [],
   "source": [
    "import sys\n",
    "sys.path.append(\"..\")\n",
    "\n",
    "import dash\n",
    "import dash_bootstrap_components as dbc\n",
    "import plotly.express as px\n",
    "import pandas as pd\n",
    "import plotly.graph_objs as go\n",
    "import pickle\n",
    "import numpy\n",
    "\n",
    "from jupyter_dash import JupyterDash\n",
    "from dash import dcc\n",
    "from dash import html\n",
    "from dash import Input, Output, State\n",
    "\n",
    "from collections import defaultdict\n",
    "from src.dataset import Dataset\n",
    "from src.vectorizers import TokenVectorizer\n",
    "from gensim.models import Word2Vec, KeyedVectors\n",
    "from src.lda_utils import get_word_relevance, get_words_relevance, print_topics"
   ]
  },
  {
   "cell_type": "code",
   "execution_count": 2,
   "id": "431d6afd-b26d-4701-9c52-bf18ac9ee532",
   "metadata": {},
   "outputs": [],
   "source": [
    "PLOTLY_LOGO = \"https://images.plot.ly/logo/new-branding/plotly-logomark.png\"\n",
    "TEMPLATE = 'plotly_white'"
   ]
  },
  {
   "cell_type": "code",
   "execution_count": 3,
   "id": "88545594-03b7-4226-bca0-815efd929e17",
   "metadata": {},
   "outputs": [],
   "source": [
    "def get_distribution(term, word2id, doc_dates, transposed_vectors, dates_frequencies, low_filter=-1, high_filter=9999):\n",
    "    ind = word2id.get(term, -1)\n",
    "    if ind < 0:\n",
    "        return []\n",
    "    docs = [(index, 1) for index, occ in \n",
    "            enumerate(transposed_vectors[ind].toarray()[0]) if occ > 0]\n",
    "    dates = [(doc_dates[index], occ) for index, occ in docs]\n",
    "    freqs = defaultdict(lambda:0)\n",
    "    for year, occ in dates:\n",
    "        freqs[year] += occ\n",
    "            \n",
    "    return sorted([(year, occ/dates_frequencies[year]) \n",
    "                   for year, occ in freqs.items() if low_filter <= year <= high_filter and occ != dates_frequencies[year]])"
   ]
  },
  {
   "cell_type": "code",
   "execution_count": 4,
   "id": "141d8af0-8393-497c-8815-dc3ca886ddef",
   "metadata": {},
   "outputs": [],
   "source": [
    "dataset = Dataset()\n",
    "dates = dataset.load_dataset(year=None, fields=[\"decision_date\"], courts={\"Illinois Appellate Court\"})"
   ]
  },
  {
   "cell_type": "code",
   "execution_count": 5,
   "id": "a138910f-b60e-4710-8d49-56f1f66080ab",
   "metadata": {},
   "outputs": [
    {
     "name": "stderr",
     "output_type": "stream",
     "text": [
      "c:\\users\\carle\\appdata\\local\\programs\\python\\python39\\lib\\site-packages\\sklearn\\base.py:324: UserWarning: Trying to unpickle estimator CountVectorizer from version 0.24.2 when using version 1.0.1. This might lead to breaking code or invalid results. Use at your own risk. For more info please refer to:\n",
      "https://scikit-learn.org/stable/modules/model_persistence.html#security-maintainability-limitations\n",
      "  warnings.warn(\n",
      "c:\\users\\carle\\appdata\\local\\programs\\python\\python39\\lib\\site-packages\\sklearn\\utils\\deprecation.py:87: FutureWarning: Function get_feature_names is deprecated; get_feature_names is deprecated in 1.0 and will be removed in 1.2. Please use get_feature_names_out instead.\n",
      "  warnings.warn(msg, category=FutureWarning)\n"
     ]
    }
   ],
   "source": [
    "vectors, vectorizer = TokenVectorizer.load_vectors_vectorizer(method=\"count\")\n",
    "vocab = vectorizer.get_feature_names()\n",
    "word2id = dict((v, idx) for idx, v in enumerate(vocab))\n",
    "id2word = dict((idx, v) for idx, v in enumerate(vocab))\n",
    "\n",
    "vectors_trans = vectors.transpose()"
   ]
  },
  {
   "cell_type": "code",
   "execution_count": 6,
   "id": "59c3ded1-929f-4c0a-9a4f-fccb2748f188",
   "metadata": {},
   "outputs": [],
   "source": [
    "model_path = \"../data/models/test_w2v.model\"\n",
    "model = Word2Vec.load(model_path)"
   ]
  },
  {
   "cell_type": "code",
   "execution_count": 7,
   "id": "ff96e994-2feb-4927-ab2d-8da7f1866747",
   "metadata": {},
   "outputs": [],
   "source": [
    "intervals = 10\n",
    "norm_dates = [e['decision_date'] - e['decision_date']%intervals for e in dates]\n",
    "\n",
    "dates_frequencies = defaultdict(lambda:0)\n",
    "\n",
    "for d in norm_dates:\n",
    "    dates_frequencies[d] += 1"
   ]
  },
  {
   "cell_type": "code",
   "execution_count": 8,
   "id": "2d778fdd-d8ae-43b7-be45-b9b719973937",
   "metadata": {},
   "outputs": [],
   "source": [
    "lda_model = pickle.load(open(\"../data/models/IAC_exp_seed_minf_10_max_50%.pk\", \"rb\"))"
   ]
  },
  {
   "cell_type": "code",
   "execution_count": 26,
   "id": "c2d82df4-99ae-40da-b686-63d60f73c463",
   "metadata": {},
   "outputs": [],
   "source": [
    "app = JupyterDash(__name__, external_stylesheets=[dbc.themes.BOOTSTRAP])"
   ]
  },
  {
   "cell_type": "markdown",
   "id": "afd7f8ac-c277-4278-8efa-7011051604e8",
   "metadata": {},
   "source": [
    "##### Navbar"
   ]
  },
  {
   "cell_type": "code",
   "execution_count": 27,
   "id": "ce313404-1f79-4469-a94b-db435baff922",
   "metadata": {
    "jupyter": {
     "source_hidden": true
    },
    "tags": []
   },
   "outputs": [],
   "source": [
    "NAVBAR = dbc.Navbar(\n",
    "    children=[\n",
    "        html.A(\n",
    "            # Use row and col to control vertical alignment of logo / brand\n",
    "            dbc.Row(\n",
    "                [\n",
    "                    dbc.Col(html.Img(src=PLOTLY_LOGO, height=\"30px\")),\n",
    "                    dbc.Col(\n",
    "                        dbc.NavbarBrand(\"Illinois Cases Analysis\", className=\"ml-2\"),\n",
    "                        style={\"marginLeft\": 10}\n",
    "                    ),\n",
    "                ],\n",
    "                align=\"center\",\n",
    "                className=\"g-0\",\n",
    "            ),\n",
    "            href=\"https://github.com/tomfran/legal-texts-information-retrieval\",\n",
    "            style={\"margin\": 10, \"textDecoration\": \"none\"}\n",
    "        )\n",
    "    ],\n",
    "    color=\"dark\",\n",
    "    dark=True,\n",
    "    sticky=\"top\",\n",
    ")"
   ]
  },
  {
   "cell_type": "markdown",
   "id": "7419081a-ace4-43f6-9484-76c86312679e",
   "metadata": {},
   "source": [
    "##### Searchbox"
   ]
  },
  {
   "cell_type": "code",
   "execution_count": 28,
   "id": "fcc0674d-a028-4479-9d1e-e98e3ec2dec6",
   "metadata": {
    "jupyter": {
     "source_hidden": true
    },
    "tags": []
   },
   "outputs": [],
   "source": [
    "SEARCH_BOX = dbc.InputGroup(\n",
    "    [\n",
    "        dbc.Button(\"Search\", id=\"search-button\", n_clicks=0),\n",
    "        dbc.Input(id=\"search-input\", placeholder=\"cocaine, drug - gun, weapon\"),\n",
    "    ],\n",
    "    style={\"marginTop\": 20}\n",
    ")"
   ]
  },
  {
   "cell_type": "markdown",
   "id": "f12f25ea-74e4-4937-8f86-9e21b9c268a5",
   "metadata": {},
   "source": [
    "Word Analysis"
   ]
  },
  {
   "cell_type": "code",
   "execution_count": 29,
   "id": "2dce477f-ed0d-437b-83f7-2a21c2da8ea3",
   "metadata": {
    "jupyter": {
     "source_hidden": true
    },
    "tags": []
   },
   "outputs": [],
   "source": [
    "CONTEXT_GRAPH = dcc.Loading(\n",
    "    id=\"loading-similar-context-words\",\n",
    "    children=[dcc.Graph(id=\"similar-context-graph\")],\n",
    "    type=\"default\",\n",
    ")\n",
    "GRAMS_GRAPH = dcc.Loading(\n",
    "    id=\"loading-grams\", \n",
    "    children=[dcc.Graph(id=\"grams-graph\")],\n",
    "    type=\"default\",\n",
    ")\n",
    "WORD_GENERIC_TOPIC_DISTRIBUTION_GRAPH = dcc.Loading(\n",
    "    id=\"loading-word-generic-topics\", \n",
    "    children=[dcc.Graph(id=\"word-generic-topics-graph\")],\n",
    "    type=\"default\",\n",
    ")\n",
    "WORD_SPECIFIC_TOPIC_DISTRIBUTION_GRAPH = dcc.Loading(\n",
    "    id=\"loading-word-specific-topics\", \n",
    "    children=[dcc.Graph(id=\"word-specific-topics-graph\")],\n",
    "    type=\"default\",\n",
    ")\n",
    "\n",
    "WORD_TOPIC_TABS = dcc.Tabs(\n",
    "    id=\"word-topics-tabs\",\n",
    "    children=[\n",
    "        dcc.Tab(\n",
    "            label=\"Generic\",\n",
    "        ),\n",
    "        dcc.Tab(\n",
    "            label=\"Specific\",\n",
    "        ),\n",
    "    ]\n",
    ")"
   ]
  },
  {
   "cell_type": "code",
   "execution_count": 30,
   "id": "6b88ba04-8260-4401-b674-115cf19ab15b",
   "metadata": {
    "tags": []
   },
   "outputs": [],
   "source": [
    "WORD_CARD = [\n",
    "    dbc.CardHeader(html.H5(\"Word analysis\")),\n",
    "    dbc.Alert(\n",
    "        \"Not enough data to render these plots, please adjust the filters\",\n",
    "        id=\"no-word-data-alert\",\n",
    "        color=\"warning\",\n",
    "        style={\"display\": \"none\"},\n",
    "    ),\n",
    "    dbc.CardBody(\n",
    "        [\n",
    "            dbc.Row(\n",
    "                [\n",
    "                    dbc.Col([ \n",
    "                        CONTEXT_GRAPH\n",
    "                    ]),\n",
    "                    dbc.Col([GRAMS_GRAPH], md=8)\n",
    "                ]\n",
    "            ),\n",
    "            dbc.Row([WORD_TOPIC_TABS, WORD_GENERIC_TOPIC_DISTRIBUTION_GRAPH])\n",
    "        ]\n",
    "    )\n",
    "]"
   ]
  },
  {
   "cell_type": "markdown",
   "id": "01ca1c33-b973-48de-84ab-1ea1ef9e3cd6",
   "metadata": {},
   "source": [
    "Topic Analysis"
   ]
  },
  {
   "cell_type": "code",
   "execution_count": 31,
   "id": "c9536e4c-88f7-424f-9329-52c18d83e1f7",
   "metadata": {
    "jupyter": {
     "source_hidden": true
    },
    "tags": []
   },
   "outputs": [],
   "source": [
    "TOPIC_WORDS_GRAPHS = dbc.Row(\n",
    "    [\n",
    "        dbc.Col(\n",
    "            dcc.Loading(\n",
    "                id=\"loading-frequencies\",\n",
    "                children=[dcc.Graph(id=\"frequency_figure\")],\n",
    "                type=\"default\",\n",
    "            )\n",
    "        ),\n",
    "        dbc.Col(\n",
    "            [\n",
    "                dcc.Tabs(\n",
    "                    id=\"tabs\",\n",
    "                    children=[\n",
    "                        dcc.Tab(\n",
    "                            label=\"Treemap\",\n",
    "                            children=[\n",
    "                                dcc.Loading(\n",
    "                                    id=\"loading-treemap\",\n",
    "                                    children=[dcc.Graph(id=\"topic-treemap\")],\n",
    "                                    type=\"default\",\n",
    "                                )\n",
    "                            ],\n",
    "                        ),\n",
    "                        dcc.Tab(\n",
    "                            label=\"Wordcloud\",\n",
    "                            children=[\n",
    "                                dcc.Loading(\n",
    "                                    id=\"loading-wordcloud\",\n",
    "                                    children=[\n",
    "                                        dcc.Graph(id=\"topic-wordcloud\")\n",
    "                                    ],\n",
    "                                    type=\"default\",\n",
    "                                )\n",
    "                            ],\n",
    "                        ),\n",
    "                    ],\n",
    "                )\n",
    "            ],\n",
    "            md=8,\n",
    "        ),\n",
    "    ]\n",
    ")"
   ]
  },
  {
   "cell_type": "code",
   "execution_count": 32,
   "id": "300b10b8-1389-443b-9d32-f796a7ac72e0",
   "metadata": {
    "jupyter": {
     "source_hidden": true
    },
    "tags": []
   },
   "outputs": [],
   "source": [
    "TOPIC_INFO_GRAPHS = dbc.Row(\n",
    "    [\n",
    "        dbc.Col(\n",
    "            dcc.Loading(\n",
    "                id=\"loading-topic-years\",\n",
    "                children=[\n",
    "                    dcc.Graph(id=\"topic-years-histogram\")\n",
    "                ],\n",
    "                type=\"default\",\n",
    "            )\n",
    "        ),\n",
    "        dbc.Col(\n",
    "            dcc.Loading(\n",
    "                id=\"loading-topic-courts\",\n",
    "                children=[\n",
    "                    dcc.Graph(id=\"topic-courts-piechart\")\n",
    "                ],\n",
    "                type=\"default\",\n",
    "            ),\n",
    "            md=4\n",
    "        )\n",
    "    ]\n",
    ")"
   ]
  },
  {
   "cell_type": "code",
   "execution_count": 33,
   "id": "2d9a4349-949d-4103-aec8-67d0df252eba",
   "metadata": {
    "jupyter": {
     "source_hidden": true
    },
    "tags": []
   },
   "outputs": [],
   "source": [
    "TOPIC_CARD = [\n",
    "    dbc.CardHeader(html.H5(\"Topic 5 - Driving Incidents\", id=\"selected_topic_name\")),\n",
    "    dbc.Alert(\n",
    "        \"Not enough data to render these plots, please adjust the filters\",\n",
    "        id=\"no-topic-data-alert\",\n",
    "        color=\"warning\",\n",
    "        style={\"display\": \"none\"},\n",
    "    ),\n",
    "    dbc.CardBody(\n",
    "        [TOPIC_WORDS_GRAPHS, dcc.RangeSlider(id=\"topic-time-window-slider\"), TOPIC_INFO_GRAPHS]\n",
    "    )\n",
    "]"
   ]
  },
  {
   "cell_type": "markdown",
   "id": "5aae1eb7-e987-42d7-b98b-1e8a84e74bf8",
   "metadata": {},
   "source": [
    "##### Body"
   ]
  },
  {
   "cell_type": "code",
   "execution_count": 34,
   "id": "937873e5-8694-4ad1-b60b-56a8ec329a38",
   "metadata": {
    "jupyter": {
     "source_hidden": true
    },
    "tags": []
   },
   "outputs": [],
   "source": [
    "BODY = dbc.Container(\n",
    "    [\n",
    "        SEARCH_BOX,\n",
    "        dbc.Card(WORD_CARD, style={\"marginTop\": 20}),\n",
    "        dbc.Card(TOPIC_CARD, style={\"marginTop\": 20, \"marginBottom\": 30}),\n",
    "    ],\n",
    "    className=\"mt-12\",\n",
    ")"
   ]
  },
  {
   "cell_type": "markdown",
   "id": "aa329d50-731a-43c2-940a-9a5625ada3bb",
   "metadata": {},
   "source": [
    "##### Callbacks"
   ]
  },
  {
   "cell_type": "code",
   "execution_count": 35,
   "id": "4b04fdc3-c398-493d-bb1d-ea2f157e1663",
   "metadata": {
    "jupyter": {
     "source_hidden": true
    },
    "tags": []
   },
   "outputs": [],
   "source": [
    "@app.callback(\n",
    "        Output(\"similar-context-graph\", \"figure\"),\n",
    "        Input('search-button', 'n_clicks'),\n",
    "         State('search-input', 'value'))\n",
    "def get_similar_context_graph(n_clicks, words):\n",
    "    if words:\n",
    "        word = words.split(\"-\")[0].strip()\n",
    "        sim = model.wv.most_similar(word, topn=15)[::-1]\n",
    "        return px.histogram(\n",
    "            y=[word[0] for word in sim],\n",
    "            x=[word[1] for word in sim],\n",
    "            orientation=\"h\",     \n",
    "            title=\"Similar context\",\n",
    "            color_discrete_sequence=['darkturquoise']\n",
    "        ).update_layout(\n",
    "        template=TEMPLATE,\n",
    "        xaxis_title='',\n",
    "        yaxis_title=''\n",
    "    )\n",
    "    return go.Figure()"
   ]
  },
  {
   "cell_type": "code",
   "execution_count": 36,
   "id": "174a1b73-eb83-4459-b232-6b14b4679d93",
   "metadata": {
    "jupyter": {
     "source_hidden": true
    },
    "tags": []
   },
   "outputs": [],
   "source": [
    "@app.callback(\n",
    "    Output('grams-graph', 'figure'),\n",
    "    [Input('search-button', 'n_clicks')],\n",
    "    [State('search-input', 'value')])\n",
    "def update_output(n_clicks, searches):\n",
    "    if searches:\n",
    "        searches = searches.split(\"-\")\n",
    "        fig = go.Figure(layout=go.Layout(\n",
    "            title = \"Docs containing searched words frequency\",\n",
    "            template=TEMPLATE,\n",
    "            xaxis=dict(\n",
    "                rangeselector=dict(\n",
    "                    buttons=list([\n",
    "                        dict(count=1,\n",
    "                             label=\"1y\",\n",
    "                             step=\"year\",\n",
    "                             stepmode=\"backward\"),\n",
    "                        dict(count=5,\n",
    "                             label=\"5y\",\n",
    "                             step=\"year\",\n",
    "                             stepmode=\"backward\"),\n",
    "                        dict(count=10,\n",
    "                             label=\"10y\",\n",
    "                             step=\"year\",\n",
    "                             stepmode=\"backward\"),\n",
    "                        dict(count=25,\n",
    "                             label=\"25y\",\n",
    "                             step=\"year\",\n",
    "                             stepmode=\"backward\"),\n",
    "                        dict(count=50,\n",
    "                             label=\"50y\",\n",
    "                             step=\"year\",\n",
    "                             stepmode=\"backward\"),\n",
    "                        dict(step=\"all\")\n",
    "                    ])\n",
    "                ),\n",
    "                rangeslider=dict(\n",
    "                    visible=True\n",
    "                ),\n",
    "                title=\"year\",\n",
    "                type=\"date\"\n",
    "            ),\n",
    "            yaxis=dict(title=\"freq\")\n",
    "        ))\n",
    "        for search in searches:\n",
    "            search = search.strip()\n",
    "            grams = get_distribution(search, word2id, norm_dates, vectors_trans, dates_frequencies)\n",
    "            if not grams:\n",
    "                continue\n",
    "            fig.add_trace(go.Scatter(x=[year_perc[0] for year_perc in grams], y=[year_perc[1] for year_perc in grams],\n",
    "                                mode='lines',\n",
    "                                name=search))\n",
    "        return fig\n",
    "    else:\n",
    "        return go.Figure()"
   ]
  },
  {
   "cell_type": "code",
   "execution_count": 37,
   "id": "71af87ec-70ea-4b9e-8869-849f7b1f7d0a",
   "metadata": {
    "tags": []
   },
   "outputs": [],
   "source": [
    "@app.callback(\n",
    "        Output(\"word-generic-topics-graph\", \"figure\"),\n",
    "        Input('search-button', 'n_clicks'),\n",
    "         State('search-input', 'value'))\n",
    "def get_generic_topics_radar_graph(n_clicks, searches):\n",
    "    if not searches:\n",
    "        return go.Figure()\n",
    "\n",
    "    fig = go.Figure(layout=go.Layout(\n",
    "            title=\"Topic distribution\",\n",
    "            template=TEMPLATE,\n",
    "    )               )\n",
    "    \n",
    "    searches = searches.split(\"-\")\n",
    "    for search in searches:\n",
    "        search = search.strip()\n",
    "    \n",
    "        topics = get_word_relevance(search, word2id, vocab, lda_model, normalize=True)\n",
    "        values = numpy.array(list(topics.values()), dtype='f') * 10 / max(topics.values())\n",
    "        \n",
    "        fig.add_trace(go.Scatterpolar(\n",
    "                  r=values,\n",
    "                  theta=[str(name) for name in list(topics.keys())],\n",
    "                  fill='toself',\n",
    "                  name=search\n",
    "            ))\n",
    "\n",
    "    fig.update_layout(\n",
    "      polar=dict(\n",
    "        radialaxis=dict(\n",
    "          visible=True,\n",
    "          range=[0, 10]\n",
    "        )),\n",
    "      showlegend=True\n",
    "    )\n",
    "    return fig"
   ]
  },
  {
   "cell_type": "code",
   "execution_count": 38,
   "id": "b2bb0f13-8ccc-4254-912c-559081773afd",
   "metadata": {},
   "outputs": [],
   "source": [
    "app.layout = html.Div(children=[NAVBAR, BODY])\n",
    "\n",
    "app.run_server(mode='jupyterlab', dev_tools_ui=True, #debug=True, \n",
    "               dev_tools_hot_reload =True, threaded=True)"
   ]
  },
  {
   "cell_type": "code",
   "execution_count": 22,
   "id": "911da111-c361-4398-869a-39e59c778834",
   "metadata": {},
   "outputs": [],
   "source": [
    "def _terminate_server_for_port(host, port):\n",
    "        shutdown_url = \"http://{host}:{port}/_shutdown_{token}\".format(\n",
    "            host=host, port=port, token=JupyterDash._token\n",
    "        )\n",
    "        try:\n",
    "            response = requests.get(shutdown_url)\n",
    "        except Exception as e:\n",
    "            pass"
   ]
  },
  {
   "cell_type": "code",
   "execution_count": 25,
   "id": "5369e70b-ee4d-4d35-9ecd-e9b92b87091e",
   "metadata": {},
   "outputs": [],
   "source": [
    "_terminate_server_for_port(\"localhost\", 8050)"
   ]
  },
  {
   "cell_type": "code",
   "execution_count": null,
   "id": "8c03b27d-1293-4fe5-81b9-1519ea5433e7",
   "metadata": {},
   "outputs": [],
   "source": []
  }
 ],
 "metadata": {
  "kernelspec": {
   "display_name": "Python 3",
   "language": "python",
   "name": "python3"
  },
  "language_info": {
   "codemirror_mode": {
    "name": "ipython",
    "version": 3
   },
   "file_extension": ".py",
   "mimetype": "text/x-python",
   "name": "python",
   "nbconvert_exporter": "python",
   "pygments_lexer": "ipython3",
   "version": "3.9.1"
  }
 },
 "nbformat": 4,
 "nbformat_minor": 5
}
