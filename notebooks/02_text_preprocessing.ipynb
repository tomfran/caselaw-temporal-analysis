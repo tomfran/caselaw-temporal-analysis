{
 "cells": [
  {
   "cell_type": "markdown",
   "id": "worldwide-reader",
   "metadata": {},
   "source": [
    "# Text tokenization and vectorization\n",
    "We use Spacy to tokenize documents in batch, exploiting the pipe method. We then save the tokens to disk to avoid recomputing, lastly, we use a tfidf vectorizer to compute document vectors, and, as before, we save the results to disk."
   ]
  },
  {
   "cell_type": "code",
   "execution_count": 1,
   "id": "dental-decrease",
   "metadata": {},
   "outputs": [],
   "source": [
    "import sys\n",
    "sys.path.append(\"..\")\n",
    "\n",
    "import pandas as pd\n",
    "import numpy as np\n",
    "\n",
    "from src.dataset import Dataset\n",
    "from src.tokenizers import BatchTokenizer\n",
    "from src.vectorizers import TokenTfidfVectorizer"
   ]
  },
  {
   "cell_type": "markdown",
   "id": "latin-rubber",
   "metadata": {},
   "source": [
    "### Loading the dataset\n",
    "The dataset is loaded in a list of documents, we do not need all the information about them right now."
   ]
  },
  {
   "cell_type": "code",
   "execution_count": 2,
   "id": "imported-mining",
   "metadata": {},
   "outputs": [],
   "source": [
    "# number of documents to load, -1 means all of them\n",
    "n_documents = 300\n",
    "\n",
    "processed_dataset = \"processed\" #10seconds to load, contains approx. 19k documents\n",
    "# processed_dataset = \"test_processed\" # 1second to load, contains approx 1k documents\n",
    "\n",
    "dataset = Dataset(dataset_path=\"../data/raw/data.jsonl\", save_path=f\"../data/processed/{processed_dataset}.json\")\n",
    "texts_list = dataset.load_text_list(size=n_documents)"
   ]
  },
  {
   "cell_type": "code",
   "execution_count": 3,
   "id": "f03b4e3c",
   "metadata": {},
   "outputs": [
    {
     "data": {
      "text/plain": [
       "300"
      ]
     },
     "execution_count": 3,
     "metadata": {},
     "output_type": "execute_result"
    }
   ],
   "source": [
    "len(texts_list)"
   ]
  },
  {
   "cell_type": "markdown",
   "id": "547ffe68",
   "metadata": {},
   "source": [
    "## Tokenize in batch\n",
    "The tokenizer processes the documents in a parallel fashion, \n",
    "the result is a token list for each document, we save those to disk and later load them. "
   ]
  },
  {
   "cell_type": "code",
   "execution_count": 4,
   "id": "959e7013",
   "metadata": {},
   "outputs": [],
   "source": [
    "bt = BatchTokenizer()\n",
    "tokens = bt.tokenize(texts_list)\n",
    "# bt.save_tokens(tokens)\n",
    "# tokens = BatchTokenizer.load_tokens()"
   ]
  },
  {
   "cell_type": "markdown",
   "id": "legal-gibraltar",
   "metadata": {},
   "source": [
    "## TfIdf vectorization\n",
    "\n",
    "We now use TfIdf vectorizer on the obtained tokens."
   ]
  },
  {
   "cell_type": "code",
   "execution_count": null,
   "id": "invalid-cardiff",
   "metadata": {},
   "outputs": [],
   "source": [
    "dv = TokenTfidfVectorizer(tokens)\n",
    "\n",
    "vectors = dv.vectors()\n",
    "dv.save_vectors_vectorizer(vectors)\n",
    "\n",
    "print(f\"Vocabulary length: {len(dv.vectorizer.vocabulary_)}\")\n"
   ]
  },
  {
   "cell_type": "code",
   "execution_count": null,
   "id": "color-cheat",
   "metadata": {},
   "outputs": [],
   "source": [
    "loaded_vectors, loaded_vec = TokenTfidfVectorizer.load_vectors_vectorizer()\n",
    "X = pd.DataFrame(loaded_vectors.toarray(), columns=loaded_vec.get_feature_names())\n",
    "X.head()"
   ]
  }
 ],
 "metadata": {
  "interpreter": {
   "hash": "916dbcbb3f70747c44a77c7bcd40155683ae19c65e1c03b4aa3499c5328201f1"
  },
  "kernelspec": {
   "display_name": "Python 3",
   "language": "python",
   "name": "python3"
  },
  "language_info": {
   "codemirror_mode": {
    "name": "ipython",
    "version": 3
   },
   "file_extension": ".py",
   "mimetype": "text/x-python",
   "name": "python",
   "nbconvert_exporter": "python",
   "pygments_lexer": "ipython3",
   "version": "3.8.10"
  }
 },
 "nbformat": 4,
 "nbformat_minor": 5
}
