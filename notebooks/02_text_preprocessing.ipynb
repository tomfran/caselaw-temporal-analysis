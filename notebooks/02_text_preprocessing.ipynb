{
 "cells": [
  {
   "cell_type": "markdown",
   "id": "worldwide-reader",
   "metadata": {},
   "source": [
    "# Text tokenization and vectorization"
   ]
  },
  {
   "cell_type": "code",
   "execution_count": 1,
   "id": "dental-decrease",
   "metadata": {},
   "outputs": [],
   "source": [
    "import sys\n",
    "sys.path.append(\"..\")\n",
    "\n",
    "import json\n",
    "import pandas as pd\n",
    "\n",
    "from src.dataset import Dataset\n",
    "from src.parallel_vectorizer_tokenizer import BatchTokenizer, FastTfIdfVectorizer"
   ]
  },
  {
   "cell_type": "markdown",
   "id": "latin-rubber",
   "metadata": {},
   "source": [
    "## Load processed dataset"
   ]
  },
  {
   "cell_type": "code",
   "execution_count": 2,
   "id": "imported-mining",
   "metadata": {},
   "outputs": [],
   "source": [
    "dataset = Dataset(dataset_path=\"../data/raw/data.jsonl\", save_path=\"../data/processed/processed.jsonl\")\n",
    "data = dataset.load_json()"
   ]
  },
  {
   "cell_type": "markdown",
   "id": "republican-reliance",
   "metadata": {},
   "source": [
    "## Create list of texts to tokenize"
   ]
  },
  {
   "cell_type": "code",
   "execution_count": 3,
   "id": "upper-malaysia",
   "metadata": {},
   "outputs": [],
   "source": [
    "numMaxOpinions = 30000\n",
    "texts_list = [document[\"opinions\"][i][\"text\"] for document in data[:numMaxOpinions] for i in range(len(document[\"opinions\"]))]"
   ]
  },
  {
   "cell_type": "markdown",
   "id": "legal-gibraltar",
   "metadata": {},
   "source": [
    "## Vectorize text list with Spacy tokenizer\n",
    "\n",
    "We then save the vectors and vectorizer to disk"
   ]
  },
  {
   "cell_type": "code",
   "execution_count": 4,
   "id": "invalid-cardiff",
   "metadata": {},
   "outputs": [],
   "source": [
    "vec = FastTfIdfVectorizer(texts_list[:numMaxOpinions], BatchTokenizer())\n",
    "vectors = vec.vectors()"
   ]
  },
  {
   "cell_type": "code",
   "execution_count": 5,
   "id": "2ac010be-88dc-4e86-9219-ce4acd83261a",
   "metadata": {},
   "outputs": [
    {
     "name": "stdout",
     "output_type": "stream",
     "text": [
      "'ketamina' not present\n",
      "'carabine' not present\n",
      "'afroamerican' not present\n",
      "'cybercrime' not present\n"
     ]
    }
   ],
   "source": [
    "vec.increaseWeightImportantWords(vectors, multiplier=3)"
   ]
  },
  {
   "cell_type": "code",
   "execution_count": 6,
   "id": "3e1db096-a8cf-49c2-aa2b-92ba27d85bc0",
   "metadata": {},
   "outputs": [],
   "source": [
    "vec.save_vectors_vectorizer(vectors)"
   ]
  },
  {
   "cell_type": "code",
   "execution_count": 7,
   "id": "d7e6c9fd-80d8-4cd3-9973-06fdc42c5383",
   "metadata": {},
   "outputs": [
    {
     "name": "stdout",
     "output_type": "stream",
     "text": [
      "(30000, 149830)\n"
     ]
    }
   ],
   "source": [
    "print(vectors.shape)"
   ]
  },
  {
   "cell_type": "markdown",
   "id": "scientific-breach",
   "metadata": {},
   "source": [
    "## Load data from npy and pickle files"
   ]
  },
  {
   "cell_type": "code",
   "execution_count": 8,
   "id": "color-cheat",
   "metadata": {},
   "outputs": [],
   "source": [
    "loaded_vectors, loaded_vec = FastTfIdfVectorizer.load_vectors_vectorizer()"
   ]
  },
  {
   "cell_type": "code",
   "execution_count": 9,
   "id": "divine-insurance",
   "metadata": {},
   "outputs": [
    {
     "name": "stderr",
     "output_type": "stream",
     "text": [
      "c:\\users\\carle\\appdata\\local\\programs\\python\\python39\\lib\\site-packages\\sklearn\\utils\\deprecation.py:87: FutureWarning: Function get_feature_names is deprecated; get_feature_names is deprecated in 1.0 and will be removed in 1.2. Please use get_feature_names_out instead.\n",
      "  warnings.warn(msg, category=FutureWarning)\n"
     ]
    }
   ],
   "source": [
    "X = pd.DataFrame(loaded_vectors.toarray(), columns=loaded_vec.get_feature_names())"
   ]
  },
  {
   "cell_type": "code",
   "execution_count": 10,
   "id": "august-acrylic",
   "metadata": {},
   "outputs": [
    {
     "data": {
      "text/html": [
       "<div>\n",
       "<style scoped>\n",
       "    .dataframe tbody tr th:only-of-type {\n",
       "        vertical-align: middle;\n",
       "    }\n",
       "\n",
       "    .dataframe tbody tr th {\n",
       "        vertical-align: top;\n",
       "    }\n",
       "\n",
       "    .dataframe thead th {\n",
       "        text-align: right;\n",
       "    }\n",
       "</style>\n",
       "<table border=\"1\" class=\"dataframe\">\n",
       "  <thead>\n",
       "    <tr style=\"text-align: right;\">\n",
       "      <th></th>\n",
       "      <th>0</th>\n",
       "      <th>00</th>\n",
       "      <th>000</th>\n",
       "      <th>0000</th>\n",
       "      <th>00004</th>\n",
       "      <th>0000613</th>\n",
       "      <th>0000620</th>\n",
       "      <th>0000636</th>\n",
       "      <th>0001</th>\n",
       "      <th>0002</th>\n",
       "      <th>...</th>\n",
       "      <th>üs</th>\n",
       "      <th>üsn</th>\n",
       "      <th>üst</th>\n",
       "      <th>üstatural</th>\n",
       "      <th>üstestlerode</th>\n",
       "      <th>üstor</th>\n",
       "      <th>üw</th>\n",
       "      <th>ƒ</th>\n",
       "      <th>а</th>\n",
       "      <th>⅓</th>\n",
       "    </tr>\n",
       "  </thead>\n",
       "  <tbody>\n",
       "    <tr>\n",
       "      <th>0</th>\n",
       "      <td>0.0</td>\n",
       "      <td>0.0</td>\n",
       "      <td>0.0</td>\n",
       "      <td>0.0</td>\n",
       "      <td>0.0</td>\n",
       "      <td>0.0</td>\n",
       "      <td>0.0</td>\n",
       "      <td>0.0</td>\n",
       "      <td>0.0</td>\n",
       "      <td>0.0</td>\n",
       "      <td>...</td>\n",
       "      <td>0.0</td>\n",
       "      <td>0.0</td>\n",
       "      <td>0.0</td>\n",
       "      <td>0.0</td>\n",
       "      <td>0.0</td>\n",
       "      <td>0.0</td>\n",
       "      <td>0.0</td>\n",
       "      <td>0.0</td>\n",
       "      <td>0.0</td>\n",
       "      <td>0.0</td>\n",
       "    </tr>\n",
       "    <tr>\n",
       "      <th>1</th>\n",
       "      <td>0.0</td>\n",
       "      <td>0.0</td>\n",
       "      <td>0.0</td>\n",
       "      <td>0.0</td>\n",
       "      <td>0.0</td>\n",
       "      <td>0.0</td>\n",
       "      <td>0.0</td>\n",
       "      <td>0.0</td>\n",
       "      <td>0.0</td>\n",
       "      <td>0.0</td>\n",
       "      <td>...</td>\n",
       "      <td>0.0</td>\n",
       "      <td>0.0</td>\n",
       "      <td>0.0</td>\n",
       "      <td>0.0</td>\n",
       "      <td>0.0</td>\n",
       "      <td>0.0</td>\n",
       "      <td>0.0</td>\n",
       "      <td>0.0</td>\n",
       "      <td>0.0</td>\n",
       "      <td>0.0</td>\n",
       "    </tr>\n",
       "    <tr>\n",
       "      <th>2</th>\n",
       "      <td>0.0</td>\n",
       "      <td>0.0</td>\n",
       "      <td>0.0</td>\n",
       "      <td>0.0</td>\n",
       "      <td>0.0</td>\n",
       "      <td>0.0</td>\n",
       "      <td>0.0</td>\n",
       "      <td>0.0</td>\n",
       "      <td>0.0</td>\n",
       "      <td>0.0</td>\n",
       "      <td>...</td>\n",
       "      <td>0.0</td>\n",
       "      <td>0.0</td>\n",
       "      <td>0.0</td>\n",
       "      <td>0.0</td>\n",
       "      <td>0.0</td>\n",
       "      <td>0.0</td>\n",
       "      <td>0.0</td>\n",
       "      <td>0.0</td>\n",
       "      <td>0.0</td>\n",
       "      <td>0.0</td>\n",
       "    </tr>\n",
       "    <tr>\n",
       "      <th>3</th>\n",
       "      <td>0.0</td>\n",
       "      <td>0.0</td>\n",
       "      <td>0.0</td>\n",
       "      <td>0.0</td>\n",
       "      <td>0.0</td>\n",
       "      <td>0.0</td>\n",
       "      <td>0.0</td>\n",
       "      <td>0.0</td>\n",
       "      <td>0.0</td>\n",
       "      <td>0.0</td>\n",
       "      <td>...</td>\n",
       "      <td>0.0</td>\n",
       "      <td>0.0</td>\n",
       "      <td>0.0</td>\n",
       "      <td>0.0</td>\n",
       "      <td>0.0</td>\n",
       "      <td>0.0</td>\n",
       "      <td>0.0</td>\n",
       "      <td>0.0</td>\n",
       "      <td>0.0</td>\n",
       "      <td>0.0</td>\n",
       "    </tr>\n",
       "    <tr>\n",
       "      <th>4</th>\n",
       "      <td>0.0</td>\n",
       "      <td>0.0</td>\n",
       "      <td>0.0</td>\n",
       "      <td>0.0</td>\n",
       "      <td>0.0</td>\n",
       "      <td>0.0</td>\n",
       "      <td>0.0</td>\n",
       "      <td>0.0</td>\n",
       "      <td>0.0</td>\n",
       "      <td>0.0</td>\n",
       "      <td>...</td>\n",
       "      <td>0.0</td>\n",
       "      <td>0.0</td>\n",
       "      <td>0.0</td>\n",
       "      <td>0.0</td>\n",
       "      <td>0.0</td>\n",
       "      <td>0.0</td>\n",
       "      <td>0.0</td>\n",
       "      <td>0.0</td>\n",
       "      <td>0.0</td>\n",
       "      <td>0.0</td>\n",
       "    </tr>\n",
       "  </tbody>\n",
       "</table>\n",
       "<p>5 rows × 149830 columns</p>\n",
       "</div>"
      ],
      "text/plain": [
       "     0   00  000  0000  00004  0000613  0000620  0000636  0001  0002  ...  \\\n",
       "0  0.0  0.0  0.0   0.0    0.0      0.0      0.0      0.0   0.0   0.0  ...   \n",
       "1  0.0  0.0  0.0   0.0    0.0      0.0      0.0      0.0   0.0   0.0  ...   \n",
       "2  0.0  0.0  0.0   0.0    0.0      0.0      0.0      0.0   0.0   0.0  ...   \n",
       "3  0.0  0.0  0.0   0.0    0.0      0.0      0.0      0.0   0.0   0.0  ...   \n",
       "4  0.0  0.0  0.0   0.0    0.0      0.0      0.0      0.0   0.0   0.0  ...   \n",
       "\n",
       "    üs  üsn  üst  üstatural  üstestlerode  üstor   üw    ƒ    а    ⅓  \n",
       "0  0.0  0.0  0.0        0.0           0.0    0.0  0.0  0.0  0.0  0.0  \n",
       "1  0.0  0.0  0.0        0.0           0.0    0.0  0.0  0.0  0.0  0.0  \n",
       "2  0.0  0.0  0.0        0.0           0.0    0.0  0.0  0.0  0.0  0.0  \n",
       "3  0.0  0.0  0.0        0.0           0.0    0.0  0.0  0.0  0.0  0.0  \n",
       "4  0.0  0.0  0.0        0.0           0.0    0.0  0.0  0.0  0.0  0.0  \n",
       "\n",
       "[5 rows x 149830 columns]"
      ]
     },
     "execution_count": 10,
     "metadata": {},
     "output_type": "execute_result"
    }
   ],
   "source": [
    "X.head()"
   ]
  },
  {
   "cell_type": "code",
   "execution_count": 11,
   "id": "1e7b6e99",
   "metadata": {},
   "outputs": [
    {
     "data": {
      "text/plain": [
       "149830"
      ]
     },
     "execution_count": 11,
     "metadata": {},
     "output_type": "execute_result"
    }
   ],
   "source": [
    "len(loaded_vec.vocabulary_)"
   ]
  },
  {
   "cell_type": "code",
   "execution_count": null,
   "id": "297041ce-70e2-4a53-b5a6-4b1d97a4c67f",
   "metadata": {},
   "outputs": [],
   "source": []
  }
 ],
 "metadata": {
  "interpreter": {
   "hash": "916dbcbb3f70747c44a77c7bcd40155683ae19c65e1c03b4aa3499c5328201f1"
  },
  "kernelspec": {
   "display_name": "Python 3",
   "language": "python",
   "name": "python3"
  },
  "language_info": {
   "codemirror_mode": {
    "name": "ipython",
    "version": 3
   },
   "file_extension": ".py",
   "mimetype": "text/x-python",
   "name": "python",
   "nbconvert_exporter": "python",
   "pygments_lexer": "ipython3",
   "version": "3.9.1"
  }
 },
 "nbformat": 4,
 "nbformat_minor": 5
}
