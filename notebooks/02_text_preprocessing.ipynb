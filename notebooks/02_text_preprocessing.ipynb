{
 "cells": [
  {
   "cell_type": "markdown",
   "id": "worldwide-reader",
   "metadata": {},
   "source": [
    "# Text tokenization and vectorization\n",
    "We use Spacy to tokenize documents in batch, exploiting the pipe method. We then save the tokens to disk to avoid recomputing, lastly, we use a tfidf vectorizer to compute document vectors, and, as before, we save the results to disk."
   ]
  },
  {
   "cell_type": "code",
   "execution_count": 1,
   "id": "dental-decrease",
   "metadata": {},
   "outputs": [],
   "source": [
    "import sys\n",
    "sys.path.append(\"..\")\n",
    "\n",
    "import pandas as pd\n",
    "import numpy as np\n",
    "\n",
    "from src.dataset import Dataset\n",
    "from src.tokenizers import BatchTokenizer\n",
    "from src.vectorizers import TokenTfidfVectorizer"
   ]
  },
  {
   "cell_type": "markdown",
   "id": "latin-rubber",
   "metadata": {},
   "source": [
    "### Loading the dataset\n",
    "The dataset is loaded in a list of documents, we do not need all the information about them right now."
   ]
  },
  {
   "cell_type": "code",
   "execution_count": 2,
   "id": "imported-mining",
   "metadata": {},
   "outputs": [],
   "source": [
    "# number of documents to load, -1 means all of them\n",
    "n_documents = 1000\n",
    "\n",
    "# processed_dataset = \"processed\" #10seconds to load, contains approx. 19k documents\n",
    "processed_dataset = \"test_processed\" # 1second to load, contains approx 1k documents\n",
    "\n",
    "dataset = Dataset(dataset_path=\"../data/raw/data.jsonl\", save_path=f\"../data/processed/{processed_dataset}.json\")\n",
    "texts_list = dataset.load_text_list(size=n_documents)"
   ]
  },
  {
   "cell_type": "code",
   "execution_count": 4,
   "id": "f03b4e3c",
   "metadata": {},
   "outputs": [
    {
     "data": {
      "text/plain": [
       "1000"
      ]
     },
     "execution_count": 4,
     "metadata": {},
     "output_type": "execute_result"
    }
   ],
   "source": [
    "len(texts_list)"
   ]
  },
  {
   "cell_type": "markdown",
   "id": "547ffe68",
   "metadata": {},
   "source": [
    "## Tokenize in batch\n",
    "The tokenizer processes the documents in a parallel fashion, \n",
    "the result is a token list for each document, we save those to disk and later load them. "
   ]
  },
  {
   "cell_type": "code",
   "execution_count": 3,
   "id": "959e7013",
   "metadata": {},
   "outputs": [],
   "source": [
    "bt = BatchTokenizer()\n",
    "tokens = bt.tokenize(texts_list)\n",
    "bt.save_tokens(tokens)\n",
    "# tokens = BatchTokenizer.load_tokens()"
   ]
  },
  {
   "cell_type": "markdown",
   "id": "legal-gibraltar",
   "metadata": {},
   "source": [
    "## TfIdf vectorization\n",
    "\n",
    "We now use TfIdf vectorizer on the obtained tokens."
   ]
  },
  {
   "cell_type": "code",
   "execution_count": 4,
   "id": "invalid-cardiff",
   "metadata": {},
   "outputs": [
    {
     "name": "stdout",
     "output_type": "stream",
     "text": [
      "Vocabulary length: 1507\n"
     ]
    }
   ],
   "source": [
    "dv = TokenTfidfVectorizer(tokens)\n",
    "\n",
    "vectors = dv.vectors()\n",
    "dv.save_vectors_vectorizer(vectors)\n",
    "\n",
    "print(f\"Vocabulary length: {len(dv.vectorizer.vocabulary_)}\")\n"
   ]
  },
  {
   "cell_type": "code",
   "execution_count": 5,
   "id": "color-cheat",
   "metadata": {},
   "outputs": [
    {
     "data": {
      "text/html": [
       "<div>\n",
       "<style scoped>\n",
       "    .dataframe tbody tr th:only-of-type {\n",
       "        vertical-align: middle;\n",
       "    }\n",
       "\n",
       "    .dataframe tbody tr th {\n",
       "        vertical-align: top;\n",
       "    }\n",
       "\n",
       "    .dataframe thead th {\n",
       "        text-align: right;\n",
       "    }\n",
       "</style>\n",
       "<table border=\"1\" class=\"dataframe\">\n",
       "  <thead>\n",
       "    <tr style=\"text-align: right;\">\n",
       "      <th></th>\n",
       "      <th>104th</th>\n",
       "      <th>143</th>\n",
       "      <th>2d</th>\n",
       "      <th>302(a</th>\n",
       "      <th>302(a)(1</th>\n",
       "      <th>3d</th>\n",
       "      <th>603(a</th>\n",
       "      <th>603(h</th>\n",
       "      <th>609(a</th>\n",
       "      <th>652(a)(1</th>\n",
       "      <th>...</th>\n",
       "      <th>writing</th>\n",
       "      <th>x</th>\n",
       "      <th>x.</th>\n",
       "      <th>year</th>\n",
       "      <th>years</th>\n",
       "      <th>young</th>\n",
       "      <th>youth</th>\n",
       "      <th>zant</th>\n",
       "      <th>§</th>\n",
       "      <th>éxclude</th>\n",
       "    </tr>\n",
       "  </thead>\n",
       "  <tbody>\n",
       "    <tr>\n",
       "      <th>0</th>\n",
       "      <td>0.00395</td>\n",
       "      <td>0.000000</td>\n",
       "      <td>0.067452</td>\n",
       "      <td>0.0079</td>\n",
       "      <td>0.01975</td>\n",
       "      <td>0.01185</td>\n",
       "      <td>0.00395</td>\n",
       "      <td>0.00395</td>\n",
       "      <td>0.000000</td>\n",
       "      <td>0.00395</td>\n",
       "      <td>...</td>\n",
       "      <td>0.000000</td>\n",
       "      <td>0.0237</td>\n",
       "      <td>0.00395</td>\n",
       "      <td>0.036536</td>\n",
       "      <td>0.01185</td>\n",
       "      <td>0.000000</td>\n",
       "      <td>0.000000</td>\n",
       "      <td>0.000000</td>\n",
       "      <td>0.01185</td>\n",
       "      <td>0.000000</td>\n",
       "    </tr>\n",
       "    <tr>\n",
       "      <th>1</th>\n",
       "      <td>0.00000</td>\n",
       "      <td>0.004738</td>\n",
       "      <td>0.080903</td>\n",
       "      <td>0.0000</td>\n",
       "      <td>0.00000</td>\n",
       "      <td>0.00000</td>\n",
       "      <td>0.00000</td>\n",
       "      <td>0.00000</td>\n",
       "      <td>0.004738</td>\n",
       "      <td>0.00000</td>\n",
       "      <td>...</td>\n",
       "      <td>0.004738</td>\n",
       "      <td>0.0000</td>\n",
       "      <td>0.00000</td>\n",
       "      <td>0.016855</td>\n",
       "      <td>0.00000</td>\n",
       "      <td>0.009476</td>\n",
       "      <td>0.004738</td>\n",
       "      <td>0.004738</td>\n",
       "      <td>0.00000</td>\n",
       "      <td>0.004738</td>\n",
       "    </tr>\n",
       "  </tbody>\n",
       "</table>\n",
       "<p>2 rows × 1507 columns</p>\n",
       "</div>"
      ],
      "text/plain": [
       "     104th       143        2d   302(a  302(a)(1       3d    603(a    603(h  \\\n",
       "0  0.00395  0.000000  0.067452  0.0079   0.01975  0.01185  0.00395  0.00395   \n",
       "1  0.00000  0.004738  0.080903  0.0000   0.00000  0.00000  0.00000  0.00000   \n",
       "\n",
       "      609(a  652(a)(1  ...   writing       x       x.      year    years  \\\n",
       "0  0.000000   0.00395  ...  0.000000  0.0237  0.00395  0.036536  0.01185   \n",
       "1  0.004738   0.00000  ...  0.004738  0.0000  0.00000  0.016855  0.00000   \n",
       "\n",
       "      young     youth      zant        §   éxclude  \n",
       "0  0.000000  0.000000  0.000000  0.01185  0.000000  \n",
       "1  0.009476  0.004738  0.004738  0.00000  0.004738  \n",
       "\n",
       "[2 rows x 1507 columns]"
      ]
     },
     "execution_count": 5,
     "metadata": {},
     "output_type": "execute_result"
    }
   ],
   "source": [
    "loaded_vectors, loaded_vec = TokenTfidfVectorizer.load_vectors_vectorizer()\n",
    "X = pd.DataFrame(loaded_vectors.toarray(), columns=loaded_vec.get_feature_names())\n",
    "X.head()"
   ]
  }
 ],
 "metadata": {
  "interpreter": {
   "hash": "916dbcbb3f70747c44a77c7bcd40155683ae19c65e1c03b4aa3499c5328201f1"
  },
  "kernelspec": {
   "display_name": "Python 3",
   "language": "python",
   "name": "python3"
  },
  "language_info": {
   "codemirror_mode": {
    "name": "ipython",
    "version": 3
   },
   "file_extension": ".py",
   "mimetype": "text/x-python",
   "name": "python",
   "nbconvert_exporter": "python",
   "pygments_lexer": "ipython3",
   "version": "3.8.10"
  }
 },
 "nbformat": 4,
 "nbformat_minor": 5
}
