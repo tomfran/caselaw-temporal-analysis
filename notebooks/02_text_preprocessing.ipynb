{
 "cells": [
  {
   "cell_type": "markdown",
   "id": "worldwide-reader",
   "metadata": {},
   "source": [
    "# Text tokenization and vectorization"
   ]
  },
  {
   "cell_type": "code",
   "execution_count": 1,
   "id": "dental-decrease",
   "metadata": {},
   "outputs": [],
   "source": [
    "import sys\n",
    "sys.path.append(\"..\")\n",
    "\n",
    "import pandas as pd\n",
    "import numpy as np\n",
    "\n",
    "from src.tokenizers import DocumentTokenizer\n",
    "from src.vectorizers import DocumentVectorizer\n",
    "from src.dataset import Dataset"
   ]
  },
  {
   "cell_type": "markdown",
   "id": "latin-rubber",
   "metadata": {},
   "source": [
    "## Load processed dataset"
   ]
  },
  {
   "cell_type": "code",
   "execution_count": 2,
   "id": "imported-mining",
   "metadata": {},
   "outputs": [],
   "source": [
    "dataset = Dataset(dataset_path=\"../data/raw/data.jsonl\", save_path=\"../data/processed/processed.jsonl\")\n",
    "data = dataset.load_json()"
   ]
  },
  {
   "cell_type": "markdown",
   "id": "republican-reliance",
   "metadata": {},
   "source": [
    "## Create list of texts to tokenize"
   ]
  },
  {
   "cell_type": "code",
   "execution_count": 3,
   "id": "upper-malaysia",
   "metadata": {},
   "outputs": [],
   "source": [
    "texts_list = [document[\"opinions\"][i][\"text\"] for document in data for i in range(len(document[\"opinions\"]))]"
   ]
  },
  {
   "cell_type": "markdown",
   "id": "legal-gibraltar",
   "metadata": {},
   "source": [
    "## Vectorize text list with Spacy tokenizer\n",
    "\n",
    "We then save the vectors and vectorizer to disk"
   ]
  },
  {
   "cell_type": "code",
   "execution_count": 4,
   "id": "invalid-cardiff",
   "metadata": {},
   "outputs": [
    {
     "data": {
      "text/plain": [
       "2168"
      ]
     },
     "execution_count": 4,
     "metadata": {},
     "output_type": "execute_result"
    }
   ],
   "source": [
    "max_n = 100\n",
    "\n",
    "dv = DocumentVectorizer(texts_list[:max_n], DocumentTokenizer(), min_max_df=(0.05, 0.95))\n",
    "vectors = dv.vectors()\n",
    "len(dv.vectorizer.vocabulary_)"
   ]
  },
  {
   "cell_type": "code",
   "execution_count": 5,
   "id": "3e1db096-a8cf-49c2-aa2b-92ba27d85bc0",
   "metadata": {},
   "outputs": [],
   "source": [
    "dv.save_vectors_vectorizer(vectors)"
   ]
  },
  {
   "cell_type": "markdown",
   "id": "scientific-breach",
   "metadata": {},
   "source": [
    "## Load data from npy and pickle files"
   ]
  },
  {
   "cell_type": "code",
   "execution_count": 6,
   "id": "color-cheat",
   "metadata": {},
   "outputs": [],
   "source": [
    "loaded_vectors, loaded_vec = DocumentVectorizer.load_vectors_vectorizer()"
   ]
  },
  {
   "cell_type": "code",
   "execution_count": 7,
   "id": "divine-insurance",
   "metadata": {},
   "outputs": [],
   "source": [
    "X = pd.DataFrame(loaded_vectors.toarray(), columns=loaded_vec.get_feature_names())"
   ]
  },
  {
   "cell_type": "code",
   "execution_count": 8,
   "id": "august-acrylic",
   "metadata": {},
   "outputs": [
    {
     "data": {
      "text/html": [
       "<div>\n",
       "<style scoped>\n",
       "    .dataframe tbody tr th:only-of-type {\n",
       "        vertical-align: middle;\n",
       "    }\n",
       "\n",
       "    .dataframe tbody tr th {\n",
       "        vertical-align: top;\n",
       "    }\n",
       "\n",
       "    .dataframe thead th {\n",
       "        text-align: right;\n",
       "    }\n",
       "</style>\n",
       "<table border=\"1\" class=\"dataframe\">\n",
       "  <thead>\n",
       "    <tr style=\"text-align: right;\">\n",
       "      <th></th>\n",
       "      <th>%</th>\n",
       "      <th>-</th>\n",
       "      <th>1005(c</th>\n",
       "      <th>104</th>\n",
       "      <th>143</th>\n",
       "      <th>2d</th>\n",
       "      <th>3d</th>\n",
       "      <th>4th</th>\n",
       "      <th>5th</th>\n",
       "      <th>6th</th>\n",
       "      <th>...</th>\n",
       "      <th>xiv</th>\n",
       "      <th>year</th>\n",
       "      <th>yet</th>\n",
       "      <th>york</th>\n",
       "      <th>young</th>\n",
       "      <th>zwick</th>\n",
       "      <th>§</th>\n",
       "      <th>’</th>\n",
       "      <th>’s</th>\n",
       "      <th>„</th>\n",
       "    </tr>\n",
       "  </thead>\n",
       "  <tbody>\n",
       "    <tr>\n",
       "      <th>0</th>\n",
       "      <td>0.029970</td>\n",
       "      <td>0.059772</td>\n",
       "      <td>0.0</td>\n",
       "      <td>0.029363</td>\n",
       "      <td>0.000000</td>\n",
       "      <td>0.030998</td>\n",
       "      <td>0.005983</td>\n",
       "      <td>0.0</td>\n",
       "      <td>0.0</td>\n",
       "      <td>0.006569</td>\n",
       "      <td>...</td>\n",
       "      <td>0.000000</td>\n",
       "      <td>0.040034</td>\n",
       "      <td>0.000000</td>\n",
       "      <td>0.0</td>\n",
       "      <td>0.000000</td>\n",
       "      <td>0.0</td>\n",
       "      <td>0.112905</td>\n",
       "      <td>0.010685</td>\n",
       "      <td>0.012584</td>\n",
       "      <td>0.0</td>\n",
       "    </tr>\n",
       "    <tr>\n",
       "      <th>1</th>\n",
       "      <td>0.026065</td>\n",
       "      <td>0.000000</td>\n",
       "      <td>0.0</td>\n",
       "      <td>0.000000</td>\n",
       "      <td>0.000000</td>\n",
       "      <td>0.066606</td>\n",
       "      <td>0.000000</td>\n",
       "      <td>0.0</td>\n",
       "      <td>0.0</td>\n",
       "      <td>0.000000</td>\n",
       "      <td>...</td>\n",
       "      <td>0.000000</td>\n",
       "      <td>0.000000</td>\n",
       "      <td>0.024943</td>\n",
       "      <td>0.0</td>\n",
       "      <td>0.000000</td>\n",
       "      <td>0.0</td>\n",
       "      <td>0.000000</td>\n",
       "      <td>0.000000</td>\n",
       "      <td>0.000000</td>\n",
       "      <td>0.0</td>\n",
       "    </tr>\n",
       "    <tr>\n",
       "      <th>2</th>\n",
       "      <td>0.000000</td>\n",
       "      <td>0.004384</td>\n",
       "      <td>0.0</td>\n",
       "      <td>0.016369</td>\n",
       "      <td>0.016369</td>\n",
       "      <td>0.053366</td>\n",
       "      <td>0.000000</td>\n",
       "      <td>0.0</td>\n",
       "      <td>0.0</td>\n",
       "      <td>0.000000</td>\n",
       "      <td>...</td>\n",
       "      <td>0.000000</td>\n",
       "      <td>0.017435</td>\n",
       "      <td>0.000000</td>\n",
       "      <td>0.0</td>\n",
       "      <td>0.014253</td>\n",
       "      <td>0.0</td>\n",
       "      <td>0.000000</td>\n",
       "      <td>0.011168</td>\n",
       "      <td>0.026307</td>\n",
       "      <td>0.0</td>\n",
       "    </tr>\n",
       "    <tr>\n",
       "      <th>3</th>\n",
       "      <td>0.000000</td>\n",
       "      <td>0.000000</td>\n",
       "      <td>0.0</td>\n",
       "      <td>0.000000</td>\n",
       "      <td>0.000000</td>\n",
       "      <td>0.027663</td>\n",
       "      <td>0.000000</td>\n",
       "      <td>0.0</td>\n",
       "      <td>0.0</td>\n",
       "      <td>0.000000</td>\n",
       "      <td>...</td>\n",
       "      <td>0.099661</td>\n",
       "      <td>0.000000</td>\n",
       "      <td>0.000000</td>\n",
       "      <td>0.0</td>\n",
       "      <td>0.000000</td>\n",
       "      <td>0.0</td>\n",
       "      <td>0.000000</td>\n",
       "      <td>0.000000</td>\n",
       "      <td>0.000000</td>\n",
       "      <td>0.0</td>\n",
       "    </tr>\n",
       "    <tr>\n",
       "      <th>4</th>\n",
       "      <td>0.000000</td>\n",
       "      <td>0.023269</td>\n",
       "      <td>0.0</td>\n",
       "      <td>0.048263</td>\n",
       "      <td>0.000000</td>\n",
       "      <td>0.101901</td>\n",
       "      <td>0.024586</td>\n",
       "      <td>0.0</td>\n",
       "      <td>0.0</td>\n",
       "      <td>0.000000</td>\n",
       "      <td>...</td>\n",
       "      <td>0.000000</td>\n",
       "      <td>0.018507</td>\n",
       "      <td>0.000000</td>\n",
       "      <td>0.0</td>\n",
       "      <td>0.008405</td>\n",
       "      <td>0.0</td>\n",
       "      <td>0.000000</td>\n",
       "      <td>0.015367</td>\n",
       "      <td>0.025855</td>\n",
       "      <td>0.0</td>\n",
       "    </tr>\n",
       "  </tbody>\n",
       "</table>\n",
       "<p>5 rows × 2168 columns</p>\n",
       "</div>"
      ],
      "text/plain": [
       "          %         -  1005(c       104       143        2d        3d  4th  \\\n",
       "0  0.029970  0.059772     0.0  0.029363  0.000000  0.030998  0.005983  0.0   \n",
       "1  0.026065  0.000000     0.0  0.000000  0.000000  0.066606  0.000000  0.0   \n",
       "2  0.000000  0.004384     0.0  0.016369  0.016369  0.053366  0.000000  0.0   \n",
       "3  0.000000  0.000000     0.0  0.000000  0.000000  0.027663  0.000000  0.0   \n",
       "4  0.000000  0.023269     0.0  0.048263  0.000000  0.101901  0.024586  0.0   \n",
       "\n",
       "   5th       6th  ...       xiv      year       yet  york     young  zwick  \\\n",
       "0  0.0  0.006569  ...  0.000000  0.040034  0.000000   0.0  0.000000    0.0   \n",
       "1  0.0  0.000000  ...  0.000000  0.000000  0.024943   0.0  0.000000    0.0   \n",
       "2  0.0  0.000000  ...  0.000000  0.017435  0.000000   0.0  0.014253    0.0   \n",
       "3  0.0  0.000000  ...  0.099661  0.000000  0.000000   0.0  0.000000    0.0   \n",
       "4  0.0  0.000000  ...  0.000000  0.018507  0.000000   0.0  0.008405    0.0   \n",
       "\n",
       "          §         ’        ’s    „  \n",
       "0  0.112905  0.010685  0.012584  0.0  \n",
       "1  0.000000  0.000000  0.000000  0.0  \n",
       "2  0.000000  0.011168  0.026307  0.0  \n",
       "3  0.000000  0.000000  0.000000  0.0  \n",
       "4  0.000000  0.015367  0.025855  0.0  \n",
       "\n",
       "[5 rows x 2168 columns]"
      ]
     },
     "execution_count": 8,
     "metadata": {},
     "output_type": "execute_result"
    }
   ],
   "source": [
    "X.head()"
   ]
  }
 ],
 "metadata": {
  "interpreter": {
   "hash": "916dbcbb3f70747c44a77c7bcd40155683ae19c65e1c03b4aa3499c5328201f1"
  },
  "kernelspec": {
   "display_name": "Python 3",
   "language": "python",
   "name": "python3"
  },
  "language_info": {
   "codemirror_mode": {
    "name": "ipython",
    "version": 3
   },
   "file_extension": ".py",
   "mimetype": "text/x-python",
   "name": "python",
   "nbconvert_exporter": "python",
   "pygments_lexer": "ipython3",
   "version": "3.8.10"
  }
 },
 "nbformat": 4,
 "nbformat_minor": 5
}
