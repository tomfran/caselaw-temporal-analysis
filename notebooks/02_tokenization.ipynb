{
 "cells": [
  {
   "cell_type": "markdown",
   "id": "worldwide-reader",
   "metadata": {},
   "source": [
    "# Text tokenization and vectorization\n",
    "We use Spacy to tokenize documents in batch, exploiting the pipe method. We then save the tokens to disk to avoid recomputing, lastly, we use a tfidf vectorizer to compute document vectors, and, as before, we save the results to disk."
   ]
  },
  {
   "cell_type": "code",
   "execution_count": 1,
   "id": "dental-decrease",
   "metadata": {},
   "outputs": [],
   "source": [
    "import sys\n",
    "sys.path.append(\"..\")\n",
    "\n",
    "import pandas as pd\n",
    "import numpy as np\n",
    "\n",
    "from src.dataset import Dataset\n",
    "from src.tokenizers import BatchTokenizer"
   ]
  },
  {
   "cell_type": "markdown",
   "id": "latin-rubber",
   "metadata": {},
   "source": [
    "### Loading the dataset\n",
    "The dataset is loaded in a list of documents, we do not need all the information about them right now."
   ]
  },
  {
   "cell_type": "code",
   "execution_count": null,
   "id": "imported-mining",
   "metadata": {},
   "outputs": [],
   "source": [
    "# number of documents to load, -1 means all of them\n",
    "n_documents = -1\n",
    "\n",
    "name = \"processed\" #10seconds to load, contains approx. 19k documents\n",
    "\n",
    "dataset = Dataset(dataset_path=\"../data/raw/data.jsonl\", save_path=f\"../data/processed/{name}.json\")\n",
    "texts_list = dataset.load_text_list(size=n_documents)"
   ]
  },
  {
   "cell_type": "markdown",
   "id": "547ffe68",
   "metadata": {},
   "source": [
    "## Tokenize in batch\n",
    "The tokenizer processes the documents in a parallel fashion, \n",
    "the result is a token list for each document, we save those to disk and later load them. \n",
    "This cell is runned on Google Colab as it's really intensive."
   ]
  },
  {
   "cell_type": "code",
   "execution_count": 2,
   "id": "959e7013",
   "metadata": {},
   "outputs": [],
   "source": [
    "bt = BatchTokenizer()\n",
    "\n",
    "interval = 1000\n",
    "for i in range(0, len(texts_list), interval):  \n",
    "    \n",
    "    print(f\"\\nProcessing documents from {i} to {i + min((interval), len(texts_list)-i)}\")\n",
    "    \n",
    "    tokens = bt.tokenize(texts_list[i : i + min(interval, len(texts_list)-i)])\n",
    "    bt.save_tokens(tokens, \n",
    "                   tokens_save_path=f\"../data/processed/tokens/tokens_{i}-{i+interval}.json\")"
   ]
  },
  {
   "cell_type": "code",
   "execution_count": 19,
   "id": "3f770909",
   "metadata": {},
   "outputs": [],
   "source": [
    "BatchTokenizer.merge_tokens() #merge of single token files, runend once"
   ]
  },
  {
   "cell_type": "markdown",
   "id": "legal-gibraltar",
   "metadata": {},
   "source": [
    "## TfIdf vectorization\n",
    "\n",
    "We now use TfIdf vectorizer on the obtained tokens."
   ]
  },
  {
   "cell_type": "code",
   "execution_count": 11,
   "id": "invalid-cardiff",
   "metadata": {},
   "outputs": [
    {
     "name": "stdout",
     "output_type": "stream",
     "text": [
      "Vocabulary length: 219250\n"
     ]
    }
   ],
   "source": [
    "dv = TokenTfidfVectorizer(tokens)\n",
    "\n",
    "vectors = dv.vectors()\n",
    "dv.save_vectors_vectorizer(vectors)\n",
    "\n",
    "print(f\"Vocabulary length: {len(dv.vectorizer.vocabulary_)}\")"
   ]
  },
  {
   "cell_type": "code",
   "execution_count": 13,
   "id": "color-cheat",
   "metadata": {},
   "outputs": [],
   "source": [
    "loaded_vectors, loaded_vec = TokenTfidfVectorizer.load_vectors_vectorizer()"
   ]
  },
  {
   "cell_type": "code",
   "execution_count": 18,
   "id": "29982498",
   "metadata": {},
   "outputs": [
    {
     "name": "stdout",
     "output_type": "stream",
     "text": [
      "  (0, 82039)\t0.0037695325196483685\n",
      "  (0, 195381)\t0.006203894177435243\n",
      "  (0, 164259)\t0.0029779364521888957\n",
      "  (0, 67135)\t0.004823325955442913\n",
      "  (0, 109067)\t0.005762846891644566\n",
      "  (0, 206607)\t0.017453122251463598\n",
      "  (0, 204172)\t0.007797523784253059\n",
      "  (0, 18660)\t0.002970212717526003\n",
      "  (0, 55008)\t0.0042905188991160335\n",
      "  (0, 218411)\t0.006062187392660119\n",
      "  (0, 73201)\t0.0016162452320801482\n",
      "  (0, 148861)\t0.0028484467099615823\n",
      "  (0, 101074)\t0.003726458166408488\n",
      "  (0, 157691)\t0.0022911045026632842\n",
      "  (0, 165413)\t0.004689255363353887\n",
      "  (0, 167383)\t0.0038350358220870426\n",
      "  (0, 79660)\t0.003189237888898805\n",
      "  (0, 35153)\t0.005554848421869665\n",
      "  (0, 151123)\t0.004888198204107622\n",
      "  (0, 166799)\t0.0033914349315768773\n",
      "  (0, 53991)\t0.007973018618683157\n",
      "  (0, 24190)\t0.0036485483688472584\n",
      "  (0, 142971)\t0.004067931882201199\n",
      "  (0, 100215)\t0.005377195363231539\n",
      "  (0, 75298)\t0.002514982429814531\n",
      "  :\t:\n",
      "  (50999, 25372)\t0.03001682081716593\n",
      "  (50999, 166606)\t0.0420542427795643\n",
      "  (50999, 136686)\t0.011504271206836085\n",
      "  (50999, 108290)\t0.03090397543057477\n",
      "  (50999, 108518)\t0.015053989279642296\n",
      "  (50999, 76312)\t0.01563773598682992\n",
      "  (50999, 27728)\t0.031068673243064955\n",
      "  (50999, 163633)\t0.009075556299387593\n",
      "  (50999, 70858)\t0.010016639050411285\n",
      "  (50999, 161022)\t0.029375247227296716\n",
      "  (50999, 170812)\t0.009659613300919159\n",
      "  (50999, 198668)\t0.018867945948966052\n",
      "  (50999, 214572)\t0.014933331761178607\n",
      "  (50999, 41623)\t0.03438249968311051\n",
      "  (50999, 18850)\t0.02216052603405083\n",
      "  (50999, 144068)\t0.02382924783714557\n",
      "  (50999, 204698)\t0.010002335628063823\n",
      "  (50999, 21985)\t0.015329965782342692\n",
      "  (50999, 188782)\t0.010837035715521913\n",
      "  (50999, 133634)\t0.020958497028277085\n",
      "  (50999, 159256)\t0.013416723079222507\n",
      "  (50999, 99672)\t0.0219369102899615\n",
      "  (50999, 21911)\t0.06826592160646278\n",
      "  (50999, 52885)\t0.012575018173669116\n",
      "  (50999, 144449)\t0.006724165350551266\n"
     ]
    }
   ],
   "source": [
    "print(loaded_vectors)"
   ]
  }
 ],
 "metadata": {
  "interpreter": {
   "hash": "916dbcbb3f70747c44a77c7bcd40155683ae19c65e1c03b4aa3499c5328201f1"
  },
  "kernelspec": {
   "display_name": "Python 3",
   "language": "python",
   "name": "python3"
  },
  "language_info": {
   "codemirror_mode": {
    "name": "ipython",
    "version": 3
   },
   "file_extension": ".py",
   "mimetype": "text/x-python",
   "name": "python",
   "nbconvert_exporter": "python",
   "pygments_lexer": "ipython3",
   "version": "3.9.1"
  }
 },
 "nbformat": 4,
 "nbformat_minor": 5
}
