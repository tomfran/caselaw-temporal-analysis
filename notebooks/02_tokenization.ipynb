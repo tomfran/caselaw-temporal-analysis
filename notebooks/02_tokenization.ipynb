{
 "cells": [
  {
   "cell_type": "markdown",
   "id": "worldwide-reader",
   "metadata": {},
   "source": [
    "# Text tokenization and vectorization\n",
    "We use Spacy to tokenize documents in batch, exploiting the pipe method. We then save the tokens to disk to avoid recomputing, lastly, we use a tfidf vectorizer to compute document vectors, and, as before, we save the results to disk."
   ]
  },
  {
   "cell_type": "code",
   "execution_count": 1,
   "id": "dental-decrease",
   "metadata": {},
   "outputs": [],
   "source": [
    "import sys\n",
    "sys.path.append(\"..\")\n",
    "\n",
    "import pandas as pd\n",
    "import numpy as np\n",
    "\n",
    "from src.dataset import Dataset\n",
    "from src.tokenizers import BatchTokenizer"
   ]
  },
  {
   "cell_type": "markdown",
   "id": "latin-rubber",
   "metadata": {},
   "source": [
    "### Loading the dataset\n",
    "The dataset is loaded in a list of documents, we do not need all the information about them right now."
   ]
  },
  {
   "cell_type": "code",
   "execution_count": 3,
   "id": "imported-mining",
   "metadata": {},
   "outputs": [],
   "source": [
    "# number of documents to load, -1 means all of them\n",
    "n_documents = -1\n",
    "\n",
    "name = \"processed\" #10seconds to load, contains approx. 19k documents\n",
    "\n",
    "dataset = Dataset(dataset_path=\"../data/raw/data.jsonl\", save_path=f\"../data/processed/{name}.json\")"
   ]
  },
  {
   "cell_type": "code",
   "execution_count": 5,
   "id": "9dd1f9e5",
   "metadata": {},
   "outputs": [
    {
     "data": {
      "text/plain": [
       "194366"
      ]
     },
     "execution_count": 5,
     "metadata": {},
     "output_type": "execute_result"
    }
   ],
   "source": [
    "texts_list = dataset.load_text_list(size=n_documents)"
   ]
  },
  {
   "cell_type": "markdown",
   "id": "547ffe68",
   "metadata": {},
   "source": [
    "## Tokenize in batch\n",
    "The tokenizer processes the documents in a parallel fashion, \n",
    "the result is a token list for each document, we save those to disk and later load them. \n",
    "This cell is runned on Google Colab as it's really intensive."
   ]
  },
  {
   "cell_type": "code",
   "execution_count": 2,
   "id": "959e7013",
   "metadata": {},
   "outputs": [],
   "source": [
    "bt = BatchTokenizer()\n",
    "\n",
    "interval = 1000\n",
    "for i in range(0, len(texts_list), interval):  \n",
    "    \n",
    "    print(f\"\\nProcessing documents from {i} to {i + min((interval), len(texts_list)-i)}\")\n",
    "    \n",
    "    tokens = bt.tokenize(texts_list[i : i + min(interval, len(texts_list)-i)])\n",
    "    BatchTokenizer.save_tokens(tokens, \n",
    "                   tokens_save_path=f\"../data/processed/tokens/tokens_{i}-{i+interval}.json\")"
   ]
  },
  {
   "cell_type": "code",
   "execution_count": 2,
   "id": "3f770909",
   "metadata": {},
   "outputs": [],
   "source": [
    "BatchTokenizer.merge_tokens() #merge of single token files"
   ]
  },
  {
   "cell_type": "markdown",
   "id": "cd666b49",
   "metadata": {},
   "source": [
    "### Saving a new dataset with tokenized text"
   ]
  },
  {
   "cell_type": "code",
   "execution_count": 4,
   "id": "7b3c6ca3",
   "metadata": {},
   "outputs": [],
   "source": [
    "# dataset.save_token_dataset()\n",
    "dataset.save_token_dataset(tokens_path=\"../data/processed/filtered_tokens.json\")"
   ]
  }
 ],
 "metadata": {
  "interpreter": {
   "hash": "916dbcbb3f70747c44a77c7bcd40155683ae19c65e1c03b4aa3499c5328201f1"
  },
  "kernelspec": {
   "display_name": "Python 3",
   "language": "python",
   "name": "python3"
  },
  "language_info": {
   "codemirror_mode": {
    "name": "ipython",
    "version": 3
   },
   "file_extension": ".py",
   "mimetype": "text/x-python",
   "name": "python",
   "nbconvert_exporter": "python",
   "pygments_lexer": "ipython3",
   "version": "3.8.10"
  }
 },
 "nbformat": 4,
 "nbformat_minor": 5
}
