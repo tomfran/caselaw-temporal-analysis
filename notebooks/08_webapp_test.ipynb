{
 "cells": [
  {
   "cell_type": "code",
   "execution_count": 1,
   "metadata": {},
   "outputs": [],
   "source": [
    "import sys\n",
    "sys.path.append(\"..\")\n",
    "\n",
    "from src.webapp_utility import Loader\n",
    "\n",
    "import warnings\n",
    "warnings.filterwarnings('ignore')"
   ]
  },
  {
   "cell_type": "code",
   "execution_count": 2,
   "metadata": {},
   "outputs": [
    {
     "name": "stdout",
     "output_type": "stream",
     "text": [
      "Loading full count vectorizers... Done\n",
      "Loading full lda model... Done\n",
      "Loading small lda model... Done\n",
      "Loading word embeddings... Done\n"
     ]
    }
   ],
   "source": [
    "l = Loader()"
   ]
  },
  {
   "cell_type": "markdown",
   "metadata": {},
   "source": [
    "### Word frequency"
   ]
  },
  {
   "cell_type": "code",
   "execution_count": 3,
   "metadata": {},
   "outputs": [
    {
     "data": {
      "text/plain": [
       "[(1880, 0.00010179153094462541),\n",
       " (1900, 0.00031107424305267526),\n",
       " (1920, 0.009089559991095942),\n",
       " (1940, 0.007908371966184892),\n",
       " (1960, 0.04289997921800315),\n",
       " (1980, 0.04598636401896692),\n",
       " (2000, 0.04146687977268691)]"
      ]
     },
     "execution_count": 3,
     "metadata": {},
     "output_type": "execute_result"
    }
   ],
   "source": [
    "l.get_freq_distribution([\"gun\", \"robbery\"], interval=20)"
   ]
  },
  {
   "cell_type": "code",
   "execution_count": 4,
   "metadata": {},
   "outputs": [
    {
     "data": {
      "text/plain": [
       "[(1880, 5.0895765472312706e-05),\n",
       " (1900, 0.0005184570717544588),\n",
       " (1920, 0.00011130073458484825),\n",
       " (1940, 0.00020452686119443688),\n",
       " (1960, 0.003354808063414779),\n",
       " (1980, 0.04609859431553548),\n",
       " (2000, 0.08035872846741254)]"
      ]
     },
     "execution_count": 4,
     "metadata": {},
     "output_type": "execute_result"
    }
   ],
   "source": [
    "l.get_freq_distribution([\"cocaine\"], interval=20)"
   ]
  },
  {
   "cell_type": "markdown",
   "metadata": {},
   "source": [
    "### Embeddings"
   ]
  },
  {
   "cell_type": "code",
   "execution_count": 5,
   "metadata": {},
   "outputs": [
    {
     "data": {
      "text/plain": [
       "[]"
      ]
     },
     "execution_count": 5,
     "metadata": {},
     "output_type": "execute_result"
    }
   ],
   "source": [
    "l.get_n_similar(word=\"gun\", n=3, model_type=\"full\")"
   ]
  },
  {
   "cell_type": "code",
   "execution_count": 6,
   "metadata": {},
   "outputs": [
    {
     "data": {
      "text/plain": [
       "[('knife', 0.8641738891601562),\n",
       " ('handgun', 0.8565400242805481),\n",
       " ('shotgun', 0.8561010956764221)]"
      ]
     },
     "execution_count": 6,
     "metadata": {},
     "output_type": "execute_result"
    }
   ],
   "source": [
    "l.get_n_similar(word=\"gun\", n=3, model_type=\"one\", year=2000)"
   ]
  },
  {
   "cell_type": "code",
   "execution_count": 7,
   "metadata": {},
   "outputs": [
    {
     "data": {
      "text/plain": [
       "[('handgun', 0.8175308704376221),\n",
       " ('pistol', 0.7670313119888306),\n",
       " ('shotgun', 0.7456485033035278)]"
      ]
     },
     "execution_count": 7,
     "metadata": {},
     "output_type": "execute_result"
    }
   ],
   "source": [
    "l.get_n_similar(word=\"gun\", n=3, model_type=\"ten\", year=2000)"
   ]
  },
  {
   "cell_type": "markdown",
   "metadata": {},
   "source": [
    "### Topics"
   ]
  },
  {
   "cell_type": "code",
   "execution_count": 8,
   "metadata": {},
   "outputs": [
    {
     "data": {
      "text/plain": [
       "{0: 0.44,\n",
       " 1: 0.338,\n",
       " 2: 21.027,\n",
       " 3: 48.96,\n",
       " 4: 0.002,\n",
       " 5: 0.015,\n",
       " 6: 0.146,\n",
       " 7: 0.238,\n",
       " 8: 2.236,\n",
       " 9: 0.0,\n",
       " 10: 11.288,\n",
       " 11: 0.058,\n",
       " 12: 0.001,\n",
       " 13: 15.251}"
      ]
     },
     "execution_count": 8,
     "metadata": {},
     "output_type": "execute_result"
    }
   ],
   "source": [
    "l.get_topic_dist([\"gun\"], model=\"small\")"
   ]
  },
  {
   "cell_type": "code",
   "execution_count": 9,
   "metadata": {},
   "outputs": [
    {
     "data": {
      "text/plain": [
       "{0: 43.027,\n",
       " 1: 0.0,\n",
       " 2: 2.257,\n",
       " 3: 0.0,\n",
       " 4: 0.004,\n",
       " 5: 0.0,\n",
       " 6: 0.0,\n",
       " 7: 0.062,\n",
       " 8: 0.009,\n",
       " 9: 0.0,\n",
       " 10: 0.0,\n",
       " 11: 0.001,\n",
       " 12: 0.0,\n",
       " 13: 54.641}"
      ]
     },
     "execution_count": 9,
     "metadata": {},
     "output_type": "execute_result"
    }
   ],
   "source": [
    "l.get_topic_dist([\"gun\", \"cocaine\"], model=\"big\")"
   ]
  },
  {
   "cell_type": "code",
   "execution_count": 10,
   "metadata": {},
   "outputs": [
    {
     "data": {
      "text/plain": [
       "{0: [('testify', 0.25),\n",
       "  ('people', 0.201),\n",
       "  ('testimony', 0.195),\n",
       "  ('jury', 0.179),\n",
       "  ('witness', 0.174)],\n",
       " 1: [('agreement', 0.231),\n",
       "  ('fee', 0.229),\n",
       "  ('award', 0.183),\n",
       "  ('petitioner', 0.18),\n",
       "  ('attorney', 0.177)],\n",
       " 2: [('sentence', 0.26),\n",
       "  ('people', 0.251),\n",
       "  ('counsel', 0.169),\n",
       "  ('offense', 0.162),\n",
       "  ('charge', 0.158)],\n",
       " 3: [('board', 0.298),\n",
       "  ('commission', 0.237),\n",
       "  ('employee', 0.166),\n",
       "  ('claimant', 0.153),\n",
       "  ('decision', 0.146)],\n",
       " 4: [('respondent', 0.417),\n",
       "  ('statement', 0.149),\n",
       "  ('information', 0.148),\n",
       "  ('testify', 0.145),\n",
       "  ('mental', 0.14)],\n",
       " 5: [('plaintiff', 0.582),\n",
       "  ('motion', 0.158),\n",
       "  ('complaint', 0.123),\n",
       "  ('rule', 0.07),\n",
       "  ('dismiss', 0.066)],\n",
       " 6: [('property', 0.279),\n",
       "  ('city', 0.222),\n",
       "  ('plaintiff', 0.207),\n",
       "  ('use', 0.162),\n",
       "  ('lease', 0.13)],\n",
       " 7: [('child', 0.319),\n",
       "  ('section', 0.211),\n",
       "  ('school', 0.193),\n",
       "  ('petition', 0.141),\n",
       "  ('board', 0.137)],\n",
       " 8: [('plaintiff', 0.325),\n",
       "  ('car', 0.207),\n",
       "  ('jury', 0.164),\n",
       "  ('injury', 0.163),\n",
       "  ('negligence', 0.141)],\n",
       " 9: [('bank', 0.242),\n",
       "  ('note', 0.213),\n",
       "  ('trust', 0.192),\n",
       "  ('interest', 0.185),\n",
       "  ('decree', 0.167)],\n",
       " 10: [('plaintiff', 0.293),\n",
       "  ('contract', 0.194),\n",
       "  ('illinois', 0.179),\n",
       "  ('section', 0.173),\n",
       "  ('claim', 0.16)],\n",
       " 11: [('policy', 0.32),\n",
       "  ('insurance', 0.274),\n",
       "  ('death', 0.145),\n",
       "  ('estate', 0.135),\n",
       "  ('insure', 0.127)],\n",
       " 12: [('appellant', 0.323),\n",
       "  ('appellee', 0.251),\n",
       "  ('plaintiff', 0.164),\n",
       "  ('contract', 0.157),\n",
       "  ('company', 0.105)],\n",
       " 13: [('officer', 0.346),\n",
       "  ('police', 0.232),\n",
       "  ('arrest', 0.167),\n",
       "  ('people', 0.134),\n",
       "  ('search', 0.122)]}"
      ]
     },
     "execution_count": 10,
     "metadata": {},
     "output_type": "execute_result"
    }
   ],
   "source": [
    "l.get_topics_words(n=5, model=\"big\")\n",
    "# l.get_topics_words(n=5, model=\"small\")"
   ]
  },
  {
   "cell_type": "markdown",
   "metadata": {},
   "source": [
    "### Semantic"
   ]
  },
  {
   "cell_type": "code",
   "execution_count": 11,
   "metadata": {},
   "outputs": [
    {
     "name": "stdout",
     "output_type": "stream",
     "text": [
      "dict_keys(['one_year', 'ten_year'])\n"
     ]
    },
    {
     "data": {
      "text/plain": [
       "[(2010, 1.0000001),\n",
       " (2009, 0.8796336),\n",
       " (2008, 0.8978367),\n",
       " (2007, 0.8537259),\n",
       " (2006, 0.85475343),\n",
       " (2005, 0.876898),\n",
       " (2004, 0.85835135),\n",
       " (2003, 0.8532532),\n",
       " (2002, 0.840309),\n",
       " (2001, 0.8679109),\n",
       " (2000, 0.8374692),\n",
       " (1999, 0.87141675),\n",
       " (1998, 0.82206774),\n",
       " (1997, 0.8828467),\n",
       " (1996, 0.86231136),\n",
       " (1995, 0.85866725),\n",
       " (1994, 0.76183987),\n",
       " (1993, 0.7433078),\n",
       " (1992, 0.7007297),\n",
       " (1991, 0.73082995),\n",
       " (1990, 0.73975074),\n",
       " (1989, 0.723818),\n",
       " (1988, 0.754594),\n",
       " (1987, 0.794456),\n",
       " (1986, 0.79205376),\n",
       " (1985, 0.7632827),\n",
       " (1984, 0.7869764),\n",
       " (1983, 0.771986),\n",
       " (1982, 0.8190058),\n",
       " (1981, 0.66725534),\n",
       " (1980, 0.6760711),\n",
       " (1979, 0.64977527),\n",
       " (1978, 0.7396335),\n",
       " (1977, 0.6256785),\n",
       " (1976, 0.6934991),\n",
       " (1975, 0.7067392),\n",
       " (1974, 0.5828225),\n",
       " (1973, -1),\n",
       " (1972, -1),\n",
       " (1971, -1),\n",
       " (1970, -1),\n",
       " (1969, -1),\n",
       " (1968, -1),\n",
       " (1967, -1),\n",
       " (1966, -1),\n",
       " (1965, -1),\n",
       " (1964, -1),\n",
       " (1963, -1),\n",
       " (1962, -1),\n",
       " (1961, -1),\n",
       " (1960, -1),\n",
       " (1959, -1),\n",
       " (1958, -1),\n",
       " (1957, -1),\n",
       " (1956, -1),\n",
       " (1955, -1),\n",
       " (1954, -1),\n",
       " (1953, -1),\n",
       " (1952, -1),\n",
       " (1951, -1),\n",
       " (1950, -1),\n",
       " (1949, -1),\n",
       " (1948, -1),\n",
       " (1947, -1),\n",
       " (1946, -1),\n",
       " (1945, -1),\n",
       " (1944, -1),\n",
       " (1943, -1),\n",
       " (1942, -1),\n",
       " (1941, -1),\n",
       " (1940, -1),\n",
       " (1939, -1),\n",
       " (1938, -1),\n",
       " (1937, -1),\n",
       " (1936, -1),\n",
       " (1935, -1),\n",
       " (1934, -1),\n",
       " (1933, -1),\n",
       " (1932, -1),\n",
       " (1931, -1),\n",
       " (1930, -1),\n",
       " (1929, -1),\n",
       " (1928, -1),\n",
       " (1927, -1),\n",
       " (1926, -1),\n",
       " (1925, -1),\n",
       " (1924, -1),\n",
       " (1923, -1),\n",
       " (1922, -1),\n",
       " (1921, -1),\n",
       " (1920, -1),\n",
       " (1919, -1),\n",
       " (1918, -1),\n",
       " (1917, -1),\n",
       " (1916, -1),\n",
       " (1915, -1),\n",
       " (1914, -1),\n",
       " (1913, -1),\n",
       " (1912, -1),\n",
       " (1911, -1),\n",
       " (1910, -1),\n",
       " (1909, -1),\n",
       " (1908, -1),\n",
       " (1907, -1),\n",
       " (1906, -1),\n",
       " (1905, -1),\n",
       " (1904, -1),\n",
       " (1903, -1),\n",
       " (1902, -1),\n",
       " (1901, -1),\n",
       " (1900, -1),\n",
       " (1879, -1),\n",
       " (1878, -1),\n",
       " (1877, -1),\n",
       " (1876, -1),\n",
       " (1875, -1),\n",
       " (1874, -1),\n",
       " (1873, -1),\n",
       " (1872, -1),\n",
       " (1871, -1),\n",
       " (1870, -1),\n",
       " (1869, -1),\n",
       " (1868, -1),\n",
       " (1867, -1),\n",
       " (1866, -1),\n",
       " (1865, -1),\n",
       " (1864, -1),\n",
       " (1863, -1),\n",
       " (1862, -1),\n",
       " (1861, -1),\n",
       " (1860, -1),\n",
       " (1859, -1),\n",
       " (1858, -1),\n",
       " (1857, -1),\n",
       " (1856, -1),\n",
       " (1855, -1),\n",
       " (1854, -1),\n",
       " (1853, -1),\n",
       " (1852, -1),\n",
       " (1851, -1),\n",
       " (1850, -1),\n",
       " (1849, -1),\n",
       " (1848, -1),\n",
       " (1847, -1),\n",
       " (1846, -1),\n",
       " (1845, -1),\n",
       " (1844, -1),\n",
       " (1843, -1),\n",
       " (1842, -1),\n",
       " (1841, -1),\n",
       " (1840, -1),\n",
       " (1839, -1),\n",
       " (1838, -1),\n",
       " (1837, -1),\n",
       " (1836, -1),\n",
       " (1835, -1),\n",
       " (1834, -1),\n",
       " (1833, -1),\n",
       " (1832, -1),\n",
       " (1831, -1),\n",
       " (1830, -1),\n",
       " (1829, -1),\n",
       " (1828, -1),\n",
       " (1827, -1),\n",
       " (1826, -1),\n",
       " (1825, -1),\n",
       " (1824, -1),\n",
       " (1823, -1),\n",
       " (1822, -1),\n",
       " (1820, -1),\n",
       " (1819, -1),\n",
       " (1771, -1)]"
      ]
     },
     "execution_count": 11,
     "metadata": {},
     "output_type": "execute_result"
    }
   ],
   "source": [
    "c = l.get_semantic_data(\"cocaine\", base_year=2010)\n",
    "print(c.keys())\n",
    "c[\"one_year\"]"
   ]
  }
 ],
 "metadata": {
  "interpreter": {
   "hash": "916dbcbb3f70747c44a77c7bcd40155683ae19c65e1c03b4aa3499c5328201f1"
  },
  "kernelspec": {
   "display_name": "Python 3.8.10 64-bit",
   "name": "python3"
  },
  "language_info": {
   "codemirror_mode": {
    "name": "ipython",
    "version": 3
   },
   "file_extension": ".py",
   "mimetype": "text/x-python",
   "name": "python",
   "nbconvert_exporter": "python",
   "pygments_lexer": "ipython3",
   "version": "3.8.10"
  },
  "orig_nbformat": 4
 },
 "nbformat": 4,
 "nbformat_minor": 2
}
