{
 "cells": [
  {
   "cell_type": "code",
   "execution_count": 1,
   "metadata": {},
   "outputs": [],
   "source": [
    "import sys\n",
    "sys.path.append(\"..\")\n",
    "\n",
    "from src.webapp_utility import Loader\n",
    "\n",
    "import warnings\n",
    "warnings.filterwarnings('ignore')"
   ]
  },
  {
   "cell_type": "code",
   "execution_count": 2,
   "metadata": {},
   "outputs": [
    {
     "name": "stdout",
     "output_type": "stream",
     "text": [
      "Loading full count vectorizers... Done\n",
      "Loading full lda model... Done\n",
      "Loading small lda model... Done\n",
      "Loading word embeddings... Done\n"
     ]
    }
   ],
   "source": [
    "l = Loader()"
   ]
  },
  {
   "cell_type": "markdown",
   "metadata": {},
   "source": [
    "### Word frequency"
   ]
  },
  {
   "cell_type": "code",
   "execution_count": 3,
   "metadata": {},
   "outputs": [
    {
     "data": {
      "text/plain": [
       "[(1880, 0.00013719303059404582),\n",
       " (1890, 8.091269520187717e-05),\n",
       " (1900, 0.00022119000221190003),\n",
       " (1910, 0.00039039625219597894),\n",
       " (1920, 0.007709251101321586),\n",
       " (1930, 0.010703363914373088),\n",
       " (1940, 0.006501472031403337),\n",
       " (1950, 0.009668508287292817),\n",
       " (1960, 0.02900030634126417),\n",
       " (1970, 0.04859773964001674),\n",
       " (1980, 0.04818485185559713),\n",
       " (1990, 0.043245287776587024),\n",
       " (2000, 0.040356083086053415),\n",
       " (2010, 0.051215277777777776)]"
      ]
     },
     "execution_count": 3,
     "metadata": {},
     "output_type": "execute_result"
    }
   ],
   "source": [
    "l.get_freq_distribution([\"gun\", \"robbery\"], interval=10)"
   ]
  },
  {
   "cell_type": "code",
   "execution_count": 4,
   "metadata": {},
   "outputs": [
    {
     "data": {
      "text/plain": [
       "[(1880, 5.0895765472312706e-05),\n",
       " (1900, 0.0005184570717544588),\n",
       " (1920, 0.00011130073458484825),\n",
       " (1940, 0.00020452686119443688),\n",
       " (1960, 0.003354808063414779),\n",
       " (1980, 0.04609859431553548),\n",
       " (2000, 0.08035872846741254)]"
      ]
     },
     "execution_count": 4,
     "metadata": {},
     "output_type": "execute_result"
    }
   ],
   "source": [
    "l.get_freq_distribution([\"cocaine\"], interval=20)"
   ]
  },
  {
   "cell_type": "markdown",
   "metadata": {},
   "source": [
    "### Embeddings"
   ]
  },
  {
   "cell_type": "code",
   "execution_count": 5,
   "metadata": {},
   "outputs": [
    {
     "data": {
      "text/plain": [
       "[]"
      ]
     },
     "execution_count": 5,
     "metadata": {},
     "output_type": "execute_result"
    }
   ],
   "source": [
    "l.get_n_similar(word=\"gun\", n=3, model_type=\"full\")"
   ]
  },
  {
   "cell_type": "code",
   "execution_count": 6,
   "metadata": {},
   "outputs": [
    {
     "data": {
      "text/plain": [
       "[('knife', 0.864173948764801),\n",
       " ('handgun', 0.8565400838851929),\n",
       " ('shotgun', 0.8561012744903564)]"
      ]
     },
     "execution_count": 6,
     "metadata": {},
     "output_type": "execute_result"
    }
   ],
   "source": [
    "l.get_n_similar(word=\"gun\", n=3, model_type=\"one\", year=2000)"
   ]
  },
  {
   "cell_type": "code",
   "execution_count": 7,
   "metadata": {},
   "outputs": [
    {
     "data": {
      "text/plain": [
       "[('heroin', 0.7575335502624512),\n",
       " ('handgun', 0.7442543506622314),\n",
       " ('marijuana', 0.7139708399772644)]"
      ]
     },
     "execution_count": 7,
     "metadata": {},
     "output_type": "execute_result"
    }
   ],
   "source": [
    "l.get_n_similar(word=[\"gun\", \"cocaine\"], n=3, model_type=\"ten\", year=2000)"
   ]
  },
  {
   "cell_type": "markdown",
   "metadata": {},
   "source": [
    "### Topics"
   ]
  },
  {
   "cell_type": "code",
   "execution_count": 8,
   "metadata": {},
   "outputs": [
    {
     "data": {
      "text/plain": [
       "{0: 0.44,\n",
       " 1: 0.338,\n",
       " 2: 21.027,\n",
       " 3: 48.96,\n",
       " 4: 0.002,\n",
       " 5: 0.015,\n",
       " 6: 0.146,\n",
       " 7: 0.238,\n",
       " 8: 2.236,\n",
       " 9: 0.0,\n",
       " 10: 11.288,\n",
       " 11: 0.058,\n",
       " 12: 0.001,\n",
       " 13: 15.251}"
      ]
     },
     "execution_count": 8,
     "metadata": {},
     "output_type": "execute_result"
    }
   ],
   "source": [
    "l.get_topic_dist([\"gun\"], model=\"small\")"
   ]
  },
  {
   "cell_type": "code",
   "execution_count": 9,
   "metadata": {},
   "outputs": [
    {
     "data": {
      "text/plain": [
       "{0: 43.027,\n",
       " 1: 0.0,\n",
       " 2: 2.257,\n",
       " 3: 0.0,\n",
       " 4: 0.004,\n",
       " 5: 0.0,\n",
       " 6: 0.0,\n",
       " 7: 0.062,\n",
       " 8: 0.009,\n",
       " 9: 0.0,\n",
       " 10: 0.0,\n",
       " 11: 0.001,\n",
       " 12: 0.0,\n",
       " 13: 54.641}"
      ]
     },
     "execution_count": 9,
     "metadata": {},
     "output_type": "execute_result"
    }
   ],
   "source": [
    "l.get_topic_dist([\"gun\", \"cocaine\"], model=\"big\")"
   ]
  },
  {
   "cell_type": "code",
   "execution_count": 10,
   "metadata": {},
   "outputs": [
    {
     "data": {
      "text/plain": [
       "{0: [('testify', 0.25),\n",
       "  ('people', 0.201),\n",
       "  ('testimony', 0.195),\n",
       "  ('jury', 0.179),\n",
       "  ('witness', 0.174)],\n",
       " 1: [('agreement', 0.231),\n",
       "  ('fee', 0.229),\n",
       "  ('award', 0.183),\n",
       "  ('petitioner', 0.18),\n",
       "  ('attorney', 0.177)],\n",
       " 2: [('sentence', 0.26),\n",
       "  ('people', 0.251),\n",
       "  ('counsel', 0.169),\n",
       "  ('offense', 0.162),\n",
       "  ('charge', 0.158)],\n",
       " 3: [('board', 0.298),\n",
       "  ('commission', 0.237),\n",
       "  ('employee', 0.166),\n",
       "  ('claimant', 0.153),\n",
       "  ('decision', 0.146)],\n",
       " 4: [('respondent', 0.417),\n",
       "  ('statement', 0.149),\n",
       "  ('information', 0.148),\n",
       "  ('testify', 0.145),\n",
       "  ('mental', 0.14)],\n",
       " 5: [('plaintiff', 0.582),\n",
       "  ('motion', 0.158),\n",
       "  ('complaint', 0.123),\n",
       "  ('rule', 0.07),\n",
       "  ('dismiss', 0.066)],\n",
       " 6: [('property', 0.279),\n",
       "  ('city', 0.222),\n",
       "  ('plaintiff', 0.207),\n",
       "  ('use', 0.162),\n",
       "  ('lease', 0.13)],\n",
       " 7: [('child', 0.319),\n",
       "  ('section', 0.211),\n",
       "  ('school', 0.193),\n",
       "  ('petition', 0.141),\n",
       "  ('board', 0.137)],\n",
       " 8: [('plaintiff', 0.325),\n",
       "  ('car', 0.207),\n",
       "  ('jury', 0.164),\n",
       "  ('injury', 0.163),\n",
       "  ('negligence', 0.141)],\n",
       " 9: [('bank', 0.242),\n",
       "  ('note', 0.213),\n",
       "  ('trust', 0.192),\n",
       "  ('interest', 0.185),\n",
       "  ('decree', 0.167)],\n",
       " 10: [('plaintiff', 0.293),\n",
       "  ('contract', 0.194),\n",
       "  ('illinois', 0.179),\n",
       "  ('section', 0.173),\n",
       "  ('claim', 0.16)],\n",
       " 11: [('policy', 0.32),\n",
       "  ('insurance', 0.274),\n",
       "  ('death', 0.145),\n",
       "  ('estate', 0.135),\n",
       "  ('insure', 0.127)],\n",
       " 12: [('appellant', 0.323),\n",
       "  ('appellee', 0.251),\n",
       "  ('plaintiff', 0.164),\n",
       "  ('contract', 0.157),\n",
       "  ('company', 0.105)],\n",
       " 13: [('officer', 0.346),\n",
       "  ('police', 0.232),\n",
       "  ('arrest', 0.167),\n",
       "  ('people', 0.134),\n",
       "  ('search', 0.122)]}"
      ]
     },
     "execution_count": 10,
     "metadata": {},
     "output_type": "execute_result"
    }
   ],
   "source": [
    "l.get_topics_words(n=5, model=\"big\")\n",
    "# l.get_topics_words(n=5, model=\"small\")"
   ]
  },
  {
   "cell_type": "code",
   "execution_count": 11,
   "metadata": {},
   "outputs": [
    {
     "data": {
      "text/plain": [
       "{0: [(1000, 0.3528193624322951), (2000, 0.06795280995258712)],\n",
       " 1: [(1000, 0.025158559559099146), (2000, 0.06789461165121274)],\n",
       " 2: [(1000, 0.03247029784340692), (2000, 0.02467115225371027)],\n",
       " 3: [(1000, 0.022419105060680598), (2000, 0.022858650988143363)],\n",
       " 4: [(1000, 0.022168514640356088), (2000, 0.03222311222043975)],\n",
       " 5: [(1000, 0.05716021612970402), (2000, 0.05177195069471579)],\n",
       " 6: [(1000, 0.020660655459312376), (2000, 0.042424474864058245)],\n",
       " 7: [(1000, 0.0209772143455556), (2000, 0.0276451732400095)],\n",
       " 8: [(1000, 0.01607048448980575), (2000, 0.05572462354388454)],\n",
       " 9: [(1000, 0.0609475009519975), (2000, 0.10401688962944311)],\n",
       " 10: [(1000, 0.027351961910554157), (2000, 0.02562029081495588)],\n",
       " 11: [(1000, 0.17010483978644123), (2000, 0.2054635488029532)],\n",
       " 12: [(1000, 0.12160233183460405), (2000, 0.22675256972239594)],\n",
       " 13: [(1000, 0.050088955556229775), (2000, 0.04498014162149094)]}"
      ]
     },
     "execution_count": 11,
     "metadata": {},
     "output_type": "execute_result"
    }
   ],
   "source": [
    "l.get_topics_date_distribution(interval=1000)\n",
    "l.get_topics_date_distribution(interval=1000, model=\"small\")"
   ]
  },
  {
   "cell_type": "code",
   "execution_count": 12,
   "metadata": {},
   "outputs": [
    {
     "data": {
      "text/plain": [
       "defaultdict(<function src.webapp_utility.Loader.get_topics_court_distribution.<locals>.<lambda>()>,\n",
       "            {0: {'Illinois Appellate Court': 0.6081568446602333,\n",
       "              'Illinois Supreme Court': 0.37141565043372327,\n",
       "              'Illinois Circuit Court': 0.0015491224357829245,\n",
       "              'Illinois Court of Claims': 0.018878382470260545},\n",
       "             1: {'Illinois Appellate Court': 0.8165317777808558,\n",
       "              'Illinois Supreme Court': 0.14553941132770934,\n",
       "              'Illinois Circuit Court': 0.0003085255335940206,\n",
       "              'Illinois Court of Claims': 0.03762028535784075},\n",
       "             2: {'Illinois Appellate Court': 0.7870687432800735,\n",
       "              'Illinois Supreme Court': 0.16347650359906432,\n",
       "              'Illinois Circuit Court': 0.0002312493459421067,\n",
       "              'Illinois Court of Claims': 0.0492235037749201},\n",
       "             3: {'Illinois Appellate Court': 0.8691104498692678,\n",
       "              'Illinois Supreme Court': 0.10326967149864917,\n",
       "              'Illinois Circuit Court': 0.00015775682598105607,\n",
       "              'Illinois Court of Claims': 0.027462121806101886},\n",
       "             4: {'Illinois Appellate Court': 0.8281412583754574,\n",
       "              'Illinois Supreme Court': 0.12433316104791625,\n",
       "              'Illinois Circuit Court': 0.00038437381555615654,\n",
       "              'Illinois Court of Claims': 0.04714120676107001},\n",
       "             5: {'Illinois Appellate Court': 0.7912575522857246,\n",
       "              'Illinois Supreme Court': 0.19092704386876463,\n",
       "              'Illinois Circuit Court': 0.0011679398677161123,\n",
       "              'Illinois Court of Claims': 0.016647463977794534},\n",
       "             6: {'Illinois Appellate Court': 0.818795627224639,\n",
       "              'Illinois Supreme Court': 0.1486102969178279,\n",
       "              'Illinois Circuit Court': 0.00047012529602738387,\n",
       "              'Illinois Court of Claims': 0.032123950561505625},\n",
       "             7: {'Illinois Appellate Court': 0.8207915346341996,\n",
       "              'Illinois Supreme Court': 0.139405486658255,\n",
       "              'Illinois Circuit Court': 0.0008115567429429759,\n",
       "              'Illinois Court of Claims': 0.03899142196460236},\n",
       "             8: {'Illinois Appellate Court': 0.7955279112212553,\n",
       "              'Illinois Supreme Court': 0.16777786237333492,\n",
       "              'Illinois Circuit Court': 0.00020311080228117362,\n",
       "              'Illinois Court of Claims': 0.03649111560312854},\n",
       "             9: {'Illinois Appellate Court': 0.7779682898646434,\n",
       "              'Illinois Supreme Court': 0.15601812725375994,\n",
       "              'Illinois Circuit Court': 0.0002457916957656228,\n",
       "              'Illinois Court of Claims': 0.0657677911858312},\n",
       "             10: {'Illinois Appellate Court': 0.8497492941570168,\n",
       "              'Illinois Supreme Court': 0.1269679021333614,\n",
       "              'Illinois Circuit Court': 0.00038159448130616286,\n",
       "              'Illinois Court of Claims': 0.02290120922831566},\n",
       "             11: {'Illinois Appellate Court': 0.6070142170070383,\n",
       "              'Illinois Supreme Court': 0.24237840007425548,\n",
       "              'Illinois Circuit Court': 0.0008530602369395436,\n",
       "              'Illinois Court of Claims': 0.14975432268176667},\n",
       "             12: {'Illinois Appellate Court': 0.6317999104842709,\n",
       "              'Illinois Supreme Court': 0.33638412856189787,\n",
       "              'Illinois Circuit Court': 0.0019639331020503185,\n",
       "              'Illinois Court of Claims': 0.029852027851780975},\n",
       "             13: {'Illinois Appellate Court': 0.6640729165990144,\n",
       "              'Illinois Supreme Court': 0.22408515686555688,\n",
       "              'Illinois Circuit Court': 0.0005514645862945368,\n",
       "              'Illinois Court of Claims': 0.11129046194913426}})"
      ]
     },
     "execution_count": 12,
     "metadata": {},
     "output_type": "execute_result"
    }
   ],
   "source": [
    "# l.get_topics_court_distribution()\n",
    "l.get_topics_court_distribution(model=\"small\")"
   ]
  },
  {
   "cell_type": "code",
   "execution_count": 13,
   "metadata": {},
   "outputs": [
    {
     "data": {
      "text/plain": [
       "('Arrests, search warrants, possessions', 'Stealing money')"
      ]
     },
     "execution_count": 13,
     "metadata": {},
     "output_type": "execute_result"
    }
   ],
   "source": [
    "l.get_topics_description(topic_id=13, category=\"Generic\"), l.get_topics_description(topic_id=0, category=\"Specific\")"
   ]
  },
  {
   "cell_type": "markdown",
   "metadata": {},
   "source": [
    "### Semantic"
   ]
  },
  {
   "cell_type": "code",
   "execution_count": 14,
   "metadata": {},
   "outputs": [
    {
     "name": "stdout",
     "output_type": "stream",
     "text": [
      "dict_keys(['one_year', 'ten_year'])\n"
     ]
    },
    {
     "data": {
      "text/plain": [
       "[(2010, 1.0000001),\n",
       " (2009, 0.9083813),\n",
       " (2008, 0.9083963),\n",
       " (2007, 0.92149055),\n",
       " (2006, 0.8957152),\n",
       " (2005, 0.9045218),\n",
       " (2004, 0.8714427),\n",
       " (2003, 0.9104932),\n",
       " (2002, 0.8767655),\n",
       " (2001, 0.9080701),\n",
       " (2000, 0.87667155),\n",
       " (1999, 0.88948894),\n",
       " (1998, 0.85342234),\n",
       " (1997, 0.8919486),\n",
       " (1996, 0.8904509),\n",
       " (1995, 0.887175),\n",
       " (1994, 0.79775673),\n",
       " (1993, 0.791379),\n",
       " (1992, 0.7614921),\n",
       " (1991, 0.7577806),\n",
       " (1990, 0.7921307),\n",
       " (1989, 0.7712423),\n",
       " (1988, 0.81206924),\n",
       " (1987, 0.8360513),\n",
       " (1986, 0.83526194),\n",
       " (1985, 0.80426186),\n",
       " (1984, 0.83347446),\n",
       " (1983, 0.84703845),\n",
       " (1982, 0.8641513),\n",
       " (1981, 0.74474627),\n",
       " (1980, 0.7585891),\n",
       " (1979, 0.74970025),\n",
       " (1978, 0.78574604),\n",
       " (1977, 0.71366125),\n",
       " (1976, 0.6624984),\n",
       " (1975, 0.7420784),\n",
       " (1974, 0.6529054),\n",
       " (1973, -1),\n",
       " (1972, -1),\n",
       " (1971, -1),\n",
       " (1970, -1),\n",
       " (1969, -1),\n",
       " (1968, -1),\n",
       " (1967, -1),\n",
       " (1966, -1),\n",
       " (1965, -1),\n",
       " (1964, -1),\n",
       " (1963, -1),\n",
       " (1962, -1),\n",
       " (1961, -1),\n",
       " (1960, -1),\n",
       " (1959, -1),\n",
       " (1958, -1),\n",
       " (1957, -1),\n",
       " (1956, -1),\n",
       " (1955, -1),\n",
       " (1954, -1),\n",
       " (1953, -1),\n",
       " (1952, -1),\n",
       " (1951, -1),\n",
       " (1950, -1),\n",
       " (1949, -1),\n",
       " (1948, -1),\n",
       " (1947, -1),\n",
       " (1946, -1),\n",
       " (1945, -1),\n",
       " (1944, -1),\n",
       " (1943, -1),\n",
       " (1942, -1),\n",
       " (1941, -1),\n",
       " (1940, -1),\n",
       " (1939, -1),\n",
       " (1938, -1),\n",
       " (1937, -1),\n",
       " (1936, -1),\n",
       " (1935, -1),\n",
       " (1934, -1),\n",
       " (1933, -1),\n",
       " (1932, -1),\n",
       " (1931, -1),\n",
       " (1930, -1),\n",
       " (1929, -1),\n",
       " (1928, -1),\n",
       " (1927, -1),\n",
       " (1926, -1),\n",
       " (1925, -1),\n",
       " (1924, -1),\n",
       " (1923, -1),\n",
       " (1922, -1),\n",
       " (1921, -1),\n",
       " (1920, -1),\n",
       " (1919, -1),\n",
       " (1918, -1),\n",
       " (1917, -1),\n",
       " (1916, -1),\n",
       " (1915, -1),\n",
       " (1914, -1),\n",
       " (1913, -1),\n",
       " (1912, -1),\n",
       " (1911, -1),\n",
       " (1910, -1),\n",
       " (1909, -1),\n",
       " (1908, -1),\n",
       " (1907, -1),\n",
       " (1906, -1),\n",
       " (1905, -1),\n",
       " (1904, -1),\n",
       " (1903, -1),\n",
       " (1902, -1),\n",
       " (1901, -1),\n",
       " (1900, -1),\n",
       " (1879, -1),\n",
       " (1878, -1),\n",
       " (1877, -1),\n",
       " (1876, -1),\n",
       " (1875, -1),\n",
       " (1874, -1),\n",
       " (1873, -1),\n",
       " (1872, -1),\n",
       " (1871, -1),\n",
       " (1870, -1),\n",
       " (1869, -1),\n",
       " (1868, -1),\n",
       " (1867, -1),\n",
       " (1866, -1),\n",
       " (1865, -1),\n",
       " (1864, -1),\n",
       " (1863, -1),\n",
       " (1862, -1),\n",
       " (1861, -1),\n",
       " (1860, -1),\n",
       " (1859, -1),\n",
       " (1858, -1),\n",
       " (1857, -1),\n",
       " (1856, -1),\n",
       " (1855, -1),\n",
       " (1854, -1),\n",
       " (1853, -1),\n",
       " (1852, -1),\n",
       " (1851, -1),\n",
       " (1850, -1),\n",
       " (1849, -1),\n",
       " (1848, -1),\n",
       " (1847, -1),\n",
       " (1846, -1),\n",
       " (1845, -1),\n",
       " (1844, -1),\n",
       " (1843, -1),\n",
       " (1842, -1),\n",
       " (1841, -1),\n",
       " (1840, -1),\n",
       " (1839, -1),\n",
       " (1838, -1),\n",
       " (1837, -1),\n",
       " (1836, -1),\n",
       " (1835, -1),\n",
       " (1834, -1),\n",
       " (1833, -1),\n",
       " (1832, -1),\n",
       " (1831, -1),\n",
       " (1830, -1),\n",
       " (1829, -1),\n",
       " (1828, -1),\n",
       " (1827, -1),\n",
       " (1826, -1),\n",
       " (1825, -1),\n",
       " (1824, -1),\n",
       " (1823, -1),\n",
       " (1822, -1),\n",
       " (1820, -1),\n",
       " (1819, -1),\n",
       " (1771, -1)]"
      ]
     },
     "execution_count": 14,
     "metadata": {},
     "output_type": "execute_result"
    }
   ],
   "source": [
    "c = l.get_semantic_data([\"cocaine\", \"cannabis\"], base_year=2010)\n",
    "print(c.keys())\n",
    "c[\"one_year\"]"
   ]
  },
  {
   "cell_type": "code",
   "execution_count": 15,
   "metadata": {},
   "outputs": [
    {
     "data": {
      "text/plain": [
       "[(2010, 0.7078238),\n",
       " (2000, 0.8793428),\n",
       " (1990, 0.89526117),\n",
       " (1980, 0.84888613),\n",
       " (1970, 0.50129634),\n",
       " (1960, -1),\n",
       " (1950, -1),\n",
       " (1940, -1),\n",
       " (1930, -1),\n",
       " (1920, -1),\n",
       " (1910, -1),\n",
       " (1900, -1),\n",
       " (1870, -1),\n",
       " (1860, -1),\n",
       " (1850, -1),\n",
       " (1840, -1),\n",
       " (1830, -1),\n",
       " (1820, -1),\n",
       " (1810, -1)]"
      ]
     },
     "execution_count": 15,
     "metadata": {},
     "output_type": "execute_result"
    }
   ],
   "source": [
    "c[\"ten_year\"]"
   ]
  }
 ],
 "metadata": {
  "interpreter": {
   "hash": "916dbcbb3f70747c44a77c7bcd40155683ae19c65e1c03b4aa3499c5328201f1"
  },
  "kernelspec": {
   "display_name": "Python 3",
   "language": "python",
   "name": "python3"
  },
  "language_info": {
   "codemirror_mode": {
    "name": "ipython",
    "version": 3
   },
   "file_extension": ".py",
   "mimetype": "text/x-python",
   "name": "python",
   "nbconvert_exporter": "python",
   "pygments_lexer": "ipython3",
   "version": "3.8.10"
  }
 },
 "nbformat": 4,
 "nbformat_minor": 4
}
