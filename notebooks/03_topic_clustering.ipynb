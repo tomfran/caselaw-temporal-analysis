{
 "cells": [
  {
   "cell_type": "markdown",
   "metadata": {},
   "source": [
    "# Topic modelling and clustering"
   ]
  },
  {
   "cell_type": "code",
   "execution_count": 1,
   "metadata": {},
   "outputs": [],
   "source": [
    "import sys\n",
    "sys.path.append(\"..\")\n",
    "\n",
    "from src.vectorizers import TfIdfVectorizer\n",
    "\n",
    "import pyLDAvis.sklearn\n",
    "pyLDAvis.enable_notebook()"
   ]
  },
  {
   "cell_type": "code",
   "execution_count": 2,
   "metadata": {},
   "outputs": [
    {
     "name": "stderr",
     "output_type": "stream",
     "text": [
      "/home/fran/.local/lib/python3.8/site-packages/ipykernel/ipkernel.py:283: DeprecationWarning: `should_run_async` will not call `transform_cell` automatically in the future. Please pass the result to `transformed_cell` argument and any exception that happen during thetransform in `preprocessing_exc_tuple` in IPython 7.17 and above.\n",
      "  and should_run_async(code)\n"
     ]
    }
   ],
   "source": [
    "vectors, vec = TfIdfVectorizer.load_vectors_vectorizer()"
   ]
  },
  {
   "cell_type": "code",
   "execution_count": 4,
   "metadata": {},
   "outputs": [
    {
     "name": "stderr",
     "output_type": "stream",
     "text": [
      "/home/fran/.local/lib/python3.8/site-packages/ipykernel/ipkernel.py:283: DeprecationWarning: `should_run_async` will not call `transform_cell` automatically in the future. Please pass the result to `transformed_cell` argument and any exception that happen during thetransform in `preprocessing_exc_tuple` in IPython 7.17 and above.\n",
      "  and should_run_async(code)\n"
     ]
    },
    {
     "data": {
      "text/html": [
       "\n",
       "<link rel=\"stylesheet\" type=\"text/css\" href=\"https://cdn.jsdelivr.net/gh/bmabey/pyLDAvis@3.3.1/pyLDAvis/js/ldavis.v1.0.0.css\">\n",
       "\n",
       "\n",
       "<div id=\"ldavis_el89801396334155629608070887568\"></div>\n",
       "<script type=\"text/javascript\">\n",
       "\n",
       "var ldavis_el89801396334155629608070887568_data = {\"mdsDat\": {\"x\": [-0.13122898471968755, 0.028360642466775318, 0.10286834225291215], \"y\": [0.042094464523112364, -0.13225749356762506, 0.09016302904451269], \"topics\": [1, 2, 3], \"cluster\": [1, 1, 1], \"Freq\": [33.79504081597114, 33.17298750009388, 33.03197168393497]}, \"tinfo\": {\"Term\": [\"contract\", \"defendant\", \"also\", \"complaint\", \"decision\", \"policy\", \"damages\", \"insurance\", \"stated\", \"child\", \"claimant\", \"prior\", \"medical\", \"1995\", \"claims\", \"counts\", \"within\", \"guilty\", \"part\", \"interest\", \"sentencing\", \"respondent\", \"action\", \"two\", \"counsel\", \"based\", \"negligence\", \"argues\", \"told\", \"minor\", \"decision\", \"insurance\", \"policy\", \"1995\", \"interest\", \"part\", \"minor\", \"based\", \"support\", \"petitioner\", \"administrative\", \"child\", \"find\", \"1991\", \"notice\", \"chicago\", \"states\", \"required\", \"hospital\", \"work\", \"finding\", \"compensation\", \"result\", \"coverage\", \"services\", \"legal\", \"statutory\", \"service\", \"proceedings\", \"provided\", \"person\", \"limitations\", \"1992\", \"3\", \"may\", \"counsel\", \"app\", \"case\", \"plaintiff\", \"majority\", \"defendants\", \"hearing\", \"parties\", \"3d\", \"law\", \"action\", \"plaintiffs\", \"state\", \"judgment\", \"act\", \"2d\", \"defendant\", \"trial\", \"west\", \"contract\", \"damages\", \"stated\", \"medical\", \"10\", \"second\", \"entered\", \"prior\", \"1990\", \"thus\", \"within\", \"crime\", \"federal\", \"following\", \"contends\", \"affirmed\", \"told\", \"employee\", \"construction\", \"condition\", \"13\", \"discharge\", \"august\", \"make\", \"used\", \"matter\", \"suit\", \"back\", \"age\", \"properly\", \"cases\", \"statement\", \"complaint\", \"new\", \"conviction\", \"respondent\", \"fact\", \"1\", \"property\", \"1993\", \"class\", \"plaintiff\", \"davis\", \"judge\", \"trial\", \"defendant\", \"plaintiffs\", \"statute\", \"cause\", \"circuit\", \"filed\", \"agreement\", \"action\", \"motion\", \"record\", \"would\", \"appeal\", \"3d\", \"act\", \"2d\", \"also\", \"claimant\", \"counts\", \"guilty\", \"argues\", \"custody\", \"employer\", \"claims\", \"failed\", \"therefore\", \"authority\", \"expert\", \"negligence\", \"error\", \"bank\", \"amendment\", \"sexual\", \"pursuant\", \"home\", \"due\", \"information\", \"abuse\", \"vehicle\", \"amount\", \"failure\", \"discovery\", \"award\", \"courts\", \"murder\", \"asked\", \"school\", \"sentencing\", \"two\", \"amended\", \"defendant\", \"evidence\", \"testified\", \"time\", \"board\", \"people\", \"one\", \"trial\", \"section\", \"2d\", \"testimony\", \"3d\", \"officer\", \"petition\", \"state\", \"jury\", \"plaintiff\", \"app\", \"motion\", \"case\"], \"Freq\": [3.0, 19.0, 3.0, 4.0, 2.0, 2.0, 2.0, 2.0, 2.0, 2.0, 2.0, 2.0, 2.0, 2.0, 2.0, 2.0, 2.0, 2.0, 2.0, 2.0, 2.0, 3.0, 4.0, 2.0, 4.0, 2.0, 1.0, 1.0, 2.0, 1.0, 2.690492190682016, 2.377619333822018, 2.4284764447160008, 2.1096226410008145, 1.9692946312779653, 1.975657934160397, 1.8557529539921007, 1.9329969775612106, 1.7814148646173997, 1.7979805934671405, 1.7495535701697962, 2.3146436514578137, 1.71977136698284, 1.704455150947605, 1.6774052669508857, 1.6254566519604743, 1.6227242735442096, 1.568077380833673, 1.5527144148296057, 1.8921963739232819, 1.5165363604780815, 1.5163713027186427, 1.4976134298781287, 1.487982687914021, 1.4569067371216688, 1.43296553952479, 1.4276785298694297, 1.4170469026288461, 1.5740778924158985, 1.3847369530201399, 1.9813787872246535, 2.20161535633256, 2.333685799554876, 1.9813688485747676, 2.5686964514726816, 2.807746844035201, 4.310635096695341, 3.100219223350491, 4.735541911073951, 2.43999857747935, 2.4191747443958596, 2.418609112552894, 1.817402852564395, 2.944154805285199, 2.0907393052032908, 2.3438040934883406, 2.6382363257336623, 2.376127772704742, 2.2351291723135014, 2.3812384151703103, 2.3107906344183697, 2.5718610703017823, 2.1347827768456002, 1.957835604498152, 3.1385231018633832, 2.3287908968198927, 2.243015211387017, 2.071958428302731, 1.8056124986133022, 1.7731762654141041, 1.6800965485024821, 2.1769101873033048, 1.6203531846488115, 1.6091829243732632, 2.074987881294562, 1.5416531245674088, 1.5307384402773478, 1.510088604560555, 1.5075486871203634, 1.4544120659435438, 1.9132224698792561, 1.3852602398256508, 1.3837835737938549, 1.367392202964615, 1.356597777733996, 1.527548531067313, 1.317848113674549, 1.315539910023703, 1.3116368814132109, 1.4813801318517583, 1.2993841420972005, 1.2927820299314237, 1.2914802549291495, 1.25990908489532, 1.6097727378117954, 2.0170516096206677, 3.65674138985447, 1.6380877535213114, 1.5476704189385453, 2.473291441151617, 1.8680065607428353, 2.467368944069032, 2.4177450947424264, 1.7749942680664983, 1.5836009566518812, 5.255482366676443, 1.6872673071889255, 2.072686481287188, 4.187207886157378, 5.887942731077539, 3.302970974214308, 2.4179725305779343, 2.2866923174295017, 2.115967985533277, 2.262008614742875, 2.188780190392651, 2.4459293657362338, 2.287159425259448, 1.7959705317178496, 2.2156041179385437, 1.907996512734091, 2.3142206205871, 2.1391476018708997, 2.121875285645025, 3.0731597080923896, 2.133496395636844, 2.0211984520958493, 1.9451597682100217, 1.8251398757263078, 1.7940712964212553, 1.7915815920605735, 2.063619566847242, 1.8037866689137474, 1.73793949905256, 1.7327307160506513, 1.7241981078839297, 1.8615857207308164, 1.690933781874869, 1.6657430902870518, 1.6377586526425651, 1.7347609416749594, 1.5919592427722156, 1.5998067105669371, 1.552267741693728, 1.5372571976671485, 1.5255280054523095, 1.4697400974417532, 1.4602448132176422, 1.6570392091912791, 1.4820123436549675, 1.594802182214112, 1.392316169989305, 1.3764319310359276, 1.3516587106474605, 1.8784558430903264, 2.151035045107321, 2.104613984321475, 2.075926397409292, 10.858913869502924, 3.9298297627715315, 2.943597120631601, 2.28792124464196, 2.782502011509848, 2.8738274447257055, 2.0564296802901034, 3.9762515835563486, 2.769456830214974, 2.5524668497556773, 1.9488486211877456, 2.4903390666643848, 1.9375756010963656, 1.9279048517991169, 2.0493121677846378, 1.9993117310863953, 2.2002506909996113, 1.945930220306356, 1.8932051851476246, 1.847257156768485], \"Total\": [3.0, 19.0, 3.0, 4.0, 2.0, 2.0, 2.0, 2.0, 2.0, 2.0, 2.0, 2.0, 2.0, 2.0, 2.0, 2.0, 2.0, 2.0, 2.0, 2.0, 2.0, 3.0, 4.0, 2.0, 4.0, 2.0, 1.0, 1.0, 2.0, 1.0, 2.8335358577051313, 2.504313361789105, 2.5664829801414513, 2.2426524174324265, 2.0959912390593187, 2.103188573347674, 1.9827134589353388, 2.0682310262927173, 1.9081134098658392, 1.9275262424052684, 1.8762506102659353, 2.485135025943123, 1.8464727869004507, 1.8313473243670564, 1.804107520904383, 1.7521573283640264, 1.749434188702649, 1.694793960497068, 1.679416051825184, 2.0473879306276856, 1.6432439128229865, 1.6430721552114151, 1.6243601539680028, 1.614678146749954, 1.5836060138262138, 1.5596651412152212, 1.5543790736175742, 1.5437460708171473, 1.7158328619692282, 1.5114384880086618, 2.190175185394043, 2.5064654051162893, 2.8435819974518197, 2.3760327769281853, 3.5899279485745685, 4.155720044749023, 7.987114460728426, 5.727027012034769, 12.191274968750006, 3.832652482563753, 3.831158338200224, 3.8344935338855652, 2.2809257697393432, 7.748714492536684, 3.321374353676123, 4.853872573799519, 7.1476712408602285, 5.241130474423281, 4.332771924409317, 5.877630654245971, 6.985132769819072, 19.318717670882243, 10.298242246559326, 3.8804588053057003, 3.266518999884019, 2.4550914944425495, 2.3698652937546574, 2.2013871774759375, 1.932623470192256, 1.8994337502443581, 1.8063566081490894, 2.3413948105373623, 1.7472060753160787, 1.7354417428853741, 2.2431686788681655, 1.6679119828881868, 1.6571710205348085, 1.6363480778016004, 1.633808395592527, 1.5806723508896243, 2.0821577794068524, 1.511516650303234, 1.5100427769892093, 1.4936519862217557, 1.4835384313889963, 1.6718826135908953, 1.4441102812754383, 1.4418015229483871, 1.4378970953839167, 1.6250203165070787, 1.4257365079228306, 1.4190415642939274, 1.417742168826052, 1.3868847019977344, 1.7754281476760105, 2.247945151444452, 4.406978920792453, 1.8579298580777062, 1.7455461310960734, 3.0530613183015896, 2.2066431352260847, 3.1698347260160658, 3.1070385578829596, 2.1341627924764057, 1.8313045430868187, 12.191274968750006, 2.026893730100779, 2.875910166843446, 10.298242246559326, 19.318717670882243, 7.1476712408602285, 3.9928339181605077, 3.589952769273462, 3.1845392901632414, 3.6740351266214013, 3.4861324077592752, 4.853872573799519, 4.831288038397785, 2.4321280041770503, 4.921164102682033, 2.979154727178663, 7.748714492536684, 5.877630654245971, 6.985132769819072, 3.206806051701271, 2.259697454408217, 2.1474028237380782, 2.0713635775214905, 1.9513457552837712, 1.9203659393759667, 1.9177894743981576, 2.209051704354551, 1.9327872716865775, 1.8641475091847777, 1.8589533459870609, 1.8504207535686539, 1.9980818616869835, 1.8171596600099427, 1.79267632196775, 1.764025063656493, 1.8703300060276193, 1.7182129349147461, 1.7271275132904287, 1.6784762437527578, 1.6635600629967588, 1.6559463073622074, 1.5961373510292727, 1.5864552268386418, 1.80100162068948, 1.6115808225781947, 1.7357763319233037, 1.5192209434726534, 1.502759928263241, 1.4778654320904516, 2.0647092762472887, 2.419921080913624, 2.373719299078533, 2.3847926299006748, 19.318717670882243, 5.82106889653736, 4.019192326420195, 2.983711133762248, 4.35374800759527, 4.996694886478974, 2.8213368097167653, 10.298242246559326, 5.981460552430843, 6.985132769819072, 3.0870136496431106, 7.748714492536684, 3.1406022532170197, 3.557295912942095, 5.241130474423281, 4.732153308313347, 12.191274968750006, 7.987114460728426, 4.831288038397785, 5.727027012034769], \"Category\": [\"Default\", \"Default\", \"Default\", \"Default\", \"Default\", \"Default\", \"Default\", \"Default\", \"Default\", \"Default\", \"Default\", \"Default\", \"Default\", \"Default\", \"Default\", \"Default\", \"Default\", \"Default\", \"Default\", \"Default\", \"Default\", \"Default\", \"Default\", \"Default\", \"Default\", \"Default\", \"Default\", \"Default\", \"Default\", \"Default\", \"Topic1\", \"Topic1\", \"Topic1\", \"Topic1\", \"Topic1\", \"Topic1\", \"Topic1\", \"Topic1\", \"Topic1\", \"Topic1\", \"Topic1\", \"Topic1\", \"Topic1\", \"Topic1\", \"Topic1\", \"Topic1\", \"Topic1\", \"Topic1\", \"Topic1\", \"Topic1\", \"Topic1\", \"Topic1\", \"Topic1\", \"Topic1\", \"Topic1\", \"Topic1\", \"Topic1\", \"Topic1\", \"Topic1\", \"Topic1\", \"Topic1\", \"Topic1\", \"Topic1\", \"Topic1\", \"Topic1\", \"Topic1\", \"Topic1\", \"Topic1\", \"Topic1\", \"Topic1\", \"Topic1\", \"Topic1\", \"Topic1\", \"Topic1\", \"Topic1\", \"Topic1\", \"Topic1\", \"Topic1\", \"Topic1\", \"Topic1\", \"Topic1\", \"Topic1\", \"Topic1\", \"Topic1\", \"Topic2\", \"Topic2\", \"Topic2\", \"Topic2\", \"Topic2\", \"Topic2\", \"Topic2\", \"Topic2\", \"Topic2\", \"Topic2\", \"Topic2\", \"Topic2\", \"Topic2\", \"Topic2\", \"Topic2\", \"Topic2\", \"Topic2\", \"Topic2\", \"Topic2\", \"Topic2\", \"Topic2\", \"Topic2\", \"Topic2\", \"Topic2\", \"Topic2\", \"Topic2\", \"Topic2\", \"Topic2\", \"Topic2\", \"Topic2\", \"Topic2\", \"Topic2\", \"Topic2\", \"Topic2\", \"Topic2\", \"Topic2\", \"Topic2\", \"Topic2\", \"Topic2\", \"Topic2\", \"Topic2\", \"Topic2\", \"Topic2\", \"Topic2\", \"Topic2\", \"Topic2\", \"Topic2\", \"Topic2\", \"Topic2\", \"Topic2\", \"Topic2\", \"Topic2\", \"Topic2\", \"Topic2\", \"Topic2\", \"Topic2\", \"Topic2\", \"Topic2\", \"Topic2\", \"Topic2\", \"Topic3\", \"Topic3\", \"Topic3\", \"Topic3\", \"Topic3\", \"Topic3\", \"Topic3\", \"Topic3\", \"Topic3\", \"Topic3\", \"Topic3\", \"Topic3\", \"Topic3\", \"Topic3\", \"Topic3\", \"Topic3\", \"Topic3\", \"Topic3\", \"Topic3\", \"Topic3\", \"Topic3\", \"Topic3\", \"Topic3\", \"Topic3\", \"Topic3\", \"Topic3\", \"Topic3\", \"Topic3\", \"Topic3\", \"Topic3\", \"Topic3\", \"Topic3\", \"Topic3\", \"Topic3\", \"Topic3\", \"Topic3\", \"Topic3\", \"Topic3\", \"Topic3\", \"Topic3\", \"Topic3\", \"Topic3\", \"Topic3\", \"Topic3\", \"Topic3\", \"Topic3\", \"Topic3\", \"Topic3\", \"Topic3\", \"Topic3\", \"Topic3\", \"Topic3\", \"Topic3\", \"Topic3\"], \"logprob\": [30.0, 29.0, 28.0, 27.0, 26.0, 25.0, 24.0, 23.0, 22.0, 21.0, 20.0, 19.0, 18.0, 17.0, 16.0, 15.0, 14.0, 13.0, 12.0, 11.0, 10.0, 9.0, 8.0, 7.0, 6.0, 5.0, 4.0, 3.0, 2.0, 1.0, -6.1568, -6.2805, -6.2593, -6.4, -6.4689, -6.4657, -6.5283, -6.4875, -6.5691, -6.5599, -6.5872, -6.3073, -6.6044, -6.6133, -6.6293, -6.6608, -6.6624, -6.6967, -6.7065, -6.5088, -6.7301, -6.7302, -6.7427, -6.7491, -6.7702, -6.7868, -6.7905, -6.798, -6.6929, -6.821, -6.4628, -6.3574, -6.2991, -6.4628, -6.2032, -6.1142, -5.6855, -6.0151, -5.5915, -6.2546, -6.2631, -6.2634, -6.5491, -6.0667, -6.409, -6.2948, -6.1764, -6.2811, -6.3423, -6.2789, -6.309, -6.2019, -6.3882, -6.4747, -5.9842, -6.2826, -6.3202, -6.3995, -6.5371, -6.5552, -6.6091, -6.3501, -6.6453, -6.6522, -6.398, -6.6951, -6.7022, -6.7158, -6.7175, -6.7534, -6.4792, -6.8021, -6.8032, -6.8151, -6.823, -6.7043, -6.852, -6.8537, -6.8567, -6.735, -6.8661, -6.8712, -6.8722, -6.8969, -6.6519, -6.4263, -5.8314, -6.6344, -6.6912, -6.2224, -6.5031, -6.2248, -6.2451, -6.5542, -6.6683, -5.4687, -6.6049, -6.3991, -5.6959, -5.3551, -5.9332, -6.245, -6.3009, -6.3785, -6.3117, -6.3446, -6.2335, -6.3007, -6.5424, -6.3324, -6.4819, -6.2889, -6.3676, -6.3757, -6.001, -6.366, -6.42, -6.4584, -6.5221, -6.5392, -6.5406, -6.3993, -6.5338, -6.571, -6.574, -6.579, -6.5023, -6.5984, -6.6134, -6.6304, -6.5728, -6.6587, -6.6538, -6.684, -6.6937, -6.7014, -6.7386, -6.7451, -6.6187, -6.7303, -6.657, -6.7927, -6.8042, -6.8224, -6.4933, -6.3578, -6.3796, -6.3933, -4.7387, -5.7551, -6.0441, -6.2961, -6.1004, -6.0681, -6.4027, -5.7434, -6.1051, -6.1867, -6.4565, -6.2113, -6.4623, -6.4673, -6.4062, -6.4309, -6.3351, -6.458, -6.4854, -6.51], \"loglift\": [30.0, 29.0, 28.0, 27.0, 26.0, 25.0, 24.0, 23.0, 22.0, 21.0, 20.0, 19.0, 18.0, 17.0, 16.0, 15.0, 14.0, 13.0, 12.0, 11.0, 10.0, 9.0, 8.0, 7.0, 6.0, 5.0, 4.0, 3.0, 2.0, 1.0, 1.0331, 1.0329, 1.0296, 1.0237, 1.0225, 1.0223, 1.0187, 1.0172, 1.0161, 1.0153, 1.0149, 1.0138, 1.0138, 1.013, 1.012, 1.0098, 1.0097, 1.0071, 1.0064, 1.006, 1.0046, 1.0046, 1.0036, 1.0031, 1.0015, 1.0001, 0.9998, 0.9992, 0.9986, 0.9973, 0.9847, 0.9552, 0.8872, 0.9032, 0.7501, 0.6928, 0.4681, 0.4711, 0.1392, 0.6333, 0.6251, 0.624, 0.8577, 0.1172, 0.622, 0.3569, 0.0882, 0.2938, 0.4229, 0.1813, -0.0213, -0.9316, -0.4888, 0.4007, 1.0635, 1.0506, 1.0484, 1.0428, 1.0355, 1.0347, 1.031, 1.0306, 1.0281, 1.0279, 1.0255, 1.0247, 1.0241, 1.0231, 1.023, 1.0202, 1.0188, 1.0162, 1.0161, 1.0151, 1.014, 1.0131, 1.0119, 1.0118, 1.0115, 1.0109, 1.0106, 1.0102, 1.0102, 1.0074, 1.0055, 0.9951, 0.9168, 0.9775, 0.9831, 0.8928, 0.9368, 0.8529, 0.8526, 0.9192, 0.9581, 0.262, 0.92, 0.7759, 0.2035, -0.0847, 0.3315, 0.6019, 0.6524, 0.6946, 0.6184, 0.638, 0.4181, 0.3556, 0.8002, 0.3054, 0.6578, -0.105, 0.0927, -0.088, 1.0651, 1.0502, 1.0471, 1.0448, 1.0408, 1.0397, 1.0396, 1.0396, 1.0386, 1.0376, 1.0374, 1.037, 1.0369, 1.0357, 1.0343, 1.0334, 1.0324, 1.0314, 1.0311, 1.0295, 1.0287, 1.0257, 1.0252, 1.0248, 1.0244, 1.0239, 1.023, 1.0205, 1.0199, 1.0184, 1.0132, 0.9899, 0.9874, 0.969, 0.5316, 0.7148, 0.7962, 0.8422, 0.66, 0.5546, 0.7915, 0.1561, 0.3377, 0.101, 0.6477, -0.0274, 0.6247, 0.4951, 0.1687, 0.2461, -0.6045, -0.3044, 0.1709, -0.0238]}, \"token.table\": {\"Topic\": [2, 2, 2, 2, 1, 1, 2, 1, 1, 2, 3, 1, 1, 2, 3, 3, 1, 2, 3, 1, 2, 1, 2, 2, 2, 3, 3, 3, 3, 3, 1, 2, 3, 1, 2, 3, 3, 2, 3, 3, 2, 3, 1, 1, 3, 1, 2, 3, 2, 2, 3, 1, 1, 1, 2, 3, 3, 2, 1, 1, 2, 2, 2, 2, 2, 2, 1, 3, 3, 3, 1, 2, 3, 2, 2, 1, 1, 2, 3, 1, 2, 2, 3, 3, 2, 3, 2, 3, 1, 2, 3, 3, 2, 3, 3, 2, 1, 2, 1, 1, 2, 3, 1, 3, 3, 1, 3, 1, 1, 2, 3, 1, 2, 3, 1, 2, 3, 1, 2, 1, 1, 1, 2, 3, 2, 2, 1, 3, 2, 1, 1, 2, 3, 3, 3, 2, 1, 1, 3, 2, 3, 1, 1, 1, 2, 3, 1, 1, 2, 3, 1, 1, 2, 3, 1, 2, 3, 1, 2, 1, 2, 1, 2, 1, 3, 2, 3, 1, 1, 2, 1, 3, 2, 1, 2, 3, 3, 1, 1, 3, 1, 2, 3, 2, 2, 1, 1, 2, 1, 2, 1, 1, 3, 2, 3, 3, 2, 2, 3, 2, 1, 2, 3, 3, 2, 3, 1, 2, 3, 2, 1, 1, 2, 3], \"Freq\": [0.6309477221588945, 1.0348627297799717, 0.6740641016382214, 1.1446846644224205, 1.0920921298701396, 0.7033382549869259, 0.9371356332565765, 0.8918011478077218, 0.2863224030102156, 0.2863224030102156, 0.4294836045153234, 0.8417392299552647, 0.38716099333502413, 0.2581073288900161, 0.2581073288900161, 1.2077686281905138, 0.3402731674803707, 0.3402731674803707, 0.17013658374018534, 0.41204213122439637, 0.41204213122439637, 1.0659556826028291, 0.6326421787773957, 0.7053468691193974, 0.573701674540098, 0.286850837270049, 0.9355102714766437, 0.8386473418794903, 1.1337707389793972, 0.6303360996784751, 0.500806645462196, 0.250403322731098, 0.250403322731098, 0.3356656808983621, 0.6713313617967241, 1.0249336872179033, 0.6766515937689216, 0.6924678904140201, 1.0758742301507553, 1.1522221862444264, 0.7047009933761667, 1.115650368943725, 0.9670099590300506, 0.2296871565041119, 0.6890614695123356, 0.5238319975959259, 0.17461066586530863, 0.34922133173061726, 1.1264888430534055, 0.5571103935177292, 0.2785551967588646, 1.1414500100098786, 0.8047852447136101, 0.3140171650853582, 0.6280343301707164, 0.8850742368622847, 0.9053658617666297, 1.0921176423386307, 1.2172319965720912, 0.2269128166876238, 0.9076512667504952, 0.6694999968028259, 0.6622328951460863, 1.2241337511762924, 0.9184088628005892, 1.1457732135352667, 0.721896558886507, 0.2406321862955023, 0.9313576278709145, 0.6582321052750814, 0.6193184703792601, 1.199104041771295, 1.0414681696811967, 0.8146335908569134, 0.9867315539530326, 1.0587478509729138, 0.15528981017832724, 0.3105796203566545, 0.5693959706538666, 0.5220353280777078, 0.2610176640388539, 1.1962562345835808, 0.620508748919094, 1.1915569299499738, 0.6615871547292478, 1.0428673359090375, 1.107201086971044, 1.100618753549183, 0.17178975507313546, 0.17178975507313546, 0.6871590202925418, 1.0808352620034514, 0.9063540760500394, 1.0347750263559898, 1.1104931705915606, 1.2068760406844143, 0.27218030463404635, 0.5443606092680927, 1.0831462094587732, 1.2171047672187203, 1.2222338432339888, 0.9655475367550485, 0.5215812681194854, 0.2607906340597427, 1.157992090688029, 1.1908901298319774, 1.2022409316542342, 0.7986221015772488, 0.954202461694258, 0.6954320142047999, 0.34771600710239997, 0.46159826431959217, 0.23079913215979608, 0.23079913215979608, 0.2113202880057206, 0.4226405760114412, 0.4226405760114412, 0.6021603670740651, 0.30108018353703253, 0.641163268687819, 0.7979364071482999, 0.5218318146763341, 0.26091590733816705, 0.26091590733816705, 0.6935767399905829, 0.6153769216556401, 0.835671368053833, 0.278557122684611, 0.9085180564616336, 1.0087186279927427, 0.2069841400579447, 0.4139682801158894, 0.4139682801158894, 0.6654422846872906, 1.000959989853167, 1.076466902829844, 1.1085813771218125, 0.3184102663671173, 0.6368205327342346, 0.35444190731002806, 0.7088838146200561, 0.9509370797011191, 0.8768369521418286, 0.20013229198884924, 0.20013229198884924, 0.6003968759665477, 0.9131689617057606, 0.28111240236209095, 0.28111240236209095, 0.5622248047241819, 1.0375993623330881, 0.41012937636272995, 0.41012937636272995, 0.16405175054509197, 0.4197171216899656, 0.4197171216899656, 0.13990570722998855, 0.7792765490655116, 0.8541916941982927, 1.1656146961217648, 0.7210404719004778, 0.3218498841808288, 0.6436997683616577, 0.6616213679443296, 1.164000083667881, 0.8223251393697645, 0.41116256968488224, 1.1800844507455157, 0.3275400968875062, 0.6550801937750124, 0.6156270193880281, 0.9686593764111425, 1.0529453842455438, 0.33436649501720905, 0.16718324750860453, 0.5015497425258136, 0.8264732332696215, 0.64777492808171, 0.6314701960393924, 1.0693300078352408, 0.38159706379377517, 0.19079853189688759, 0.38159706379377517, 0.843929823889413, 0.8897014229706044, 1.14322677178452, 0.25044868394142933, 0.5008973678828587, 0.643343710020913, 0.701391873212891, 1.0481557278823492, 0.24880620751251226, 0.7464186225375368, 0.3239376671093145, 0.647875334218629, 1.0728764704219318, 1.1524443319398132, 0.3351530879395389, 0.6703061758790778, 0.9605420010820425, 0.1942078999615887, 0.3884157999231774, 0.3884157999231774, 0.8425596071011391, 0.695460059840375, 0.6265124986613138, 0.5154029717479351, 0.2577014858739676, 0.2577014858739676, 0.8915959012984878, 0.9768544446712853, 0.4064079063955621, 0.4064079063955621, 0.20320395319778106], \"Term\": [\"1\", \"10\", \"13\", \"1990\", \"1991\", \"1992\", \"1993\", \"1995\", \"2d\", \"2d\", \"2d\", \"3\", \"3d\", \"3d\", \"3d\", \"abuse\", \"act\", \"act\", \"act\", \"action\", \"action\", \"administrative\", \"affirmed\", \"age\", \"agreement\", \"agreement\", \"also\", \"amended\", \"amendment\", \"amount\", \"app\", \"app\", \"app\", \"appeal\", \"appeal\", \"argues\", \"asked\", \"august\", \"authority\", \"award\", \"back\", \"bank\", \"based\", \"board\", \"board\", \"case\", \"case\", \"case\", \"cases\", \"cause\", \"cause\", \"chicago\", \"child\", \"circuit\", \"circuit\", \"claimant\", \"claims\", \"class\", \"compensation\", \"complaint\", \"complaint\", \"condition\", \"construction\", \"contends\", \"contract\", \"conviction\", \"counsel\", \"counsel\", \"counts\", \"courts\", \"coverage\", \"crime\", \"custody\", \"damages\", \"davis\", \"decision\", \"defendant\", \"defendant\", \"defendant\", \"defendants\", \"defendants\", \"discharge\", \"discovery\", \"due\", \"employee\", \"employer\", \"entered\", \"error\", \"evidence\", \"evidence\", \"evidence\", \"expert\", \"fact\", \"failed\", \"failure\", \"federal\", \"filed\", \"filed\", \"find\", \"finding\", \"following\", \"guilty\", \"hearing\", \"hearing\", \"home\", \"hospital\", \"information\", \"insurance\", \"interest\", \"judge\", \"judge\", \"judgment\", \"judgment\", \"judgment\", \"jury\", \"jury\", \"jury\", \"law\", \"law\", \"legal\", \"limitations\", \"majority\", \"majority\", \"majority\", \"make\", \"matter\", \"may\", \"may\", \"medical\", \"minor\", \"motion\", \"motion\", \"motion\", \"murder\", \"negligence\", \"new\", \"notice\", \"officer\", \"officer\", \"one\", \"one\", \"part\", \"parties\", \"people\", \"people\", \"people\", \"person\", \"petition\", \"petition\", \"petition\", \"petitioner\", \"plaintiff\", \"plaintiff\", \"plaintiff\", \"plaintiffs\", \"plaintiffs\", \"plaintiffs\", \"policy\", \"prior\", \"proceedings\", \"properly\", \"property\", \"property\", \"provided\", \"pursuant\", \"record\", \"record\", \"required\", \"respondent\", \"respondent\", \"result\", \"school\", \"second\", \"section\", \"section\", \"section\", \"sentencing\", \"service\", \"services\", \"sexual\", \"state\", \"state\", \"state\", \"stated\", \"statement\", \"states\", \"statute\", \"statute\", \"statutory\", \"suit\", \"support\", \"testified\", \"testified\", \"testimony\", \"testimony\", \"therefore\", \"thus\", \"time\", \"time\", \"told\", \"trial\", \"trial\", \"trial\", \"two\", \"used\", \"vehicle\", \"west\", \"west\", \"west\", \"within\", \"work\", \"would\", \"would\", \"would\"]}, \"R\": 30, \"lambda.step\": 0.01, \"plot.opts\": {\"xlab\": \"PC1\", \"ylab\": \"PC2\"}, \"topic.order\": [2, 1, 3]};\n",
       "\n",
       "function LDAvis_load_lib(url, callback){\n",
       "  var s = document.createElement('script');\n",
       "  s.src = url;\n",
       "  s.async = true;\n",
       "  s.onreadystatechange = s.onload = callback;\n",
       "  s.onerror = function(){console.warn(\"failed to load library \" + url);};\n",
       "  document.getElementsByTagName(\"head\")[0].appendChild(s);\n",
       "}\n",
       "\n",
       "if(typeof(LDAvis) !== \"undefined\"){\n",
       "   // already loaded: just create the visualization\n",
       "   !function(LDAvis){\n",
       "       new LDAvis(\"#\" + \"ldavis_el89801396334155629608070887568\", ldavis_el89801396334155629608070887568_data);\n",
       "   }(LDAvis);\n",
       "}else if(typeof define === \"function\" && define.amd){\n",
       "   // require.js is available: use it to load d3/LDAvis\n",
       "   require.config({paths: {d3: \"https://d3js.org/d3.v5\"}});\n",
       "   require([\"d3\"], function(d3){\n",
       "      window.d3 = d3;\n",
       "      LDAvis_load_lib(\"https://cdn.jsdelivr.net/gh/bmabey/pyLDAvis@3.3.1/pyLDAvis/js/ldavis.v3.0.0.js\", function(){\n",
       "        new LDAvis(\"#\" + \"ldavis_el89801396334155629608070887568\", ldavis_el89801396334155629608070887568_data);\n",
       "      });\n",
       "    });\n",
       "}else{\n",
       "    // require.js not available: dynamically load d3 & LDAvis\n",
       "    LDAvis_load_lib(\"https://d3js.org/d3.v5.js\", function(){\n",
       "         LDAvis_load_lib(\"https://cdn.jsdelivr.net/gh/bmabey/pyLDAvis@3.3.1/pyLDAvis/js/ldavis.v3.0.0.js\", function(){\n",
       "                 new LDAvis(\"#\" + \"ldavis_el89801396334155629608070887568\", ldavis_el89801396334155629608070887568_data);\n",
       "            })\n",
       "         });\n",
       "}\n",
       "</script>"
      ],
      "text/plain": [
       "PreparedData(topic_coordinates=              x         y  topics  cluster       Freq\n",
       "topic                                                \n",
       "1     -0.131229  0.042094       1        1  33.795041\n",
       "0      0.028361 -0.132257       2        1  33.172988\n",
       "2      0.102868  0.090163       3        1  33.031972, topic_info=           Term       Freq      Total Category  logprob  loglift\n",
       "2411   contract   3.000000   3.000000  Default  30.0000  30.0000\n",
       "2653  defendant  19.000000  19.000000  Default  29.0000  29.0000\n",
       "1410       also   3.000000   3.000000  Default  28.0000  28.0000\n",
       "2224  complaint   4.000000   4.000000  Default  27.0000  27.0000\n",
       "2617   decision   2.000000   2.000000  Default  26.0000  26.0000\n",
       "...         ...        ...        ...      ...      ...      ...\n",
       "4272       jury   1.999312   4.732153   Topic3  -6.4309   0.2461\n",
       "5255  plaintiff   2.200251  12.191275   Topic3  -6.3351  -0.6045\n",
       "1477        app   1.945930   7.987114   Topic3  -6.4580  -0.3044\n",
       "4771     motion   1.893205   4.831288   Topic3  -6.4854   0.1709\n",
       "1967       case   1.847257   5.727027   Topic3  -6.5100  -0.0238\n",
       "\n",
       "[198 rows x 6 columns], token_table=      Topic      Freq    Term\n",
       "term                         \n",
       "1         2  0.630948       1\n",
       "2         2  1.034863      10\n",
       "155       2  0.674064      13\n",
       "300       2  1.144685    1990\n",
       "301       1  1.092092    1991\n",
       "...     ...       ...     ...\n",
       "7233      2  0.891596  within\n",
       "7248      1  0.976854    work\n",
       "7261      1  0.406408   would\n",
       "7261      2  0.406408   would\n",
       "7261      3  0.203204   would\n",
       "\n",
       "[214 rows x 3 columns], R=30, lambda_step=0.01, plot_opts={'xlab': 'PC1', 'ylab': 'PC2'}, topic_order=[2, 1, 3])"
      ]
     },
     "execution_count": 4,
     "metadata": {},
     "output_type": "execute_result"
    }
   ],
   "source": [
    "from sklearn.decomposition import LatentDirichletAllocation\n",
    "\n",
    "topics = 3\n",
    "alpha = 4\n",
    "beta = 0.1\n",
    "\n",
    "lda_model = LatentDirichletAllocation(n_components = topics, \n",
    "                                doc_topic_prior= alpha, \n",
    "                                topic_word_prior = beta, \n",
    "                                random_state=0)\n",
    "\n",
    "lda_output = lda_model.fit_transform(vectors)\n",
    "panel = pyLDAvis.sklearn.prepare(lda_model, vectors, vec)\n",
    "panel"
   ]
  },
  {
   "cell_type": "markdown",
   "metadata": {},
   "source": [
    "### Gensim LSI"
   ]
  },
  {
   "cell_type": "code",
   "execution_count": 13,
   "metadata": {},
   "outputs": [
    {
     "name": "stderr",
     "output_type": "stream",
     "text": [
      "/home/fran/.local/lib/python3.8/site-packages/ipykernel/ipkernel.py:283: DeprecationWarning: `should_run_async` will not call `transform_cell` automatically in the future. Please pass the result to `transformed_cell` argument and any exception that happen during thetransform in `preprocessing_exc_tuple` in IPython 7.17 and above.\n",
      "  and should_run_async(code)\n"
     ]
    }
   ],
   "source": [
    "from gensim.test.utils import common_dictionary, common_corpus\n",
    "from gensim.models import LsiModel\n"
   ]
  },
  {
   "cell_type": "code",
   "execution_count": 14,
   "metadata": {},
   "outputs": [
    {
     "name": "stderr",
     "output_type": "stream",
     "text": [
      "/home/fran/.local/lib/python3.8/site-packages/ipykernel/ipkernel.py:283: DeprecationWarning: `should_run_async` will not call `transform_cell` automatically in the future. Please pass the result to `transformed_cell` argument and any exception that happen during thetransform in `preprocessing_exc_tuple` in IPython 7.17 and above.\n",
      "  and should_run_async(code)\n"
     ]
    }
   ],
   "source": [
    "reverse_vocabulary = { vec.vocabulary_[k]:k for k in vec.vocabulary_}"
   ]
  },
  {
   "cell_type": "code",
   "execution_count": 15,
   "metadata": {},
   "outputs": [
    {
     "name": "stderr",
     "output_type": "stream",
     "text": [
      "/home/fran/.local/lib/python3.8/site-packages/ipykernel/ipkernel.py:283: DeprecationWarning: `should_run_async` will not call `transform_cell` automatically in the future. Please pass the result to `transformed_cell` argument and any exception that happen during thetransform in `preprocessing_exc_tuple` in IPython 7.17 and above.\n",
      "  and should_run_async(code)\n"
     ]
    }
   ],
   "source": [
    "model = LsiModel(vectors.transpose(), id2word=reverse_vocabulary, num_topics=topics)"
   ]
  },
  {
   "cell_type": "code",
   "execution_count": 16,
   "metadata": {},
   "outputs": [
    {
     "name": "stderr",
     "output_type": "stream",
     "text": [
      "/home/fran/.local/lib/python3.8/site-packages/ipykernel/ipkernel.py:283: DeprecationWarning: `should_run_async` will not call `transform_cell` automatically in the future. Please pass the result to `transformed_cell` argument and any exception that happen during thetransform in `preprocessing_exc_tuple` in IPython 7.17 and above.\n",
      "  and should_run_async(code)\n"
     ]
    },
    {
     "ename": "ValueError",
     "evalue": "The truth value of an array with more than one element is ambiguous. Use a.any() or a.all().",
     "output_type": "error",
     "traceback": [
      "\u001b[0;31m---------------------------------------------------------------------------\u001b[0m",
      "\u001b[0;31mValueError\u001b[0m                                Traceback (most recent call last)",
      "\u001b[0;32m<ipython-input-16-47ae10bf48b6>\u001b[0m in \u001b[0;36m<module>\u001b[0;34m\u001b[0m\n\u001b[0;32m----> 1\u001b[0;31m \u001b[0mvectorized_corpus\u001b[0m \u001b[0;34m=\u001b[0m \u001b[0mmodel\u001b[0m\u001b[0;34m[\u001b[0m\u001b[0mvectors\u001b[0m\u001b[0;34m]\u001b[0m\u001b[0;34m\u001b[0m\u001b[0;34m\u001b[0m\u001b[0m\n\u001b[0m\u001b[1;32m      2\u001b[0m \u001b[0mprint\u001b[0m\u001b[0;34m(\u001b[0m\u001b[0mvectorized_corpus\u001b[0m\u001b[0;34m)\u001b[0m\u001b[0;34m\u001b[0m\u001b[0;34m\u001b[0m\u001b[0m\n",
      "\u001b[0;32m~/.local/lib/python3.8/site-packages/gensim/models/lsimodel.py\u001b[0m in \u001b[0;36m__getitem__\u001b[0;34m(self, bow, scaled, chunksize)\u001b[0m\n\u001b[1;32m    585\u001b[0m \u001b[0;34m\u001b[0m\u001b[0m\n\u001b[1;32m    586\u001b[0m         \u001b[0;31m# convert input to scipy.sparse CSC, then do \"sparse * dense = dense\" multiplication\u001b[0m\u001b[0;34m\u001b[0m\u001b[0;34m\u001b[0m\u001b[0;34m\u001b[0m\u001b[0m\n\u001b[0;32m--> 587\u001b[0;31m         \u001b[0mvec\u001b[0m \u001b[0;34m=\u001b[0m \u001b[0mmatutils\u001b[0m\u001b[0;34m.\u001b[0m\u001b[0mcorpus2csc\u001b[0m\u001b[0;34m(\u001b[0m\u001b[0mbow\u001b[0m\u001b[0;34m,\u001b[0m \u001b[0mnum_terms\u001b[0m\u001b[0;34m=\u001b[0m\u001b[0mself\u001b[0m\u001b[0;34m.\u001b[0m\u001b[0mnum_terms\u001b[0m\u001b[0;34m,\u001b[0m \u001b[0mdtype\u001b[0m\u001b[0;34m=\u001b[0m\u001b[0mself\u001b[0m\u001b[0;34m.\u001b[0m\u001b[0mprojection\u001b[0m\u001b[0;34m.\u001b[0m\u001b[0mu\u001b[0m\u001b[0;34m.\u001b[0m\u001b[0mdtype\u001b[0m\u001b[0;34m)\u001b[0m\u001b[0;34m\u001b[0m\u001b[0;34m\u001b[0m\u001b[0m\n\u001b[0m\u001b[1;32m    588\u001b[0m         \u001b[0mtopic_dist\u001b[0m \u001b[0;34m=\u001b[0m \u001b[0;34m(\u001b[0m\u001b[0mvec\u001b[0m\u001b[0;34m.\u001b[0m\u001b[0mT\u001b[0m \u001b[0;34m*\u001b[0m \u001b[0mself\u001b[0m\u001b[0;34m.\u001b[0m\u001b[0mprojection\u001b[0m\u001b[0;34m.\u001b[0m\u001b[0mu\u001b[0m\u001b[0;34m[\u001b[0m\u001b[0;34m:\u001b[0m\u001b[0;34m,\u001b[0m \u001b[0;34m:\u001b[0m\u001b[0mself\u001b[0m\u001b[0;34m.\u001b[0m\u001b[0mnum_topics\u001b[0m\u001b[0;34m]\u001b[0m\u001b[0;34m)\u001b[0m\u001b[0;34m.\u001b[0m\u001b[0mT\u001b[0m  \u001b[0;31m# (x^T * u).T = u^-1 * x\u001b[0m\u001b[0;34m\u001b[0m\u001b[0;34m\u001b[0m\u001b[0m\n\u001b[1;32m    589\u001b[0m \u001b[0;34m\u001b[0m\u001b[0m\n",
      "\u001b[0;32m~/.local/lib/python3.8/site-packages/gensim/matutils.py\u001b[0m in \u001b[0;36mcorpus2csc\u001b[0;34m(corpus, num_terms, dtype, num_docs, num_nnz, printprogress)\u001b[0m\n\u001b[1;32m    151\u001b[0m \u001b[0;34m\u001b[0m\u001b[0m\n\u001b[1;32m    152\u001b[0m             \u001b[0;31m# zip(*doc) transforms doc to (token_indices, token_counts]\u001b[0m\u001b[0;34m\u001b[0m\u001b[0;34m\u001b[0m\u001b[0;34m\u001b[0m\u001b[0m\n\u001b[0;32m--> 153\u001b[0;31m             \u001b[0mdoc_indices\u001b[0m\u001b[0;34m,\u001b[0m \u001b[0mdoc_data\u001b[0m \u001b[0;34m=\u001b[0m \u001b[0mzip\u001b[0m\u001b[0;34m(\u001b[0m\u001b[0;34m*\u001b[0m\u001b[0mdoc\u001b[0m\u001b[0;34m)\u001b[0m \u001b[0;32mif\u001b[0m \u001b[0mdoc\u001b[0m \u001b[0;32melse\u001b[0m \u001b[0;34m(\u001b[0m\u001b[0;34m[\u001b[0m\u001b[0;34m]\u001b[0m\u001b[0;34m,\u001b[0m \u001b[0;34m[\u001b[0m\u001b[0;34m]\u001b[0m\u001b[0;34m)\u001b[0m\u001b[0;34m\u001b[0m\u001b[0;34m\u001b[0m\u001b[0m\n\u001b[0m\u001b[1;32m    154\u001b[0m             \u001b[0mindices\u001b[0m\u001b[0;34m.\u001b[0m\u001b[0mextend\u001b[0m\u001b[0;34m(\u001b[0m\u001b[0mdoc_indices\u001b[0m\u001b[0;34m)\u001b[0m\u001b[0;34m\u001b[0m\u001b[0;34m\u001b[0m\u001b[0m\n\u001b[1;32m    155\u001b[0m             \u001b[0mdata\u001b[0m\u001b[0;34m.\u001b[0m\u001b[0mextend\u001b[0m\u001b[0;34m(\u001b[0m\u001b[0mdoc_data\u001b[0m\u001b[0;34m)\u001b[0m\u001b[0;34m\u001b[0m\u001b[0;34m\u001b[0m\u001b[0m\n",
      "\u001b[0;32m~/.local/lib/python3.8/site-packages/scipy/sparse/base.py\u001b[0m in \u001b[0;36m__bool__\u001b[0;34m(self)\u001b[0m\n\u001b[1;32m    281\u001b[0m             \u001b[0;32mreturn\u001b[0m \u001b[0mself\u001b[0m\u001b[0;34m.\u001b[0m\u001b[0mnnz\u001b[0m \u001b[0;34m!=\u001b[0m \u001b[0;36m0\u001b[0m\u001b[0;34m\u001b[0m\u001b[0;34m\u001b[0m\u001b[0m\n\u001b[1;32m    282\u001b[0m         \u001b[0;32melse\u001b[0m\u001b[0;34m:\u001b[0m\u001b[0;34m\u001b[0m\u001b[0;34m\u001b[0m\u001b[0m\n\u001b[0;32m--> 283\u001b[0;31m             raise ValueError(\"The truth value of an array with more than one \"\n\u001b[0m\u001b[1;32m    284\u001b[0m                              \"element is ambiguous. Use a.any() or a.all().\")\n\u001b[1;32m    285\u001b[0m     \u001b[0m__nonzero__\u001b[0m \u001b[0;34m=\u001b[0m \u001b[0m__bool__\u001b[0m\u001b[0;34m\u001b[0m\u001b[0;34m\u001b[0m\u001b[0m\n",
      "\u001b[0;31mValueError\u001b[0m: The truth value of an array with more than one element is ambiguous. Use a.any() or a.all()."
     ]
    }
   ],
   "source": [
    "vectorized_corpus = model[vectors]  \n",
    "print(vectorized_corpus)"
   ]
  },
  {
   "cell_type": "code",
   "execution_count": null,
   "metadata": {},
   "outputs": [],
   "source": [
    "topics = model.get_topics()\n",
    "topics.shape"
   ]
  },
  {
   "cell_type": "code",
   "execution_count": null,
   "metadata": {},
   "outputs": [],
   "source": [
    "for topicno in range(topics):\n",
    "    print('Topic {}'.format(topicno))\n",
    "    print([(x, round(y, 2)) for x, y in model.show_topic(topicno, topn=30)], '\\n')"
   ]
  },
  {
   "cell_type": "code",
   "execution_count": null,
   "metadata": {},
   "outputs": [],
   "source": []
  }
 ],
 "metadata": {
  "interpreter": {
   "hash": "916dbcbb3f70747c44a77c7bcd40155683ae19c65e1c03b4aa3499c5328201f1"
  },
  "kernelspec": {
   "display_name": "Python 3",
   "language": "python",
   "name": "python3"
  },
  "language_info": {
   "codemirror_mode": {
    "name": "ipython",
    "version": 3
   },
   "file_extension": ".py",
   "mimetype": "text/x-python",
   "name": "python",
   "nbconvert_exporter": "python",
   "pygments_lexer": "ipython3",
   "version": "3.8.10"
  }
 },
 "nbformat": 4,
 "nbformat_minor": 4
}
