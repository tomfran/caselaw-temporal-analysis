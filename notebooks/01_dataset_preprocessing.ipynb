{
 "cells": [
  {
   "cell_type": "markdown",
   "metadata": {},
   "source": [
    "# Dataset preprocessing\n",
    "\n",
    "We preprocess the data as follows: \n",
    "we keep the metadata and merge the opinions into a big text. The latter text is stripped of symbols with a regex and lowered."
   ]
  },
  {
   "cell_type": "code",
   "execution_count": 1,
   "metadata": {},
   "outputs": [],
   "source": [
    "import sys\n",
    "sys.path.append(\"..\")\n",
    "\n",
    "from src.dataset import Dataset\n",
    "import json\n",
    "from pprint import pprint\n",
    "from collections import defaultdict\n",
    "import matplotlib.pyplot as plt"
   ]
  },
  {
   "cell_type": "code",
   "execution_count": 2,
   "metadata": {},
   "outputs": [],
   "source": [
    "dataset = Dataset(dataset_path=\"../data/raw/data.jsonl\")"
   ]
  },
  {
   "cell_type": "code",
   "execution_count": 3,
   "metadata": {},
   "outputs": [
    {
     "name": "stdout",
     "output_type": "stream",
     "text": [
      "Saving documents from 1760 to 1779\n",
      "Saving documents from 1800 to 1819\n",
      "Saving documents from 1820 to 1839\n",
      "Saving documents from 1840 to 1859\n",
      "Saving documents from 1860 to 1879\n",
      "Saving documents from 1880 to 1899\n",
      "Saving documents from 1900 to 1919\n",
      "Saving documents from 1920 to 1939\n",
      "Saving documents from 1940 to 1959\n",
      "Saving documents from 1960 to 1979\n",
      "Saving documents from 1980 to 1999\n",
      "Saving documents from 2000 to 2019\n"
     ]
    }
   ],
   "source": [
    "dataset.partition_save()"
   ]
  },
  {
   "cell_type": "markdown",
   "metadata": {},
   "source": [
    "### Example\n",
    "\n",
    "Here is the first document in the dataset."
   ]
  },
  {
   "cell_type": "code",
   "execution_count": 3,
   "metadata": {},
   "outputs": [
    {
     "data": {
      "text/plain": [
       "{'id': 2747110,\n",
       " 'name': 'The People of the State of Illinois, Plaintiff-Appellee, v. Danny Tobin, Defendant-Appellant',\n",
       " 'decision_date': 1771,\n",
       " 'text': 'mr presiding justice eberspacher delivered the opinion of the court defendant tobin was convicted by a jury of the crime of burglary the court entered judgment upon the verdict and sentenced the defendant to a fifteen to twenty five year term in the illinois state penitentiary the judgment of the court further provided that the mittimus was to be effective upon release by federal authorities the defendant has appealed from that judgment and raised the following issues  the state failed to prove lack of authority to enter the premises  the state failed to prove intent to commit a theft  the court erred in allowing testimony concerning the arrest of sherri tobin her possession of a firearm and evidence concerning defendant s possession of a firearm  the sentence was excessive the facts giving rise to this case are as follows on the night of february   at about   p m the defendant in the company of sherri tobin daniel stout michael hume and eddie dunn was in an automobile driven by defendant in the vicinity of the oliver c joseph automobile agency in belleville their behavior while driving was observed by james muir who resided nearby he stated the car stopped by the agency and the driver identified as tobin jumped out and ran across the street and kicked the agency door the car in the meantime circled the block and picked tobin up the car drove away and muir next observed four men walking up the street to the agency muir recognized one of the four as the man who kicked the door the four men then entered the agency building by the same door previously kicked muir then called the police the police arrived and officers rettle and wobbe observed four men walking through the building two other policemen arrived rettle observed two of the suspects at the back door he identified himself and ordered them out they disappeared back inside the building the police entered the building and found one suspect lying under a car after turning on the lights they searched the building the other suspects were found in the basement the defendant was hiding behind an air compressor when discovered after apprehending all four men the police with mr muir s help located the car a few blocks away sherri tobin was found in the car asleep she was carrying a  caliber snub nosed revolver fully loaded with the serial numbers filed off in the waist band of her slacks one of the defendants hume testified for the state and said defendant stated earlier in the evening that they would go to belleville and make some money he also stated that defendant brought a gun into the building the evidence also showed that the door jamb of the door kicked by defendant was splintered and the door opened by force additionally mr oliver p joseph testified that the building was owned by and in the possession of oliver c joseph inc a corporation engaged in the selling of automobiles as to the authority to be in the premises the law presumes that the presence in a public building for a purpose inconsistent with the purposes for which the building is open to the public is without authority people v urban  ill app d  n e d   also see people v weaver   ill d   n e d  cert den  u s   s ct   l ed d  here the defendant a had to break open a door to gain admission b at   p m c when the buffding was unlit and d hid in the basement upon arrival of the police under these circumstances there was sufficient evidence for the jury to believe that his presence was without authority in regard to the question of intent there is also sufficient circumstantial evidence for the jury to believe that tobin intended to commit a theft in the building intent must ordinarily be proved circumstantially by inferences drawn from conduct appraised in its factual environment people v johnson   ill d   n e d   the court in johnson went on to say we are of the opinion that in the absence of inconsistent circumstances proof of unlawful breaking and entry into a building which contains personal property that could be the subject of larceny gives rise to an inference that will sustain a conviction of burglary like other inferences this one is grounded in human experience which justifies the assumption that the unlawful entry was not purposeless and in the absence of other proof indicates theft is the most likely purpose the circumstances of the entry coupled with hume s testimony that tobin intended to make some money in beuevihe is sufficient evidence of intent to commit a theft the third aueged error relates to sherri tobin s arrest and the question of firearms it is contended that the evidence of sherri s arrest is not only irrelevant but introduced solely for the purpose of bringing in evidence of the  cafibre gun to prejudice the jury in regard to tobin s possession of a firearm the only evidence of this is hume s testimony no gun was introduced into evidence while the evidence of sherri s arrest may not have been essential to the conviction of tobin it apprised the finder of fact of the total circumstances surrounding the event and at worst it is harmless error the defendant has aheged prejudice but a careful search of the record discloses none such evidence did not prove an element of the crime not estabfished by other properly admitted evidence people v landgham   ill app d   n e d  people v jones   ill app d   n e d  defendant argues that his sentence was excessive because he received a heavier sentence than his co defendants who pleaded guilty to the same offense the record shows that eddie dunn and michael hume were each placed on probation for a period of five years daniel stout was sentenced to not less than five nor more than ten years defendant asserts that he was penalized for having exercised his constitutional right to a trial by jury the basic principles regarding sentencing are set forth in people v jones  ill app d   n e d   we recognize that not every offense in a like category calls for an identical punishment there may be a proper variation in sentences as between different offenders depending upon the circumstances of the individual case as a general rule where the punishment for the offense is fixed by statute that imposed in the sentence must conform thereto and a sentence which conforms to statutory regulation is proper before an appeuate court wiu interfere it must be manifest from the record that the sentence is excessive and not justified by any reasonable view which might be taken of the record people v hobbs  ill app d    n e d   disparity of sentences between defendants does not of itself warrant the use of the power to reduce a punishment imposed by the trial court people v thompson  ill d    n e d   hume had no prior criminal record the records of the other defendants do not appear in the record on this appeal defendant tobin had a prior burglary conviction as a juvenile on which he served a year and contrary to the provision of his pretrial bail he left the state while gone he became involved with federal authorities as evidenced by the fact that his presence at trial was secured by virtue of a writ of habeas corpus ad prosequendum tobin was also the apparent ringleader of the burglary he drove the car planned the burglary selected the site and broke open the door under the circumstances we find the factual situation to differ from people v jones supra on which defendant relies and a penalty greater than that imposed upon defendant s accomplices is approved however we do not consider the possibility of rehabilitation to be so remote as to justify a sentence of  to  years which as a practical matter leaves little or no room for rehabilitation nor does such sentence provide for an exercise of the discretion of parole authorities at a time when such discretion may contribute most to rehabilitation as a result we would consider that the sentence should be modified to provide a minimum of seven years and a maximum of  years lastly defendant claims the court erred in making his sentence consecutive to a possible future federal sentence we agree however the remedy is not necessarily to make the sentence concurrent with a possible future federal sentence as argued by defendant see ill rev stat ch  pars   and   the language mittimus to be effective upon release by federal authorities is too broad and does not clearly define what sentence the imposed sentence is to follow see ill rev stat ch  par   we would particularly call attention to the fact that ch  par  l n makes provision only for a concurrent sentence with a previous and unexpired sentence imposed by a federal district court during the oral argument in june  this court was advised that the defendant s involvement with federal authorities to which we have referred is that depicted by united states v tobin  fed d  in which defendant s conviction was reversed and the cause remanded for a new trial in may  and that defendant had not been reprosecuted in that cause a sentence should be so complete as not to require construction by the court to ascertain its import and so complete that it will not be necessary for a nonjudicial or ministerial officer to supplement the written words to ascertain its meaning people v walton   ill app d   n e d    the judgment of conviction is affirmed the sentence is modified to provide a minimum sentence of seven years and a maximum sentence of twenty years judgment with sentence so modified is affirmed moran and crees jj concur '}"
      ]
     },
     "execution_count": 3,
     "metadata": {},
     "output_type": "execute_result"
    }
   ],
   "source": [
    "data = dataset.load_dataset(year=1760)\n",
    "data[0]"
   ]
  }
 ],
 "metadata": {
  "interpreter": {
   "hash": "916dbcbb3f70747c44a77c7bcd40155683ae19c65e1c03b4aa3499c5328201f1"
  },
  "kernelspec": {
   "display_name": "Python 3",
   "language": "python",
   "name": "python3"
  },
  "language_info": {
   "codemirror_mode": {
    "name": "ipython",
    "version": 3
   },
   "file_extension": ".py",
   "mimetype": "text/x-python",
   "name": "python",
   "nbconvert_exporter": "python",
   "pygments_lexer": "ipython3",
   "version": "3.8.10"
  }
 },
 "nbformat": 4,
 "nbformat_minor": 4
}
