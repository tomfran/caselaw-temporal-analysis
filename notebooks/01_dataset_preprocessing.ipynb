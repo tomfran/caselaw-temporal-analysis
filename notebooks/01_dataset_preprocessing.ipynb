{
 "cells": [
  {
   "cell_type": "markdown",
   "metadata": {},
   "source": [
    "# Dataset preprocessing\n",
    "\n",
    "The goal of the notebook is to preprocess data coming from the dataset, the steps are: \n",
    "- tokenization: ...\n",
    "- vectorization: ..."
   ]
  },
  {
   "cell_type": "code",
   "execution_count": 6,
   "metadata": {},
   "outputs": [],
   "source": [
    "import sys\n",
    "sys.path.append(\"..\")\n",
    "\n",
    "from src.dataset import Dataset\n",
    "import json\n",
    "from pprint import pprint\n",
    "from collections import defaultdict\n",
    "import matplotlib.pyplot as plt"
   ]
  },
  {
   "cell_type": "code",
   "execution_count": 7,
   "metadata": {},
   "outputs": [],
   "source": [
    "dataset = Dataset(dataset_path=\"../data/raw/data.jsonl\")"
   ]
  },
  {
   "cell_type": "code",
   "execution_count": 3,
   "metadata": {},
   "outputs": [
    {
     "name": "stdout",
     "output_type": "stream",
     "text": [
      "Saving documents from 1760 to 1779\n",
      "Saving documents from 1800 to 1819\n",
      "Saving documents from 1820 to 1839\n",
      "Saving documents from 1840 to 1859\n",
      "Saving documents from 1860 to 1879\n",
      "Saving documents from 1880 to 1899\n",
      "Saving documents from 1900 to 1919\n",
      "Saving documents from 1920 to 1939\n",
      "Saving documents from 1940 to 1959\n",
      "Saving documents from 1960 to 1979\n",
      "Saving documents from 1980 to 1999\n",
      "Saving documents from 2000 to 2019\n"
     ]
    }
   ],
   "source": [
    "dataset.partition_save()"
   ]
  },
  {
   "cell_type": "code",
   "execution_count": 5,
   "metadata": {},
   "outputs": [
    {
     "data": {
      "text/plain": [
       "'mr justice huffman delivered the opinion of the court this was an action by appellee against appellant for personal injuries sustained in a fall on the clubroom floor of appellant s building appellee was a woman of advanced years while attending a meeting at appellant s clubroom in the city of aurora she slipped and fell on the waxed floor thereby sustaining a broken hip she instituted this action for damages claiming that appellant was negligent in having the floor waxed which thus rendered it slippery dangerous and unsafe the case was tried by jury which returned a verdict in favor of appellee for   appellant prosecutes this appeal from judgment rendered on the verdict this case was first submitted to this court at its february term  the appeal was dismissed because the abstract of the record failed to show any entry of judgment on petition for rehearing it appeared that entry of judgment had been made the petition for rehearing was therefore granted the clubroom floor of appellant s building is what is commonly called a hardwood floor being constructed of hard maple in extent it was about  by  feet it was kept cleaned and waxed in a manner common to such floors the clubroom was in general use by the members of the woman s club of aurora and in addition to this it was rented to other organizations one of which was the woman s alliance to which appellee belonged some of the organizations to which the clubroom was rented were social in character and used the same for dancing and other social functions appellee states that she had been a member of the woman s alliance and president thereof for  years that the society had been holding its meetings twice a month in appellant s clubrooms for a period of more than two years that she came to the meeting on may   at about  o clock in the morning carrying a basket which contained dishes and her luncheon that upon reaching the clubroom floor she started to walk toward the kitchen and that she had not gone very far before she slipped and fell she says that she was gtunned by the fall but did not feel any pain at the time that a doctor was called and advised that she be taken to the hospital her experience at the hospital was usual to that of a person with a broken hip she says she had been accustomed to attending the meetings at this clubroom and that she saw nothing unusual or different about the floor on this morning she says she does not think she was looking at the floor as she was walking toward the kitchen but that she thinks she felt a patch of wax as she slipped and fell she further says she did not know of the slippery condition of the floor and that no signs or warnings were posted to advise her that the floor was waxed three club members who were present and saw the accident testified for appellee their testimony is to the effect that appellee fell about the center of the clubroom floor that as she was walking across the floor her feet went out from under her and she fell like a flash none of these witnesses noticed anything unusual in the condition of the floor that morning their testimony is to the effect that the floor was clean and waxed one of the witness stated that there were marks on the floor where appellee s feet had slipped that they looked like marks made by the heels of her shoes and that the wax was scraped at the places of such marks another of her witnesses states that her movements were quick and she walked briskly the testimony of appellee s witnesses is to the effect that they did not observe anything different about the floor on that morning from other times that they knew it was waxed and slippery that the room was well lighted and that appellee was in the habit of attending the meetings of the organization at this place the janitor of the building testified for appellee his evidence discloses that he kept the floor clean and suitable for use that it was free from obstructions that he saw nothing different in the condition of the floor where appellee fell than in other places thereon and that he was present at the time of the accident and assisted in taking care of appellee the waxing of floors of this character is a common practice and too well known to be considered negligent in the absence of evidence tending to prove some positive negligent act or omission on the part of the owner of the premises which contributed to the injury ap pellee was acquainted with the clubroom she had been accustomed to meeting there twice a month for over two years whatever risks were involved with her use of the floor were obvious ones and such as were incident to each of her former visits to the clubroom and common to every other member of the club under such circumstances she must be held to have assumed any risks involved in her walking upon the floor which were within themselves an incident to such act there appears to have been no hidden danger appellant was under the continuing duty to see that the clubroom was reasonably safe for the uses and purposes to which it was to be put such duty arising from the rule requiring it to exercise reasonable care to the end that the clubroom should be safe for the benefit of those using same we do not consider it was negligent per se for appellant to have the clubroom floor cleaned and waxed nor that such act served to charge appellant with the duty of anticipating that one in the exercise of ordinary care would be exposed to danger when using the floor in a manner for which it was intended under the circumstances existing herein we do not consider appellant s keeping the floor cleaned and waxed to be a condition sufficient to warrant a finding that appellee s fall was caused by its negligence since the evidence in this case does not appear to be in dispute the judgment is reversed judgment reversed '"
      ]
     },
     "execution_count": 5,
     "metadata": {},
     "output_type": "execute_result"
    }
   ],
   "source": [
    "data[1][\"text\"]"
   ]
  }
 ],
 "metadata": {
  "interpreter": {
   "hash": "916dbcbb3f70747c44a77c7bcd40155683ae19c65e1c03b4aa3499c5328201f1"
  },
  "kernelspec": {
   "display_name": "Python 3",
   "language": "python",
   "name": "python3"
  },
  "language_info": {
   "codemirror_mode": {
    "name": "ipython",
    "version": 3
   },
   "file_extension": ".py",
   "mimetype": "text/x-python",
   "name": "python",
   "nbconvert_exporter": "python",
   "pygments_lexer": "ipython3",
   "version": "3.8.10"
  }
 },
 "nbformat": 4,
 "nbformat_minor": 4
}
