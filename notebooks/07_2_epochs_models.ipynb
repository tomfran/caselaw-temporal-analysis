{
 "cells": [
  {
   "cell_type": "code",
   "execution_count": 1,
   "metadata": {},
   "outputs": [],
   "source": [
    "import sys\n",
    "sys.path.append(\"..\")\n",
    "\n",
    "import numpy as np\n",
    "from pprint import pprint\n",
    "from collections import defaultdict\n",
    "import matplotlib.pyplot as plt\n",
    "from gensim.models import Word2Vec, KeyedVectors\n",
    "from functools import reduce\n",
    "\n",
    "from src.seeds import Seeds\n",
    "from src.dataset import Dataset\n",
    "from src.gensim_word2vec_procrustes_align import smart_procrustes_align_gensim"
   ]
  },
  {
   "cell_type": "markdown",
   "metadata": {},
   "source": [
    "### Training smaller models for each epoch\n",
    "\n",
    "We consider 5 year intervals, but, when an interval is not well represented, it is merged to the previous one, until it reaches a meaningful quantity.\n",
    "\n",
    "So the first step is to count the number of tokens for each epoch, to merge together those that lack."
   ]
  },
  {
   "cell_type": "code",
   "execution_count": 2,
   "metadata": {},
   "outputs": [],
   "source": [
    "interval = 5\n",
    "# for each epoch, we load the dataset\n",
    "epochs_len = defaultdict(lambda:0)\n",
    "for year in [2000, 1980, 1960, 1940, 1920, 1900, 1860, 1840, 1820, 1800, 1760]:\n",
    "    \n",
    "    tokens = Dataset().load_dataset(year=year, fields={\"tokens\", \"decision_date\"})\n",
    "    \n",
    "    for t in tokens:\n",
    "        d = t[\"decision_date\"]\n",
    "        date = d - d%interval \n",
    "        epochs_len[date] += len(t[\"tokens\"])"
   ]
  },
  {
   "cell_type": "markdown",
   "metadata": {},
   "source": [
    "If we plot the quantity of tokens for each interval we can see that some of them lack quite a bit, therefore, we merge lacking intervals together."
   ]
  },
  {
   "cell_type": "code",
   "execution_count": 3,
   "metadata": {},
   "outputs": [
    {
     "data": {
      "image/png": "[encoded data removed]",
      "text/plain": [
       "<Figure size 432x288 with 1 Axes>"
      ]
     },
     "metadata": {
      "needs_background": "light"
     },
     "output_type": "display_data"
    }
   ],
   "source": [
    "els = list(epochs_len.items())\n",
    "els.sort()\n",
    "\n",
    "plt.bar([e[0] for e in els], [e[1] for e in els], width=4)\n",
    "plt.show()"
   ]
  },
  {
   "cell_type": "markdown",
   "metadata": {},
   "source": [
    "The idea is to define a threshold and, while the current interval lacks, we merge with the previous.\n",
    "\n",
    "The result shows that 2010 and 2005 mus tbe merged, 1970 and 1965, etc...\n",
    "Also, we need to almost merge a century together to obtain 6mil tokens, from 1860 to 1770, this interval might be discarded later."
   ]
  },
  {
   "cell_type": "code",
   "execution_count": 4,
   "metadata": {},
   "outputs": [
    {
     "data": {
      "text/plain": [
       "[[[2010, 2005], 14783797],\n",
       " [[2000], 11207211],\n",
       " [[1995], 10242589],\n",
       " [[1990], 18577121],\n",
       " [[1985], 15207277],\n",
       " [[1980], 13289692],\n",
       " [[1975], 13106578],\n",
       " [[1970], 7338103],\n",
       " [[1965, 1960], 8085565],\n",
       " [[1955, 1950, 1945], 8120928],\n",
       " [[1940, 1935], 7227878],\n",
       " [[1930, 1925], 7866905],\n",
       " [[1920, 1915], 7667200],\n",
       " [[1910, 1905], 10430650],\n",
       " [[1900, 1875], 6827207],\n",
       " [[1870,\n",
       "   1865,\n",
       "   1860,\n",
       "   1855,\n",
       "   1850,\n",
       "   1845,\n",
       "   1840,\n",
       "   1835,\n",
       "   1830,\n",
       "   1825,\n",
       "   1820,\n",
       "   1815,\n",
       "   1770],\n",
       "  4689455]]"
      ]
     },
     "execution_count": 4,
     "metadata": {},
     "output_type": "execute_result"
    }
   ],
   "source": [
    "m = lambda x : ([x[0]], x[1])\n",
    "els = list(map(m, els[::-1]))\n",
    "\n",
    "res = []\n",
    "\n",
    "threshold = 6*10**6\n",
    "i = 0\n",
    "while(i < len(els)):\n",
    "    merged = False\n",
    "    res.append(list(els[i]))\n",
    "    while res[-1][1] < threshold and i < len(els)-1:\n",
    "        merged = True\n",
    "        res[-1][0] += els[i+1][0]\n",
    "        res[-1][1] += els[i+1][1]\n",
    "        i += 1\n",
    "    i += 1       \n",
    "\n",
    "res"
   ]
  },
  {
   "cell_type": "code",
   "execution_count": 5,
   "metadata": {},
   "outputs": [],
   "source": [
    "def get_dataset_splits(intervals):\n",
    "    m = lambda x : x - x%20\n",
    "    return set(map(m, intervals))"
   ]
  },
  {
   "cell_type": "markdown",
   "metadata": {},
   "source": [
    "### Training the models considering the gaps"
   ]
  },
  {
   "cell_type": "code",
   "execution_count": 6,
   "metadata": {},
   "outputs": [
    {
     "name": "stdout",
     "output_type": "stream",
     "text": [
      "Processing: [2010, 2005]\n",
      "Processing: [2000]\n",
      "Processing: [1995]\n",
      "Processing: [1990]\n",
      "Processing: [1985]\n",
      "Processing: [1980]\n",
      "Processing: [1975]\n",
      "Processing: [1970]\n",
      "Processing: [1965, 1960]\n",
      "Processing: [1955, 1950, 1945]\n",
      "Processing: [1940, 1935]\n",
      "Processing: [1930, 1925]\n",
      "Processing: [1920, 1915]\n",
      "Processing: [1910, 1905]\n",
      "Processing: [1900, 1875]\n",
      "Processing: [1870, 1865, 1860, 1855, 1850, 1845, 1840, 1835, 1830, 1825, 1820, 1815, 1770]\n"
     ]
    }
   ],
   "source": [
    "interval = 5\n",
    "vector_size = 300\n",
    "dataset = Dataset()\n",
    "\n",
    "last_loaded = set()\n",
    "for merged_intervals, splits in list(zip(res, [get_dataset_splits(e[0]) for e in res])):\n",
    "    years = merged_intervals[0]\n",
    "\n",
    "    print(\"Processing:\", years)\n",
    "    # if splits are already loaded don't do anything, \n",
    "    # otherwise load what you need\n",
    "    if splits != last_loaded:\n",
    "        last_loaded = splits\n",
    "        tokens = []\n",
    "        for split in splits:\n",
    "            tokens += dataset.load_dataset(year=split, fields={\"tokens\", \"decision_date\"})\n",
    "\n",
    "        epochs_tokens = defaultdict(lambda:[])\n",
    "        for t in tokens:\n",
    "            d = t[\"decision_date\"]\n",
    "            date = d - d%interval \n",
    "            epochs_tokens[date].append(t[\"tokens\"])\n",
    "    \n",
    "    model_tokens = list(reduce(lambda a,b: a+b, [epochs_tokens[y] for y in years]))\n",
    "    # check that tokens are in the right quantity\n",
    "    assert(sum([len(e) for e in model_tokens]) == merged_intervals[1])\n",
    "    # train and save\n",
    "    model = Word2Vec(model_tokens, min_count=5, workers=4, vector_size = vector_size)\n",
    "    model.save(f\"../data/models/merged_time_vectors/{'_'.join([str(y) for y in years])}_w2v.model\")"
   ]
  }
 ],
 "metadata": {
  "interpreter": {
   "hash": "916dbcbb3f70747c44a77c7bcd40155683ae19c65e1c03b4aa3499c5328201f1"
  },
  "kernelspec": {
   "display_name": "Python 3.8.10 64-bit",
   "language": "python",
   "name": "python3"
  },
  "language_info": {
   "codemirror_mode": {
    "name": "ipython",
    "version": 3
   },
   "file_extension": ".py",
   "mimetype": "text/x-python",
   "name": "python",
   "nbconvert_exporter": "python",
   "pygments_lexer": "ipython3",
   "version": "3.8.10"
  },
  "orig_nbformat": 4
 },
 "nbformat": 4,
 "nbformat_minor": 2
}
