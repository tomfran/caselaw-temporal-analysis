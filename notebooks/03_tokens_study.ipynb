{
 "cells": [
  {
   "cell_type": "markdown",
   "metadata": {},
   "source": [
    "# Tokens cleaning and topic modelling"
   ]
  },
  {
   "cell_type": "code",
   "execution_count": 1,
   "metadata": {},
   "outputs": [],
   "source": [
    "\n",
    "import sys\n",
    "sys.path.append(\"..\")\n",
    "\n",
    "from pprint import pprint\n",
    "import numpy as np\n",
    "import matplotlib.pyplot as plt\n",
    "from collections import defaultdict\n",
    "import json\n",
    "\n",
    "from src.dataset import Dataset\n",
    "from src.tokenizers import BatchTokenizer\n",
    "from src.vectorizers import TokenTfidfVectorizer"
   ]
  },
  {
   "cell_type": "markdown",
   "metadata": {},
   "source": [
    "## Tokens analysis and cleaning\n",
    "\n",
    "We start by loading the tokens and by plotting the document length."
   ]
  },
  {
   "cell_type": "code",
   "execution_count": 3,
   "metadata": {},
   "outputs": [],
   "source": [
    "dataset = Dataset(dataset_path=\"\", save_path=f\"../data/processed/tokenized_processed.json\")\n",
    "tokens = dataset.load_text_list(field_name=\"tokens\", size=-1)"
   ]
  },
  {
   "cell_type": "code",
   "execution_count": 4,
   "metadata": {},
   "outputs": [
    {
     "name": "stdout",
     "output_type": "stream",
     "text": [
      "Length stats:\n",
      "[('max', 27266),\n",
      " ('min', 0),\n",
      " ('mean', 897.4436938559213),\n",
      " ('std', 952.6769893631284)]\n"
     ]
    }
   ],
   "source": [
    "x = [len(x) for x in tokens]\n",
    "\n",
    "fun = [max, min, np.mean, np.std]\n",
    "\n",
    "print(\"Length stats:\")\n",
    "pprint([(f.__name__, f(x)) for f in fun])"
   ]
  },
  {
   "cell_type": "code",
   "execution_count": 5,
   "metadata": {},
   "outputs": [
    {
     "data": {
      "image/png": "[encoded data removed]",
      "text/plain": [
       "<Figure size 1080x360 with 2 Axes>"
      ]
     },
     "metadata": {
      "needs_background": "light"
     },
     "output_type": "display_data"
    }
   ],
   "source": [
    "fig, axs = plt.subplots(1,2, figsize=(15,5))\n",
    "axs[0].hist(x, bins=100)\n",
    "axs[1].hist(list(filter(lambda x:x<6000, x)), bins=100)\n",
    "axs[0].set(title= \"All documents\", \n",
    "           xlabel=\"Lenght\", ylabel=\"N. of Documents\")\n",
    "axs[1].set(title= \"Len < 6000\", \n",
    "           xlabel=\"Lenght\", ylabel=\"N. of Documents\")\n",
    "\n",
    "plt.xlabel(\"Length\")\n",
    "plt.ylabel(\"N. of documents\")\n",
    "plt.show()"
   ]
  },
  {
   "cell_type": "markdown",
   "metadata": {},
   "source": [
    "Apart from some excessively long documents, most of the documents are in the 0-5000 length range. The longest one may requires some investigation."
   ]
  },
  {
   "cell_type": "code",
   "execution_count": 6,
   "metadata": {},
   "outputs": [
    {
     "name": "stdout",
     "output_type": "stream",
     "text": [
      "Index of longest document: 193868\n"
     ]
    }
   ],
   "source": [
    "print(f\"Index of longest document: {np.argmax(x)}\")"
   ]
  },
  {
   "cell_type": "markdown",
   "metadata": {},
   "source": [
    "### Zipf curve\n",
    "\n",
    "We start by computing the document frequency for each token, we can clearly see some tokens are heavily used, mean and max are really distant."
   ]
  },
  {
   "cell_type": "code",
   "execution_count": 7,
   "metadata": {},
   "outputs": [],
   "source": [
    "freqs = defaultdict(lambda:0)\n",
    "\n",
    "for doc in tokens:\n",
    "    for t in set(doc):\n",
    "        freqs[t] += 1\n",
    "\n",
    "f = list(freqs.values())"
   ]
  },
  {
   "cell_type": "code",
   "execution_count": 8,
   "metadata": {},
   "outputs": [
    {
     "name": "stdout",
     "output_type": "stream",
     "text": [
      "Terms frequency stats:\n",
      "[('max', 180590),\n",
      " ('min', 1),\n",
      " ('mean', 138.16451797044812),\n",
      " ('std', 2286.1170485009457)]\n"
     ]
    },
    {
     "data": {
      "text/plain": [
       "455470"
      ]
     },
     "execution_count": 8,
     "metadata": {},
     "output_type": "execute_result"
    }
   ],
   "source": [
    "print(\"Terms frequency stats:\")\n",
    "pprint([(g.__name__, g(f)) for g in fun])\n",
    "len(f)"
   ]
  },
  {
   "cell_type": "markdown",
   "metadata": {},
   "source": [
    "We now consider terms that appear at least min_cutoff times. "
   ]
  },
  {
   "cell_type": "code",
   "execution_count": 9,
   "metadata": {},
   "outputs": [
    {
     "name": "stdout",
     "output_type": "stream",
     "text": [
      "Filtered terms frequency stats:\n",
      "[('max', 180590),\n",
      " ('min', 9),\n",
      " ('mean', 869.5295193932707),\n",
      " ('std', 5710.783603212675)]\n"
     ]
    },
    {
     "data": {
      "text/plain": [
       "71597"
      ]
     },
     "execution_count": 9,
     "metadata": {},
     "output_type": "execute_result"
    }
   ],
   "source": [
    "min_cutoff = 9 #we need this to include fentanyl\n",
    "h = lambda x : x >= min_cutoff\n",
    "nh = lambda x : x < min_cutoff\n",
    "\n",
    "s_f = list(filter(h, f))\n",
    "print(\"Filtered terms frequency stats:\")\n",
    "pprint([(g.__name__, g(s_f)) for g in fun])\n",
    "len(s_f)"
   ]
  },
  {
   "cell_type": "code",
   "execution_count": 10,
   "metadata": {},
   "outputs": [
    {
     "name": "stdout",
     "output_type": "stream",
     "text": [
      "The most common term appears in the 0.93% of documents.\n",
      "There are 383873 terms that appear less than 9 times.\n"
     ]
    }
   ],
   "source": [
    "print(f\"The most common term appears in the {round(max(s_f)/len(tokens), 2)}% of documents.\")\n",
    "print(f\"There are {len(list(filter(nh, f)))} terms that appear less than {min_cutoff} times.\")"
   ]
  },
  {
   "cell_type": "code",
   "execution_count": 11,
   "metadata": {},
   "outputs": [
    {
     "data": {
      "image/png": "[encoded data removed]",
      "text/plain": [
       "<Figure size 1080x360 with 2 Axes>"
      ]
     },
     "metadata": {
      "needs_background": "light"
     },
     "output_type": "display_data"
    }
   ],
   "source": [
    "fig, axs = plt.subplots(1,2, figsize=(15,5))\n",
    "axs[0].hist(f, bins=80)\n",
    "axs[1].hist(s_f, bins=80)\n",
    "axs[0].set(title= \"All tokens\", \n",
    "           xlabel=\"Frequency\", ylabel=\"N. of tokens\")\n",
    "axs[1].set(title= \"Tokens that appear at leas 9 times\", \n",
    "           xlabel=\"Frequency\", ylabel=\"N. of tokens\")\n",
    "\n",
    "plt.show()"
   ]
  },
  {
   "cell_type": "markdown",
   "metadata": {},
   "source": [
    "### Collect and remove unused terms\n",
    "\n",
    "The vocabulary drastically shrinks from 450k to 71k words by filtering out the terms that appears less than 9 times, this can be seen in later vectorization, but also from the stats presented above."
   ]
  },
  {
   "cell_type": "code",
   "execution_count": 12,
   "metadata": {},
   "outputs": [],
   "source": [
    "irrelevant_terms = set([ k for k,v in freqs.items() if nh(v)])"
   ]
  },
  {
   "cell_type": "code",
   "execution_count": 13,
   "metadata": {},
   "outputs": [
    {
     "data": {
      "text/plain": [
       "['nits', 'mumbled', 'dudak', 'eepartment', 'prosé']"
      ]
     },
     "execution_count": 13,
     "metadata": {},
     "output_type": "execute_result"
    }
   ],
   "source": [
    "list(irrelevant_terms)[:5]"
   ]
  },
  {
   "cell_type": "code",
   "execution_count": 14,
   "metadata": {},
   "outputs": [],
   "source": [
    "filtered_tokens = [[t for t in doc if t not in irrelevant_terms] for doc in tokens]"
   ]
  },
  {
   "cell_type": "code",
   "execution_count": 2,
   "metadata": {},
   "outputs": [],
   "source": [
    "# with open(\"../data/processed/filtered_tokens.json\", \"w\") as f: \n",
    "#     f.write(json.dumps(filtered_tokens))\n",
    "    \n",
    "filtered_tokens = json.load(open(\"../data/processed/filtered_tokens.json\", \"r\"))"
   ]
  },
  {
   "cell_type": "markdown",
   "metadata": {},
   "source": [
    "## Searching terms about three topics\n",
    "\n",
    "We start by checking for the presence of drugs, weapons and investigation terms."
   ]
  },
  {
   "cell_type": "code",
   "execution_count": 3,
   "metadata": {},
   "outputs": [],
   "source": [
    "narcotics = ['cannabis',\n",
    "             'cocaine',\n",
    "             'methamphetamine',\n",
    "             'drugs',\n",
    "             'drug',\n",
    "             'marijuana',\n",
    "             'ecstasy',\n",
    "             'lsd',\n",
    "             'ketamine',\n",
    "             'heroin',\n",
    "             'fentanyl', \n",
    "             'overdose', \n",
    "             'od']\n",
    "\n",
    "weapons = ['gun',\n",
    "           'knife',\n",
    "           'weapon',\n",
    "           'firearm',\n",
    "           'rifle',\n",
    "           'carabine',\n",
    "           'shotgun',\n",
    "           'handgun',\n",
    "           'revolver',\n",
    "           'musket',\n",
    "           'pistol',\n",
    "           'derringer',\n",
    "           'assault',\n",
    "           'rifle',\n",
    "           'sword',\n",
    "           'blunt']\n",
    "\n",
    "investigation = ['gang',\n",
    "                 'mafia',\n",
    "                 'serial', \n",
    "                 'killer',\n",
    "                 'rape',\n",
    "                 'theft',\n",
    "                 'recidivism',\n",
    "                 'arrest',\n",
    "                 'robbery',\n",
    "                 'cybercrime',\n",
    "                 'cyber', \n",
    "                #  'caucasian',\n",
    "                #  'afro-american',\n",
    "                #  'native', \n",
    "                #  'american',\n",
    "                #  'hispanic',\n",
    "                #  'male',\n",
    "                #  'female',\n",
    "                #  'man',\n",
    "                #  'woman',\n",
    "                #  'girl',\n",
    "                #  'boy',\n",
    "                 'crime']"
   ]
  },
  {
   "cell_type": "code",
   "execution_count": 4,
   "metadata": {},
   "outputs": [],
   "source": [
    "seen = set()\n",
    "not_found = set(weapons + investigation + narcotics)\n",
    "freq = defaultdict(lambda:0)\n",
    "for doc in filtered_tokens:\n",
    "    # if not not_found:\n",
    "    #     break\n",
    "    for w in set(doc): \n",
    "        if w in not_found:\n",
    "            # not_found.remove(w)\n",
    "            seen.add(w)\n",
    "            freq[w] += 1"
   ]
  },
  {
   "cell_type": "code",
   "execution_count": 5,
   "metadata": {},
   "outputs": [
    {
     "name": "stdout",
     "output_type": "stream",
     "text": [
      "[(9, 'ecstasy'),\n",
      " (21, 'od'),\n",
      " (47, 'mafia'),\n",
      " (69, 'derringer'),\n",
      " (140, 'methamphetamine'),\n",
      " (178, 'drugs'),\n",
      " (205, 'recidivism'),\n",
      " (222, 'overdose'),\n",
      " (227, 'lsd'),\n",
      " (333, 'sword'),\n",
      " (540, 'killer'),\n",
      " (672, 'serial'),\n",
      " (777, 'blunt'),\n",
      " (945, 'rifle'),\n",
      " (1497, 'heroin'),\n",
      " (1570, 'cannabis'),\n",
      " (1581, 'handgun'),\n",
      " (1606, 'shotgun'),\n",
      " (2079, 'marijuana'),\n",
      " (2106, 'gang'),\n",
      " (2472, 'firearm'),\n",
      " (2739, 'pistol'),\n",
      " (2791, 'cocaine'),\n",
      " (2813, 'revolver'),\n",
      " (3709, 'knife'),\n",
      " (3925, 'rape'),\n",
      " (6161, 'theft'),\n",
      " (7868, 'assault'),\n",
      " (7988, 'weapon'),\n",
      " (9239, 'drug'),\n",
      " (9248, 'robbery'),\n",
      " (9526, 'gun'),\n",
      " (23893, 'arrest'),\n",
      " (24858, 'crime')]\n",
      "Not found\n",
      "{'cyber', 'cybercrime', 'ketamine', 'fentanyl', 'carabine', 'musket'}\n"
     ]
    }
   ],
   "source": [
    "pprint(sorted([(v,k) for k,v in freq.items()]))\n",
    "print(\"Not found\")\n",
    "pprint(not_found-seen)"
   ]
  }
 ],
 "metadata": {
  "interpreter": {
   "hash": "916dbcbb3f70747c44a77c7bcd40155683ae19c65e1c03b4aa3499c5328201f1"
  },
  "kernelspec": {
   "display_name": "Python 3",
   "language": "python",
   "name": "python3"
  },
  "language_info": {
   "codemirror_mode": {
    "name": "ipython",
    "version": 3
   },
   "file_extension": ".py",
   "mimetype": "text/x-python",
   "name": "python",
   "nbconvert_exporter": "python",
   "pygments_lexer": "ipython3",
   "version": "3.8.10"
  }
 },
 "nbformat": 4,
 "nbformat_minor": 2
}
