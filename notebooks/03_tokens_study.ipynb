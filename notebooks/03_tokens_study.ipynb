{
 "cells": [
  {
   "cell_type": "markdown",
   "metadata": {},
   "source": [
    "# Tokens cleaning and study"
   ]
  },
  {
   "cell_type": "code",
   "execution_count": 17,
   "metadata": {},
   "outputs": [],
   "source": [
    "import sys\n",
    "sys.path.append(\"..\")\n",
    "\n",
    "import json\n",
    "import numpy as np\n",
    "from pprint import pprint\n",
    "import matplotlib.pyplot as plt\n",
    "from collections import defaultdict\n",
    "\n",
    "from src.dataset import Dataset"
   ]
  },
  {
   "cell_type": "markdown",
   "metadata": {},
   "source": [
    "## Tokens analysis and cleaning\n",
    "\n",
    "We start by loading the tokens and by plotting the document length."
   ]
  },
  {
   "cell_type": "code",
   "execution_count": 18,
   "metadata": {},
   "outputs": [],
   "source": [
    "dataset = Dataset()\n",
    "tokens = dataset.load_dataset(year = 1960, tokens=True)"
   ]
  },
  {
   "cell_type": "code",
   "execution_count": 19,
   "metadata": {},
   "outputs": [],
   "source": [
    "tokens = [[t for t in doc if len(t) >= 3] for doc in tokens]"
   ]
  },
  {
   "cell_type": "code",
   "execution_count": 20,
   "metadata": {},
   "outputs": [
    {
     "name": "stdout",
     "output_type": "stream",
     "text": [
      "Length stats:\n",
      "[('max', 14625),\n",
      " ('min', 0),\n",
      " ('mean', 801.6415105542856),\n",
      " ('std', 719.6471526739673)]\n"
     ]
    }
   ],
   "source": [
    "x = [len(x) for x in tokens]\n",
    "\n",
    "fun = [max, min, np.mean, np.std]\n",
    "\n",
    "print(\"Length stats:\")\n",
    "pprint([(f.__name__, f(x)) for f in fun])"
   ]
  },
  {
   "cell_type": "code",
   "execution_count": 21,
   "metadata": {},
   "outputs": [
    {
     "data": {
      "image/png": "[encoded data removed]",
      "text/plain": [
       "<Figure size 1080x360 with 2 Axes>"
      ]
     },
     "metadata": {
      "needs_background": "light"
     },
     "output_type": "display_data"
    }
   ],
   "source": [
    "fig, axs = plt.subplots(1,2, figsize=(15,5))\n",
    "axs[0].hist(x, bins=100)\n",
    "axs[1].hist(list(filter(lambda x:x<6000, x)), bins=100)\n",
    "axs[0].set(title= \"All documents\", \n",
    "           xlabel=\"Lenght\", ylabel=\"N. of Documents\")\n",
    "axs[1].set(title= \"Len < 6000\", \n",
    "           xlabel=\"Lenght\", ylabel=\"N. of Documents\")\n",
    "\n",
    "plt.xlabel(\"Length\")\n",
    "plt.ylabel(\"N. of documents\")\n",
    "plt.show()"
   ]
  },
  {
   "cell_type": "markdown",
   "metadata": {},
   "source": [
    "### Zipf curve\n",
    "\n",
    "We start by computing the document frequency for each token, we can clearly see some tokens are heavily used, mean and max are really distant."
   ]
  },
  {
   "cell_type": "code",
   "execution_count": 22,
   "metadata": {},
   "outputs": [],
   "source": [
    "freqs = defaultdict(lambda:0)\n",
    "\n",
    "for doc in tokens:\n",
    "    for t in set(doc):\n",
    "        freqs[t] += 1\n",
    "\n",
    "freq_list = list(freqs.values())"
   ]
  },
  {
   "cell_type": "code",
   "execution_count": 23,
   "metadata": {},
   "outputs": [
    {
     "name": "stdout",
     "output_type": "stream",
     "text": [
      "Terms frequency stats:\n",
      "[('max', 28205),\n",
      " ('min', 1),\n",
      " ('mean', 93.20336467535238),\n",
      " ('std', 794.705951519567)]\n",
      "Vocabulary length: 112522\n"
     ]
    }
   ],
   "source": [
    "print(\"Terms frequency stats:\")\n",
    "pprint([(f.__name__, f(freq_list)) for f in fun])\n",
    "print(f\"Vocabulary length: {len(freq_list)}\")"
   ]
  },
  {
   "cell_type": "markdown",
   "metadata": {},
   "source": [
    "We now consider terms that appear at least min_cutoff times. "
   ]
  },
  {
   "cell_type": "code",
   "execution_count": 24,
   "metadata": {},
   "outputs": [
    {
     "name": "stdout",
     "output_type": "stream",
     "text": [
      "Filtered terms frequency stats:\n",
      "[('max', 28205),\n",
      " ('min', 2),\n",
      " ('mean', 176.92340692508563),\n",
      " ('std', 1090.9992168634283)]\n"
     ]
    },
    {
     "data": {
      "text/plain": [
       "58974"
      ]
     },
     "execution_count": 24,
     "metadata": {},
     "output_type": "execute_result"
    }
   ],
   "source": [
    "max_cutoff = 0.9*len(tokens)\n",
    "min_cutoff = 2\n",
    "\n",
    "h = lambda x : min_cutoff <= x <= max_cutoff\n",
    "nh = lambda x : x < min_cutoff or x > max_cutoff\n",
    "\n",
    "filtered_freq_list = list(filter(h, freq_list))\n",
    "print(\"Filtered terms frequency stats:\")\n",
    "pprint([(f.__name__, f(filtered_freq_list)) for f in fun])\n",
    "len(filtered_freq_list)"
   ]
  },
  {
   "cell_type": "code",
   "execution_count": 25,
   "metadata": {},
   "outputs": [
    {
     "name": "stdout",
     "output_type": "stream",
     "text": [
      "The most common term appears in the 0.84% of documents.\n",
      "There are 53548 terms that appear more than 2 times.\n"
     ]
    }
   ],
   "source": [
    "print(f\"The most common term appears in the {round(max(filtered_freq_list)/len(tokens), 2)}% of documents.\")\n",
    "print(f\"There are {len(list(filter(nh, freq_list)))} terms that appear more than {int(min_cutoff)} times.\")"
   ]
  },
  {
   "cell_type": "code",
   "execution_count": 26,
   "metadata": {},
   "outputs": [
    {
     "data": {
      "image/png": "[encoded data removed]",
      "text/plain": [
       "<Figure size 1080x360 with 2 Axes>"
      ]
     },
     "metadata": {
      "needs_background": "light"
     },
     "output_type": "display_data"
    }
   ],
   "source": [
    "fig, axs = plt.subplots(1,2, figsize=(15,5))\n",
    "axs[0].hist(freq_list, bins=80)\n",
    "axs[1].hist(filtered_freq_list, bins=80)\n",
    "axs[0].set(title= \"All tokens\", \n",
    "           xlabel=\"Frequency\", ylabel=\"N. of tokens\")\n",
    "axs[1].set(title= f\"Tokens that appear at most {int(max_cutoff)} times\", \n",
    "           xlabel=\"Frequency\", ylabel=\"N. of tokens\")\n",
    "\n",
    "plt.show()"
   ]
  },
  {
   "cell_type": "markdown",
   "metadata": {},
   "source": [
    "## Searching terms about three topics\n",
    "\n",
    "We start by checking for the presence of drugs, weapons and investigation terms."
   ]
  },
  {
   "cell_type": "code",
   "execution_count": 27,
   "metadata": {},
   "outputs": [],
   "source": [
    "narcotics = ['cannabis', 'cocaine', 'methamphetamine', 'drugs', 'drug', 'marijuana', \n",
    "             'ecstasy', 'lsd', 'ketamine', 'heroin', 'fentanyl', 'overdose']\n",
    "\n",
    "weapons = ['gun', 'knife', 'weapon', 'firearm', 'rifle', 'carabine', 'shotgun', 'handgun', \n",
    "           'revolver', 'musket', 'pistol', 'derringer', 'assault', 'rifle', 'sword', 'blunt']\n",
    "\n",
    "investigation = ['gang', 'mafia', 'serial',  'killer', 'rape', 'theft', 'recidivism', \n",
    "                 'arrest', 'robbery', 'cybercrime', 'cyber', 'crime']\n",
    "\n",
    "#'caucasian','afro-american','native', 'american','hispanic',\n",
    "#'male','female','man','woman','girl','boy',"
   ]
  },
  {
   "cell_type": "markdown",
   "metadata": {},
   "source": [
    "### Collect and remove unused terms\n",
    "\n",
    "The vocabulary drastically shrinks from 450k to 71k words by filtering out the terms that appears less than 9 times, this can be seen in later vectorization, but also from the stats presented above."
   ]
  },
  {
   "cell_type": "code",
   "execution_count": 28,
   "metadata": {},
   "outputs": [
    {
     "name": "stdout",
     "output_type": "stream",
     "text": [
      "53547\n"
     ]
    },
    {
     "data": {
      "text/plain": [
       "['umited',\n",
       " 'exacavation',\n",
       " 'truthworthy',\n",
       " 'splain',\n",
       " 'gibco',\n",
       " 'espedauy',\n",
       " 'frah',\n",
       " 'mccraw',\n",
       " 'badde',\n",
       " 'tumasonis']"
      ]
     },
     "execution_count": 28,
     "metadata": {},
     "output_type": "execute_result"
    }
   ],
   "source": [
    "irrelevant_terms = set([ k for k,v in freqs.items() if nh(v)])\n",
    "\n",
    "for e in weapons + investigation + narcotics:\n",
    "    if e in irrelevant_terms:\n",
    "        irrelevant_terms.remove(e)\n",
    "\n",
    "print(len(irrelevant_terms))\n",
    "list(irrelevant_terms)[:10]"
   ]
  },
  {
   "cell_type": "code",
   "execution_count": 29,
   "metadata": {},
   "outputs": [],
   "source": [
    "filtered_tokens = [[t for t in doc if t not in irrelevant_terms] for doc in tokens]"
   ]
  },
  {
   "cell_type": "code",
   "execution_count": 30,
   "metadata": {},
   "outputs": [],
   "source": [
    "# with open(\"../data/processed/filtered_tokens_cleaner.json\", \"w\") as f: \n",
    "#     f.write(json.dumps(filtered_tokens))\n",
    "    \n",
    "# filtered_tokens = json.load(open(\"../data/processed/filtered_tokens.json\", \"r\"))"
   ]
  },
  {
   "cell_type": "code",
   "execution_count": 31,
   "metadata": {},
   "outputs": [],
   "source": [
    "seen = set()\n",
    "not_found = set(weapons + investigation + narcotics)\n",
    "freq = defaultdict(lambda:0)\n",
    "for doc in filtered_tokens:\n",
    "    # if not not_found:\n",
    "    #     break\n",
    "    for w in set(doc): \n",
    "        if w in not_found:\n",
    "            # not_found.remove(w)\n",
    "            seen.add(w)\n",
    "            freq[w] += 1"
   ]
  },
  {
   "cell_type": "code",
   "execution_count": 32,
   "metadata": {},
   "outputs": [
    {
     "name": "stdout",
     "output_type": "stream",
     "text": [
      "[(1, 'musket'),\n",
      " (5, 'mafia'),\n",
      " (7, 'methamphetamine'),\n",
      " (12, 'drugs'),\n",
      " (13, 'recidivism'),\n",
      " (24, 'derringer'),\n",
      " (43, 'overdose'),\n",
      " (47, 'sword'),\n",
      " (85, 'lsd'),\n",
      " (98, 'blunt'),\n",
      " (105, 'killer'),\n",
      " (113, 'cocaine'),\n",
      " (174, 'handgun'),\n",
      " (208, 'gang'),\n",
      " (266, 'cannabis'),\n",
      " (269, 'serial'),\n",
      " (290, 'rifle'),\n",
      " (428, 'firearm'),\n",
      " (512, 'marijuana'),\n",
      " (614, 'shotgun'),\n",
      " (673, 'heroin'),\n",
      " (883, 'revolver'),\n",
      " (943, 'pistol'),\n",
      " (1073, 'knife'),\n",
      " (1291, 'rape'),\n",
      " (1586, 'assault'),\n",
      " (1768, 'drug'),\n",
      " (2110, 'weapon'),\n",
      " (2162, 'theft'),\n",
      " (2968, 'gun'),\n",
      " (3516, 'robbery'),\n",
      " (6602, 'arrest'),\n",
      " (7248, 'crime')]\n",
      "Not found\n",
      "{'cybercrime', 'carabine', 'ecstasy', 'ketamine', 'cyber', 'fentanyl'}\n"
     ]
    }
   ],
   "source": [
    "pprint(sorted([(v,k) for k,v in freq.items()]))\n",
    "print(\"Not found\")\n",
    "pprint(not_found-seen)"
   ]
  }
 ],
 "metadata": {
  "interpreter": {
   "hash": "916dbcbb3f70747c44a77c7bcd40155683ae19c65e1c03b4aa3499c5328201f1"
  },
  "kernelspec": {
   "display_name": "Python 3",
   "language": "python",
   "name": "python3"
  },
  "language_info": {
   "codemirror_mode": {
    "name": "ipython",
    "version": 3
   },
   "file_extension": ".py",
   "mimetype": "text/x-python",
   "name": "python",
   "nbconvert_exporter": "python",
   "pygments_lexer": "ipython3",
   "version": "3.8.10"
  }
 },
 "nbformat": 4,
 "nbformat_minor": 2
}
