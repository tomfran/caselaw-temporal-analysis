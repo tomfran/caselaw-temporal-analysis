{
 "cells": [
  {
   "cell_type": "markdown",
   "metadata": {},
   "source": [
    "# Tokens cleaning and study"
   ]
  },
  {
   "cell_type": "code",
   "execution_count": 1,
   "metadata": {},
   "outputs": [],
   "source": [
    "import sys\n",
    "sys.path.append(\"..\")\n",
    "\n",
    "from pprint import pprint\n",
    "import numpy as np\n",
    "import matplotlib.pyplot as plt\n",
    "from collections import defaultdict\n",
    "import json\n",
    "\n",
    "from src.dataset import Dataset\n",
    "from src.tokenizers import BatchTokenizer\n",
    "from src.vectorizers import TokenTfidfVectorizer"
   ]
  },
  {
   "cell_type": "markdown",
   "metadata": {},
   "source": [
    "## Tokens analysis and cleaning\n",
    "\n",
    "We start by loading the tokens and by plotting the document length."
   ]
  },
  {
   "cell_type": "code",
   "execution_count": 2,
   "metadata": {},
   "outputs": [],
   "source": [
    "dataset = Dataset(dataset_path=\"\", save_path=f\"../data/processed/tokenized_processed.json\")\n",
    "tokens = dataset.load_text_list(field_name=\"tokens\", size=-1)"
   ]
  },
  {
   "cell_type": "code",
   "execution_count": 3,
   "metadata": {},
   "outputs": [],
   "source": [
    "import re\n",
    "\n",
    "def clean_w(word):\n",
    "    word = re.sub(r'[\\W_]+', ' ', word)\n",
    "    word = re.sub(r'\\d+', '', word)\n",
    "    word = re.sub(r' ', '', word)\n",
    "    return word.lower()\n",
    "\n",
    "def clean_doc(doc):\n",
    "    return [x for t in doc if len(x:=clean_w(t)) >= 3]"
   ]
  },
  {
   "cell_type": "code",
   "execution_count": 4,
   "metadata": {},
   "outputs": [],
   "source": [
    "for i in range(len(tokens)):\n",
    "    tokens[i] = clean_doc(tokens[i])"
   ]
  },
  {
   "cell_type": "code",
   "execution_count": 5,
   "metadata": {},
   "outputs": [
    {
     "name": "stdout",
     "output_type": "stream",
     "text": [
      "Length stats:\n",
      "[('max', 25752),\n",
      " ('min', 0),\n",
      " ('mean', 860.3356142535217),\n",
      " ('std', 909.0262958385139)]\n"
     ]
    }
   ],
   "source": [
    "x = [len(x) for x in tokens]\n",
    "\n",
    "fun = [max, min, np.mean, np.std]\n",
    "\n",
    "print(\"Length stats:\")\n",
    "pprint([(f.__name__, f(x)) for f in fun])"
   ]
  },
  {
   "cell_type": "code",
   "execution_count": 6,
   "metadata": {},
   "outputs": [
    {
     "data": {
      "image/png": "[encoded data removed]",
      "text/plain": [
       "<Figure size 1080x360 with 2 Axes>"
      ]
     },
     "metadata": {
      "needs_background": "light"
     },
     "output_type": "display_data"
    }
   ],
   "source": [
    "fig, axs = plt.subplots(1,2, figsize=(15,5))\n",
    "axs[0].hist(x, bins=100)\n",
    "axs[1].hist(list(filter(lambda x:x<6000, x)), bins=100)\n",
    "axs[0].set(title= \"All documents\", \n",
    "           xlabel=\"Lenght\", ylabel=\"N. of Documents\")\n",
    "axs[1].set(title= \"Len < 6000\", \n",
    "           xlabel=\"Lenght\", ylabel=\"N. of Documents\")\n",
    "\n",
    "plt.xlabel(\"Length\")\n",
    "plt.ylabel(\"N. of documents\")\n",
    "plt.show()"
   ]
  },
  {
   "cell_type": "markdown",
   "metadata": {},
   "source": [
    "Apart from some excessively long documents, most of the documents are in the 0-5000 length range. The longest one may requires some investigation."
   ]
  },
  {
   "cell_type": "code",
   "execution_count": 7,
   "metadata": {},
   "outputs": [
    {
     "name": "stdout",
     "output_type": "stream",
     "text": [
      "Index of longest document: 193868\n"
     ]
    }
   ],
   "source": [
    "print(f\"Index of longest document: {np.argmax(x)}\")"
   ]
  },
  {
   "cell_type": "markdown",
   "metadata": {},
   "source": [
    "### Zipf curve\n",
    "\n",
    "We start by computing the document frequency for each token, we can clearly see some tokens are heavily used, mean and max are really distant."
   ]
  },
  {
   "cell_type": "code",
   "execution_count": 8,
   "metadata": {},
   "outputs": [],
   "source": [
    "freqs = defaultdict(lambda:0)\n",
    "\n",
    "for doc in tokens:\n",
    "    for t in set(doc):\n",
    "        freqs[t] += 1\n",
    "\n",
    "freq_list = list(freqs.values())"
   ]
  },
  {
   "cell_type": "code",
   "execution_count": 9,
   "metadata": {},
   "outputs": [
    {
     "name": "stdout",
     "output_type": "stream",
     "text": [
      "Terms frequency stats:\n",
      "[('max', 180603),\n",
      " ('min', 3),\n",
      " ('mean', 970.0852571465549),\n",
      " ('std', 6034.102522127724)]\n",
      "Vocabulary length: 61813\n"
     ]
    }
   ],
   "source": [
    "print(\"Terms frequency stats:\")\n",
    "pprint([(f.__name__, f(freq_list)) for f in fun])\n",
    "print(f\"Vocabulary length: {len(freq_list)}\")"
   ]
  },
  {
   "cell_type": "markdown",
   "metadata": {},
   "source": [
    "We now consider terms that appear at least min_cutoff times. "
   ]
  },
  {
   "cell_type": "code",
   "execution_count": 60,
   "metadata": {},
   "outputs": [
    {
     "name": "stdout",
     "output_type": "stream",
     "text": [
      "Filtered terms frequency stats:\n",
      "[('max', 76994),\n",
      " ('min', 3),\n",
      " ('mean', 811.7617666596458),\n",
      " ('std', 4342.9810147456765)]\n"
     ]
    },
    {
     "data": {
      "text/plain": [
       "61721"
      ]
     },
     "execution_count": 60,
     "metadata": {},
     "output_type": "execute_result"
    }
   ],
   "source": [
    "min_cutoff = 0.4*len(tokens)\n",
    "h = lambda x : x < min_cutoff\n",
    "nh = lambda x : x > min_cutoff\n",
    "\n",
    "filtered_freq_list = list(filter(h, freq_list))\n",
    "print(\"Filtered terms frequency stats:\")\n",
    "pprint([(f.__name__, f(filtered_freq_list)) for f in fun])\n",
    "len(filtered_freq_list)"
   ]
  },
  {
   "cell_type": "code",
   "execution_count": 61,
   "metadata": {},
   "outputs": [
    {
     "name": "stdout",
     "output_type": "stream",
     "text": [
      "The most common term appears in the 0.4% of documents.\n",
      "There are 92 terms that appear more than 77746 times.\n"
     ]
    }
   ],
   "source": [
    "print(f\"The most common term appears in the {round(max(filtered_freq_list)/len(tokens), 2)}% of documents.\")\n",
    "print(f\"There are {len(list(filter(nh, freq_list)))} terms that appear more than {int(min_cutoff)} times.\")"
   ]
  },
  {
   "cell_type": "code",
   "execution_count": 63,
   "metadata": {},
   "outputs": [
    {
     "data": {
      "image/png": "[encoded data removed]",
      "text/plain": [
       "<Figure size 1080x360 with 2 Axes>"
      ]
     },
     "metadata": {
      "needs_background": "light"
     },
     "output_type": "display_data"
    }
   ],
   "source": [
    "fig, axs = plt.subplots(1,2, figsize=(15,5))\n",
    "axs[0].hist(freq_list, bins=80)\n",
    "axs[1].hist(filtered_freq_list, bins=80)\n",
    "axs[0].set(title= \"All tokens\", \n",
    "           xlabel=\"Frequency\", ylabel=\"N. of tokens\")\n",
    "axs[1].set(title= f\"Tokens that appear at most {int(min_cutoff)} times\", \n",
    "           xlabel=\"Frequency\", ylabel=\"N. of tokens\")\n",
    "\n",
    "plt.show()"
   ]
  },
  {
   "cell_type": "markdown",
   "metadata": {},
   "source": [
    "### Collect and remove unused terms\n",
    "\n",
    "The vocabulary drastically shrinks from 450k to 71k words by filtering out the terms that appears less than 9 times, this can be seen in later vectorization, but also from the stats presented above."
   ]
  },
  {
   "cell_type": "code",
   "execution_count": 64,
   "metadata": {},
   "outputs": [],
   "source": [
    "irrelevant_terms = set([ k for k,v in freqs.items() if nh(v)])"
   ]
  },
  {
   "cell_type": "code",
   "execution_count": 67,
   "metadata": {},
   "outputs": [
    {
     "name": "stdout",
     "output_type": "stream",
     "text": [
      "92\n"
     ]
    },
    {
     "data": {
      "text/plain": [
       "['judgment',\n",
       " 'fail',\n",
       " 'app',\n",
       " 'require',\n",
       " 'section',\n",
       " 'deliver',\n",
       " 'consider',\n",
       " 'reason',\n",
       " 'matter',\n",
       " 'illinois']"
      ]
     },
     "execution_count": 67,
     "metadata": {},
     "output_type": "execute_result"
    }
   ],
   "source": [
    "print(len(irrelevant_terms))\n",
    "list(irrelevant_terms)[:10]"
   ]
  },
  {
   "cell_type": "code",
   "execution_count": 68,
   "metadata": {},
   "outputs": [],
   "source": [
    "filtered_tokens = [[t for t in doc if t not in irrelevant_terms] for doc in tokens]"
   ]
  },
  {
   "cell_type": "code",
   "execution_count": 69,
   "metadata": {},
   "outputs": [],
   "source": [
    "with open(\"../data/processed/filtered_tokens_cleaner.json\", \"w\") as f: \n",
    "    f.write(json.dumps(filtered_tokens))\n",
    "    \n",
    "# filtered_tokens = json.load(open(\"../data/processed/filtered_tokens.json\", \"r\"))"
   ]
  },
  {
   "cell_type": "markdown",
   "metadata": {},
   "source": [
    "## Searching terms about three topics\n",
    "\n",
    "We start by checking for the presence of drugs, weapons and investigation terms."
   ]
  },
  {
   "cell_type": "code",
   "execution_count": 70,
   "metadata": {},
   "outputs": [],
   "source": [
    "narcotics = ['cannabis',\n",
    "             'cocaine',\n",
    "             'methamphetamine',\n",
    "             'drugs',\n",
    "             'drug',\n",
    "             'marijuana',\n",
    "             'ecstasy',\n",
    "             'lsd',\n",
    "             'ketamine',\n",
    "             'heroin',\n",
    "             'fentanyl', \n",
    "             'overdose', \n",
    "             'od']\n",
    "\n",
    "weapons = ['gun',\n",
    "           'knife',\n",
    "           'weapon',\n",
    "           'firearm',\n",
    "           'rifle',\n",
    "           'carabine',\n",
    "           'shotgun',\n",
    "           'handgun',\n",
    "           'revolver',\n",
    "           'musket',\n",
    "           'pistol',\n",
    "           'derringer',\n",
    "           'assault',\n",
    "           'rifle',\n",
    "           'sword',\n",
    "           'blunt']\n",
    "\n",
    "investigation = ['gang',\n",
    "                 'mafia',\n",
    "                 'serial', \n",
    "                 'killer',\n",
    "                 'rape',\n",
    "                 'theft',\n",
    "                 'recidivism',\n",
    "                 'arrest',\n",
    "                 'robbery',\n",
    "                 'cybercrime',\n",
    "                 'cyber', \n",
    "                #  'caucasian',\n",
    "                #  'afro-american',\n",
    "                #  'native', \n",
    "                #  'american',\n",
    "                #  'hispanic',\n",
    "                #  'male',\n",
    "                #  'female',\n",
    "                #  'man',\n",
    "                #  'woman',\n",
    "                #  'girl',\n",
    "                #  'boy',\n",
    "                 'crime']"
   ]
  },
  {
   "cell_type": "code",
   "execution_count": 71,
   "metadata": {},
   "outputs": [],
   "source": [
    "seen = set()\n",
    "not_found = set(weapons + investigation + narcotics)\n",
    "freq = defaultdict(lambda:0)\n",
    "for doc in filtered_tokens:\n",
    "    # if not not_found:\n",
    "    #     break\n",
    "    for w in set(doc): \n",
    "        if w in not_found:\n",
    "            # not_found.remove(w)\n",
    "            seen.add(w)\n",
    "            freq[w] += 1"
   ]
  },
  {
   "cell_type": "code",
   "execution_count": 72,
   "metadata": {},
   "outputs": [
    {
     "name": "stdout",
     "output_type": "stream",
     "text": [
      "[(3, 'ketamine'),\n",
      " (4, 'cyber'),\n",
      " (5, 'fentanyl'),\n",
      " (6, 'musket'),\n",
      " (9, 'ecstasy'),\n",
      " (47, 'mafia'),\n",
      " (69, 'derringer'),\n",
      " (140, 'methamphetamine'),\n",
      " (178, 'drugs'),\n",
      " (205, 'recidivism'),\n",
      " (222, 'overdose'),\n",
      " (235, 'lsd'),\n",
      " (333, 'sword'),\n",
      " (540, 'killer'),\n",
      " (672, 'serial'),\n",
      " (777, 'blunt'),\n",
      " (945, 'rifle'),\n",
      " (1497, 'heroin'),\n",
      " (1570, 'cannabis'),\n",
      " (1581, 'handgun'),\n",
      " (1606, 'shotgun'),\n",
      " (2079, 'marijuana'),\n",
      " (2106, 'gang'),\n",
      " (2472, 'firearm'),\n",
      " (2739, 'pistol'),\n",
      " (2791, 'cocaine'),\n",
      " (2813, 'revolver'),\n",
      " (3709, 'knife'),\n",
      " (3925, 'rape'),\n",
      " (6161, 'theft'),\n",
      " (7868, 'assault'),\n",
      " (7988, 'weapon'),\n",
      " (9242, 'drug'),\n",
      " (9248, 'robbery'),\n",
      " (9526, 'gun'),\n",
      " (23897, 'arrest'),\n",
      " (24860, 'crime')]\n",
      "Not found\n",
      "{'cybercrime', 'carabine', 'od'}\n"
     ]
    }
   ],
   "source": [
    "pprint(sorted([(v,k) for k,v in freq.items()]))\n",
    "print(\"Not found\")\n",
    "pprint(not_found-seen)"
   ]
  }
 ],
 "metadata": {
  "interpreter": {
   "hash": "916dbcbb3f70747c44a77c7bcd40155683ae19c65e1c03b4aa3499c5328201f1"
  },
  "kernelspec": {
   "display_name": "Python 3",
   "language": "python",
   "name": "python3"
  },
  "language_info": {
   "codemirror_mode": {
    "name": "ipython",
    "version": 3
   },
   "file_extension": ".py",
   "mimetype": "text/x-python",
   "name": "python",
   "nbconvert_exporter": "python",
   "pygments_lexer": "ipython3",
   "version": "3.8.10"
  }
 },
 "nbformat": 4,
 "nbformat_minor": 2
}
