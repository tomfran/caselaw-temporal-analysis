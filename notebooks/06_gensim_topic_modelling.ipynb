{
 "cells": [
  {
   "cell_type": "markdown",
   "metadata": {},
   "source": [
    "# Topic modelling with Gensim\n",
    "\n",
    "In this notebook Gensim is used to find topics from the documents, we first study coherence measures to find the number of topics in the collection, then we visualize results.\n",
    "\n",
    "The basic idea is to study the differences between topics in different times. So we first present the methodology followed given an era, and then perform the study on all eras."
   ]
  },
  {
   "cell_type": "code",
   "execution_count": 1,
   "metadata": {},
   "outputs": [],
   "source": [
    "import sys\n",
    "sys.path.append(\"..\")\n",
    "\n",
    "from src.dataset import Dataset\n",
    "\n",
    "# utils\n",
    "import json\n",
    "import random \n",
    "import numpy as np\n",
    "from collections import defaultdict\n",
    "from threading import Thread\n",
    "# topic modelling\n",
    "import gensim\n",
    "import gensim.corpora as corpora\n",
    "from gensim.utils import simple_preprocess\n",
    "from gensim.models import CoherenceModel, LdaMulticore, LdaModel\n",
    "\n",
    "# visualization\n",
    "from pprint import pprint\n",
    "import matplotlib.pyplot as plt\n",
    "import pyLDAvis\n",
    "from pyLDAvis import gensim_models"
   ]
  },
  {
   "cell_type": "code",
   "execution_count": 2,
   "metadata": {},
   "outputs": [
    {
     "name": "stderr",
     "output_type": "stream",
     "text": [
      "/home/fran/.local/lib/python3.8/site-packages/ipykernel/ipkernel.py:283: DeprecationWarning: `should_run_async` will not call `transform_cell` automatically in the future. Please pass the result to `transformed_cell` argument and any exception that happen during thetransform in `preprocessing_exc_tuple` in IPython 7.17 and above.\n",
      "  and should_run_async(code)\n"
     ]
    }
   ],
   "source": [
    "import warnings\n",
    "warnings.filterwarnings('ignore')"
   ]
  },
  {
   "cell_type": "markdown",
   "metadata": {},
   "source": [
    "### Loading the tokenized documents"
   ]
  },
  {
   "cell_type": "code",
   "execution_count": 3,
   "metadata": {},
   "outputs": [],
   "source": [
    "dataset = Dataset()\n",
    "# load only the year specified\n",
    "year = None # carico solo quel ventennio \n",
    "# year = 1860 # carico solo quel ventennio \n",
    "\n",
    "# tokens = dataset.load_dataset(year=year, tokens=True)\n",
    "tokens = dataset.load_dataset(year=year, tokens=True)"
   ]
  },
  {
   "cell_type": "code",
   "execution_count": 4,
   "metadata": {},
   "outputs": [
    {
     "data": {
      "text/plain": [
       "183146"
      ]
     },
     "execution_count": 4,
     "metadata": {},
     "output_type": "execute_result"
    }
   ],
   "source": [
    "len(tokens)"
   ]
  },
  {
   "cell_type": "code",
   "execution_count": 6,
   "metadata": {},
   "outputs": [],
   "source": [
    "freq = defaultdict(lambda:0)\n",
    "for doc in tokens:\n",
    "    for w in doc:\n",
    "    # for w in set(doc):        \n",
    "        freq[w] += 1"
   ]
  },
  {
   "cell_type": "code",
   "execution_count": 7,
   "metadata": {},
   "outputs": [],
   "source": [
    "narcotics = ['cannabis', 'cocaine', 'methamphetamine', 'drugs', 'drug', 'marijuana', \n",
    "             'ecstasy', 'lsd', 'ketamine', 'heroin', 'fentanyl', 'overdose']\n",
    "\n",
    "weapons = ['gun', 'knife', 'weapon', 'firearm', 'rifle', 'carabine', 'shotgun', 'handgun', \n",
    "           'revolver', 'musket', 'pistol', 'derringer', 'assault', 'rifle', 'sword', 'blunt']\n",
    "\n",
    "investigation = ['gang', 'mafia', 'serial',  'killer', 'rape', 'theft', 'recidivism', \n",
    "                 'arrest', 'robbery', 'cybercrime', 'cyber', 'crime']\n",
    "\n",
    "interesting_set = set(narcotics + weapons + investigation)"
   ]
  },
  {
   "cell_type": "code",
   "execution_count": 8,
   "metadata": {},
   "outputs": [],
   "source": [
    "def sel_criterium(w):\n",
    "    return (w in interesting_set) or ((len(w) >= 3) and (10 < freq[w] < 0.5*len(tokens)))\n",
    "\n",
    "tokens = [[w for w in doc if sel_criterium(w)] for doc in tokens]"
   ]
  },
  {
   "cell_type": "markdown",
   "metadata": {},
   "source": [
    "### Sampling data"
   ]
  },
  {
   "cell_type": "code",
   "execution_count": 14,
   "metadata": {},
   "outputs": [],
   "source": [
    "num_samples = 5\n",
    "sample_size = 1000\n",
    "samples = []\n",
    "for i in range(num_samples):\n",
    "    samples.append(random.sample(tokens, sample_size))"
   ]
  },
  {
   "cell_type": "markdown",
   "metadata": {},
   "source": [
    "### Creating required structures\n",
    "The topic modelling requires this three structures to work, the first one gives a mapping from an id to a word, \n",
    "second one is the tokenized collection, and the third one is a list for each document of word id, frequency."
   ]
  },
  {
   "cell_type": "code",
   "execution_count": 10,
   "metadata": {},
   "outputs": [],
   "source": [
    "def create_structures(texts):\n",
    "    id2word = corpora.Dictionary(texts)\n",
    "    corpus = [id2word.doc2bow(text) for text in texts]\n",
    "    return id2word, corpus"
   ]
  },
  {
   "cell_type": "markdown",
   "metadata": {},
   "source": [
    "### Fitting LDA models and computing coherence measures\n",
    "\n",
    "Lda is unsupervised, a crucial parameter is the number of topics to find in the collection. To avoid choosing at random one could compute the coherence measure given a certain number of topics and pick the highest coherence.\n",
    "\n",
    "To do so, different models are fitted, and the best one, according to coherence is considered."
   ]
  },
  {
   "cell_type": "code",
   "execution_count": 11,
   "metadata": {},
   "outputs": [],
   "source": [
    "def compute_coherence_perplexity_values(tokens, k=[2,3,4], verbose=True):\n",
    "    \n",
    "    id2word, corpus = create_structures(sample)\n",
    "    \n",
    "    lda_models = []\n",
    "    statistics = []\n",
    "    \n",
    "    for topics in k:\n",
    "        if verbose: print(f\"Fitting model with {topics} topics.\")\n",
    "        lda_model = LdaModel(corpus=corpus, id2word=id2word, num_topics=topics, \n",
    "                             random_state=100, update_every=1, chunksize=100,\n",
    "                             passes=100, alpha='auto', per_word_topics=True)\n",
    "        \n",
    "        lda_models.append(lda_model)\n",
    "        coherence_model = CoherenceModel(model=lda_model, texts=tokens, \n",
    "                                             dictionary=id2word, coherence='c_v')\n",
    "        \n",
    "        statistics.append({\"topics\" : topics, \n",
    "                          \"coherence\" : coherence_model.get_coherence(),\n",
    "                          \"log_perplexity\" : lda_model.log_perplexity(corpus)})\n",
    "        \n",
    "    return lda_models, statistics"
   ]
  },
  {
   "cell_type": "code",
   "execution_count": 16,
   "metadata": {},
   "outputs": [
    {
     "name": "stdout",
     "output_type": "stream",
     "text": [
      "Processing 0 sample\n",
      "Processing 1 sample\n",
      "Processing 2 sample\n",
      "Processing 3 sample\n",
      "Processing 4 sample\n"
     ]
    }
   ],
   "source": [
    "k = range(3, 9)\n",
    "# stats = []\n",
    "\n",
    "for i, sample in enumerate(samples):\n",
    "    print(f\"Processing {i} sample\")\n",
    "    _, statistics = compute_coherence_perplexity_values(samples[i], k, verbose=False)\n",
    "    stats.append(statistics)"
   ]
  },
  {
   "cell_type": "markdown",
   "metadata": {},
   "source": [
    "### Plotting coherence measures\n",
    "The best model is the one with four topics."
   ]
  },
  {
   "cell_type": "code",
   "execution_count": 36,
   "metadata": {},
   "outputs": [
    {
     "data": {
      "image/png": "[encoded data removed]",
      "text/plain": [
       "<Figure size 432x288 with 1 Axes>"
      ]
     },
     "metadata": {
      "needs_background": "light"
     },
     "output_type": "display_data"
    }
   ],
   "source": [
    "coherences = [[x[\"coherence\"] for x in el] for el in stats]\n",
    "\n",
    "means = [np.mean([coherences[i][j] for i in range(len(coherences))]) \n",
    "         for j in range(len(coherences[0]))]\n",
    "\n",
    "for c in coherences:\n",
    "    plt.plot(k, c, \"o\", color=\"black\", markersize=5)\n",
    "    \n",
    "plt.plot(k, means, \"o\", color=\"red\", markersize=10)\n",
    "\n",
    "plt.title(\"Lda models coherence score\")\n",
    "plt.xlabel(\"Num Topics\")\n",
    "plt.ylabel(\"Coherence score\")\n",
    "# plt.legend(([f\"{i}th sample\" for i in range(len(coherences))] + [\"mean\"]), loc='best')\n",
    "plt.show()"
   ]
  },
  {
   "cell_type": "code",
   "execution_count": null,
   "metadata": {},
   "outputs": [],
   "source": []
  },
  {
   "cell_type": "code",
   "execution_count": null,
   "metadata": {},
   "outputs": [],
   "source": [
    "# best, ind = max(zip(statistics, range(len(statistics))), key=lambda x:(x[0][\"coherence\"], x[1]))\n",
    "# print(f\"Best model found:\\n{best}\")\n",
    "# best_model = lda_models[ind]\n",
    "# print(\"\\nBest model topics:\")\n",
    "# best_model.print_topics()"
   ]
  },
  {
   "cell_type": "markdown",
   "metadata": {},
   "source": [
    "### pyLDAvis visualization\n",
    "\n",
    "This tool offers a graphical visualization of the topics, a good visualization has big topics that are far from each others."
   ]
  },
  {
   "cell_type": "code",
   "execution_count": null,
   "metadata": {},
   "outputs": [],
   "source": [
    "pyLDAvis.enable_notebook()\n",
    "vis = pyLDAvis.gensim_models.prepare(best_model, corpus, id2word)\n",
    "vis"
   ]
  },
  {
   "cell_type": "markdown",
   "metadata": {},
   "source": [
    "## NOT FOR NOW Putting all together\n",
    "\n",
    "After presenting the methodology, we run different searches on each era to find the best number of topics, the result is a model for each era that achieved the bet coherence."
   ]
  },
  {
   "cell_type": "code",
   "execution_count": null,
   "metadata": {},
   "outputs": [],
   "source": [
    "tokens_dir = \"../data/processed/tokens\"\n",
    "models_dir = \"../data/models/lda\"\n",
    "epochs_files = [f\"{tokens_dir}/{f}\" for f in sorted(os.listdir(tokens_dir))]\n",
    "\n",
    "min_topics = 8\n",
    "max_topics = 13\n",
    "\n",
    "k = range(min_topics, max_topics+1)\n",
    "\n",
    "best_models = {}\n",
    "for epoch in epochs_files:\n",
    "    # extracting year name\n",
    "    name = int(epoch.split(\"/\")[-1].split(\".\")[0])\n",
    "    print(f\"Computing best model for {name}:\")\n",
    "    \n",
    "    # creating required structures\n",
    "    texts = json.load(open(epoch, \"r\"))\n",
    "    id2word = corpora.Dictionary(texts)\n",
    "    corpus = [id2word.doc2bow(text) for text in texts]\n",
    "    \n",
    "    # fitting models and picking the best one\n",
    "    lda_models, statistics = compute_coherence_perplexity_values(corpus, id2word, texts, k, verbose=False)\n",
    "    best, ind = max(zip(statistics, range(len(statistics))), key=lambda x:x[0][\"coherence\"])\n",
    "    print(f\"\\tBest one: {best}\\n\")\n",
    "    best_models[name] = lda_models[ind]\n",
    "    \n",
    "    # saving model to disk\n",
    "    os.makedirs(f\"{models_dir}/{name}\")\n",
    "    lda_models[ind].save(f\"{models_dir}/{name}/{name}_lda.model\")"
   ]
  }
 ],
 "metadata": {
  "interpreter": {
   "hash": "916dbcbb3f70747c44a77c7bcd40155683ae19c65e1c03b4aa3499c5328201f1"
  },
  "kernelspec": {
   "display_name": "Python 3.8.10 64-bit",
   "language": "python",
   "name": "python3"
  },
  "language_info": {
   "codemirror_mode": {
    "name": "ipython",
    "version": 3
   },
   "file_extension": ".py",
   "mimetype": "text/x-python",
   "name": "python",
   "nbconvert_exporter": "python",
   "pygments_lexer": "ipython3",
   "version": "3.8.10"
  },
  "orig_nbformat": 4
 },
 "nbformat": 4,
 "nbformat_minor": 2
}
