{
 "cells": [
  {
   "cell_type": "code",
   "execution_count": 1,
   "metadata": {},
   "outputs": [],
   "source": [
    "import sys\n",
    "sys.path.append(\"..\")\n",
    "\n",
    "from gensim.models import Word2Vec, KeyedVectors\n",
    "from collections import defaultdict\n",
    "\n",
    "from src.seeds import Seeds\n",
    "from src.dataset import Dataset"
   ]
  },
  {
   "cell_type": "markdown",
   "metadata": {},
   "source": [
    "### Loading tokens"
   ]
  },
  {
   "cell_type": "code",
   "execution_count": 2,
   "metadata": {},
   "outputs": [
    {
     "name": "stdout",
     "output_type": "stream",
     "text": [
      "Total documents: 123915\n"
     ]
    }
   ],
   "source": [
    "tokens = [e[\"tokens\"] for e in Dataset().load_dataset(year=None, \n",
    "                                                      fields={\"tokens\"}, \n",
    "                                                      courts={\"Illinois Appellate Court\"})]\n",
    "\n",
    "print(\"Total documents:\", len(tokens))"
   ]
  },
  {
   "cell_type": "markdown",
   "metadata": {},
   "source": [
    "### Training a Word2Vec model and saving"
   ]
  },
  {
   "cell_type": "code",
   "execution_count": 3,
   "metadata": {},
   "outputs": [],
   "source": [
    "model = Word2Vec(tokens, min_count=5, workers=4)"
   ]
  },
  {
   "cell_type": "code",
   "execution_count": 6,
   "metadata": {},
   "outputs": [],
   "source": [
    "vectors_path = \"../data/models/Illinois_Appellate_vectors.kv\"\n",
    "model.wv.save(vectors_path)"
   ]
  },
  {
   "cell_type": "code",
   "execution_count": 7,
   "metadata": {},
   "outputs": [],
   "source": [
    "reloaded_word_vectors = KeyedVectors.load(vectors_path)"
   ]
  },
  {
   "cell_type": "markdown",
   "metadata": {},
   "source": [
    "### Finding similar words"
   ]
  },
  {
   "cell_type": "code",
   "execution_count": 8,
   "metadata": {},
   "outputs": [
    {
     "name": "stdout",
     "output_type": "stream",
     "text": [
      "cocaine :\n",
      "\t- heroin (0.95)\n",
      "\t- marijuana (0.89)\n",
      "\t- lsd (0.85)\n",
      "\t- narcotic (0.83)\n",
      "\t- cannabis (0.81) \n",
      "\n",
      "rape :\n",
      "\t- kidnap (0.71)\n",
      "\t- prosecutrix (0.7)\n",
      "\t- murder (0.69)\n",
      "\t- assault (0.69)\n",
      "\t- kidnapper (0.69) \n",
      "\n",
      "gun :\n",
      "\t- pistol (0.91)\n",
      "\t- handgun (0.88)\n",
      "\t- shotgun (0.87)\n",
      "\t- rifle (0.87)\n",
      "\t- knife (0.83) \n",
      "\n",
      "police :\n",
      "\t- pohce (0.82)\n",
      "\t- rylko (0.67)\n",
      "\t- policeman (0.67)\n",
      "\t- pofice (0.66)\n",
      "\t- toussas (0.64) \n",
      "\n"
     ]
    }
   ],
   "source": [
    "for word in [\"cocaine\", \"rape\", \"gun\", \"police\"]:\n",
    "    try:\n",
    "        sim = reloaded_word_vectors.most_similar(word, topn=5)\n",
    "        print(word, \":\\n\\t- \" + \"\\n\\t- \".join([f\"{e[0]} ({round(e[1], 2)})\" for e in sim]), \"\\n\")\n",
    "    except:\n",
    "        print(word, \": not present in vocab\\n\")"
   ]
  }
 ],
 "metadata": {
  "interpreter": {
   "hash": "916dbcbb3f70747c44a77c7bcd40155683ae19c65e1c03b4aa3499c5328201f1"
  },
  "kernelspec": {
   "display_name": "Python 3.8.10 64-bit",
   "language": "python",
   "name": "python3"
  },
  "language_info": {
   "codemirror_mode": {
    "name": "ipython",
    "version": 3
   },
   "file_extension": ".py",
   "mimetype": "text/x-python",
   "name": "python",
   "nbconvert_exporter": "python",
   "pygments_lexer": "ipython3",
   "version": "3.8.10"
  },
  "orig_nbformat": 4
 },
 "nbformat": 4,
 "nbformat_minor": 2
}
