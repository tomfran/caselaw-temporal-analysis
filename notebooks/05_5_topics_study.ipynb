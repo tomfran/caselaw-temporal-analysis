{
 "cells": [
  {
   "cell_type": "code",
   "execution_count": 1,
   "metadata": {},
   "outputs": [],
   "source": [
    "import sys\n",
    "sys.path.append(\"..\")\n",
    "\n",
    "import numpy as np\n",
    "import matplotlib.pyplot as plt\n",
    "from collections import defaultdict\n",
    "from pprint import pprint\n",
    "\n",
    "from src.dataset import Dataset"
   ]
  },
  {
   "cell_type": "code",
   "execution_count": 2,
   "metadata": {},
   "outputs": [],
   "source": [
    "topics_dates = Dataset().load_dataset(year=None, fields={\"topic\", \"decision_date\"})"
   ]
  },
  {
   "cell_type": "markdown",
   "metadata": {},
   "source": [
    "## Topics year distribution"
   ]
  },
  {
   "cell_type": "code",
   "execution_count": null,
   "metadata": {},
   "outputs": [],
   "source": [
    "dists = defaultdict(lambda:[])\n",
    "for el in topics_dates:\n",
    "    dists[el[\"topic\"]].append(el['decision_date'])"
   ]
  },
  {
   "cell_type": "code",
   "execution_count": null,
   "metadata": {},
   "outputs": [],
   "source": [
    "interval = 5\n",
    "\n",
    "fig, axs = plt.subplots(7,2, figsize=(15,30))\n",
    "\n",
    "for i in range(14):\n",
    "    f = defaultdict(lambda:0)\n",
    "    for date in dists[i]:\n",
    "        f[date - date%interval] += 1\n",
    "    x = f.keys()\n",
    "    y = f.values()\n",
    "    axs[i//2][i%2].bar(x, y, width = 4)\n",
    "    axs[i//2][i%2].set(title=f\"Topic {i} dates distribution\", xlabel=\"Years\", ylabel=\"Frequency\")\n",
    "\n",
    "plt.tight_layout()\n",
    "plt.savefig(\"../data/images/topics_year_distribution.jpeg\", dpi=200)\n",
    "plt.show()"
   ]
  },
  {
   "cell_type": "markdown",
   "metadata": {},
   "source": [
    "## Courts topics distribution"
   ]
  },
  {
   "cell_type": "code",
   "execution_count": null,
   "metadata": {},
   "outputs": [],
   "source": [
    "court_topics = Dataset().load_dataset(year=None, fields={\"topic\", \"court\"})"
   ]
  },
  {
   "cell_type": "code",
   "execution_count": null,
   "metadata": {},
   "outputs": [],
   "source": [
    "freqs = defaultdict(lambda:[0]*14)\n",
    "\n",
    "for el in court_topics:\n",
    "    freqs[el[\"court\"]][el[\"topic\"]] += 1"
   ]
  },
  {
   "cell_type": "code",
   "execution_count": null,
   "metadata": {},
   "outputs": [],
   "source": [
    "fig, axs = plt.subplots(2,2, figsize=(15,10))\n",
    "x = range(14)\n",
    "for i, (k, v) in enumerate(freqs.items()):\n",
    "    axs[i//2][i%2].bar(x, v)\n",
    "    axs[i//2][i%2].set(title=f\"{k} topics distribution\", xlabel=\"Topics\", ylabel=\"Frequency\", xticks=x)\n",
    "    \n",
    "plt.tight_layout()\n",
    "plt.savefig(\"../data/images/courts_topics_distribution.jpeg\", dpi=200)\n",
    "plt.show()"
   ]
  }
 ],
 "metadata": {
  "interpreter": {
   "hash": "916dbcbb3f70747c44a77c7bcd40155683ae19c65e1c03b4aa3499c5328201f1"
  },
  "kernelspec": {
   "display_name": "Python 3.8.10 64-bit",
   "language": "python",
   "name": "python3"
  },
  "language_info": {
   "codemirror_mode": {
    "name": "ipython",
    "version": 3
   },
   "file_extension": ".py",
   "mimetype": "text/x-python",
   "name": "python",
   "nbconvert_exporter": "python",
   "pygments_lexer": "ipython3",
   "version": "3.8.10"
  },
  "orig_nbformat": 4
 },
 "nbformat": 4,
 "nbformat_minor": 2
}
